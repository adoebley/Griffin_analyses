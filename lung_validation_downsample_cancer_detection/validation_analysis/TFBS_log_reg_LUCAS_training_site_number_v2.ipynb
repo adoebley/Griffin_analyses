{
 "cells": [
  {
   "cell_type": "code",
   "execution_count": 1,
   "metadata": {},
   "outputs": [],
   "source": [
    "import numpy as np\n",
    "import pandas as pd\n",
    "import time\n",
    "from matplotlib import pyplot as plt\n",
    "%matplotlib inline\n",
    "\n",
    "# from sklearn.model_selection import StratifiedKFold\n",
    "from sklearn.model_selection import StratifiedKFold\n",
    "# from sklearn.model_selection import LeaveOneOut\n",
    "from sklearn.linear_model import LogisticRegression\n",
    "from sklearn.model_selection import GridSearchCV\n",
    "from sklearn.preprocessing import StandardScaler\n",
    "from sklearn.metrics import roc_curve,auc\n",
    "\n",
    "from sklearn.decomposition import PCA\n"
   ]
  },
  {
   "cell_type": "code",
   "execution_count": 2,
   "metadata": {},
   "outputs": [],
   "source": [
    "site_groups = ['1000-sites','5000-sites','10000-sites','20000-sites','30000-sites','50000-sites']\n"
   ]
  },
  {
   "cell_type": "code",
   "execution_count": 3,
   "metadata": {},
   "outputs": [
    {
     "data": {
      "text/plain": [
       "'/fh/fast/ha_g/user/adoebley/projects/griffin_revisions_1/lung_validation_downsample_cancer_detection/validation_analysis'"
      ]
     },
     "execution_count": 3,
     "metadata": {},
     "output_type": "execute_result"
    }
   ],
   "source": [
    "import os\n",
    "os.getcwd()"
   ]
  },
  {
   "cell_type": "code",
   "execution_count": 4,
   "metadata": {},
   "outputs": [
    {
     "name": "stdout",
     "output_type": "stream",
     "text": [
      "1000-sites\n",
      "Features 1698\n",
      "Total samples: 287\n",
      "test samples 431\n",
      "I         28\n",
      "II        12\n",
      "III-IV     6\n",
      "Name: Stage, dtype: int64\n",
      "\n",
      "\n",
      "Healthy      385\n",
      "0-0.03TFx     40\n",
      ">0.03TFx       6\n",
      "Name: tfx_group, dtype: int64\n",
      "number of components: 179\n",
      "best_c 0.01\n",
      "training accuracy 0.9651567944250871\n",
      "test_samples 431\n",
      "test accuracy 0.62877030162413\n",
      "iterating\n"
     ]
    },
    {
     "name": "stderr",
     "output_type": "stream",
     "text": [
      "/home/adoebley/.local/lib/python3.7/site-packages/sklearn/metrics/_ranking.py:813: UndefinedMetricWarning: No positive samples in y_true, true positive value should be meaningless\n",
      "  UndefinedMetricWarning)\n"
     ]
    },
    {
     "name": "stdout",
     "output_type": "stream",
     "text": [
      "roc figure 385 40\n",
      "roc figure 385 6\n",
      "\n",
      "\n",
      "5000-sites\n",
      "Features 1338\n",
      "Total samples: 287\n",
      "test samples 431\n",
      "I         28\n",
      "II        12\n",
      "III-IV     6\n",
      "Name: Stage, dtype: int64\n",
      "\n",
      "\n",
      "Healthy      385\n",
      "0-0.03TFx     40\n",
      ">0.03TFx       6\n",
      "Name: tfx_group, dtype: int64\n",
      "number of components: 160\n",
      "best_c 0.01\n",
      "training accuracy 0.9372822299651568\n",
      "test_samples 431\n",
      "test accuracy 0.7146171693735499\n",
      "iterating\n"
     ]
    },
    {
     "name": "stderr",
     "output_type": "stream",
     "text": [
      "/home/adoebley/.local/lib/python3.7/site-packages/sklearn/metrics/_ranking.py:813: UndefinedMetricWarning: No positive samples in y_true, true positive value should be meaningless\n",
      "  UndefinedMetricWarning)\n"
     ]
    },
    {
     "name": "stdout",
     "output_type": "stream",
     "text": [
      "roc figure 385 40\n",
      "roc figure 385 6\n",
      "\n",
      "\n",
      "10000-sites\n",
      "Features 1131\n",
      "Total samples: 287\n",
      "test samples 431\n",
      "I         28\n",
      "II        12\n",
      "III-IV     6\n",
      "Name: Stage, dtype: int64\n",
      "\n",
      "\n",
      "Healthy      385\n",
      "0-0.03TFx     40\n",
      ">0.03TFx       6\n",
      "Name: tfx_group, dtype: int64\n",
      "number of components: 148\n",
      "best_c 0.01\n",
      "training accuracy 0.926829268292683\n",
      "test_samples 431\n",
      "test accuracy 0.7215777262180975\n",
      "iterating\n"
     ]
    },
    {
     "name": "stderr",
     "output_type": "stream",
     "text": [
      "/home/adoebley/.local/lib/python3.7/site-packages/sklearn/metrics/_ranking.py:813: UndefinedMetricWarning: No positive samples in y_true, true positive value should be meaningless\n",
      "  UndefinedMetricWarning)\n"
     ]
    },
    {
     "name": "stdout",
     "output_type": "stream",
     "text": [
      "roc figure 385 40\n",
      "roc figure 385 6\n",
      "\n",
      "\n",
      "20000-sites\n",
      "Features 948\n",
      "Total samples: 287\n",
      "test samples 431\n",
      "I         28\n",
      "II        12\n",
      "III-IV     6\n",
      "Name: Stage, dtype: int64\n",
      "\n",
      "\n",
      "Healthy      385\n",
      "0-0.03TFx     40\n",
      ">0.03TFx       6\n",
      "Name: tfx_group, dtype: int64\n",
      "number of components: 131\n",
      "best_c 1.0\n",
      "training accuracy 1.0\n",
      "test_samples 431\n",
      "test accuracy 0.7587006960556845\n",
      "iterating\n"
     ]
    },
    {
     "name": "stderr",
     "output_type": "stream",
     "text": [
      "/home/adoebley/.local/lib/python3.7/site-packages/sklearn/metrics/_ranking.py:813: UndefinedMetricWarning: No positive samples in y_true, true positive value should be meaningless\n",
      "  UndefinedMetricWarning)\n"
     ]
    },
    {
     "name": "stdout",
     "output_type": "stream",
     "text": [
      "roc figure 385 40\n",
      "roc figure 385 6\n",
      "\n",
      "\n",
      "30000-sites\n",
      "Features 810\n",
      "Total samples: 287\n",
      "test samples 431\n",
      "I         28\n",
      "II        12\n",
      "III-IV     6\n",
      "Name: Stage, dtype: int64\n",
      "\n",
      "\n",
      "Healthy      385\n",
      "0-0.03TFx     40\n",
      ">0.03TFx       6\n",
      "Name: tfx_group, dtype: int64\n",
      "number of components: 119\n",
      "best_c 10.0\n",
      "training accuracy 0.9059233449477352\n",
      "test_samples 431\n",
      "test accuracy 0.7006960556844548\n",
      "iterating\n"
     ]
    },
    {
     "name": "stderr",
     "output_type": "stream",
     "text": [
      "/home/adoebley/.local/lib/python3.7/site-packages/sklearn/metrics/_ranking.py:813: UndefinedMetricWarning: No positive samples in y_true, true positive value should be meaningless\n",
      "  UndefinedMetricWarning)\n"
     ]
    },
    {
     "name": "stdout",
     "output_type": "stream",
     "text": [
      "roc figure 385 40\n",
      "roc figure 385 6\n",
      "\n",
      "\n",
      "50000-sites\n",
      "Features 606\n",
      "Total samples: 287\n",
      "test samples 431\n",
      "I         28\n",
      "II        12\n",
      "III-IV     6\n",
      "Name: Stage, dtype: int64\n",
      "\n",
      "\n",
      "Healthy      385\n",
      "0-0.03TFx     40\n",
      ">0.03TFx       6\n",
      "Name: tfx_group, dtype: int64\n",
      "number of components: 100\n",
      "best_c 10.0\n",
      "training accuracy 0.8850174216027874\n",
      "test_samples 431\n",
      "test accuracy 0.6844547563805105\n",
      "iterating\n"
     ]
    },
    {
     "name": "stderr",
     "output_type": "stream",
     "text": [
      "/home/adoebley/.local/lib/python3.7/site-packages/sklearn/metrics/_ranking.py:813: UndefinedMetricWarning: No positive samples in y_true, true positive value should be meaningless\n",
      "  UndefinedMetricWarning)\n"
     ]
    },
    {
     "name": "stdout",
     "output_type": "stream",
     "text": [
      "roc figure 385 40\n",
      "roc figure 385 6\n",
      "\n",
      "\n"
     ]
    },
    {
     "data": {
      "image/png": "[encoded data removed]",
      "text/plain": [
       "<Figure size 432x288 with 1 Axes>"
      ]
     },
     "metadata": {
      "needs_background": "light"
     },
     "output_type": "display_data"
    },
    {
     "data": {
      "image/png": "[encoded data removed]",
      "text/plain": [
       "<Figure size 432x288 with 1 Axes>"
      ]
     },
     "metadata": {
      "needs_background": "light"
     },
     "output_type": "display_data"
    },
    {
     "data": {
      "image/png": "[encoded data removed]",
      "text/plain": [
       "<Figure size 432x288 with 1 Axes>"
      ]
     },
     "metadata": {
      "needs_background": "light"
     },
     "output_type": "display_data"
    },
    {
     "data": {
      "image/png": "[encoded data removed]",
      "text/plain": [
       "<Figure size 432x288 with 1 Axes>"
      ]
     },
     "metadata": {
      "needs_background": "light"
     },
     "output_type": "display_data"
    },
    {
     "data": {
      "image/png": "[encoded data removed]",
      "text/plain": [
       "<Figure size 432x288 with 1 Axes>"
      ]
     },
     "metadata": {
      "needs_background": "light"
     },
     "output_type": "display_data"
    },
    {
     "data": {
      "image/png": "[encoded data removed]",
      "text/plain": [
       "<Figure size 432x288 with 1 Axes>"
      ]
     },
     "metadata": {
      "needs_background": "light"
     },
     "output_type": "display_data"
    }
   ],
   "source": [
    "for site_group in site_groups:\n",
    "    print(site_group)\n",
    "   #parameters\n",
    "    in_file = '../number_of_sites_analysis/merged_data/'+site_group+'_LUCAS_reformatted.txt'\n",
    "    cval_file = '../number_of_sites_analysis/logreg_PCA_results/'+site_group+'_logreg_results/'+site_group+'.c_values.txt'\n",
    "\n",
    "    test_data_file = '../number_of_sites_analysis/merged_data/'+site_group+'_validation_reformatted.txt'\n",
    "\n",
    "    #import training data\n",
    "    data = pd.read_csv(in_file, sep='\\t')\n",
    "    data = data.set_index('sample')\n",
    "\n",
    "    #get features and exclude all other columns\n",
    "    features = data.columns[(data.columns.str.startswith('central_cov')) | (data.columns.str.startswith('mean_cov')) | (data.columns.str.startswith('amplitude'))]\n",
    "\n",
    "    print('Features',len(features))\n",
    "\n",
    "    data = data.sort_index()\n",
    "\n",
    "    print('Total samples:',len(data))\n",
    "\n",
    "    #scale data\n",
    "    scaler = StandardScaler()\n",
    "    scaler.fit(data[features])\n",
    "    data[features] = scaler.transform(data[features])\n",
    "    data[features].mean()\n",
    "\n",
    "    #import test data\n",
    "    test_data = pd.read_csv(test_data_file, sep='\\t')\n",
    "    test_data = test_data.set_index('sample')\n",
    "\n",
    "    #test data\n",
    "    print('test samples',len(test_data))\n",
    "    test_data['Stage'] = test_data['Stage'].replace('III','III-IV').replace('IV','III-IV') #merge stage III and IV because there are only 6 samples\n",
    "    print(test_data['Stage'].value_counts())\n",
    "    print('\\n')\n",
    "    test_data = test_data.sort_index()\n",
    "    \n",
    "    \n",
    "    tfx_limits = [0.03]\n",
    "\n",
    "    #add tumor fraction groups\n",
    "    test_data['tfx_group'] = 'none'\n",
    "    a = 0\n",
    "    for b in tfx_limits:\n",
    "        tfx_group_name = str(a)+'-'+str(b)+'TFx'\n",
    "        test_data['tfx_group'] = np.where((test_data['status']==1) & (test_data['tumor_fraction']>=a) & (test_data['tumor_fraction']<b),tfx_group_name, test_data['tfx_group'])\n",
    "        a=b\n",
    "    #if group maxes don't go all the way to 1, add a group > max val\n",
    "    if b<1:\n",
    "        tfx_group_name = '>'+str(b)+'TFx'\n",
    "        test_data['tfx_group'] = np.where((test_data['status']==1) & (test_data['status']==1) & (test_data['tumor_fraction']>=b),tfx_group_name, test_data['tfx_group'])\n",
    "    #specify tfx group for healthy donors\n",
    "    test_data['tfx_group'] = np.where((test_data['status']==0),'Healthy',test_data['tfx_group'])\n",
    "\n",
    "    print(test_data['tfx_group'].value_counts())\n",
    "\n",
    "    tfx_groups = list(test_data[test_data['status']==1]['tfx_group'].unique())\n",
    "    \n",
    "    #scale data\n",
    "    test_data[features] = scaler.transform(test_data[features])\n",
    "    test_data[features].mean()\n",
    "\n",
    "    #perform PCA on the training set\n",
    "    n_components = min(len(features), len(data))\n",
    "    pca = PCA(n_components=n_components, svd_solver='randomized', random_state = 100)\n",
    "    PCs = pca.fit_transform(data[features])\n",
    "    principal_components = pd.DataFrame(data = PCs, columns = ['PC_'+str(m) for m in np.arange(n_components)], index = data.index)\n",
    "\n",
    "    #find the principle components that make up 80% of the varience\n",
    "    for j in range(len(pca.explained_variance_ratio_)):\n",
    "        current_sum = pca.explained_variance_ratio_[:j].sum()\n",
    "        if current_sum>=0.8:\n",
    "            break\n",
    "            \n",
    "    print('number of components:',j)\n",
    "    pca_features = ['PC_'+str(m) for m in np.arange(0,j)]\n",
    "\n",
    "    #apply to the test data\n",
    "    test_PCs = pca.transform(test_data[features])\n",
    "    test_principal_components = pd.DataFrame(data = test_PCs , columns = ['PC_'+str(m) for m in np.arange(n_components)], index = test_data.index)\n",
    "\n",
    "    data = data[['status','Stage','tumor_fraction']].merge(principal_components, left_index = True, right_index = True)\n",
    "    test_data = test_data[['status','Stage','tumor_fraction','tfx_group']].merge(test_principal_components, left_index = True, right_index = True)\n",
    "    features = pca_features\n",
    "    \n",
    "    cvals = pd.read_csv(cval_file,sep='\\t', header = None)\n",
    "    best_c = cvals.mode().values[0][0]\n",
    "    print('best_c',best_c)\n",
    "    \n",
    "    #train a  model on the full training dataset \n",
    "    model = LogisticRegression(class_weight='balanced', max_iter=500, C=best_c)\n",
    "    model.fit(data[features], data['status'])\n",
    "\n",
    "    #predict the test data\n",
    "    pred = model.predict(data[features])\n",
    "    prob = model.predict_proba(data[features])\n",
    "\n",
    "    data['pred']= pred\n",
    "    data['prob'] = prob[:,1]\n",
    "\n",
    "    print('training accuracy',sum(data['status'] == data['pred'])/len(data))\n",
    "    \n",
    "    #predict the test data\n",
    "    pred = model.predict(test_data[features])\n",
    "    prob = model.predict_proba(test_data[features])\n",
    "\n",
    "    test_data['prediction']= pred\n",
    "    test_data['probability'] = prob[:,1]\n",
    "\n",
    "    test_data['accuracy'] = np.where(test_data['prediction']==test_data['status'],1,0)\n",
    "\n",
    "    \n",
    "    print('test_samples',len(test_data))\n",
    "    print('test accuracy',test_data['accuracy'].mean())\n",
    "    test_data[['status','probability']].to_csv('logreg_PCA_results/'+site_group+'_logreg_results/'+site_group+'.probabilities.txt', sep='\\t', float_format='%.5f')\n",
    "    \n",
    "    #get CI\n",
    "    iterations = 1000\n",
    "    AUCs = pd.DataFrame()\n",
    "    print('iterating')\n",
    "    for i in range(iterations):\n",
    "        current_results = pd.DataFrame()\n",
    "        #bootstrap a training set with replacement\n",
    "        current_sample = test_data.sample(len(test_data), replace = True, random_state = i+100)[['probability','status','tumor_fraction','Stage','tfx_group']]\n",
    "        current_hd = current_sample[(current_sample['status']==0)]\n",
    "        fpr, tpr, _ = roc_curve(current_sample['status'].values,current_sample['probability'])\n",
    "        AUC = auc(fpr,tpr)\n",
    "        current_results = current_results.append({'group':'overall','AUC':AUC}, ignore_index=True)\n",
    "        \n",
    "        for tfx_group in tfx_groups:\n",
    "            current_ca = current_sample[(current_sample['status']==1) & (current_sample['tfx_group']==tfx_group)]\n",
    "            current = current_ca.append(current_hd)\n",
    "\n",
    "            fpr, tpr, _ = roc_curve(current['status'].values,current['probability'])\n",
    "            AUC = auc(fpr,tpr)\n",
    "            current_results = current_results.append({'group':tfx_group,'AUC':AUC}, ignore_index=True)\n",
    "\n",
    "            del(current,AUC,fpr,tpr,current_ca,tfx_group)\n",
    "\n",
    "        for stage in ['I','II','III-IV']:\n",
    "            current_ca = current_sample[(current_sample['status']==1) & (current_sample['Stage']==stage)]\n",
    "            current = current_ca.append(current_hd)\n",
    "\n",
    "            fpr, tpr, _ = roc_curve(current['status'].values,current['probability'])\n",
    "            AUC = auc(fpr,tpr)\n",
    "            current_results = current_results.append({'group':stage,'AUC':AUC}, ignore_index=True)\n",
    "\n",
    "            del(current,AUC,fpr,tpr,current_ca)\n",
    "\n",
    "        del(current_sample)\n",
    "        AUCs = AUCs.append(current_results.set_index('group').T)\n",
    "\n",
    "    AUCs.reset_index(drop = True).to_csv('logreg_PCA_results/'+site_group+'_logreg_results/'+site_group+'.AUC.txt', sep='\\t', index = False,  float_format='%.5f')\n",
    "    \n",
    "    CIs = pd.DataFrame([AUCs.median(), AUCs.quantile(.025), AUCs.quantile(.975)]).T\n",
    "    CIs = CIs.rename(columns = {'Unnamed 0':'median'}) \n",
    "    CIs.to_csv('logreg_PCA_results/'+site_group+'_logreg_results/'+site_group+'.CI.txt', sep='\\t', float_format = '%.5f')\n",
    "    \n",
    "    fig,ax = plt.subplots(1)\n",
    "\n",
    "    fpr, tpr, _ = roc_curve(test_data['status'].values,test_data['probability'])\n",
    "    med_AUC = CIs.loc['overall']['median']\n",
    "    lower_AUC = CIs.loc['overall'][0.025]\n",
    "    upper_AUC = CIs.loc['overall'][0.975]\n",
    "\n",
    "    ax.plot(fpr,tpr, label = 'All_samples, AUC:'+str(np.round(med_AUC,2))+' ('+str(np.round(lower_AUC,2))+'-'+str(np.round(upper_AUC,2))+') n='+str(len(test_data)))\n",
    "\n",
    "\n",
    "    ax.set_aspect(1.0/ax.get_data_ratio(), adjustable='box')\n",
    "    ax.set_xlabel('False positive rate')\n",
    "    ax.set_ylabel('True positive rate')\n",
    "    ax.legend()\n",
    "    \n",
    "    fig,ax = plt.subplots(figsize = (9,6))\n",
    "    for name,current_ca in test_data[test_data['status']==1].groupby('tfx_group'):\n",
    "        current_hd = test_data[(test_data['status']==0)]\n",
    "        print('roc figure',len(current_hd),len(current_ca))\n",
    "        current = current_ca.append(current_hd)\n",
    "\n",
    "        fpr, tpr, _ = roc_curve(current['status'].values,current['probability'])\n",
    "        med_AUC = CIs.loc[name]['median']\n",
    "        lower_AUC = CIs.loc[name][0.025]\n",
    "        upper_AUC = CIs.loc[name][0.975]\n",
    "\n",
    "        ax.plot(fpr,tpr, label = name+' AUC: '+str(np.round(med_AUC,2))+' ('+str(np.round(lower_AUC,2))+'-'+str(np.round(upper_AUC,2))+') n='+str(len(current_ca)))\n",
    "\n",
    "    ax.set_title(site_group)\n",
    "    ax.set_aspect(1.0/ax.get_data_ratio(), adjustable='box')\n",
    "    ax.set_xlabel('False positive rate')\n",
    "    ax.set_ylabel('True positive rate')\n",
    "    ax.set_title('validation')\n",
    "    ax.legend(bbox_to_anchor = [1,1], loc = 'upper left')\n",
    "    ax.set_aspect('equal')\n",
    "\n",
    "    fig.subplots_adjust(right=.55)\n",
    "\n",
    "    fig.savefig('logreg_PCA_results/'+site_group+'_logreg_results/'+site_group+'.AUC.pdf')\n",
    "    plt.close()\n",
    "    print('\\n')"
   ]
  },
  {
   "cell_type": "code",
   "execution_count": null,
   "metadata": {},
   "outputs": [],
   "source": []
  },
  {
   "cell_type": "code",
   "execution_count": null,
   "metadata": {},
   "outputs": [],
   "source": []
  },
  {
   "cell_type": "code",
   "execution_count": null,
   "metadata": {},
   "outputs": [],
   "source": []
  }
 ],
 "metadata": {
  "kernelspec": {
   "display_name": "Python 3",
   "language": "python",
   "name": "python3"
  },
  "language_info": {
   "codemirror_mode": {
    "name": "ipython",
    "version": 3
   },
   "file_extension": ".py",
   "mimetype": "text/x-python",
   "name": "python",
   "nbconvert_exporter": "python",
   "pygments_lexer": "ipython3",
   "version": "3.7.4"
  }
 },
 "nbformat": 4,
 "nbformat_minor": 4
}
