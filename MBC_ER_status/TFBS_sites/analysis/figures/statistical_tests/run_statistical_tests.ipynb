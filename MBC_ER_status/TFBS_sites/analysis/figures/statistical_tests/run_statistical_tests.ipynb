{
 "cells": [
  {
   "cell_type": "code",
   "execution_count": 1,
   "metadata": {},
   "outputs": [],
   "source": [
    "import pandas as pd\n",
    "import numpy as np\n",
    "from scipy.stats import pearsonr\n",
    "from scipy.stats import wilcoxon\n",
    "from scipy.stats import linregress\n",
    "from sklearn.metrics import mean_squared_error\n",
    "\n",
    "\n",
    "from matplotlib import pyplot as plt\n",
    "%matplotlib inline"
   ]
  },
  {
   "cell_type": "code",
   "execution_count": 2,
   "metadata": {},
   "outputs": [
    {
     "name": "stdout",
     "output_type": "stream",
     "text": [
      "191\n"
     ]
    }
   ],
   "source": [
    "#import GC corrected data\n",
    "data = pd.read_csv('../../merge/data_with_features.txt', sep='\\t')\n",
    "data = data[(data['tumor_fraction']>=0.1) & (data['ulp_wgs_coverage']>=0.1) & (data['merged_updated_ER_status_binary']!='none')]\n",
    "data = data[data['sample'].str.contains('ULP')]\n",
    "print(len(data['sample'].unique()))\n",
    "\n",
    "stat_results = pd.DataFrame()\n",
    "\n",
    "for site_name in data['site_name'].unique():\n",
    "    current = data[data['site_name']==site_name]\n",
    "    current_outputs = {'site_name':site_name}\n",
    "    for feature in ['mean_cov','central_cov','fft_10_magnitude']:\n",
    "\n",
    "        #pearson r plus regression line\n",
    "        lin_reg_slope, lin_reg_intercept, pearson_r, pearson_pval, lin_reg_std_err = linregress(current['tumor_fraction'],current[feature])\n",
    "        fit_line = lin_reg_slope*current['tumor_fraction']+lin_reg_intercept\n",
    "        #r2 = r2_score(current[feature],fit_line)\n",
    "        RMSE = np.sqrt(mean_squared_error(current[feature],fit_line))\n",
    "        \n",
    "        current_outputs['pearson_r_'+feature] = pearson_r\n",
    "        current_outputs['pearson_pval_'+feature] = pearson_pval\n",
    "        current_outputs['lin_reg_slope_'+feature] = lin_reg_slope\n",
    "        current_outputs['lin_reg_intercept_'+feature] = lin_reg_intercept\n",
    "        #current_outputs['lin_reg_r2_'+feature] = r2\n",
    "        current_outputs['lin_reg_RMSE_'+feature] = RMSE\n",
    "\n",
    "        \n",
    "    stat_results = stat_results.append(current_outputs, ignore_index=True)\n",
    "stat_results = stat_results.set_index('site_name') "
   ]
  },
  {
   "cell_type": "code",
   "execution_count": 3,
   "metadata": {},
   "outputs": [
    {
     "name": "stdout",
     "output_type": "stream",
     "text": [
      "191\n"
     ]
    }
   ],
   "source": [
    "#import data without GC correction\n",
    "uncorrected_data = pd.read_csv('../../merge/no_GC_correction_data_with_features.txt', sep='\\t')\n",
    "uncorrected_data = uncorrected_data[(uncorrected_data['tumor_fraction']>=0.1) & (uncorrected_data['ulp_wgs_coverage']>=0.1) & (uncorrected_data['merged_updated_ER_status_binary']!='none')]\n",
    "uncorrected_data = uncorrected_data[uncorrected_data['sample'].str.contains('ULP')]\n",
    "print(len(uncorrected_data['sample'].unique()))\n",
    "\n",
    "uncorrected_stat_results = pd.DataFrame()\n",
    "\n",
    "for site_name in uncorrected_data['site_name'].unique():\n",
    "    current = uncorrected_data[uncorrected_data['site_name']==site_name]\n",
    "    current_outputs = {'site_name':site_name}\n",
    "    for feature in ['mean_cov','central_cov','fft_10_magnitude']:\n",
    "\n",
    "        #spearman r\n",
    "        #spearman_r,spearman_pval = spearmanr(current['tumor_fraction'],current[feature])\n",
    "        #current_outputs['spearman_r_'+feature] = spearman_r\n",
    "        #current_outputs['spearman_pval_'+feature] = spearman_pval\n",
    "        \n",
    "        #pearson r plus regression line\n",
    "        lin_reg_slope, lin_reg_intercept, pearson_r, pearson_pval, lin_reg_std_err = linregress(current['tumor_fraction'],current[feature])\n",
    "        fit_line = lin_reg_slope*current['tumor_fraction']+lin_reg_intercept\n",
    "        #r2 = r2_score(current[feature],fit_line)\n",
    "        RMSE = np.sqrt(mean_squared_error(current[feature],fit_line))\n",
    "        \n",
    "        current_outputs['pearson_r_'+feature] = pearson_r\n",
    "        current_outputs['pearson_pval_'+feature] = pearson_pval\n",
    "        current_outputs['lin_reg_slope_'+feature] = lin_reg_slope\n",
    "        current_outputs['lin_reg_intercept_'+feature] = lin_reg_intercept\n",
    "        #current_outputs['lin_reg_r2_'+feature] = r2\n",
    "        current_outputs['lin_reg_RMSE_'+feature] = RMSE\n",
    "        \n",
    "    uncorrected_stat_results = uncorrected_stat_results.append(current_outputs, ignore_index=True)\n",
    "\n",
    "uncorrected_stat_results = uncorrected_stat_results.set_index('site_name')"
   ]
  },
  {
   "cell_type": "code",
   "execution_count": 4,
   "metadata": {},
   "outputs": [],
   "source": [
    "merged_stat_results = stat_results.merge(uncorrected_stat_results, left_index=True,right_index=True, suffixes=['_GC_corrected','_uncorrected'])\n",
    "merged_stat_results.to_csv('tfx_correlation_statistics.txt',sep='\\t')"
   ]
  },
  {
   "cell_type": "code",
   "execution_count": 6,
   "metadata": {},
   "outputs": [
    {
     "data": {
      "image/png": "[encoded data removed]",
      "text/plain": [
       "<Figure size 360x273.6 with 1 Axes>"
      ]
     },
     "metadata": {
      "needs_background": "light"
     },
     "output_type": "display_data"
    }
   ],
   "source": [
    "fig,ax = plt.subplots(1, figsize=(5,3.8))\n",
    "ax.set_title('lin_reg_central_cov_RMSE')\n",
    "ax.set_ylabel('RMSE')\n",
    "merged_stat_results[['lin_reg_RMSE_central_cov_uncorrected','lin_reg_RMSE_central_cov_GC_corrected']].plot.box(ax=ax, flierprops = {'marker':'.','markersize':10,'alpha':.5,'markerfacecolor':'grey','markeredgecolor':'none'})\n",
    "\n",
    "#add LYL1\n",
    "#ax.scatter([1,2],merged_stat_results[['lin_reg_RMSE_central_cov_uncorrected','lin_reg_RMSE_central_cov_GC_corrected']].loc['LYL1.hg38'],color='tab:orange', alpha = 0.5, s = 10)\n",
    "\n",
    "ax.set_xticklabels(['uncorrected','GC_corrected'])\n",
    "\n",
    "# plt.scatter(1,merged_stat_results.loc['LYL1.hg38']['lin_reg_RMSE_central_cov_uncorrected'], color='tab:orange')\n",
    "# plt.scatter(2,merged_stat_results.loc['LYL1.hg38']['lin_reg_RMSE_central_cov_GC_corrected'], color='tab:orange')\n",
    "\n",
    "fig.tight_layout()\n",
    "stat,wilcoxon_pval = wilcoxon(merged_stat_results['lin_reg_RMSE_central_cov_uncorrected'],merged_stat_results['lin_reg_RMSE_central_cov_GC_corrected'])\n",
    "plt.text(1.05,.85, 'Wilcoxon p:\\n'+'{:.1E}'.format(wilcoxon_pval), transform=ax.transAxes)\n",
    "\n",
    "ax.set_aspect(1.0/ax.get_data_ratio(), adjustable='box')\n",
    "fig.tight_layout()\n",
    "fig.savefig('RMSE_boxplot.pdf')"
   ]
  },
  {
   "cell_type": "code",
   "execution_count": 7,
   "metadata": {},
   "outputs": [
    {
     "data": {
      "text/plain": [
       "338"
      ]
     },
     "execution_count": 7,
     "metadata": {},
     "output_type": "execute_result"
    }
   ],
   "source": [
    "len(merged_stat_results)"
   ]
  },
  {
   "cell_type": "code",
   "execution_count": 8,
   "metadata": {},
   "outputs": [
    {
     "name": "stdout",
     "output_type": "stream",
     "text": [
      "wilcoxon stat 472.0\n",
      "wilcoxon p 2.391752562915051e-55\n"
     ]
    }
   ],
   "source": [
    "print('wilcoxon stat',stat)\n",
    "print('wilcoxon p', wilcoxon_pval)"
   ]
  },
  {
   "cell_type": "code",
   "execution_count": 9,
   "metadata": {},
   "outputs": [
    {
     "data": {
      "text/plain": [
       "325"
      ]
     },
     "execution_count": 9,
     "metadata": {},
     "output_type": "execute_result"
    }
   ],
   "source": [
    "#get the number of factors with reduced RMSE\n",
    "sum(merged_stat_results['lin_reg_RMSE_central_cov_uncorrected']>merged_stat_results['lin_reg_RMSE_central_cov_GC_corrected'])"
   ]
  },
  {
   "cell_type": "code",
   "execution_count": 10,
   "metadata": {},
   "outputs": [],
   "source": [
    "#export for supplementary tables\n",
    "rename_dict = {\n",
    "    #central_cov uncorrected columns\n",
    "    'pearson_r_central_cov_uncorrected':'central_cov_pearson_r_uncorrected',\n",
    "    'pearson_pval_central_cov_uncorrected':'central_cov_pearson_pval_uncorrected',\n",
    "    'lin_reg_RMSE_central_cov_uncorrected':'central_cov_lin_reg_RMSE_uncorrected',\n",
    "\n",
    "    #central_cov GC corrected columns\n",
    "    'pearson_r_central_cov_GC_corrected':'central_cov_pearson_r_GC_corrected',\n",
    "    'pearson_pval_central_cov_GC_corrected':'central_cov_pearson_pval_GC_corrected',\n",
    "    'lin_reg_RMSE_central_cov_GC_corrected':'central_cov_lin_reg_RMSE_GC_corrected',\n",
    "    \n",
    "    #mean_cov uncorrected columns\n",
    "    'pearson_r_mean_cov_uncorrected':'mean_cov_pearson_r_uncorrected',\n",
    "    'pearson_pval_mean_cov_uncorrected':'mean_cov_pearson_pval_uncorrected',\n",
    "    'lin_reg_RMSE_mean_cov_uncorrected':'mean_cov_lin_reg_RMSE_uncorrected',\n",
    "              \n",
    "    #mean_cov GC corrected columns\n",
    "    'pearson_r_mean_cov_GC_corrected':'mean_cov_pearson_r_GC_corrected',\n",
    "    'pearson_pval_mean_cov_GC_corrected':'mean_cov_pearson_pval_GC_corrected',\n",
    "    'lin_reg_RMSE_mean_cov_GC_corrected':'mean_cov_lin_reg_RMSE_GC_corrected',\n",
    "\n",
    "    #amplitude uncorrected columns\n",
    "    'pearson_r_fft_10_magnitude_uncorrected':'amplitude_pearson_r_uncorrected',\n",
    "    'pearson_pval_fft_10_magnitude_uncorrected':'amplitude_pearson_pval_uncorrected',\n",
    "    'lin_reg_RMSE_fft_10_magnitude_uncorrected':'amplitude_lin_reg_RMSE_uncorrected',\n",
    "\n",
    "    #amplitude GC corrected columns\n",
    "    'pearson_r_fft_10_magnitude_GC_corrected':'amplitude_pearson_r_GC_corrected',\n",
    "    'pearson_pval_fft_10_magnitude_GC_corrected':'amplitude_pearson_pval_GC_corrected',\n",
    "    'lin_reg_RMSE_fft_10_magnitude_GC_corrected':'amplitude_lin_reg_RMSE_GC_corrected'}\n",
    "\n",
    "\n",
    "new_col_order = [\n",
    "    #central_cov\n",
    "    'central_cov_pearson_r_uncorrected','central_cov_pearson_r_GC_corrected',\n",
    "    'central_cov_pearson_pval_uncorrected','central_cov_pearson_pval_GC_corrected',\n",
    "    'central_cov_lin_reg_RMSE_uncorrected','central_cov_lin_reg_RMSE_GC_corrected',\n",
    "    \n",
    "    #mean_cov uncorrected columns\n",
    "    'mean_cov_pearson_r_uncorrected','mean_cov_pearson_r_GC_corrected',\n",
    "    'mean_cov_pearson_pval_uncorrected','mean_cov_pearson_pval_GC_corrected',\n",
    "    'mean_cov_lin_reg_RMSE_uncorrected','mean_cov_lin_reg_RMSE_GC_corrected',\n",
    "\n",
    "    #amplitude uncorrected columns\n",
    "    'amplitude_pearson_r_uncorrected','amplitude_pearson_r_GC_corrected',\n",
    "    'amplitude_pearson_pval_uncorrected','amplitude_pearson_pval_GC_corrected',\n",
    "    'amplitude_lin_reg_RMSE_uncorrected','amplitude_lin_reg_RMSE_GC_corrected']\n",
    "\n",
    "\n",
    "\n",
    "\n",
    "to_export = merged_stat_results.rename(columns = rename_dict)[new_col_order]\n",
    "\n",
    "to_export.to_csv('S1_MBC_RMSE.txt',sep='\\t')\n"
   ]
  },
  {
   "cell_type": "code",
   "execution_count": null,
   "metadata": {},
   "outputs": [],
   "source": []
  },
  {
   "cell_type": "code",
   "execution_count": 12,
   "metadata": {},
   "outputs": [
    {
     "data": {
      "text/plain": [
       "site_name\n",
       "GRHL2.hg38    -0.625179\n",
       "FOXM1.hg38    -0.458784\n",
       "FOXA1.hg38    -0.419397\n",
       "AHR.hg38      -0.396874\n",
       "PGR.hg38      -0.369678\n",
       "ASCL2.hg38    -0.358314\n",
       "POU2F1.hg38   -0.357264\n",
       "TFAP2C.hg38   -0.340430\n",
       "ZBTB2.hg38    -0.298684\n",
       "GATA3.hg38    -0.295480\n",
       "HMGA1.hg38    -0.292498\n",
       "HIF3A.hg38    -0.286296\n",
       "SRF.hg38      -0.282928\n",
       "ZNF486.hg38   -0.281950\n",
       "ZNF146.hg38   -0.275802\n",
       "ESR1.hg38     -0.263338\n",
       "HOXB13.hg38   -0.254202\n",
       "CTCF.hg38     -0.253380\n",
       "ESRRA.hg38    -0.253310\n",
       "NFIB.hg38     -0.252536\n",
       "Name: pearson_r_central_cov, dtype: float64"
      ]
     },
     "execution_count": 12,
     "metadata": {},
     "output_type": "execute_result"
    }
   ],
   "source": [
    "stat_results.sort_values(by= 'pearson_r_central_cov').head(20)['pearson_r_central_cov']"
   ]
  },
  {
   "cell_type": "code",
   "execution_count": null,
   "metadata": {},
   "outputs": [],
   "source": []
  },
  {
   "cell_type": "code",
   "execution_count": null,
   "metadata": {},
   "outputs": [],
   "source": []
  },
  {
   "cell_type": "raw",
   "metadata": {},
   "source": []
  },
  {
   "cell_type": "code",
   "execution_count": null,
   "metadata": {},
   "outputs": [],
   "source": []
  },
  {
   "cell_type": "code",
   "execution_count": null,
   "metadata": {},
   "outputs": [],
   "source": []
  },
  {
   "cell_type": "code",
   "execution_count": null,
   "metadata": {},
   "outputs": [],
   "source": []
  }
 ],
 "metadata": {
  "kernelspec": {
   "display_name": "Python 3",
   "language": "python",
   "name": "python3"
  },
  "language_info": {
   "codemirror_mode": {
    "name": "ipython",
    "version": 3
   },
   "file_extension": ".py",
   "mimetype": "text/x-python",
   "name": "python",
   "nbconvert_exporter": "python",
   "pygments_lexer": "ipython3",
   "version": "3.8.2"
  }
 },
 "nbformat": 4,
 "nbformat_minor": 4
}
