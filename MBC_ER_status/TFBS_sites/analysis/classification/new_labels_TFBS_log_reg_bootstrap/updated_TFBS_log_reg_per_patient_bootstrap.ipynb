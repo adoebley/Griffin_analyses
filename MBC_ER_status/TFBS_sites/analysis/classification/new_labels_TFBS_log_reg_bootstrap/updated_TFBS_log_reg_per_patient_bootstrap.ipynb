{
 "cells": [
  {
   "cell_type": "code",
   "execution_count": 1,
   "metadata": {},
   "outputs": [],
   "source": [
    "import numpy as np\n",
    "import pandas as pd\n",
    "import time\n",
    "from matplotlib import pyplot as plt\n",
    "%matplotlib inline\n",
    "\n",
    "# from sklearn.model_selection import StratifiedKFold\n",
    "from sklearn.model_selection import StratifiedKFold\n",
    "# from sklearn.model_selection import LeaveOneOut\n",
    "from sklearn.linear_model import LogisticRegression\n",
    "from sklearn.model_selection import GridSearchCV\n",
    "from sklearn.preprocessing import StandardScaler\n",
    "from sklearn.metrics import roc_curve,auc"
   ]
  },
  {
   "cell_type": "code",
   "execution_count": 2,
   "metadata": {},
   "outputs": [],
   "source": [
    "#parameters\n",
    "in_file = '../../merge/reformatted_data_with_features.txt'\n",
    "out_dir = 'TFBS_results'\n",
    "metadata_file = '../../../../../metadata/MBC/merged_key_metadata.txt'\n",
    "status_col = 'merged_updated_ER_status_binary'\n",
    "n_iter = 1000"
   ]
  },
  {
   "cell_type": "code",
   "execution_count": 3,
   "metadata": {},
   "outputs": [
    {
     "name": "stdout",
     "output_type": "stream",
     "text": [
      "features 1014\n",
      "total 254\n",
      "+    132\n",
      "-    122\n",
      "Name: merged_updated_ER_status_binary, dtype: int64\n",
      "high tfx 191\n",
      "+    99\n",
      "-    92\n",
      "Name: merged_updated_ER_status_binary, dtype: int64\n"
     ]
    }
   ],
   "source": [
    "#import data\n",
    "data = pd.read_csv(in_file, sep='\\t')\n",
    "data = data.set_index('sample')\n",
    "\n",
    "#get features and exclude all other columns\n",
    "features = data.columns[(data.columns.str.startswith('central_cov')) | (data.columns.str.startswith('mean_cov')) | (data.columns.str.startswith('fft_10_magnitude'))]\n",
    "data = data[features]\n",
    "print('features',len(features))\n",
    "\n",
    "#get metadata\n",
    "metadata = pd.read_csv(metadata_file, sep='\\t')\n",
    "metadata = metadata.set_index('sample')\n",
    "data = data.merge(metadata, left_index=True, right_index=True)\n",
    "data['status'] = np.where(data[status_col]=='+',1,0)\n",
    "\n",
    "#filter data\n",
    "min_tfx = 0.05\n",
    "min_cov = 0.1\n",
    "\n",
    "#training data\n",
    "data = data[(data['tumor_fraction']>=min_tfx) & (data['ulp_wgs_coverage']>=min_cov)]\n",
    "print('total',len(data))\n",
    "print(data[status_col].value_counts())\n",
    "\n",
    "high_tfx = data[(data['tumor_fraction']>=0.1) & (data['ulp_wgs_coverage']>=min_cov)]\n",
    "print('high tfx',len(high_tfx))\n",
    "print(high_tfx[status_col].value_counts())\n",
    "del(high_tfx)\n",
    "\n",
    "data = data.sort_index()"
   ]
  },
  {
   "cell_type": "code",
   "execution_count": 4,
   "metadata": {},
   "outputs": [
    {
     "data": {
      "text/plain": [
       "Index(['central_cov_AHR.hg38', 'central_cov_AR.hg38',\n",
       "       'central_cov_ARID3A.hg38', 'central_cov_ARNT.hg38',\n",
       "       'central_cov_ARNTL.hg38', 'central_cov_ASCL1.hg38',\n",
       "       'central_cov_ASCL2.hg38', 'central_cov_ATF1.hg38',\n",
       "       'central_cov_ATF2.hg38', 'central_cov_ATF3.hg38',\n",
       "       ...\n",
       "       'mean_cov_ZNF486.hg38', 'mean_cov_ZNF554.hg38', 'mean_cov_ZNF574.hg38',\n",
       "       'mean_cov_ZNF580.hg38', 'mean_cov_ZNF652.hg38', 'mean_cov_ZNF770.hg38',\n",
       "       'mean_cov_ZNF792.hg38', 'mean_cov_ZSCAN16.hg38',\n",
       "       'mean_cov_ZSCAN22.hg38', 'mean_cov_ZSCAN9.hg38'],\n",
       "      dtype='object', length=1014)"
      ]
     },
     "execution_count": 4,
     "metadata": {},
     "output_type": "execute_result"
    }
   ],
   "source": [
    "features"
   ]
  },
  {
   "cell_type": "code",
   "execution_count": 5,
   "metadata": {},
   "outputs": [
    {
     "data": {
      "text/html": [
       "<div>\n",
       "<style scoped>\n",
       "    .dataframe tbody tr th:only-of-type {\n",
       "        vertical-align: middle;\n",
       "    }\n",
       "\n",
       "    .dataframe tbody tr th {\n",
       "        vertical-align: top;\n",
       "    }\n",
       "\n",
       "    .dataframe thead th {\n",
       "        text-align: right;\n",
       "    }\n",
       "</style>\n",
       "<table border=\"1\" class=\"dataframe\">\n",
       "  <thead>\n",
       "    <tr style=\"text-align: right;\">\n",
       "      <th></th>\n",
       "      <th>central_cov_AHR.hg38</th>\n",
       "      <th>central_cov_AR.hg38</th>\n",
       "      <th>central_cov_ARID3A.hg38</th>\n",
       "      <th>central_cov_ARNT.hg38</th>\n",
       "      <th>central_cov_ARNTL.hg38</th>\n",
       "      <th>central_cov_ASCL1.hg38</th>\n",
       "      <th>central_cov_ASCL2.hg38</th>\n",
       "      <th>central_cov_ATF1.hg38</th>\n",
       "      <th>central_cov_ATF2.hg38</th>\n",
       "      <th>central_cov_ATF3.hg38</th>\n",
       "      <th>...</th>\n",
       "      <th>merged_ER_switch</th>\n",
       "      <th>merged_updated_ER_status</th>\n",
       "      <th>merged_updated_ER_status_binary</th>\n",
       "      <th>merged_PrimaryProgesteroneStatus</th>\n",
       "      <th>merged_MetsProgesteroneStatus</th>\n",
       "      <th>merged_PR_switch</th>\n",
       "      <th>merged_TimeFromMet_ToDeathOrLastFU_Days</th>\n",
       "      <th>merged_DeathCensor</th>\n",
       "      <th>first_passing_sample</th>\n",
       "      <th>status</th>\n",
       "    </tr>\n",
       "    <tr>\n",
       "      <th>sample</th>\n",
       "      <th></th>\n",
       "      <th></th>\n",
       "      <th></th>\n",
       "      <th></th>\n",
       "      <th></th>\n",
       "      <th></th>\n",
       "      <th></th>\n",
       "      <th></th>\n",
       "      <th></th>\n",
       "      <th></th>\n",
       "      <th></th>\n",
       "      <th></th>\n",
       "      <th></th>\n",
       "      <th></th>\n",
       "      <th></th>\n",
       "      <th></th>\n",
       "      <th></th>\n",
       "      <th></th>\n",
       "      <th></th>\n",
       "      <th></th>\n",
       "      <th></th>\n",
       "    </tr>\n",
       "  </thead>\n",
       "  <tbody>\n",
       "    <tr>\n",
       "      <th>MBC_1041_1_ULP</th>\n",
       "      <td>0.939738</td>\n",
       "      <td>0.980202</td>\n",
       "      <td>0.935048</td>\n",
       "      <td>0.940685</td>\n",
       "      <td>1.077927</td>\n",
       "      <td>1.012933</td>\n",
       "      <td>0.872018</td>\n",
       "      <td>0.692708</td>\n",
       "      <td>0.925503</td>\n",
       "      <td>0.783452</td>\n",
       "      <td>...</td>\n",
       "      <td>same</td>\n",
       "      <td>+</td>\n",
       "      <td>+</td>\n",
       "      <td>-</td>\n",
       "      <td>+</td>\n",
       "      <td>gain</td>\n",
       "      <td>6746.0</td>\n",
       "      <td>1.0</td>\n",
       "      <td>1.0</td>\n",
       "      <td>1</td>\n",
       "    </tr>\n",
       "    <tr>\n",
       "      <th>MBC_1041_3_ULP</th>\n",
       "      <td>0.943930</td>\n",
       "      <td>0.952897</td>\n",
       "      <td>0.898685</td>\n",
       "      <td>0.945330</td>\n",
       "      <td>1.009032</td>\n",
       "      <td>1.045983</td>\n",
       "      <td>0.980058</td>\n",
       "      <td>0.738007</td>\n",
       "      <td>0.974135</td>\n",
       "      <td>0.802170</td>\n",
       "      <td>...</td>\n",
       "      <td>same</td>\n",
       "      <td>+</td>\n",
       "      <td>+</td>\n",
       "      <td>-</td>\n",
       "      <td>+</td>\n",
       "      <td>gain</td>\n",
       "      <td>6746.0</td>\n",
       "      <td>1.0</td>\n",
       "      <td>NaN</td>\n",
       "      <td>1</td>\n",
       "    </tr>\n",
       "    <tr>\n",
       "      <th>MBC_1041_4_ULP</th>\n",
       "      <td>0.904892</td>\n",
       "      <td>0.955568</td>\n",
       "      <td>0.959213</td>\n",
       "      <td>0.892250</td>\n",
       "      <td>0.989910</td>\n",
       "      <td>1.021387</td>\n",
       "      <td>0.940163</td>\n",
       "      <td>0.663435</td>\n",
       "      <td>1.022915</td>\n",
       "      <td>0.772770</td>\n",
       "      <td>...</td>\n",
       "      <td>same</td>\n",
       "      <td>+</td>\n",
       "      <td>+</td>\n",
       "      <td>-</td>\n",
       "      <td>+</td>\n",
       "      <td>gain</td>\n",
       "      <td>6746.0</td>\n",
       "      <td>1.0</td>\n",
       "      <td>NaN</td>\n",
       "      <td>1</td>\n",
       "    </tr>\n",
       "    <tr>\n",
       "      <th>MBC_1042_1_ULP</th>\n",
       "      <td>0.929905</td>\n",
       "      <td>0.970383</td>\n",
       "      <td>0.911963</td>\n",
       "      <td>0.829052</td>\n",
       "      <td>0.945632</td>\n",
       "      <td>1.023265</td>\n",
       "      <td>0.913467</td>\n",
       "      <td>0.669745</td>\n",
       "      <td>0.976888</td>\n",
       "      <td>0.789968</td>\n",
       "      <td>...</td>\n",
       "      <td>same</td>\n",
       "      <td>+</td>\n",
       "      <td>+</td>\n",
       "      <td>+</td>\n",
       "      <td>-</td>\n",
       "      <td>loss</td>\n",
       "      <td>2116.0</td>\n",
       "      <td>1.0</td>\n",
       "      <td>NaN</td>\n",
       "      <td>1</td>\n",
       "    </tr>\n",
       "    <tr>\n",
       "      <th>MBC_1042_2_ULP</th>\n",
       "      <td>0.812185</td>\n",
       "      <td>0.987232</td>\n",
       "      <td>0.945407</td>\n",
       "      <td>0.890898</td>\n",
       "      <td>0.962938</td>\n",
       "      <td>1.061150</td>\n",
       "      <td>0.890143</td>\n",
       "      <td>0.687457</td>\n",
       "      <td>0.961217</td>\n",
       "      <td>0.797125</td>\n",
       "      <td>...</td>\n",
       "      <td>same</td>\n",
       "      <td>+</td>\n",
       "      <td>+</td>\n",
       "      <td>+</td>\n",
       "      <td>-</td>\n",
       "      <td>loss</td>\n",
       "      <td>2116.0</td>\n",
       "      <td>1.0</td>\n",
       "      <td>1.0</td>\n",
       "      <td>1</td>\n",
       "    </tr>\n",
       "  </tbody>\n",
       "</table>\n",
       "<p>5 rows × 1032 columns</p>\n",
       "</div>"
      ],
      "text/plain": [
       "                central_cov_AHR.hg38  central_cov_AR.hg38  \\\n",
       "sample                                                      \n",
       "MBC_1041_1_ULP              0.939738             0.980202   \n",
       "MBC_1041_3_ULP              0.943930             0.952897   \n",
       "MBC_1041_4_ULP              0.904892             0.955568   \n",
       "MBC_1042_1_ULP              0.929905             0.970383   \n",
       "MBC_1042_2_ULP              0.812185             0.987232   \n",
       "\n",
       "                central_cov_ARID3A.hg38  central_cov_ARNT.hg38  \\\n",
       "sample                                                           \n",
       "MBC_1041_1_ULP                 0.935048               0.940685   \n",
       "MBC_1041_3_ULP                 0.898685               0.945330   \n",
       "MBC_1041_4_ULP                 0.959213               0.892250   \n",
       "MBC_1042_1_ULP                 0.911963               0.829052   \n",
       "MBC_1042_2_ULP                 0.945407               0.890898   \n",
       "\n",
       "                central_cov_ARNTL.hg38  central_cov_ASCL1.hg38  \\\n",
       "sample                                                           \n",
       "MBC_1041_1_ULP                1.077927                1.012933   \n",
       "MBC_1041_3_ULP                1.009032                1.045983   \n",
       "MBC_1041_4_ULP                0.989910                1.021387   \n",
       "MBC_1042_1_ULP                0.945632                1.023265   \n",
       "MBC_1042_2_ULP                0.962938                1.061150   \n",
       "\n",
       "                central_cov_ASCL2.hg38  central_cov_ATF1.hg38  \\\n",
       "sample                                                          \n",
       "MBC_1041_1_ULP                0.872018               0.692708   \n",
       "MBC_1041_3_ULP                0.980058               0.738007   \n",
       "MBC_1041_4_ULP                0.940163               0.663435   \n",
       "MBC_1042_1_ULP                0.913467               0.669745   \n",
       "MBC_1042_2_ULP                0.890143               0.687457   \n",
       "\n",
       "                central_cov_ATF2.hg38  central_cov_ATF3.hg38  ...  \\\n",
       "sample                                                        ...   \n",
       "MBC_1041_1_ULP               0.925503               0.783452  ...   \n",
       "MBC_1041_3_ULP               0.974135               0.802170  ...   \n",
       "MBC_1041_4_ULP               1.022915               0.772770  ...   \n",
       "MBC_1042_1_ULP               0.976888               0.789968  ...   \n",
       "MBC_1042_2_ULP               0.961217               0.797125  ...   \n",
       "\n",
       "                merged_ER_switch  merged_updated_ER_status  \\\n",
       "sample                                                       \n",
       "MBC_1041_1_ULP              same                         +   \n",
       "MBC_1041_3_ULP              same                         +   \n",
       "MBC_1041_4_ULP              same                         +   \n",
       "MBC_1042_1_ULP              same                         +   \n",
       "MBC_1042_2_ULP              same                         +   \n",
       "\n",
       "                merged_updated_ER_status_binary  \\\n",
       "sample                                            \n",
       "MBC_1041_1_ULP                                +   \n",
       "MBC_1041_3_ULP                                +   \n",
       "MBC_1041_4_ULP                                +   \n",
       "MBC_1042_1_ULP                                +   \n",
       "MBC_1042_2_ULP                                +   \n",
       "\n",
       "                merged_PrimaryProgesteroneStatus  \\\n",
       "sample                                             \n",
       "MBC_1041_1_ULP                                 -   \n",
       "MBC_1041_3_ULP                                 -   \n",
       "MBC_1041_4_ULP                                 -   \n",
       "MBC_1042_1_ULP                                 +   \n",
       "MBC_1042_2_ULP                                 +   \n",
       "\n",
       "                merged_MetsProgesteroneStatus  merged_PR_switch  \\\n",
       "sample                                                            \n",
       "MBC_1041_1_ULP                              +              gain   \n",
       "MBC_1041_3_ULP                              +              gain   \n",
       "MBC_1041_4_ULP                              +              gain   \n",
       "MBC_1042_1_ULP                              -              loss   \n",
       "MBC_1042_2_ULP                              -              loss   \n",
       "\n",
       "                merged_TimeFromMet_ToDeathOrLastFU_Days  merged_DeathCensor  \\\n",
       "sample                                                                        \n",
       "MBC_1041_1_ULP                                   6746.0                 1.0   \n",
       "MBC_1041_3_ULP                                   6746.0                 1.0   \n",
       "MBC_1041_4_ULP                                   6746.0                 1.0   \n",
       "MBC_1042_1_ULP                                   2116.0                 1.0   \n",
       "MBC_1042_2_ULP                                   2116.0                 1.0   \n",
       "\n",
       "                first_passing_sample  status  \n",
       "sample                                        \n",
       "MBC_1041_1_ULP                   1.0       1  \n",
       "MBC_1041_3_ULP                   NaN       1  \n",
       "MBC_1041_4_ULP                   NaN       1  \n",
       "MBC_1042_1_ULP                   NaN       1  \n",
       "MBC_1042_2_ULP                   1.0       1  \n",
       "\n",
       "[5 rows x 1032 columns]"
      ]
     },
     "execution_count": 5,
     "metadata": {},
     "output_type": "execute_result"
    }
   ],
   "source": [
    "#view data\n",
    "data.head()"
   ]
  },
  {
   "cell_type": "code",
   "execution_count": 6,
   "metadata": {},
   "outputs": [
    {
     "data": {
      "text/plain": [
       "central_cov_AHR.hg38       6.294178e-16\n",
       "central_cov_AR.hg38        1.608512e-16\n",
       "central_cov_ARID3A.hg38   -2.265904e-15\n",
       "central_cov_ARNT.hg38     -1.902240e-15\n",
       "central_cov_ARNTL.hg38     1.744886e-15\n",
       "                               ...     \n",
       "mean_cov_ZNF770.hg38       2.570123e-15\n",
       "mean_cov_ZNF792.hg38       3.145341e-15\n",
       "mean_cov_ZSCAN16.hg38     -1.236456e-14\n",
       "mean_cov_ZSCAN22.hg38     -7.472588e-15\n",
       "mean_cov_ZSCAN9.hg38      -8.220896e-15\n",
       "Length: 1014, dtype: float64"
      ]
     },
     "execution_count": 6,
     "metadata": {},
     "output_type": "execute_result"
    }
   ],
   "source": [
    "#scale data\n",
    "scaler = StandardScaler()\n",
    "scaler.fit(data[features])\n",
    "data[features] = scaler.transform(data[features])\n",
    "data[features].mean()"
   ]
  },
  {
   "cell_type": "code",
   "execution_count": 7,
   "metadata": {},
   "outputs": [
    {
     "name": "stdout",
     "output_type": "stream",
     "text": [
      "0 0 0.0009629726409912109\n",
      "50 50 52.588046073913574\n",
      "100 100 103.97402787208557\n",
      "150 150 155.36356902122498\n",
      "200 200 208.81979274749756\n",
      "250 250 260.5120539665222\n",
      "300 300 310.7249987125397\n",
      "350 350 363.96350502967834\n",
      "400 400 416.2217388153076\n",
      "450 450 469.77420687675476\n",
      "500 500 522.7247519493103\n",
      "550 550 576.9388258457184\n",
      "600 600 628.0182938575745\n",
      "650 650 678.5465009212494\n",
      "700 700 729.6816387176514\n",
      "skipping iteration 715\n",
      "750 751 780.9684820175171\n",
      "800 801 831.2773039340973\n",
      "850 851 881.7733228206635\n",
      "900 901 932.4462609291077\n",
      "950 951 986.3558430671692\n"
     ]
    }
   ],
   "source": [
    "#bootstrapping\n",
    "hyperparameters = {'C': [0.00001, 0.0001, 0.001,0.01,0.1,1,10,100]}\n",
    "\n",
    "start_time = time.time()\n",
    "\n",
    "probabilities = pd.DataFrame(index=data.index)\n",
    "c_vals = []\n",
    "coefs = pd.DataFrame(index=features)\n",
    "\n",
    "#loop for each iteration\n",
    "countup = 0\n",
    "for i in range(n_iter):\n",
    "    if i%50==0:\n",
    "        print(i,countup, time.time()-start_time)\n",
    "    \n",
    "    patients = pd.Series(data['patient_id'].unique())\n",
    "    \n",
    "    good_split = 0\n",
    "    while good_split == 0:\n",
    "        #bootstrap a training set with replacement\n",
    "        training_ids = patients.sample(len(patients), replace = True, random_state = 100+countup)\n",
    "                \n",
    "        #get bootstrapped training set, if a patient ID is included in the training_ids set j times, include all samples from that patient j times\n",
    "        training = pd.DataFrame()\n",
    "        \n",
    "        #group the training patient IDs by number of times they are observed in the bootstrapped training_ids\n",
    "        for j,df in pd.DataFrame(training_ids.value_counts().rename('count')).groupby(by = 'count'):\n",
    "\n",
    "            #identify the samples from this group of patients\n",
    "            current_data = data[data['patient_id'].isin(df.index)]\n",
    "\n",
    "            #copy the training samples so that they appear j times in training dataframe\n",
    "            current_training = pd.DataFrame()\n",
    "            for k in range(j):\n",
    "                current_training = current_training.append(current_data)\n",
    "            training = training.append(current_training)\n",
    "        \n",
    "        \n",
    "        #the test set is all samples that aren't seen in the training data\n",
    "        test = data[~(data.index.isin(training.index))]\n",
    "        \n",
    "        #check to make sure first time point low tumor fraction samples for both classes are included in the test set\n",
    "        if len(test[(test['tumor_fraction']<.1) & (test['first_passing_sample']==1)]['status'].unique())!=2:\n",
    "            print('skipping iteration',i)\n",
    "            countup += 1\n",
    "        else:\n",
    "            good_split = 1\n",
    "    \n",
    "    #countup will get ahead of i if it has to skip bad train-test splits\n",
    "    countup +=1\n",
    "        \n",
    "    #10 fold cross validation on the training set\n",
    "    cv = StratifiedKFold(n_splits=10, shuffle=True, random_state =100+countup) \n",
    "\n",
    "    model = LogisticRegression(class_weight='balanced', max_iter=500)\n",
    "    search = GridSearchCV(estimator=model, param_grid=hyperparameters, cv=cv, n_jobs = 1)\n",
    "    search.fit(training[features], training['status'])\n",
    "    best_C = search.best_params_['C']\n",
    "    \n",
    "    #train a new model on the full training dataset (is this the same as refit...?)\n",
    "    model = LogisticRegression(class_weight='balanced', max_iter=500, C=best_C)\n",
    "    model.fit(training[features], training['status'])\n",
    "\n",
    "    #predict the test data\n",
    "    pred = model.predict(test[features])\n",
    "    prob = model.predict_proba(test[features])\n",
    "\n",
    "    \n",
    "    #collect metrics\n",
    "    current_output = pd.DataFrame(test[['status']])#.reset_index()\n",
    "    current_output['probability']=prob[:,1]\n",
    "    current_output['prediction']=pred\n",
    "    current_output['accuracy'] = np.where(current_output['prediction']==current_output['status'],1,0)    \n",
    "    \n",
    "    #save results\n",
    "    probabilities[i] = current_output['probability']\n",
    "    c_vals.append(best_C)\n",
    "    coefs[i] = pd.Series(model.coef_[0], index = features)\n",
    "    \n",
    "\n",
    "probabilities = probabilities.merge(data[['status']], left_index=True, right_index=True)"
   ]
  },
  {
   "cell_type": "code",
   "execution_count": null,
   "metadata": {},
   "outputs": [],
   "source": []
  },
  {
   "cell_type": "code",
   "execution_count": 8,
   "metadata": {},
   "outputs": [
    {
     "data": {
      "image/png": "[encoded data removed]",
      "text/plain": [
       "<Figure size 432x288 with 1 Axes>"
      ]
     },
     "metadata": {
      "needs_background": "light"
     },
     "output_type": "display_data"
    }
   ],
   "source": [
    "#export results\n",
    "probabilities.to_csv(out_dir+'/probabilities.txt', sep='\\t')\n",
    "pd.Series(c_vals).to_csv(out_dir+'/c_values.txt', sep='\\t', header = False, index=False)\n",
    "coefs.to_csv(out_dir+'/coefs.txt', sep='\\t')\n",
    "\n",
    "plt.hist([str(m) for m in sorted(c_vals)])\n",
    "plt.savefig(out_dir+'/cvals.pdf')"
   ]
  },
  {
   "cell_type": "code",
   "execution_count": null,
   "metadata": {},
   "outputs": [],
   "source": []
  },
  {
   "cell_type": "code",
   "execution_count": 9,
   "metadata": {},
   "outputs": [],
   "source": [
    "#print some key info"
   ]
  },
  {
   "cell_type": "code",
   "execution_count": 10,
   "metadata": {},
   "outputs": [],
   "source": [
    "probabilities = probabilities.merge(data[['first_passing_sample','tumor_fraction']], left_index=True, right_index=True)"
   ]
  },
  {
   "cell_type": "code",
   "execution_count": 11,
   "metadata": {},
   "outputs": [
    {
     "data": {
      "text/plain": [
       "0.700937625520203"
      ]
     },
     "execution_count": 11,
     "metadata": {},
     "output_type": "execute_result"
    }
   ],
   "source": [
    "#high tfx per patient accuracy\n",
    "accuracy = []\n",
    "for i in range(n_iter):\n",
    "    current = probabilities[~(probabilities[i].isnull())][[i,'status','tumor_fraction','first_passing_sample']]\n",
    "    current = current[(current['tumor_fraction']>=0.1) & (current['first_passing_sample']==1)]\n",
    "    accuracy.append(sum(np.round(current[i])==current['status'])/len(current))\n",
    "    \n",
    "np.mean(accuracy)"
   ]
  },
  {
   "cell_type": "code",
   "execution_count": 12,
   "metadata": {},
   "outputs": [
    {
     "data": {
      "text/plain": [
       "0.7163149062036591"
      ]
     },
     "execution_count": 12,
     "metadata": {},
     "output_type": "execute_result"
    }
   ],
   "source": [
    "#per sample accuracy\n",
    "accuracy = []\n",
    "for i in range(n_iter):\n",
    "    current = probabilities[~(probabilities[i].isnull())][[i,'status','tumor_fraction','first_passing_sample']]\n",
    "    current = current[(current['tumor_fraction']>=0.1)]\n",
    "    accuracy.append(sum(np.round(current[i])==current['status'])/len(current))\n",
    "np.mean(accuracy)"
   ]
  },
  {
   "cell_type": "code",
   "execution_count": 13,
   "metadata": {},
   "outputs": [
    {
     "data": {
      "text/plain": [
       "0.6076577309464962"
      ]
     },
     "execution_count": 13,
     "metadata": {},
     "output_type": "execute_result"
    }
   ],
   "source": [
    "#low tfx per patient accuracy\n",
    "accuracy = []\n",
    "for i in range(n_iter):\n",
    "    current = probabilities[~(probabilities[i].isnull())][[i,'status','tumor_fraction','first_passing_sample']]\n",
    "    current = current[(current['tumor_fraction']<0.1) & (current['first_passing_sample']==1)]\n",
    "    accuracy.append(sum(np.round(current[i])==current['status'])/len(current))\n",
    "    \n",
    "np.mean(accuracy)"
   ]
  },
  {
   "cell_type": "code",
   "execution_count": 14,
   "metadata": {},
   "outputs": [
    {
     "data": {
      "text/plain": [
       "0.6164336539039259"
      ]
     },
     "execution_count": 14,
     "metadata": {},
     "output_type": "execute_result"
    }
   ],
   "source": [
    "#per sample accuracy\n",
    "accuracy = []\n",
    "for i in range(n_iter):\n",
    "    current = probabilities[~(probabilities[i].isnull())][[i,'status','tumor_fraction','first_passing_sample']]\n",
    "    current = current[(current['tumor_fraction']<0.1)]\n",
    "    accuracy.append(sum(np.round(current[i])==current['status'])/len(current))\n",
    "np.mean(accuracy)"
   ]
  },
  {
   "cell_type": "code",
   "execution_count": 15,
   "metadata": {},
   "outputs": [
    {
     "data": {
      "text/plain": [
       "0.6755323703989863"
      ]
     },
     "execution_count": 15,
     "metadata": {},
     "output_type": "execute_result"
    }
   ],
   "source": [
    "#per patient accuracy for all samples\n",
    "accuracy = []\n",
    "for i in range(n_iter):\n",
    "    current = probabilities[~(probabilities[i].isnull())][[i,'first_passing_sample','status']]\n",
    "    current = current[(current['first_passing_sample']==1)]\n",
    "    accuracy.append(sum(np.round(current[i])==current['status'])/len(current))\n",
    "    \n",
    "np.mean(accuracy)"
   ]
  },
  {
   "cell_type": "code",
   "execution_count": 16,
   "metadata": {},
   "outputs": [
    {
     "data": {
      "text/plain": [
       "0.6918098598744684"
      ]
     },
     "execution_count": 16,
     "metadata": {},
     "output_type": "execute_result"
    }
   ],
   "source": [
    "#per sample accuracy for all samples\n",
    "accuracy = []\n",
    "for i in range(n_iter):\n",
    "    current = probabilities[~(probabilities[i].isnull())][[i,'status']]\n",
    "    accuracy.append(sum(np.round(current[i])==current['status'])/len(current))\n",
    "    \n",
    "np.mean(accuracy)"
   ]
  },
  {
   "cell_type": "code",
   "execution_count": null,
   "metadata": {},
   "outputs": [],
   "source": []
  },
  {
   "cell_type": "code",
   "execution_count": null,
   "metadata": {},
   "outputs": [],
   "source": []
  },
  {
   "cell_type": "code",
   "execution_count": null,
   "metadata": {},
   "outputs": [],
   "source": []
  },
  {
   "cell_type": "code",
   "execution_count": null,
   "metadata": {},
   "outputs": [],
   "source": []
  },
  {
   "cell_type": "raw",
   "metadata": {},
   "source": []
  }
 ],
 "metadata": {
  "kernelspec": {
   "display_name": "Python 3",
   "language": "python",
   "name": "python3"
  },
  "language_info": {
   "codemirror_mode": {
    "name": "ipython",
    "version": 3
   },
   "file_extension": ".py",
   "mimetype": "text/x-python",
   "name": "python",
   "nbconvert_exporter": "python",
   "pygments_lexer": "ipython3",
   "version": "3.8.2"
  }
 },
 "nbformat": 4,
 "nbformat_minor": 4
}
