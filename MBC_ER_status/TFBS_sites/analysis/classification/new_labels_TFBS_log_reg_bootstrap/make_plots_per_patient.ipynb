{
 "cells": [
  {
   "cell_type": "code",
   "execution_count": 1,
   "metadata": {},
   "outputs": [],
   "source": [
    "import pandas as pd\n",
    "import numpy as np\n",
    "import scipy\n",
    "import scipy.stats as stats\n",
    "from sklearn.metrics import roc_curve,auc\n",
    "\n",
    "from lifelines import KaplanMeierFitter\n",
    "from lifelines import CoxPHFitter\n",
    "\n",
    "\n",
    "from matplotlib import pyplot as plt\n",
    "%matplotlib inline"
   ]
  },
  {
   "cell_type": "code",
   "execution_count": 2,
   "metadata": {},
   "outputs": [
    {
     "name": "stdout",
     "output_type": "stream",
     "text": [
      "254\n",
      "254\n",
      "1000\n"
     ]
    }
   ],
   "source": [
    "#import data\n",
    "feature_type = 'TFBS'\n",
    "in_dir = feature_type+'_results/'\n",
    "metadata_file = '../../../../../metadata/MBC/merged_key_metadata.txt'\n",
    "\n",
    "probabilities = pd.read_csv(feature_type+'_results/probabilities.txt', sep='\\t')\n",
    "probabilities = probabilities.set_index('sample')\n",
    "\n",
    "#merge in additional metadata as needed\n",
    "print(len(probabilities))\n",
    "metadata_columns = ['patient_id','first_passing_sample','tumor_fraction', \n",
    "                    'merged_updated_ER_status_binary','merged_updated_ER_status',\n",
    "                    'merged_TimeFromMet_ToDeathOrLastFU_Days','merged_DeathCensor',\n",
    "                    'merged_MetsProgesteroneStatus','merged_ER_switch',\n",
    "                    'merged_PrimaryEstrogenStatus','merged_MetsEstrogenStatus']\n",
    "\n",
    "metadata = pd.read_csv(metadata_file,sep='\\t')[['sample']+metadata_columns].set_index('sample')\n",
    "\n",
    "probabilities = probabilities.merge(metadata, left_index=True, right_index=True)\n",
    "print(len(probabilities))\n",
    "\n",
    "n_iter = probabilities.drop(columns=['status']+metadata_columns).columns.values.astype('int').max()+1\n",
    "print(n_iter)\n",
    "probabilities[[m for m in range(n_iter)]] = probabilities[[str(m) for m in range(n_iter)]]\n",
    "probabilities = probabilities.drop(columns = [str(m) for m in range(n_iter)])"
   ]
  },
  {
   "cell_type": "code",
   "execution_count": 3,
   "metadata": {},
   "outputs": [],
   "source": [
    "#export per sample probabilities\n",
    "probabilities['median_probability'] = probabilities[np.arange(n_iter)].median(axis=1)\n",
    "probabilities['median_prediction'] = np.round(probabilities['median_probability']).astype(int)\n",
    "\n",
    "probabilities[['tumor_fraction','status','median_probability','median_prediction']].to_csv(feature_type+'_results/per_sample_means.txt', sep='\\t')\n"
   ]
  },
  {
   "cell_type": "code",
   "execution_count": 4,
   "metadata": {},
   "outputs": [
    {
     "name": "stdout",
     "output_type": "stream",
     "text": [
      "139\n",
      "unique patients 139\n",
      "first TFx >0.1 101\n"
     ]
    }
   ],
   "source": [
    "#get unique samples only\n",
    "probabilities = probabilities[probabilities['first_passing_sample']==1]\n",
    "print(len(probabilities))\n",
    "#print number of unique patients\n",
    "print('unique patients', len(probabilities['patient_id'].unique()))\n",
    "print('first TFx >0.1',len(probabilities[probabilities['tumor_fraction']>=0.1]['patient_id'].unique()))"
   ]
  },
  {
   "cell_type": "code",
   "execution_count": 5,
   "metadata": {},
   "outputs": [
    {
     "name": "stdout",
     "output_type": "stream",
     "text": [
      "all samples\n",
      "1    74\n",
      "0    65\n",
      "Name: status, dtype: int64\n",
      "high tfx\n",
      "0    51\n",
      "1    50\n",
      "Name: status, dtype: int64\n",
      "low tfx\n",
      "1    24\n",
      "0    14\n",
      "Name: status, dtype: int64\n"
     ]
    }
   ],
   "source": [
    "print('all samples')\n",
    "print(probabilities['status'].value_counts())\n",
    "\n",
    "print('high tfx')\n",
    "print(probabilities[probabilities['tumor_fraction']>=0.1]['status'].value_counts())\n",
    "\n",
    "print('low tfx')\n",
    "print(probabilities[probabilities['tumor_fraction']<0.1]['status'].value_counts())"
   ]
  },
  {
   "cell_type": "code",
   "execution_count": 6,
   "metadata": {},
   "outputs": [],
   "source": [
    "#get AUC and accuracy for each bootstrap\n",
    "AUCs = pd.DataFrame(columns = ['group','AUC'])\n",
    "accuracies = pd.DataFrame(columns = ['group','accuracy'])\n",
    "accuracy_df = pd.DataFrame(probabilities['status'])\n",
    "\n",
    "for i in range(n_iter):\n",
    "    current = probabilities[~(probabilities[i].isnull())][['status','tumor_fraction',i]].copy()\n",
    "    \n",
    "    current['accuracy'] = np.where(np.round(current[i])==current['status'],1,0)\n",
    "    accuracy_df[i] = current['accuracy']\n",
    "    low_tfx = current[(current['tumor_fraction']<0.1)]\n",
    "    high_tfx = current[(current['tumor_fraction']>=0.1)]\n",
    "    \n",
    "    for group,df in zip(['overall','high_tfx','low_tfx'],[current,high_tfx,low_tfx]):\n",
    "        fpr,tpr,_ = roc_curve(df['status'],df[i])\n",
    "        \n",
    "        AUC = auc(fpr,tpr)\n",
    "        AUCs = AUCs.append({'group':group, 'AUC':AUC}, ignore_index = True)\n",
    "        \n",
    "        accuracy = sum(np.round(df[i])==df['status'])/len(df)\n",
    "        accuracies = accuracies.append({'group':group, 'accuracy':accuracy}, ignore_index = True)\n",
    "    "
   ]
  },
  {
   "cell_type": "code",
   "execution_count": 7,
   "metadata": {},
   "outputs": [],
   "source": [
    "#calculate confidence intervals\n",
    "AUC_CI_df = AUCs.groupby('group').mean()\n",
    "AUC_CI_df = AUC_CI_df.rename(columns = {'AUC':'mean'})\n",
    "\n",
    "#get CI for each bootstrap\n",
    "AUC_CI_df['lower'] = AUCs.groupby('group').quantile(.025)\n",
    "AUC_CI_df['upper'] = AUCs.groupby('group').quantile(.975)\n",
    "AUC_CI_df['metric']='AUC'\n",
    "\n",
    "#calculate confidence intervals\n",
    "accuracy_CI_df = accuracies.groupby('group').mean()\n",
    "accuracy_CI_df = accuracy_CI_df.rename(columns = {'accuracy':'mean'})\n",
    "\n",
    "#get CI for each bootstrap\n",
    "accuracy_CI_df['lower'] = accuracies.groupby('group').quantile(.025)\n",
    "accuracy_CI_df['upper'] = accuracies.groupby('group').quantile(.975)\n",
    "accuracy_CI_df['metric']='accuracy'\n",
    "\n",
    "#merge dataframes together\n",
    "CI_df = accuracy_CI_df.append(AUC_CI_df).reset_index()\n",
    "\n",
    "CI_df.to_csv(feature_type+'_results/CI_metrics.txt', sep='\\t', index=False)"
   ]
  },
  {
   "cell_type": "code",
   "execution_count": 8,
   "metadata": {},
   "outputs": [
    {
     "data": {
      "text/html": [
       "<div>\n",
       "<style scoped>\n",
       "    .dataframe tbody tr th:only-of-type {\n",
       "        vertical-align: middle;\n",
       "    }\n",
       "\n",
       "    .dataframe tbody tr th {\n",
       "        vertical-align: top;\n",
       "    }\n",
       "\n",
       "    .dataframe thead th {\n",
       "        text-align: right;\n",
       "    }\n",
       "</style>\n",
       "<table border=\"1\" class=\"dataframe\">\n",
       "  <thead>\n",
       "    <tr style=\"text-align: right;\">\n",
       "      <th></th>\n",
       "      <th>group</th>\n",
       "      <th>mean</th>\n",
       "      <th>lower</th>\n",
       "      <th>upper</th>\n",
       "      <th>metric</th>\n",
       "    </tr>\n",
       "  </thead>\n",
       "  <tbody>\n",
       "    <tr>\n",
       "      <th>0</th>\n",
       "      <td>high_tfx</td>\n",
       "      <td>0.700938</td>\n",
       "      <td>0.571429</td>\n",
       "      <td>0.823529</td>\n",
       "      <td>accuracy</td>\n",
       "    </tr>\n",
       "    <tr>\n",
       "      <th>1</th>\n",
       "      <td>low_tfx</td>\n",
       "      <td>0.607658</td>\n",
       "      <td>0.357143</td>\n",
       "      <td>0.846154</td>\n",
       "      <td>accuracy</td>\n",
       "    </tr>\n",
       "    <tr>\n",
       "      <th>2</th>\n",
       "      <td>overall</td>\n",
       "      <td>0.675532</td>\n",
       "      <td>0.562500</td>\n",
       "      <td>0.782651</td>\n",
       "      <td>accuracy</td>\n",
       "    </tr>\n",
       "    <tr>\n",
       "      <th>3</th>\n",
       "      <td>high_tfx</td>\n",
       "      <td>0.773507</td>\n",
       "      <td>0.641304</td>\n",
       "      <td>0.888433</td>\n",
       "      <td>AUC</td>\n",
       "    </tr>\n",
       "    <tr>\n",
       "      <th>4</th>\n",
       "      <td>low_tfx</td>\n",
       "      <td>0.639366</td>\n",
       "      <td>0.333333</td>\n",
       "      <td>0.933333</td>\n",
       "      <td>AUC</td>\n",
       "    </tr>\n",
       "    <tr>\n",
       "      <th>5</th>\n",
       "      <td>overall</td>\n",
       "      <td>0.741184</td>\n",
       "      <td>0.622330</td>\n",
       "      <td>0.848439</td>\n",
       "      <td>AUC</td>\n",
       "    </tr>\n",
       "  </tbody>\n",
       "</table>\n",
       "</div>"
      ],
      "text/plain": [
       "      group      mean     lower     upper    metric\n",
       "0  high_tfx  0.700938  0.571429  0.823529  accuracy\n",
       "1   low_tfx  0.607658  0.357143  0.846154  accuracy\n",
       "2   overall  0.675532  0.562500  0.782651  accuracy\n",
       "3  high_tfx  0.773507  0.641304  0.888433       AUC\n",
       "4   low_tfx  0.639366  0.333333  0.933333       AUC\n",
       "5   overall  0.741184  0.622330  0.848439       AUC"
      ]
     },
     "execution_count": 8,
     "metadata": {},
     "output_type": "execute_result"
    }
   ],
   "source": [
    "CI_df"
   ]
  },
  {
   "cell_type": "code",
   "execution_count": 9,
   "metadata": {},
   "outputs": [],
   "source": [
    "accuracy_df['fraction_correct'] = accuracy_df[np.arange(n_iter)].mean(axis=1)\n",
    "accuracy_df['median_accuracy'] = np.round(accuracy_df['fraction_correct']).astype(int)\n",
    "accuracy_df['median_probability'] = probabilities[np.arange(n_iter)].median(axis=1)\n",
    "accuracy_df['median_prediction'] = np.round(accuracy_df['median_probability']).astype(int)\n",
    "\n",
    "sample_means = accuracy_df[['status','fraction_correct','median_probability','median_prediction','median_accuracy']].merge(metadata[metadata_columns], left_index=True, right_index=True)\n",
    "sample_means[['status','tumor_fraction','fraction_correct','merged_ER_switch','merged_updated_ER_status_binary','median_probability','median_prediction','median_accuracy']].to_csv(feature_type+'_results/first_sample_means.txt', sep='\\t')"
   ]
  },
  {
   "cell_type": "code",
   "execution_count": 10,
   "metadata": {},
   "outputs": [],
   "source": [
    "data = sample_means\n",
    "CI = CI_df"
   ]
  },
  {
   "cell_type": "code",
   "execution_count": null,
   "metadata": {},
   "outputs": [],
   "source": []
  },
  {
   "cell_type": "code",
   "execution_count": 11,
   "metadata": {},
   "outputs": [],
   "source": [
    "color_dict ={'low_tfx':'tab:olive','high_tfx':'tab:cyan', 'overall':'grey'}"
   ]
  },
  {
   "cell_type": "code",
   "execution_count": 12,
   "metadata": {},
   "outputs": [
    {
     "name": "stdout",
     "output_type": "stream",
     "text": [
      "0.6076577309464963\n",
      "0.7009376255202024\n",
      "0.6755323703989852\n"
     ]
    },
    {
     "data": {
      "image/png": "[encoded data removed]",
      "text/plain": [
       "<Figure size 432x180 with 1 Axes>"
      ]
     },
     "metadata": {
      "needs_background": "light"
     },
     "output_type": "display_data"
    }
   ],
   "source": [
    "#plot the ROC curves \n",
    "fig,ax = plt.subplots(figsize=(6,2.5))\n",
    "\n",
    "tfxs = [[.05,.1,'low_tfx'],[.1,1.0,'high_tfx'],[0.05,1.0,'overall']]\n",
    "\n",
    "\n",
    "for minimum,maximum,name in tfxs:\n",
    "    current = data[(data['tumor_fraction']>=minimum) & (data['tumor_fraction']<maximum)]\n",
    "\n",
    "    accuracy = CI[(CI['group']==name) & (CI['metric']=='accuracy')]['mean'].values[0]\n",
    "    print(accuracy)\n",
    "    \n",
    "    AUC = CI[(CI['group']==name) & (CI['metric']=='AUC')]['mean'].values[0]\n",
    "    \n",
    "    \n",
    "    fpr, tpr, _ = roc_curve(current['status'].values,current['median_probability'])\n",
    "    #the AUC calculated this way isn't correct (slighlty higher)\n",
    "    #auc_val = auc(fpr,tpr)\n",
    "    #print(AUC, auc_val)\n",
    "    \n",
    "    #get the CI from the bootstrap data\n",
    "    lower_acc = CI[(CI['group']==name) & (CI['metric']=='accuracy')]['lower'].values[0]\n",
    "    upper_acc = CI[(CI['group']==name) & (CI['metric']=='accuracy')]['upper'].values[0]\n",
    "    lower_AUC = CI[(CI['group']==name) & (CI['metric']=='AUC')]['lower'].values[0]\n",
    "    upper_AUC = CI[(CI['group']==name) & (CI['metric']=='AUC')]['upper'].values[0]\n",
    "\n",
    "    label = str(minimum)+'-'+str(maximum)+'TFx n='+str(len(current))+\\\n",
    "        '\\naccuracy: '+ format(accuracy,'.2f')+' ('+format(lower_acc, '.2f')+'-'+format(upper_acc, '.2f')+')'+\\\n",
    "        '\\nAUC: '+ format(AUC,'.2f')+' ('+format(lower_AUC, '.2f')+'-'+format(upper_AUC, '.2f')+')'\n",
    "\n",
    "    \n",
    "    \n",
    "    plt.plot(fpr,tpr, label = label, color=color_dict[name])\n",
    "\n",
    "plt.legend(bbox_to_anchor = [1,1], loc = 'upper left')\n",
    "plt.plot([0,1],[0,1], color = 'grey', dashes = (2,2))\n",
    "plt.xlabel('False Positive Rate')\n",
    "plt.ylabel('True Positive Rate')\n",
    "plt.title(feature_type+' ER subtype ROC curve')\n",
    "\n",
    "ax.set_aspect('equal')\n",
    "\n",
    "plt.tight_layout()\n",
    "plt.savefig(in_dir+feature_type+'_ROC_curves_by_tfx.pdf')"
   ]
  },
  {
   "cell_type": "code",
   "execution_count": null,
   "metadata": {},
   "outputs": [],
   "source": []
  },
  {
   "cell_type": "code",
   "execution_count": null,
   "metadata": {},
   "outputs": [],
   "source": []
  },
  {
   "cell_type": "code",
   "execution_count": null,
   "metadata": {},
   "outputs": [],
   "source": []
  },
  {
   "cell_type": "code",
   "execution_count": null,
   "metadata": {},
   "outputs": [],
   "source": []
  },
  {
   "cell_type": "code",
   "execution_count": null,
   "metadata": {},
   "outputs": [],
   "source": []
  }
 ],
 "metadata": {
  "kernelspec": {
   "display_name": "Python 3",
   "language": "python",
   "name": "python3"
  },
  "language_info": {
   "codemirror_mode": {
    "name": "ipython",
    "version": 3
   },
   "file_extension": ".py",
   "mimetype": "text/x-python",
   "name": "python",
   "nbconvert_exporter": "python",
   "pygments_lexer": "ipython3",
   "version": "3.8.2"
  }
 },
 "nbformat": 4,
 "nbformat_minor": 4
}
