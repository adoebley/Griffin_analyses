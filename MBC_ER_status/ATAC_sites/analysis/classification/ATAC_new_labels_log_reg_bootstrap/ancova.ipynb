{
 "cells": [
  {
   "cell_type": "code",
   "execution_count": 1,
   "metadata": {},
   "outputs": [],
   "source": [
    "#pingouin cannot be imported while using a grabnode\n",
    "from pingouin import ancova\n",
    "import pandas as pd\n",
    "import numpy as np\n",
    "from matplotlib import pyplot as plt\n",
    "%matplotlib inline\n",
    "import seaborn as sns"
   ]
  },
  {
   "cell_type": "code",
   "execution_count": 2,
   "metadata": {},
   "outputs": [],
   "source": [
    "feature_type = 'ATAC'\n",
    "data = pd.read_csv(feature_type+'_results/first_sample_means.txt', sep='\\t')\n",
    "data=data[data['tumor_fraction']>=0.1]\n",
    "\n",
    "current = data[(data['merged_ER_switch'].isin(['same','loss'])) & (data['merged_updated_ER_status_binary']=='-')]\n",
    "current = current.sort_values(by='merged_ER_switch', ascending = False)"
   ]
  },
  {
   "cell_type": "code",
   "execution_count": 3,
   "metadata": {},
   "outputs": [
    {
     "name": "stdout",
     "output_type": "stream",
     "text": [
      "101\n",
      "48\n"
     ]
    }
   ],
   "source": [
    "print(len(data))\n",
    "print(len(current))"
   ]
  },
  {
   "cell_type": "code",
   "execution_count": 4,
   "metadata": {},
   "outputs": [
    {
     "data": {
      "image/png": "[encoded data removed]",
      "text/plain": [
       "<Figure size 288x180 with 1 Axes>"
      ]
     },
     "metadata": {
      "needs_background": "light"
     },
     "output_type": "display_data"
    }
   ],
   "source": [
    "fig,ax = plt.subplots(figsize=(4,2.5))\n",
    "sns.boxplot(x=\"merged_ER_switch\", y=\"median_probability\", data=current, showfliers = False, ax=ax, color = '.95')\n",
    "sns.swarmplot(x=\"merged_ER_switch\", y=\"median_probability\", data=current[current['median_probability']>=0.5], color=\"tab:blue\", s = 4, alpha = 0.5, ax=ax)\n",
    "sns.swarmplot(x=\"merged_ER_switch\", y=\"median_probability\", data=current[current['median_probability']<0.5], color=\"tab:orange\", s = 4, alpha = 0.5, ax=ax)\n",
    "ax.axhline(.5,color='.75', dashes = [2,2])\n",
    "\n",
    "\n",
    "ax.set_title('ER+ probability by primary')\n",
    "ax.set_ylim(-.25,1.05)\n",
    "ax.axhline(0,color='black', linewidth = 0.75)\n",
    "ax.set_aspect(1.0/ax.get_data_ratio(), adjustable='box')\n",
    "ax.tick_params(bottom = False)\n",
    "ax.set_yticks(np.arange(0,1.1,.25))\n",
    "\n",
    "fig.tight_layout()\n",
    "fig.savefig(feature_type+'_results/ER_prob_boxplot.pdf')"
   ]
  },
  {
   "cell_type": "code",
   "execution_count": 5,
   "metadata": {},
   "outputs": [
    {
     "data": {
      "text/plain": [
       "same    41\n",
       "loss     7\n",
       "Name: merged_ER_switch, dtype: int64"
      ]
     },
     "execution_count": 5,
     "metadata": {},
     "output_type": "execute_result"
    }
   ],
   "source": [
    "current['merged_ER_switch'].value_counts()"
   ]
  },
  {
   "cell_type": "code",
   "execution_count": 6,
   "metadata": {},
   "outputs": [
    {
     "data": {
      "text/html": [
       "<div>\n",
       "<style scoped>\n",
       "    .dataframe tbody tr th:only-of-type {\n",
       "        vertical-align: middle;\n",
       "    }\n",
       "\n",
       "    .dataframe tbody tr th {\n",
       "        vertical-align: top;\n",
       "    }\n",
       "\n",
       "    .dataframe thead th {\n",
       "        text-align: right;\n",
       "    }\n",
       "</style>\n",
       "<table border=\"1\" class=\"dataframe\">\n",
       "  <thead>\n",
       "    <tr style=\"text-align: right;\">\n",
       "      <th></th>\n",
       "      <th>Source</th>\n",
       "      <th>SS</th>\n",
       "      <th>DF</th>\n",
       "      <th>F</th>\n",
       "      <th>p-unc</th>\n",
       "      <th>np2</th>\n",
       "    </tr>\n",
       "  </thead>\n",
       "  <tbody>\n",
       "    <tr>\n",
       "      <th>0</th>\n",
       "      <td>merged_ER_switch</td>\n",
       "      <td>0.182727</td>\n",
       "      <td>1</td>\n",
       "      <td>6.475675</td>\n",
       "      <td>0.014436</td>\n",
       "      <td>0.125801</td>\n",
       "    </tr>\n",
       "    <tr>\n",
       "      <th>1</th>\n",
       "      <td>tumor_fraction</td>\n",
       "      <td>0.141703</td>\n",
       "      <td>1</td>\n",
       "      <td>5.021802</td>\n",
       "      <td>0.030010</td>\n",
       "      <td>0.100392</td>\n",
       "    </tr>\n",
       "    <tr>\n",
       "      <th>2</th>\n",
       "      <td>Residual</td>\n",
       "      <td>1.269788</td>\n",
       "      <td>45</td>\n",
       "      <td>NaN</td>\n",
       "      <td>NaN</td>\n",
       "      <td>NaN</td>\n",
       "    </tr>\n",
       "  </tbody>\n",
       "</table>\n",
       "</div>"
      ],
      "text/plain": [
       "             Source        SS  DF         F     p-unc       np2\n",
       "0  merged_ER_switch  0.182727   1  6.475675  0.014436  0.125801\n",
       "1    tumor_fraction  0.141703   1  5.021802  0.030010  0.100392\n",
       "2          Residual  1.269788  45       NaN       NaN       NaN"
      ]
     },
     "execution_count": 6,
     "metadata": {},
     "output_type": "execute_result"
    }
   ],
   "source": [
    "ancova_results = ancova(data=current, dv='median_probability', covar='tumor_fraction', between='merged_ER_switch')\n",
    "ancova_results.to_csv(feature_type+'_results/ancova_results.txt', sep='\\t')\n",
    "ancova_results"
   ]
  },
  {
   "cell_type": "code",
   "execution_count": 7,
   "metadata": {},
   "outputs": [
    {
     "data": {
      "text/plain": [
       "48"
      ]
     },
     "execution_count": 7,
     "metadata": {},
     "output_type": "execute_result"
    }
   ],
   "source": [
    "len(current)"
   ]
  },
  {
   "cell_type": "code",
   "execution_count": null,
   "metadata": {},
   "outputs": [],
   "source": []
  }
 ],
 "metadata": {
  "kernelspec": {
   "display_name": "Python 3",
   "language": "python",
   "name": "python3"
  },
  "language_info": {
   "codemirror_mode": {
    "name": "ipython",
    "version": 3
   },
   "file_extension": ".py",
   "mimetype": "text/x-python",
   "name": "python",
   "nbconvert_exporter": "python",
   "pygments_lexer": "ipython3",
   "version": "3.8.2"
  }
 },
 "nbformat": 4,
 "nbformat_minor": 4
}
