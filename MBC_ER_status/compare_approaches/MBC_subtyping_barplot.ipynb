{
 "cells": [
  {
   "cell_type": "code",
   "execution_count": 1,
   "metadata": {},
   "outputs": [],
   "source": [
    "import pandas as pd\n",
    "import numpy as np\n",
    "from sklearn.metrics import roc_curve,auc\n",
    "from matplotlib import pyplot as plt\n",
    "%matplotlib inline"
   ]
  },
  {
   "cell_type": "code",
   "execution_count": 2,
   "metadata": {},
   "outputs": [],
   "source": [
    "input_dict = {'TFBS': '../GTRD_sites/analysis/classification/new_labels_TFBS_log_reg_bootstrap/TFBS_results/',\n",
    "             'ATAC_short': '../ATAC_sites_sub_150bp_fragments/analysis/classification/new_labels_ATAC_short_log_reg_bootstrap/ATAC_short_results/',\n",
    "             'TFBS_Ulz':'../Ulz_pipeline/merge/Ulz_new_labels_log_reg_bootstrap/Ulz_results/',\n",
    "             'ATAC': '../ATAC_sites/analysis/classification/ATAC_new_labels_log_reg_bootstrap/ATAC_results/'}\n"
   ]
  },
  {
   "cell_type": "code",
   "execution_count": 3,
   "metadata": {},
   "outputs": [],
   "source": [
    "groups = ['low_tfx','high_tfx','overall']"
   ]
  },
  {
   "cell_type": "code",
   "execution_count": 4,
   "metadata": {},
   "outputs": [
    {
     "name": "stdout",
     "output_type": "stream",
     "text": [
      "ATAC\n",
      "          mean  lower  upper metric\n",
      "group                              \n",
      "low_tfx   0.68   0.34   0.96    AUC\n",
      "high_tfx  0.93   0.85   0.99    AUC\n",
      "overall   0.89   0.81   0.96    AUC\n",
      "\n",
      "\n",
      "ATAC_short\n",
      "          mean  lower  upper metric\n",
      "group                              \n",
      "low_tfx   0.44   0.13   0.74    AUC\n",
      "high_tfx  0.80   0.66   0.92    AUC\n",
      "overall   0.71   0.58   0.82    AUC\n",
      "\n",
      "\n",
      "TFBS\n",
      "          mean  lower  upper metric\n",
      "group                              \n",
      "low_tfx   0.64   0.33   0.93    AUC\n",
      "high_tfx  0.77   0.64   0.89    AUC\n",
      "overall   0.74   0.62   0.85    AUC\n",
      "\n",
      "\n",
      "TFBS_Ulz\n",
      "          mean  lower  upper metric\n",
      "group                              \n",
      "low_tfx   0.62   0.31   0.93    AUC\n",
      "high_tfx  0.58   0.41   0.74    AUC\n",
      "overall   0.58   0.44   0.72    AUC\n",
      "\n",
      "\n"
     ]
    },
    {
     "data": {
      "image/png": "[encoded data removed]",
      "text/plain": [
       "<Figure size 288x216 with 1 Axes>"
      ]
     },
     "metadata": {
      "needs_background": "light"
     },
     "output_type": "display_data"
    }
   ],
   "source": [
    "# set width of bar\n",
    "barWidth = 0.15\n",
    "fig = plt.subplots(figsize = (4,3))\n",
    "br = np.arange(3)\n",
    "\n",
    "metric = 'AUC'\n",
    "\n",
    "for i,approach in enumerate(['ATAC', 'ATAC_short', 'TFBS', 'TFBS_Ulz']):    \n",
    "    CI_data = pd.read_csv(input_dict[approach]+'CI_metrics.txt', sep='\\t')\n",
    "    CI_data = CI_data.set_index('group')\n",
    "    CI_data = CI_data[CI_data['metric'] == metric]\n",
    "    CI_data = np.round(CI_data,2)\n",
    "    CI_data = CI_data.loc[groups]\n",
    "    \n",
    "    lower = CI_data['mean']-CI_data['lower']\n",
    "    upper = CI_data['upper']-CI_data['mean']\n",
    "    CI_intervals = np.array([lower.values,upper.values])\n",
    "\n",
    "    print(approach)\n",
    "    print(CI_data)\n",
    "    print('\\n')\n",
    "    \n",
    "    br1 = [x + i*barWidth for x in br]\n",
    "    rects = plt.errorbar(br1, CI_data['mean'], yerr=CI_intervals, label = approach, fmt='o')\n",
    "\n",
    "plt.ylabel(metric)\n",
    "plt.xticks([m + barWidth*2 for m in br],\n",
    "        groups)\n",
    "\n",
    "plt.tick_params(axis = 'x', rotation=90, bottom=False)\n",
    "plt.ylim(-0.05,1.05)\n",
    "plt.legend(loc='lower left',bbox_to_anchor = [0,1], ncol = 2)\n",
    "plt.tight_layout()\n",
    "plt.savefig('MBC_subtyping_'+metric+'_barplot.pdf')"
   ]
  },
  {
   "cell_type": "code",
   "execution_count": 5,
   "metadata": {},
   "outputs": [
    {
     "name": "stdout",
     "output_type": "stream",
     "text": [
      "ATAC\n",
      "          mean  lower  upper    metric\n",
      "group                                 \n",
      "low_tfx   0.64   0.38   0.89  accuracy\n",
      "high_tfx  0.88   0.78   0.97  accuracy\n",
      "overall   0.81   0.71   0.90  accuracy\n",
      "\n",
      "\n",
      "ATAC_short\n",
      "          mean  lower  upper    metric\n",
      "group                                 \n",
      "low_tfx   0.46   0.23   0.70  accuracy\n",
      "high_tfx  0.73   0.60   0.85  accuracy\n",
      "overall   0.66   0.53   0.77  accuracy\n",
      "\n",
      "\n",
      "TFBS\n",
      "          mean  lower  upper    metric\n",
      "group                                 \n",
      "low_tfx   0.61   0.36   0.85  accuracy\n",
      "high_tfx  0.70   0.57   0.82  accuracy\n",
      "overall   0.68   0.56   0.78  accuracy\n",
      "\n",
      "\n",
      "TFBS_Ulz\n",
      "          mean  lower  upper    metric\n",
      "group                                 \n",
      "low_tfx   0.56   0.31   0.82  accuracy\n",
      "high_tfx  0.54   0.40   0.68  accuracy\n",
      "overall   0.55   0.42   0.67  accuracy\n",
      "\n",
      "\n"
     ]
    },
    {
     "data": {
      "image/png": "[encoded data removed]",
      "text/plain": [
       "<Figure size 288x216 with 1 Axes>"
      ]
     },
     "metadata": {
      "needs_background": "light"
     },
     "output_type": "display_data"
    }
   ],
   "source": [
    "# set width of bar\n",
    "barWidth = 0.15\n",
    "fig = plt.subplots(figsize = (4,3))\n",
    "br = np.arange(3)\n",
    "\n",
    "metric = 'accuracy'\n",
    "\n",
    "for i,approach in enumerate(['ATAC', 'ATAC_short', 'TFBS', 'TFBS_Ulz']):    \n",
    "    CI_data = pd.read_csv(input_dict[approach]+'CI_metrics.txt', sep='\\t')\n",
    "    CI_data = CI_data.set_index('group')\n",
    "    CI_data = CI_data[CI_data['metric'] == metric]\n",
    "    CI_data = np.round(CI_data,2)\n",
    "    CI_data = CI_data.loc[groups]\n",
    "    \n",
    "    lower = CI_data['mean']-CI_data['lower']\n",
    "    upper = CI_data['upper']-CI_data['mean']\n",
    "    CI_intervals = np.array([lower.values,upper.values])\n",
    "\n",
    "    print(approach)\n",
    "    print(CI_data)\n",
    "    print('\\n')\n",
    "    \n",
    "    br1 = [x + i*barWidth for x in br]\n",
    "    rects = plt.errorbar(br1, CI_data['mean'], yerr=CI_intervals, label = approach, fmt='o')\n",
    "\n",
    "plt.ylabel(metric)\n",
    "plt.xticks([m + barWidth*2 for m in br],\n",
    "        groups)\n",
    "\n",
    "plt.tick_params(axis = 'x', rotation=90, bottom=False)\n",
    "plt.ylim(-0.05,1.05)\n",
    "plt.legend(loc='lower left',bbox_to_anchor = [0,1], ncol = 2)\n",
    "plt.tight_layout()\n",
    "plt.savefig('MBC_subtyping_'+metric+'_barplot.pdf')"
   ]
  },
  {
   "cell_type": "code",
   "execution_count": null,
   "metadata": {},
   "outputs": [],
   "source": []
  },
  {
   "cell_type": "code",
   "execution_count": null,
   "metadata": {},
   "outputs": [],
   "source": []
  },
  {
   "cell_type": "code",
   "execution_count": null,
   "metadata": {},
   "outputs": [],
   "source": []
  },
  {
   "cell_type": "code",
   "execution_count": null,
   "metadata": {},
   "outputs": [],
   "source": []
  }
 ],
 "metadata": {
  "kernelspec": {
   "display_name": "Python 3",
   "language": "python",
   "name": "python3"
  },
  "language_info": {
   "codemirror_mode": {
    "name": "ipython",
    "version": 3
   },
   "file_extension": ".py",
   "mimetype": "text/x-python",
   "name": "python",
   "nbconvert_exporter": "python",
   "pygments_lexer": "ipython3",
   "version": "3.8.2"
  }
 },
 "nbformat": 4,
 "nbformat_minor": 4
}
