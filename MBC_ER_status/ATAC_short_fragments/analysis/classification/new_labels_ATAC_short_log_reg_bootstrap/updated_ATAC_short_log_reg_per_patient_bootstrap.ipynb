{
 "cells": [
  {
   "cell_type": "code",
   "execution_count": 1,
   "metadata": {},
   "outputs": [],
   "source": [
    "import numpy as np\n",
    "import pandas as pd\n",
    "import time\n",
    "from matplotlib import pyplot as plt\n",
    "%matplotlib inline\n",
    "\n",
    "# from sklearn.model_selection import StratifiedKFold\n",
    "from sklearn.model_selection import StratifiedKFold\n",
    "# from sklearn.model_selection import LeaveOneOut\n",
    "from sklearn.linear_model import LogisticRegression\n",
    "from sklearn.model_selection import GridSearchCV\n",
    "from sklearn.preprocessing import StandardScaler\n",
    "from sklearn.metrics import roc_curve,auc"
   ]
  },
  {
   "cell_type": "code",
   "execution_count": 2,
   "metadata": {},
   "outputs": [],
   "source": [
    "#parameters\n",
    "in_file = '../../merge/reformatted_data_with_features.txt'\n",
    "out_dir = 'ATAC_short_results'\n",
    "metadata_file = '../../../../../metadata/MBC/merged_key_metadata.txt'\n",
    "status_col = 'merged_updated_ER_status_binary'\n",
    "n_iter = 1000"
   ]
  },
  {
   "cell_type": "code",
   "execution_count": 3,
   "metadata": {},
   "outputs": [
    {
     "name": "stdout",
     "output_type": "stream",
     "text": [
      "features 12\n",
      "total 254\n",
      "+    132\n",
      "-    122\n",
      "Name: merged_updated_ER_status_binary, dtype: int64\n",
      "high tfx 191\n",
      "+    99\n",
      "-    92\n",
      "Name: merged_updated_ER_status_binary, dtype: int64\n"
     ]
    }
   ],
   "source": [
    "#import data\n",
    "data = pd.read_csv(in_file, sep='\\t')\n",
    "data = data.set_index('sample')\n",
    "\n",
    "#get features and exclude all other columns\n",
    "features = data.columns[(data.columns.str.startswith('central_cov')) | (data.columns.str.startswith('mean_cov')) | (data.columns.str.startswith('fft_10_magnitude'))]\n",
    "data = data[features]\n",
    "print('features',len(features))\n",
    "\n",
    "#get metadata\n",
    "metadata = pd.read_csv(metadata_file, sep='\\t')\n",
    "metadata = metadata.set_index('sample')\n",
    "data = data.merge(metadata, left_index=True, right_index=True)\n",
    "data['status'] = np.where(data[status_col]=='+',1,0)\n",
    "\n",
    "#filter data\n",
    "min_tfx = 0.05\n",
    "min_cov = 0.1\n",
    "\n",
    "#training data\n",
    "data = data[(data['tumor_fraction']>=min_tfx) & (data['ulp_wgs_coverage']>=min_cov)]\n",
    "print('total',len(data))\n",
    "print(data[status_col].value_counts())\n",
    "\n",
    "high_tfx = data[(data['tumor_fraction']>=0.1) & (data['ulp_wgs_coverage']>=min_cov)]\n",
    "print('high tfx',len(high_tfx))\n",
    "print(high_tfx[status_col].value_counts())\n",
    "del(high_tfx)\n",
    "\n",
    "data = data.sort_index()"
   ]
  },
  {
   "cell_type": "code",
   "execution_count": 4,
   "metadata": {},
   "outputs": [
    {
     "data": {
      "text/plain": [
       "Index(['central_cov_ER_neg_0_5_FC', 'central_cov_ER_neg_heme_0_5_FC',\n",
       "       'central_cov_ER_pos_0_5_FC', 'central_cov_ER_pos_heme_0_5_FC',\n",
       "       'fft_10_magnitude_ER_neg_0_5_FC', 'fft_10_magnitude_ER_neg_heme_0_5_FC',\n",
       "       'fft_10_magnitude_ER_pos_0_5_FC', 'fft_10_magnitude_ER_pos_heme_0_5_FC',\n",
       "       'mean_cov_ER_neg_0_5_FC', 'mean_cov_ER_neg_heme_0_5_FC',\n",
       "       'mean_cov_ER_pos_0_5_FC', 'mean_cov_ER_pos_heme_0_5_FC'],\n",
       "      dtype='object')"
      ]
     },
     "execution_count": 4,
     "metadata": {},
     "output_type": "execute_result"
    }
   ],
   "source": [
    "features"
   ]
  },
  {
   "cell_type": "code",
   "execution_count": 5,
   "metadata": {},
   "outputs": [
    {
     "data": {
      "text/html": [
       "<div>\n",
       "<style scoped>\n",
       "    .dataframe tbody tr th:only-of-type {\n",
       "        vertical-align: middle;\n",
       "    }\n",
       "\n",
       "    .dataframe tbody tr th {\n",
       "        vertical-align: top;\n",
       "    }\n",
       "\n",
       "    .dataframe thead th {\n",
       "        text-align: right;\n",
       "    }\n",
       "</style>\n",
       "<table border=\"1\" class=\"dataframe\">\n",
       "  <thead>\n",
       "    <tr style=\"text-align: right;\">\n",
       "      <th></th>\n",
       "      <th>central_cov_ER_neg_0_5_FC</th>\n",
       "      <th>central_cov_ER_neg_heme_0_5_FC</th>\n",
       "      <th>central_cov_ER_pos_0_5_FC</th>\n",
       "      <th>central_cov_ER_pos_heme_0_5_FC</th>\n",
       "      <th>fft_10_magnitude_ER_neg_0_5_FC</th>\n",
       "      <th>fft_10_magnitude_ER_neg_heme_0_5_FC</th>\n",
       "      <th>fft_10_magnitude_ER_pos_0_5_FC</th>\n",
       "      <th>fft_10_magnitude_ER_pos_heme_0_5_FC</th>\n",
       "      <th>mean_cov_ER_neg_0_5_FC</th>\n",
       "      <th>mean_cov_ER_neg_heme_0_5_FC</th>\n",
       "      <th>...</th>\n",
       "      <th>merged_ER_switch</th>\n",
       "      <th>merged_updated_ER_status</th>\n",
       "      <th>merged_updated_ER_status_binary</th>\n",
       "      <th>merged_PrimaryProgesteroneStatus</th>\n",
       "      <th>merged_MetsProgesteroneStatus</th>\n",
       "      <th>merged_PR_switch</th>\n",
       "      <th>merged_TimeFromMet_ToDeathOrLastFU_Days</th>\n",
       "      <th>merged_DeathCensor</th>\n",
       "      <th>first_passing_sample</th>\n",
       "      <th>status</th>\n",
       "    </tr>\n",
       "    <tr>\n",
       "      <th>sample</th>\n",
       "      <th></th>\n",
       "      <th></th>\n",
       "      <th></th>\n",
       "      <th></th>\n",
       "      <th></th>\n",
       "      <th></th>\n",
       "      <th></th>\n",
       "      <th></th>\n",
       "      <th></th>\n",
       "      <th></th>\n",
       "      <th></th>\n",
       "      <th></th>\n",
       "      <th></th>\n",
       "      <th></th>\n",
       "      <th></th>\n",
       "      <th></th>\n",
       "      <th></th>\n",
       "      <th></th>\n",
       "      <th></th>\n",
       "      <th></th>\n",
       "      <th></th>\n",
       "    </tr>\n",
       "  </thead>\n",
       "  <tbody>\n",
       "    <tr>\n",
       "      <th>MBC_1041_1_ULP</th>\n",
       "      <td>0.965477</td>\n",
       "      <td>0.940257</td>\n",
       "      <td>0.892628</td>\n",
       "      <td>0.835157</td>\n",
       "      <td>0.595958</td>\n",
       "      <td>2.229215</td>\n",
       "      <td>0.774053</td>\n",
       "      <td>1.241152</td>\n",
       "      <td>0.983638</td>\n",
       "      <td>0.990200</td>\n",
       "      <td>...</td>\n",
       "      <td>same</td>\n",
       "      <td>+</td>\n",
       "      <td>+</td>\n",
       "      <td>-</td>\n",
       "      <td>+</td>\n",
       "      <td>gain</td>\n",
       "      <td>6746.0</td>\n",
       "      <td>1.0</td>\n",
       "      <td>1.0</td>\n",
       "      <td>1</td>\n",
       "    </tr>\n",
       "    <tr>\n",
       "      <th>MBC_1041_3_ULP</th>\n",
       "      <td>0.932625</td>\n",
       "      <td>1.097697</td>\n",
       "      <td>0.918312</td>\n",
       "      <td>0.958195</td>\n",
       "      <td>0.433888</td>\n",
       "      <td>2.333185</td>\n",
       "      <td>1.336454</td>\n",
       "      <td>1.241714</td>\n",
       "      <td>0.990873</td>\n",
       "      <td>0.984667</td>\n",
       "      <td>...</td>\n",
       "      <td>same</td>\n",
       "      <td>+</td>\n",
       "      <td>+</td>\n",
       "      <td>-</td>\n",
       "      <td>+</td>\n",
       "      <td>gain</td>\n",
       "      <td>6746.0</td>\n",
       "      <td>1.0</td>\n",
       "      <td>NaN</td>\n",
       "      <td>1</td>\n",
       "    </tr>\n",
       "    <tr>\n",
       "      <th>MBC_1041_4_ULP</th>\n",
       "      <td>0.961175</td>\n",
       "      <td>0.980140</td>\n",
       "      <td>0.948762</td>\n",
       "      <td>0.922330</td>\n",
       "      <td>0.159651</td>\n",
       "      <td>1.274082</td>\n",
       "      <td>0.676746</td>\n",
       "      <td>2.120007</td>\n",
       "      <td>0.989275</td>\n",
       "      <td>0.983294</td>\n",
       "      <td>...</td>\n",
       "      <td>same</td>\n",
       "      <td>+</td>\n",
       "      <td>+</td>\n",
       "      <td>-</td>\n",
       "      <td>+</td>\n",
       "      <td>gain</td>\n",
       "      <td>6746.0</td>\n",
       "      <td>1.0</td>\n",
       "      <td>NaN</td>\n",
       "      <td>1</td>\n",
       "    </tr>\n",
       "    <tr>\n",
       "      <th>MBC_1042_1_ULP</th>\n",
       "      <td>0.941998</td>\n",
       "      <td>0.940880</td>\n",
       "      <td>0.989420</td>\n",
       "      <td>0.918950</td>\n",
       "      <td>0.874080</td>\n",
       "      <td>2.086663</td>\n",
       "      <td>1.979152</td>\n",
       "      <td>2.829281</td>\n",
       "      <td>0.979832</td>\n",
       "      <td>1.013303</td>\n",
       "      <td>...</td>\n",
       "      <td>same</td>\n",
       "      <td>+</td>\n",
       "      <td>+</td>\n",
       "      <td>+</td>\n",
       "      <td>-</td>\n",
       "      <td>loss</td>\n",
       "      <td>2116.0</td>\n",
       "      <td>1.0</td>\n",
       "      <td>NaN</td>\n",
       "      <td>1</td>\n",
       "    </tr>\n",
       "    <tr>\n",
       "      <th>MBC_1042_2_ULP</th>\n",
       "      <td>0.987565</td>\n",
       "      <td>0.938635</td>\n",
       "      <td>0.888875</td>\n",
       "      <td>0.941710</td>\n",
       "      <td>1.198680</td>\n",
       "      <td>1.003786</td>\n",
       "      <td>1.197261</td>\n",
       "      <td>1.107512</td>\n",
       "      <td>0.994663</td>\n",
       "      <td>0.966407</td>\n",
       "      <td>...</td>\n",
       "      <td>same</td>\n",
       "      <td>+</td>\n",
       "      <td>+</td>\n",
       "      <td>+</td>\n",
       "      <td>-</td>\n",
       "      <td>loss</td>\n",
       "      <td>2116.0</td>\n",
       "      <td>1.0</td>\n",
       "      <td>1.0</td>\n",
       "      <td>1</td>\n",
       "    </tr>\n",
       "  </tbody>\n",
       "</table>\n",
       "<p>5 rows × 30 columns</p>\n",
       "</div>"
      ],
      "text/plain": [
       "                central_cov_ER_neg_0_5_FC  central_cov_ER_neg_heme_0_5_FC  \\\n",
       "sample                                                                      \n",
       "MBC_1041_1_ULP                   0.965477                        0.940257   \n",
       "MBC_1041_3_ULP                   0.932625                        1.097697   \n",
       "MBC_1041_4_ULP                   0.961175                        0.980140   \n",
       "MBC_1042_1_ULP                   0.941998                        0.940880   \n",
       "MBC_1042_2_ULP                   0.987565                        0.938635   \n",
       "\n",
       "                central_cov_ER_pos_0_5_FC  central_cov_ER_pos_heme_0_5_FC  \\\n",
       "sample                                                                      \n",
       "MBC_1041_1_ULP                   0.892628                        0.835157   \n",
       "MBC_1041_3_ULP                   0.918312                        0.958195   \n",
       "MBC_1041_4_ULP                   0.948762                        0.922330   \n",
       "MBC_1042_1_ULP                   0.989420                        0.918950   \n",
       "MBC_1042_2_ULP                   0.888875                        0.941710   \n",
       "\n",
       "                fft_10_magnitude_ER_neg_0_5_FC  \\\n",
       "sample                                           \n",
       "MBC_1041_1_ULP                        0.595958   \n",
       "MBC_1041_3_ULP                        0.433888   \n",
       "MBC_1041_4_ULP                        0.159651   \n",
       "MBC_1042_1_ULP                        0.874080   \n",
       "MBC_1042_2_ULP                        1.198680   \n",
       "\n",
       "                fft_10_magnitude_ER_neg_heme_0_5_FC  \\\n",
       "sample                                                \n",
       "MBC_1041_1_ULP                             2.229215   \n",
       "MBC_1041_3_ULP                             2.333185   \n",
       "MBC_1041_4_ULP                             1.274082   \n",
       "MBC_1042_1_ULP                             2.086663   \n",
       "MBC_1042_2_ULP                             1.003786   \n",
       "\n",
       "                fft_10_magnitude_ER_pos_0_5_FC  \\\n",
       "sample                                           \n",
       "MBC_1041_1_ULP                        0.774053   \n",
       "MBC_1041_3_ULP                        1.336454   \n",
       "MBC_1041_4_ULP                        0.676746   \n",
       "MBC_1042_1_ULP                        1.979152   \n",
       "MBC_1042_2_ULP                        1.197261   \n",
       "\n",
       "                fft_10_magnitude_ER_pos_heme_0_5_FC  mean_cov_ER_neg_0_5_FC  \\\n",
       "sample                                                                        \n",
       "MBC_1041_1_ULP                             1.241152                0.983638   \n",
       "MBC_1041_3_ULP                             1.241714                0.990873   \n",
       "MBC_1041_4_ULP                             2.120007                0.989275   \n",
       "MBC_1042_1_ULP                             2.829281                0.979832   \n",
       "MBC_1042_2_ULP                             1.107512                0.994663   \n",
       "\n",
       "                mean_cov_ER_neg_heme_0_5_FC  ...  merged_ER_switch  \\\n",
       "sample                                       ...                     \n",
       "MBC_1041_1_ULP                     0.990200  ...              same   \n",
       "MBC_1041_3_ULP                     0.984667  ...              same   \n",
       "MBC_1041_4_ULP                     0.983294  ...              same   \n",
       "MBC_1042_1_ULP                     1.013303  ...              same   \n",
       "MBC_1042_2_ULP                     0.966407  ...              same   \n",
       "\n",
       "                merged_updated_ER_status merged_updated_ER_status_binary  \\\n",
       "sample                                                                     \n",
       "MBC_1041_1_ULP                         +                               +   \n",
       "MBC_1041_3_ULP                         +                               +   \n",
       "MBC_1041_4_ULP                         +                               +   \n",
       "MBC_1042_1_ULP                         +                               +   \n",
       "MBC_1042_2_ULP                         +                               +   \n",
       "\n",
       "               merged_PrimaryProgesteroneStatus merged_MetsProgesteroneStatus  \\\n",
       "sample                                                                          \n",
       "MBC_1041_1_ULP                                -                             +   \n",
       "MBC_1041_3_ULP                                -                             +   \n",
       "MBC_1041_4_ULP                                -                             +   \n",
       "MBC_1042_1_ULP                                +                             -   \n",
       "MBC_1042_2_ULP                                +                             -   \n",
       "\n",
       "               merged_PR_switch  merged_TimeFromMet_ToDeathOrLastFU_Days  \\\n",
       "sample                                                                     \n",
       "MBC_1041_1_ULP             gain                                   6746.0   \n",
       "MBC_1041_3_ULP             gain                                   6746.0   \n",
       "MBC_1041_4_ULP             gain                                   6746.0   \n",
       "MBC_1042_1_ULP             loss                                   2116.0   \n",
       "MBC_1042_2_ULP             loss                                   2116.0   \n",
       "\n",
       "                merged_DeathCensor first_passing_sample status  \n",
       "sample                                                          \n",
       "MBC_1041_1_ULP                 1.0                  1.0      1  \n",
       "MBC_1041_3_ULP                 1.0                  NaN      1  \n",
       "MBC_1041_4_ULP                 1.0                  NaN      1  \n",
       "MBC_1042_1_ULP                 1.0                  NaN      1  \n",
       "MBC_1042_2_ULP                 1.0                  1.0      1  \n",
       "\n",
       "[5 rows x 30 columns]"
      ]
     },
     "execution_count": 5,
     "metadata": {},
     "output_type": "execute_result"
    }
   ],
   "source": [
    "#view data\n",
    "data.head()"
   ]
  },
  {
   "cell_type": "code",
   "execution_count": 6,
   "metadata": {},
   "outputs": [
    {
     "data": {
      "text/plain": [
       "central_cov_ER_neg_0_5_FC             -1.188900e-15\n",
       "central_cov_ER_neg_heme_0_5_FC        -7.273272e-16\n",
       "central_cov_ER_pos_0_5_FC             -2.237930e-16\n",
       "central_cov_ER_pos_heme_0_5_FC         1.307790e-15\n",
       "fft_10_magnitude_ER_neg_0_5_FC        -1.398706e-16\n",
       "fft_10_magnitude_ER_neg_heme_0_5_FC    6.294178e-17\n",
       "fft_10_magnitude_ER_pos_0_5_FC        -7.692884e-17\n",
       "fft_10_magnitude_ER_pos_heme_0_5_FC    1.818318e-16\n",
       "mean_cov_ER_neg_0_5_FC                 3.916377e-16\n",
       "mean_cov_ER_neg_heme_0_5_FC            1.377726e-15\n",
       "mean_cov_ER_pos_0_5_FC                -6.112346e-15\n",
       "mean_cov_ER_pos_heme_0_5_FC           -5.524889e-16\n",
       "dtype: float64"
      ]
     },
     "execution_count": 6,
     "metadata": {},
     "output_type": "execute_result"
    }
   ],
   "source": [
    "#scale data\n",
    "scaler = StandardScaler()\n",
    "scaler.fit(data[features])\n",
    "data[features] = scaler.transform(data[features])\n",
    "data[features].mean()"
   ]
  },
  {
   "cell_type": "code",
   "execution_count": 7,
   "metadata": {},
   "outputs": [
    {
     "name": "stdout",
     "output_type": "stream",
     "text": [
      "0 0 0.0011031627655029297\n",
      "50 50 10.436439037322998\n",
      "100 100 19.600762128829956\n",
      "150 150 29.34201431274414\n",
      "200 200 39.71533203125\n",
      "250 250 49.820003032684326\n",
      "300 300 58.60719919204712\n",
      "350 350 67.8687310218811\n",
      "400 400 77.11448693275452\n",
      "450 450 85.910001039505\n",
      "500 500 94.91938090324402\n",
      "550 550 103.44913721084595\n",
      "600 600 111.99848222732544\n",
      "650 650 120.46170711517334\n",
      "700 700 128.87884521484375\n",
      "skipping iteration 715\n",
      "750 751 137.68737602233887\n",
      "800 801 145.9633162021637\n",
      "850 851 154.44428205490112\n",
      "900 901 163.01565718650818\n",
      "950 951 171.5232071876526\n"
     ]
    }
   ],
   "source": [
    "#bootstrapping\n",
    "hyperparameters = {'C': [0.00001, 0.0001, 0.001,0.01,0.1,1,10,100]}\n",
    "\n",
    "start_time = time.time()\n",
    "\n",
    "probabilities = pd.DataFrame(index=data.index)\n",
    "c_vals = []\n",
    "coefs = pd.DataFrame(index=features)\n",
    "\n",
    "#loop for each iteration\n",
    "countup = 0\n",
    "for i in range(n_iter):\n",
    "    if i%50==0:\n",
    "        print(i,countup, time.time()-start_time)\n",
    "    \n",
    "    patients = pd.Series(data['patient_id'].unique())\n",
    "    \n",
    "    good_split = 0\n",
    "    while good_split == 0:\n",
    "        #bootstrap a training set with replacement\n",
    "        training_ids = patients.sample(len(patients), replace = True, random_state = 100+countup)\n",
    "                \n",
    "        #get bootstrapped training set, if a patient ID is included in the training_ids set j times, include all samples from that patient j times\n",
    "        training = pd.DataFrame()\n",
    "        \n",
    "        #group the training patient IDs by number of times they are observed in the bootstrapped training_ids\n",
    "        for j,df in pd.DataFrame(training_ids.value_counts().rename('count')).groupby(by = 'count'):\n",
    "\n",
    "            #identify the samples from this group of patients\n",
    "            current_data = data[data['patient_id'].isin(df.index)]\n",
    "\n",
    "            #copy the training samples so that they appear j times in training dataframe\n",
    "            current_training = pd.DataFrame()\n",
    "            for k in range(j):\n",
    "                current_training = current_training.append(current_data)\n",
    "            training = training.append(current_training)\n",
    "        \n",
    "        \n",
    "        #the test set is all samples that aren't seen in the training data\n",
    "        test = data[~(data.index.isin(training.index))]\n",
    "        \n",
    "        #check to make sure first time point low tumor fraction samples for both classes are included in the test set\n",
    "        if len(test[(test['tumor_fraction']<.1) & (test['first_passing_sample']==1)]['status'].unique())!=2:\n",
    "            print('skipping iteration',i)\n",
    "            countup += 1\n",
    "        else:\n",
    "            good_split = 1\n",
    "    \n",
    "    #countup will get ahead of i if it has to skip bad train-test splits\n",
    "    countup +=1\n",
    "        \n",
    "    #10 fold cross validation on the training set\n",
    "    cv = StratifiedKFold(n_splits=10, shuffle=True, random_state =100+countup) \n",
    "\n",
    "    model = LogisticRegression(class_weight='balanced', max_iter=500)\n",
    "    search = GridSearchCV(estimator=model, param_grid=hyperparameters, cv=cv, n_jobs = 1)\n",
    "    search.fit(training[features], training['status'])\n",
    "    best_C = search.best_params_['C']\n",
    "    \n",
    "    #train a new model on the full training dataset (is this the same as refit...?)\n",
    "    model = LogisticRegression(class_weight='balanced', max_iter=500, C=best_C)\n",
    "    model.fit(training[features], training['status'])\n",
    "\n",
    "    #predict the test data\n",
    "    pred = model.predict(test[features])\n",
    "    prob = model.predict_proba(test[features])\n",
    "\n",
    "    \n",
    "    #collect metrics\n",
    "    current_output = pd.DataFrame(test[['status']])#.reset_index()\n",
    "    current_output['probability']=prob[:,1]\n",
    "    current_output['prediction']=pred\n",
    "    current_output['accuracy'] = np.where(current_output['prediction']==current_output['status'],1,0)    \n",
    "    \n",
    "    #save results\n",
    "    probabilities[i] = current_output['probability']\n",
    "    c_vals.append(best_C)\n",
    "    coefs[i] = pd.Series(model.coef_[0], index = features)\n",
    "    \n",
    "\n",
    "probabilities = probabilities.merge(data[['status']], left_index=True, right_index=True)"
   ]
  },
  {
   "cell_type": "code",
   "execution_count": null,
   "metadata": {},
   "outputs": [],
   "source": []
  },
  {
   "cell_type": "code",
   "execution_count": 8,
   "metadata": {},
   "outputs": [
    {
     "data": {
      "image/png": "[encoded data removed]",
      "text/plain": [
       "<Figure size 432x288 with 1 Axes>"
      ]
     },
     "metadata": {
      "needs_background": "light"
     },
     "output_type": "display_data"
    }
   ],
   "source": [
    "#export results\n",
    "probabilities.to_csv(out_dir+'/probabilities.txt', sep='\\t')\n",
    "pd.Series(c_vals).to_csv(out_dir+'/c_values.txt', sep='\\t', header = False, index=False)\n",
    "coefs.to_csv(out_dir+'/coefs.txt', sep='\\t')\n",
    "\n",
    "plt.hist([str(m) for m in sorted(c_vals)])\n",
    "plt.savefig(out_dir+'/cvals.pdf')"
   ]
  },
  {
   "cell_type": "code",
   "execution_count": null,
   "metadata": {},
   "outputs": [],
   "source": []
  },
  {
   "cell_type": "code",
   "execution_count": 9,
   "metadata": {},
   "outputs": [],
   "source": [
    "#print some key info"
   ]
  },
  {
   "cell_type": "code",
   "execution_count": 10,
   "metadata": {},
   "outputs": [],
   "source": [
    "probabilities = probabilities.merge(data[['first_passing_sample','tumor_fraction']], left_index=True, right_index=True)"
   ]
  },
  {
   "cell_type": "code",
   "execution_count": 11,
   "metadata": {},
   "outputs": [
    {
     "data": {
      "text/plain": [
       "0.7322841911985689"
      ]
     },
     "execution_count": 11,
     "metadata": {},
     "output_type": "execute_result"
    }
   ],
   "source": [
    "#high tfx per patient accuracy\n",
    "accuracy = []\n",
    "for i in range(n_iter):\n",
    "    current = probabilities[~(probabilities[i].isnull())][[i,'status','tumor_fraction','first_passing_sample']]\n",
    "    current = current[(current['tumor_fraction']>=0.1) & (current['first_passing_sample']==1)]\n",
    "    accuracy.append(sum(np.round(current[i])==current['status'])/len(current))\n",
    "    \n",
    "np.mean(accuracy)"
   ]
  },
  {
   "cell_type": "code",
   "execution_count": 12,
   "metadata": {},
   "outputs": [
    {
     "data": {
      "text/plain": [
       "0.714899262575987"
      ]
     },
     "execution_count": 12,
     "metadata": {},
     "output_type": "execute_result"
    }
   ],
   "source": [
    "#per sample accuracy\n",
    "accuracy = []\n",
    "for i in range(n_iter):\n",
    "    current = probabilities[~(probabilities[i].isnull())][[i,'status','tumor_fraction','first_passing_sample']]\n",
    "    current = current[(current['tumor_fraction']>=0.1)]\n",
    "    accuracy.append(sum(np.round(current[i])==current['status'])/len(current))\n",
    "np.mean(accuracy)"
   ]
  },
  {
   "cell_type": "code",
   "execution_count": 13,
   "metadata": {},
   "outputs": [
    {
     "data": {
      "text/plain": [
       "0.4556951141330364"
      ]
     },
     "execution_count": 13,
     "metadata": {},
     "output_type": "execute_result"
    }
   ],
   "source": [
    "#low tfx per patient accuracy\n",
    "accuracy = []\n",
    "for i in range(n_iter):\n",
    "    current = probabilities[~(probabilities[i].isnull())][[i,'status','tumor_fraction','first_passing_sample']]\n",
    "    current = current[(current['tumor_fraction']<0.1) & (current['first_passing_sample']==1)]\n",
    "    accuracy.append(sum(np.round(current[i])==current['status'])/len(current))\n",
    "    \n",
    "np.mean(accuracy)"
   ]
  },
  {
   "cell_type": "code",
   "execution_count": 14,
   "metadata": {},
   "outputs": [
    {
     "data": {
      "text/plain": [
       "0.5143140758250851"
      ]
     },
     "execution_count": 14,
     "metadata": {},
     "output_type": "execute_result"
    }
   ],
   "source": [
    "#per sample accuracy\n",
    "accuracy = []\n",
    "for i in range(n_iter):\n",
    "    current = probabilities[~(probabilities[i].isnull())][[i,'status','tumor_fraction','first_passing_sample']]\n",
    "    current = current[(current['tumor_fraction']<0.1)]\n",
    "    accuracy.append(sum(np.round(current[i])==current['status'])/len(current))\n",
    "np.mean(accuracy)"
   ]
  },
  {
   "cell_type": "code",
   "execution_count": 15,
   "metadata": {},
   "outputs": [
    {
     "data": {
      "text/plain": [
       "0.6563718488205279"
      ]
     },
     "execution_count": 15,
     "metadata": {},
     "output_type": "execute_result"
    }
   ],
   "source": [
    "#per patient accuracy for all samples\n",
    "accuracy = []\n",
    "for i in range(n_iter):\n",
    "    current = probabilities[~(probabilities[i].isnull())][[i,'first_passing_sample','status']]\n",
    "    current = current[(current['first_passing_sample']==1)]\n",
    "    accuracy.append(sum(np.round(current[i])==current['status'])/len(current))\n",
    "    \n",
    "np.mean(accuracy)"
   ]
  },
  {
   "cell_type": "code",
   "execution_count": 16,
   "metadata": {},
   "outputs": [
    {
     "data": {
      "text/plain": [
       "0.6651309566267114"
      ]
     },
     "execution_count": 16,
     "metadata": {},
     "output_type": "execute_result"
    }
   ],
   "source": [
    "#per sample accuracy for all samples\n",
    "accuracy = []\n",
    "for i in range(n_iter):\n",
    "    current = probabilities[~(probabilities[i].isnull())][[i,'status']]\n",
    "    accuracy.append(sum(np.round(current[i])==current['status'])/len(current))\n",
    "    \n",
    "np.mean(accuracy)"
   ]
  },
  {
   "cell_type": "code",
   "execution_count": null,
   "metadata": {},
   "outputs": [],
   "source": []
  },
  {
   "cell_type": "code",
   "execution_count": null,
   "metadata": {},
   "outputs": [],
   "source": []
  },
  {
   "cell_type": "code",
   "execution_count": null,
   "metadata": {},
   "outputs": [],
   "source": []
  },
  {
   "cell_type": "code",
   "execution_count": null,
   "metadata": {},
   "outputs": [],
   "source": []
  },
  {
   "cell_type": "raw",
   "metadata": {},
   "source": []
  }
 ],
 "metadata": {
  "kernelspec": {
   "display_name": "Python 3",
   "language": "python",
   "name": "python3"
  },
  "language_info": {
   "codemirror_mode": {
    "name": "ipython",
    "version": 3
   },
   "file_extension": ".py",
   "mimetype": "text/x-python",
   "name": "python",
   "nbconvert_exporter": "python",
   "pygments_lexer": "ipython3",
   "version": "3.8.2"
  }
 },
 "nbformat": 4,
 "nbformat_minor": 4
}
