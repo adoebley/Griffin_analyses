{
 "cells": [
  {
   "cell_type": "code",
   "execution_count": 1,
   "metadata": {},
   "outputs": [],
   "source": [
    "import pandas as pd\n",
    "import numpy as np\n",
    "import os"
   ]
  },
  {
   "cell_type": "code",
   "execution_count": 2,
   "metadata": {},
   "outputs": [],
   "source": [
    "in_dir = '../filtered_sites/sites/'\n",
    "out_dir = '../top_10000/'"
   ]
  },
  {
   "cell_type": "code",
   "execution_count": 3,
   "metadata": {},
   "outputs": [],
   "source": [
    "chroms = ['chr'+str(m) for m in np.arange(1,23)]"
   ]
  },
  {
   "cell_type": "code",
   "execution_count": 6,
   "metadata": {},
   "outputs": [],
   "source": [
    "for file in os.listdir(in_dir):\n",
    "    if file.endswith('.high_mapability.txt'):    \n",
    "        data = pd.read_csv(in_dir+file,sep='\\t', low_memory = False)\n",
    "        data = data[data['Chrom'].isin(chroms)]\n",
    "        data = data.sort_values(by='numsamples', ascending = False).iloc[0:10000]\n",
    "        out_file = out_dir+file.rsplit('.high_mapability')[0]+'.top_10000.txt'\n",
    "        \n",
    "        data.to_csv(out_file, sep='\\t',index=False)\n"
   ]
  },
  {
   "cell_type": "code",
   "execution_count": 13,
   "metadata": {},
   "outputs": [
    {
     "name": "stdout",
     "output_type": "stream",
     "text": [
      "Stromal_A_DHS.top_10000: /fh/fast/ha_g/user/adoebley/projects/griffin_paper/sites/meuleman/top_10000/Stromal_A_DHS.top_10000.txt\n",
      "Stromal_B_DHS.top_10000: /fh/fast/ha_g/user/adoebley/projects/griffin_paper/sites/meuleman/top_10000/Stromal_B_DHS.top_10000.txt\n",
      "Musculoskeletal_DHS.top_10000: /fh/fast/ha_g/user/adoebley/projects/griffin_paper/sites/meuleman/top_10000/Musculoskeletal_DHS.top_10000.txt\n",
      "Renal_cancer_DHS.top_10000: /fh/fast/ha_g/user/adoebley/projects/griffin_paper/sites/meuleman/top_10000/Renal_cancer_DHS.top_10000.txt\n",
      "Lymphoid_DHS.top_10000: /fh/fast/ha_g/user/adoebley/projects/griffin_paper/sites/meuleman/top_10000/Lymphoid_DHS.top_10000.txt\n",
      "Neural_DHS.top_10000: /fh/fast/ha_g/user/adoebley/projects/griffin_paper/sites/meuleman/top_10000/Neural_DHS.top_10000.txt\n",
      "Primitive_embryonic_DHS.top_10000: /fh/fast/ha_g/user/adoebley/projects/griffin_paper/sites/meuleman/top_10000/Primitive_embryonic_DHS.top_10000.txt\n",
      "Cardiac_DHS.top_10000: /fh/fast/ha_g/user/adoebley/projects/griffin_paper/sites/meuleman/top_10000/Cardiac_DHS.top_10000.txt\n",
      "Vascular_endothelial_DHS.top_10000: /fh/fast/ha_g/user/adoebley/projects/griffin_paper/sites/meuleman/top_10000/Vascular_endothelial_DHS.top_10000.txt\n",
      "Organ_devel_renal_DHS.top_10000: /fh/fast/ha_g/user/adoebley/projects/griffin_paper/sites/meuleman/top_10000/Organ_devel_renal_DHS.top_10000.txt\n",
      "Digestive_DHS.top_10000: /fh/fast/ha_g/user/adoebley/projects/griffin_paper/sites/meuleman/top_10000/Digestive_DHS.top_10000.txt\n",
      "Tissue_invariant_DHS.top_10000: /fh/fast/ha_g/user/adoebley/projects/griffin_paper/sites/meuleman/top_10000/Tissue_invariant_DHS.top_10000.txt\n",
      "Myeloid_erythroid_DHS.top_10000: /fh/fast/ha_g/user/adoebley/projects/griffin_paper/sites/meuleman/top_10000/Myeloid_erythroid_DHS.top_10000.txt\n",
      "Placental_trophoblast_DHS.top_10000: /fh/fast/ha_g/user/adoebley/projects/griffin_paper/sites/meuleman/top_10000/Placental_trophoblast_DHS.top_10000.txt\n",
      "Cancer_epithelial_DHS.top_10000: /fh/fast/ha_g/user/adoebley/projects/griffin_paper/sites/meuleman/top_10000/Cancer_epithelial_DHS.top_10000.txt\n",
      "Pulmonary_devel_DHS.top_10000: /fh/fast/ha_g/user/adoebley/projects/griffin_paper/sites/meuleman/top_10000/Pulmonary_devel_DHS.top_10000.txt\n"
     ]
    }
   ],
   "source": [
    "for file in os.listdir(out_dir):\n",
    "    if file.startswith('.'):\n",
    "        continue\n",
    "    else:\n",
    "        name = file.rsplit('.txt',1)[0]\n",
    "        path = os.path.abspath(out_dir+file)\n",
    "        print(name+': '+path)"
   ]
  },
  {
   "cell_type": "code",
   "execution_count": null,
   "metadata": {},
   "outputs": [],
   "source": []
  }
 ],
 "metadata": {
  "kernelspec": {
   "display_name": "Python 3",
   "language": "python",
   "name": "python3"
  },
  "language_info": {
   "codemirror_mode": {
    "name": "ipython",
    "version": 3
   },
   "file_extension": ".py",
   "mimetype": "text/x-python",
   "name": "python",
   "nbconvert_exporter": "python",
   "pygments_lexer": "ipython3",
   "version": "3.7.4"
  }
 },
 "nbformat": 4,
 "nbformat_minor": 4
}
