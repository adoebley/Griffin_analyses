{
 "cells": [
  {
   "cell_type": "code",
   "execution_count": 1,
   "metadata": {},
   "outputs": [],
   "source": [
    "import pandas as pd\n",
    "import os"
   ]
  },
  {
   "cell_type": "code",
   "execution_count": 2,
   "metadata": {},
   "outputs": [],
   "source": [
    "data = pd.read_csv('../downloads/DHS_Index_and_Vocabulary_hg38_WM20190703.txt', sep='\\t',low_memory=False)\n",
    "data = data.rename(columns = {'seqname':'Chrom'})"
   ]
  },
  {
   "cell_type": "code",
   "execution_count": 3,
   "metadata": {},
   "outputs": [
    {
     "name": "stdout",
     "output_type": "stream",
     "text": [
      "Cancer_epithelial: 188489\n",
      "Cardiac: 118869\n",
      "Digestive: 144681\n",
      "Lymphoid: 280192\n",
      "Musculoskeletal: 216894\n",
      "Myeloid_erythroid: 186616\n",
      "Neural: 461478\n",
      "Organ_devel_renal: 159137\n",
      "Placental_trophoblast: 264980\n",
      "Primitive_embryonic: 626541\n",
      "Pulmonary_devel: 96369\n",
      "Renal_cancer: 144087\n",
      "Stromal_A: 56186\n",
      "Stromal_B: 404883\n",
      "Tissue_invariant: 157670\n",
      "Vascular_endothelial: 84826\n"
     ]
    }
   ],
   "source": [
    "paths = []\n",
    "for group,df in data.groupby('component'):\n",
    "    group = group.split('/')\n",
    "    group = [item.strip(' .') for item in group]\n",
    "    group = '_'.join(group)\n",
    "    group = group.split(' ')\n",
    "    group = '_'.join(group)\n",
    "    out_file = '../hg38_raw/'+group+'_DHS.txt'\n",
    "    df.to_csv(out_file,sep='\\t', index=False)\n",
    "    paths.append(os.path.abspath(out_file))\n",
    "    print(group+\":\",len(df))"
   ]
  },
  {
   "cell_type": "code",
   "execution_count": 4,
   "metadata": {},
   "outputs": [
    {
     "data": {
      "text/html": [
       "<div>\n",
       "<style scoped>\n",
       "    .dataframe tbody tr th:only-of-type {\n",
       "        vertical-align: middle;\n",
       "    }\n",
       "\n",
       "    .dataframe tbody tr th {\n",
       "        vertical-align: top;\n",
       "    }\n",
       "\n",
       "    .dataframe thead th {\n",
       "        text-align: right;\n",
       "    }\n",
       "</style>\n",
       "<table border=\"1\" class=\"dataframe\">\n",
       "  <thead>\n",
       "    <tr style=\"text-align: right;\">\n",
       "      <th></th>\n",
       "      <th>Chrom</th>\n",
       "      <th>start</th>\n",
       "      <th>end</th>\n",
       "      <th>identifier</th>\n",
       "      <th>mean_signal</th>\n",
       "      <th>numsamples</th>\n",
       "      <th>summit</th>\n",
       "      <th>core_start</th>\n",
       "      <th>core_end</th>\n",
       "      <th>component</th>\n",
       "    </tr>\n",
       "  </thead>\n",
       "  <tbody>\n",
       "    <tr>\n",
       "      <th>0</th>\n",
       "      <td>chr1</td>\n",
       "      <td>16140</td>\n",
       "      <td>16200</td>\n",
       "      <td>1.10011</td>\n",
       "      <td>0.129388</td>\n",
       "      <td>1</td>\n",
       "      <td>16170</td>\n",
       "      <td>16170.0</td>\n",
       "      <td>16170.0</td>\n",
       "      <td>Tissue invariant</td>\n",
       "    </tr>\n",
       "    <tr>\n",
       "      <th>1</th>\n",
       "      <td>chr1</td>\n",
       "      <td>51868</td>\n",
       "      <td>52040</td>\n",
       "      <td>1.10021</td>\n",
       "      <td>0.080034</td>\n",
       "      <td>1</td>\n",
       "      <td>51970</td>\n",
       "      <td>51970.0</td>\n",
       "      <td>51970.0</td>\n",
       "      <td>Placental / trophoblast</td>\n",
       "    </tr>\n",
       "    <tr>\n",
       "      <th>2</th>\n",
       "      <td>chr1</td>\n",
       "      <td>57280</td>\n",
       "      <td>57354</td>\n",
       "      <td>1.10025</td>\n",
       "      <td>0.273251</td>\n",
       "      <td>4</td>\n",
       "      <td>57350</td>\n",
       "      <td>57350.0</td>\n",
       "      <td>57350.0</td>\n",
       "      <td>Neural</td>\n",
       "    </tr>\n",
       "    <tr>\n",
       "      <th>3</th>\n",
       "      <td>chr1</td>\n",
       "      <td>66370</td>\n",
       "      <td>66482</td>\n",
       "      <td>1.10027</td>\n",
       "      <td>0.183716</td>\n",
       "      <td>8</td>\n",
       "      <td>66430</td>\n",
       "      <td>66410.0</td>\n",
       "      <td>66430.0</td>\n",
       "      <td>Primitive / embryonic</td>\n",
       "    </tr>\n",
       "    <tr>\n",
       "      <th>4</th>\n",
       "      <td>chr1</td>\n",
       "      <td>79100</td>\n",
       "      <td>79231</td>\n",
       "      <td>1.1003</td>\n",
       "      <td>0.113049</td>\n",
       "      <td>2</td>\n",
       "      <td>79150</td>\n",
       "      <td>79150.0</td>\n",
       "      <td>79150.0</td>\n",
       "      <td>Placental / trophoblast</td>\n",
       "    </tr>\n",
       "  </tbody>\n",
       "</table>\n",
       "</div>"
      ],
      "text/plain": [
       "  Chrom  start    end identifier  mean_signal  numsamples  summit  core_start  \\\n",
       "0  chr1  16140  16200    1.10011     0.129388           1   16170     16170.0   \n",
       "1  chr1  51868  52040    1.10021     0.080034           1   51970     51970.0   \n",
       "2  chr1  57280  57354    1.10025     0.273251           4   57350     57350.0   \n",
       "3  chr1  66370  66482    1.10027     0.183716           8   66430     66410.0   \n",
       "4  chr1  79100  79231     1.1003     0.113049           2   79150     79150.0   \n",
       "\n",
       "   core_end                component  \n",
       "0   16170.0         Tissue invariant  \n",
       "1   51970.0  Placental / trophoblast  \n",
       "2   57350.0                   Neural  \n",
       "3   66430.0    Primitive / embryonic  \n",
       "4   79150.0  Placental / trophoblast  "
      ]
     },
     "execution_count": 4,
     "metadata": {},
     "output_type": "execute_result"
    }
   ],
   "source": [
    "data.head()"
   ]
  },
  {
   "cell_type": "code",
   "execution_count": 5,
   "metadata": {},
   "outputs": [
    {
     "name": "stdout",
     "output_type": "stream",
     "text": [
      "Cancer_epithelial_DHS: /fh/fast/ha_g/user/adoebley/projects/griffin_paper/sites/meuleman/hg38_raw/Cancer_epithelial_DHS.txt\n",
      "Cardiac_DHS: /fh/fast/ha_g/user/adoebley/projects/griffin_paper/sites/meuleman/hg38_raw/Cardiac_DHS.txt\n",
      "Digestive_DHS: /fh/fast/ha_g/user/adoebley/projects/griffin_paper/sites/meuleman/hg38_raw/Digestive_DHS.txt\n",
      "Lymphoid_DHS: /fh/fast/ha_g/user/adoebley/projects/griffin_paper/sites/meuleman/hg38_raw/Lymphoid_DHS.txt\n",
      "Musculoskeletal_DHS: /fh/fast/ha_g/user/adoebley/projects/griffin_paper/sites/meuleman/hg38_raw/Musculoskeletal_DHS.txt\n",
      "Myeloid_erythroid_DHS: /fh/fast/ha_g/user/adoebley/projects/griffin_paper/sites/meuleman/hg38_raw/Myeloid_erythroid_DHS.txt\n",
      "Neural_DHS: /fh/fast/ha_g/user/adoebley/projects/griffin_paper/sites/meuleman/hg38_raw/Neural_DHS.txt\n",
      "Organ_devel_renal_DHS: /fh/fast/ha_g/user/adoebley/projects/griffin_paper/sites/meuleman/hg38_raw/Organ_devel_renal_DHS.txt\n",
      "Placental_trophoblast_DHS: /fh/fast/ha_g/user/adoebley/projects/griffin_paper/sites/meuleman/hg38_raw/Placental_trophoblast_DHS.txt\n",
      "Primitive_embryonic_DHS: /fh/fast/ha_g/user/adoebley/projects/griffin_paper/sites/meuleman/hg38_raw/Primitive_embryonic_DHS.txt\n",
      "Pulmonary_devel_DHS: /fh/fast/ha_g/user/adoebley/projects/griffin_paper/sites/meuleman/hg38_raw/Pulmonary_devel_DHS.txt\n",
      "Renal_cancer_DHS: /fh/fast/ha_g/user/adoebley/projects/griffin_paper/sites/meuleman/hg38_raw/Renal_cancer_DHS.txt\n",
      "Stromal_A_DHS: /fh/fast/ha_g/user/adoebley/projects/griffin_paper/sites/meuleman/hg38_raw/Stromal_A_DHS.txt\n",
      "Stromal_B_DHS: /fh/fast/ha_g/user/adoebley/projects/griffin_paper/sites/meuleman/hg38_raw/Stromal_B_DHS.txt\n",
      "Tissue_invariant_DHS: /fh/fast/ha_g/user/adoebley/projects/griffin_paper/sites/meuleman/hg38_raw/Tissue_invariant_DHS.txt\n",
      "Vascular_endothelial_DHS: /fh/fast/ha_g/user/adoebley/projects/griffin_paper/sites/meuleman/hg38_raw/Vascular_endothelial_DHS.txt\n"
     ]
    }
   ],
   "source": [
    "for path in paths:\n",
    "    name = path.rsplit('/',1)[1].rsplit('.',1)[0]\n",
    "    print(name+': '+path)"
   ]
  },
  {
   "cell_type": "code",
   "execution_count": null,
   "metadata": {},
   "outputs": [],
   "source": []
  },
  {
   "cell_type": "code",
   "execution_count": null,
   "metadata": {},
   "outputs": [],
   "source": []
  }
 ],
 "metadata": {
  "kernelspec": {
   "display_name": "Python 3",
   "language": "python",
   "name": "python3"
  },
  "language_info": {
   "codemirror_mode": {
    "name": "ipython",
    "version": 3
   },
   "file_extension": ".py",
   "mimetype": "text/x-python",
   "name": "python",
   "nbconvert_exporter": "python",
   "pygments_lexer": "ipython3",
   "version": "3.7.4"
  }
 },
 "nbformat": 4,
 "nbformat_minor": 4
}
