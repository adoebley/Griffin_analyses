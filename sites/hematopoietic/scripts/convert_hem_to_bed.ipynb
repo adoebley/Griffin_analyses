{
 "cells": [
  {
   "cell_type": "code",
   "execution_count": 1,
   "metadata": {},
   "outputs": [],
   "source": [
    "import pandas as pd"
   ]
  },
  {
   "cell_type": "code",
   "execution_count": 2,
   "metadata": {},
   "outputs": [],
   "source": [
    "raw_heme_path = '../sites_hg19/GSE129785_scATAC-Hematopoiesis-All.peaks_hg19.txt'\n",
    "heme_bed_path = '../sites_hg19/GSE129785_scATAC-Hematopoiesis-All.peaks_hg19.bed'"
   ]
  },
  {
   "cell_type": "code",
   "execution_count": 3,
   "metadata": {},
   "outputs": [],
   "source": [
    "#import and covert to bed format\n",
    "heme = pd.read_csv(raw_heme_path)\n",
    "heme = heme['Feature'].str.split('_',expand=True)\n",
    "\n",
    "heme[1] = heme[1].astype(int)\n",
    "heme[2] = heme[2].astype(int)"
   ]
  },
  {
   "cell_type": "code",
   "execution_count": 5,
   "metadata": {},
   "outputs": [
    {
     "data": {
      "text/html": [
       "<div>\n",
       "<style scoped>\n",
       "    .dataframe tbody tr th:only-of-type {\n",
       "        vertical-align: middle;\n",
       "    }\n",
       "\n",
       "    .dataframe tbody tr th {\n",
       "        vertical-align: top;\n",
       "    }\n",
       "\n",
       "    .dataframe thead th {\n",
       "        text-align: right;\n",
       "    }\n",
       "</style>\n",
       "<table border=\"1\" class=\"dataframe\">\n",
       "  <thead>\n",
       "    <tr style=\"text-align: right;\">\n",
       "      <th></th>\n",
       "      <th>0</th>\n",
       "      <th>1</th>\n",
       "      <th>2</th>\n",
       "    </tr>\n",
       "  </thead>\n",
       "  <tbody>\n",
       "    <tr>\n",
       "      <th>0</th>\n",
       "      <td>chr1</td>\n",
       "      <td>10238</td>\n",
       "      <td>10738</td>\n",
       "    </tr>\n",
       "    <tr>\n",
       "      <th>1</th>\n",
       "      <td>chr1</td>\n",
       "      <td>115476</td>\n",
       "      <td>115976</td>\n",
       "    </tr>\n",
       "    <tr>\n",
       "      <th>2</th>\n",
       "      <td>chr1</td>\n",
       "      <td>236856</td>\n",
       "      <td>237356</td>\n",
       "    </tr>\n",
       "    <tr>\n",
       "      <th>3</th>\n",
       "      <td>chr1</td>\n",
       "      <td>237511</td>\n",
       "      <td>238011</td>\n",
       "    </tr>\n",
       "    <tr>\n",
       "      <th>4</th>\n",
       "      <td>chr1</td>\n",
       "      <td>240801</td>\n",
       "      <td>241301</td>\n",
       "    </tr>\n",
       "  </tbody>\n",
       "</table>\n",
       "</div>"
      ],
      "text/plain": [
       "      0       1       2\n",
       "0  chr1   10238   10738\n",
       "1  chr1  115476  115976\n",
       "2  chr1  236856  237356\n",
       "3  chr1  237511  238011\n",
       "4  chr1  240801  241301"
      ]
     },
     "execution_count": 5,
     "metadata": {},
     "output_type": "execute_result"
    }
   ],
   "source": [
    "heme.head()"
   ]
  },
  {
   "cell_type": "code",
   "execution_count": 7,
   "metadata": {},
   "outputs": [
    {
     "name": "stdout",
     "output_type": "stream",
     "text": [
      "571400\n",
      "[500]\n"
     ]
    }
   ],
   "source": [
    "#check that the widths are all 500\n",
    "heme['width']= heme[2]-heme[1]\n",
    "print(len(heme))\n",
    "print(heme['width'].unique())\n"
   ]
  },
  {
   "cell_type": "code",
   "execution_count": 8,
   "metadata": {},
   "outputs": [],
   "source": [
    "#export\n",
    "heme[[0,1,2]].to_csv(heme_bed_path, sep='\\t', index=False, header = False)"
   ]
  },
  {
   "cell_type": "code",
   "execution_count": 9,
   "metadata": {},
   "outputs": [
    {
     "data": {
      "text/plain": [
       "'/fh/fast/ha_g/user/adoebley/projects/griffin_paper/sites/hematopoietic/sites_hg19/GSE129785_scATAC-Hematopoiesis-All.peaks_hg19.bed'"
      ]
     },
     "execution_count": 9,
     "metadata": {},
     "output_type": "execute_result"
    }
   ],
   "source": [
    "#get the path\n",
    "import os\n",
    "os.path.abspath(heme_bed_path)"
   ]
  },
  {
   "cell_type": "code",
   "execution_count": 18,
   "metadata": {},
   "outputs": [],
   "source": [
    "# #sanity check that the results (of the next step, not actually in this script) are the same as hanna's\n",
    "# hg38_bed = pd.read_csv('../sites_hg38/GSE129785_scATAC-Hematopoiesis-All.peaks_hg38.bed', sep='\\t', header = None)\n",
    "# hg38_bed2 = pd.read_csv('/fh/fast/ha_g/user/hliao/projects/BRCA/ATAC_seq/output/hematopoiesis_ATAC_peaks/GSE129785_scATAC-Hematopoiesis-All_hg38.peaks.bed', sep='\\t', header = None)\n",
    "# hg38_bed[~(hg38_bed[1] == hg38_bed2[1])]"
   ]
  },
  {
   "cell_type": "code",
   "execution_count": null,
   "metadata": {},
   "outputs": [],
   "source": []
  },
  {
   "cell_type": "code",
   "execution_count": null,
   "metadata": {},
   "outputs": [],
   "source": []
  },
  {
   "cell_type": "code",
   "execution_count": null,
   "metadata": {},
   "outputs": [],
   "source": []
  },
  {
   "cell_type": "code",
   "execution_count": null,
   "metadata": {},
   "outputs": [],
   "source": []
  }
 ],
 "metadata": {
  "kernelspec": {
   "display_name": "Python 3",
   "language": "python",
   "name": "python3"
  },
  "language_info": {
   "codemirror_mode": {
    "name": "ipython",
    "version": 3
   },
   "file_extension": ".py",
   "mimetype": "text/x-python",
   "name": "python",
   "nbconvert_exporter": "python",
   "pygments_lexer": "ipython3",
   "version": "3.7.4"
  }
 },
 "nbformat": 4,
 "nbformat_minor": 4
}
