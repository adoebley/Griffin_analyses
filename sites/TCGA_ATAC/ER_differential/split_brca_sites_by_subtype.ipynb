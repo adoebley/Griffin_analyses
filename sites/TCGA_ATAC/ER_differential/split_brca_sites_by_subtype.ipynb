{
 "cells": [
  {
   "cell_type": "code",
   "execution_count": 1,
   "metadata": {},
   "outputs": [],
   "source": [
    "import pandas as pd\n",
    "import numpy as np\n",
    "import pybedtools\n",
    "pybedtools.helpers.set_tempdir('tmp')\n",
    "from matplotlib import pyplot as plt\n",
    "%matplotlib inline\n",
    "from scipy.stats import mannwhitneyu\n",
    "import time\n"
   ]
  },
  {
   "cell_type": "code",
   "execution_count": 2,
   "metadata": {},
   "outputs": [
    {
     "name": "stdout",
     "output_type": "stream",
     "text": [
      "total_brca_patient_samples 74\n",
      "patient samples with subtype info 70 \n",
      "\n",
      "ER_pos ['ER+/HER2- High Prolif' 'ER+/HER2- Low Prolif']\n",
      "ER+ 44 \n",
      "\n",
      "ER_neg ['ER-/HER2-']\n",
      "ER- 15 \n",
      "\n",
      "other ['HER2+']\n",
      "other 11\n"
     ]
    }
   ],
   "source": [
    "#import the atac patient metadata\n",
    "MBC_pt_data_path = '../raw_TCGA/sample_info.txt'\n",
    "pt_data = pd.read_csv(MBC_pt_data_path, sep='\\t')\n",
    "\n",
    "#get only breast cancer data and keep only the sample name and subtype\n",
    "pt_data = pt_data[pt_data['cohort']=='BRCA'][['submitter_id','BRCA_scmod2']]\n",
    "\n",
    "#drop samples with replicates\n",
    "pt_data = pt_data.drop_duplicates()\n",
    "print('total_brca_patient_samples',len(pt_data))\n",
    "\n",
    "#drop samples without subtype\n",
    "pt_data = pt_data[~(pt_data['BRCA_scmod2'].isnull())]\n",
    "print('patient samples with subtype info',len(pt_data),'\\n')\n",
    "\n",
    "#get list of ER positive samples\n",
    "ER_pos = pt_data[(pt_data['BRCA_scmod2'].str.contains('ER\\+'))]#'ER\\+' is necessary so that this isn't a regex expression meaning something else\n",
    "\n",
    "#print the subtypes for these samples (there are multiple subtypes within ER positive)\n",
    "print('ER_pos',ER_pos['BRCA_scmod2'].unique())\n",
    "\n",
    "#get just the pt ids\n",
    "ER_pos = ER_pos['submitter_id'].values\n",
    "print('ER+',len(ER_pos),'\\n')\n",
    "\n",
    "#repeat for ER negative\n",
    "ER_neg = pt_data[pt_data['BRCA_scmod2'].str.contains('ER-')]\n",
    "print('ER_neg',ER_neg['BRCA_scmod2'].unique())\n",
    "\n",
    "#get just the pt ids\n",
    "ER_neg = ER_neg['submitter_id'].values\n",
    "print('ER-',len(ER_neg),'\\n')\n",
    "\n",
    "#sanity check, get the samples that are neither ER+ nor ER-\n",
    "ER_other = pt_data[~(pt_data['BRCA_scmod2'].str.contains('ER\\+')) & ~(pt_data['BRCA_scmod2'].str.contains('ER-'))]#'ER\\+' is necessary so that this isn't a regex expression meaning something else\n",
    "print('other',ER_other['BRCA_scmod2'].unique())\n",
    "print('other', len(ER_other))"
   ]
  },
  {
   "cell_type": "code",
   "execution_count": 3,
   "metadata": {},
   "outputs": [],
   "source": [
    "chroms = ['chr'+str(m) for m in range(1,23)]"
   ]
  },
  {
   "cell_type": "code",
   "execution_count": 4,
   "metadata": {},
   "outputs": [],
   "source": [
    "#peak data for each sample\n",
    "MBC_peak_data_path = '../raw_TCGA/brca_peak_Log2Counts_dedup.txt'\n",
    "peak_data = pd.read_csv(MBC_peak_data_path,sep='\\t')\n",
    "\n",
    "#remove '-01A' from sample names in columns\n",
    "peak_data.columns = [item.split('-01A')[0] for item in peak_data.columns]\n",
    "peak_data.columns = [item.split('-01B')[0] for item in peak_data.columns]\n",
    "\n",
    "peak_data = peak_data.rename(columns = {'sample':'peak_name'}).set_index('peak_name')"
   ]
  },
  {
   "cell_type": "code",
   "execution_count": 5,
   "metadata": {},
   "outputs": [
    {
     "name": "stdout",
     "output_type": "stream",
     "text": [
      "144960\n",
      "142490\n"
     ]
    }
   ],
   "source": [
    "#peak locations\n",
    "MBC_peak_loc_path = '../filtered_sites/sites/all_brca_peaks.high_mapability.txt'\n",
    "MBC_peak_loc = pd.read_csv(MBC_peak_loc_path, sep='\\t')\n",
    "print(len(MBC_peak_loc))\n",
    "MBC_peak_loc = MBC_peak_loc.rename(columns = {'Chromosome':'Chrom'})\n",
    "\n",
    "#drop any sites on the x chromosome or non-standard chromosomes\n",
    "MBC_peak_loc = MBC_peak_loc[MBC_peak_loc['Chrom'].isin(chroms)]\n",
    "print(len(MBC_peak_loc))\n",
    "# MBC_peak_bed = pybedtools.BedTool.from_dataframe(MBC_peak_loc[['Chrom','Start','End']])\n",
    "# MBC_peak_bed.sort()\n",
    "# MBC_peak_loc.head()"
   ]
  },
  {
   "cell_type": "code",
   "execution_count": 6,
   "metadata": {},
   "outputs": [
    {
     "name": "stdout",
     "output_type": "stream",
     "text": [
      "142490\n",
      "0 0.00011324882507324219\n",
      "10000 10.72724437713623\n",
      "20000 21.497912883758545\n",
      "30000 32.30589771270752\n",
      "40000 43.06868386268616\n",
      "50000 53.91770362854004\n",
      "60000 64.73379063606262\n",
      "70000 75.53659892082214\n",
      "80000 86.29955959320068\n",
      "90000 97.14161920547485\n",
      "100000 107.96513819694519\n",
      "110000 118.73099374771118\n",
      "120000 129.5491943359375\n",
      "130000 140.40017867088318\n",
      "140000 151.21827936172485\n",
      "142490\n"
     ]
    }
   ],
   "source": [
    "#Find ER +/- specific peaks\n",
    "#merge in the patient values\n",
    "peaks_with_pt_values = MBC_peak_loc.merge(peak_data[list(ER_pos)+list(ER_neg)], left_on = 'Peak_Name', right_index=True)\n",
    "print(len(peaks_with_pt_values))\n",
    "\n",
    "#run statistical tests\n",
    "p_vals = []\n",
    "start_time = time.time()\n",
    "for i in range(len(peaks_with_pt_values)):\n",
    "    if i%10000==0:\n",
    "        print(i, time.time()-start_time)\n",
    "    current = peaks_with_pt_values.iloc[i]\n",
    "    p_val = mannwhitneyu(current[ER_pos],current[ER_neg], alternative = 'two-sided')[1]\n",
    "    p_vals.append(p_val)\n",
    "    \n",
    "peaks_with_pt_values['mannwhitneyu_p']= p_vals\n",
    "\n",
    "peaks_with_pt_values['ER_pos_median'] = peaks_with_pt_values[ER_pos].median(axis=1)\n",
    "peaks_with_pt_values['ER_neg_median'] = peaks_with_pt_values[ER_neg].median(axis=1)\n",
    "\n",
    "#drop the patient values so they aren't all exported\n",
    "peaks_with_pt_values = peaks_with_pt_values.drop(columns = ER_pos)\n",
    "peaks_with_pt_values = peaks_with_pt_values.drop(columns = ER_neg)\n",
    "\n",
    "print(len(peaks_with_pt_values))"
   ]
  },
  {
   "cell_type": "code",
   "execution_count": 7,
   "metadata": {},
   "outputs": [],
   "source": [
    "#do a multiple test correction using the Benjamini/Hochberg fdr correction\n",
    "from statsmodels.stats.multitest import multipletests\n",
    "\n",
    "reject,pvals_corrected,alphacSidak,alphacBonf=multipletests(peaks_with_pt_values['mannwhitneyu_p'], alpha=0.05, method='fdr_bh', is_sorted=False, returnsorted=False)\n",
    "\n",
    "peaks_with_pt_values['mw_FDR']=pvals_corrected\n",
    "\n",
    "peaks_with_pt_values['neg_log2_mw_FDR'] = -np.log2(peaks_with_pt_values['mw_FDR'])\n",
    "\n",
    "#calculate fold change (subtract because these are logged values)\n",
    "peaks_with_pt_values['log2_FC'] = peaks_with_pt_values['ER_pos_median']-peaks_with_pt_values['ER_neg_median']"
   ]
  },
  {
   "cell_type": "code",
   "execution_count": 8,
   "metadata": {},
   "outputs": [],
   "source": [
    "#export\n",
    "peaks_with_pt_values.to_csv('sites/all_mbc_with_score.txt', sep='\\t', index=False)"
   ]
  },
  {
   "cell_type": "code",
   "execution_count": 9,
   "metadata": {},
   "outputs": [
    {
     "name": "stdout",
     "output_type": "stream",
     "text": [
      "discarding wrong length: 1140\n",
      "555525\n"
     ]
    },
    {
     "data": {
      "text/html": [
       "<div>\n",
       "<style scoped>\n",
       "    .dataframe tbody tr th:only-of-type {\n",
       "        vertical-align: middle;\n",
       "    }\n",
       "\n",
       "    .dataframe tbody tr th {\n",
       "        vertical-align: top;\n",
       "    }\n",
       "\n",
       "    .dataframe thead th {\n",
       "        text-align: right;\n",
       "    }\n",
       "</style>\n",
       "<table border=\"1\" class=\"dataframe\">\n",
       "  <thead>\n",
       "    <tr style=\"text-align: right;\">\n",
       "      <th></th>\n",
       "      <th>0</th>\n",
       "      <th>1</th>\n",
       "      <th>2</th>\n",
       "      <th>width</th>\n",
       "    </tr>\n",
       "  </thead>\n",
       "  <tbody>\n",
       "    <tr>\n",
       "      <th>0</th>\n",
       "      <td>chr1</td>\n",
       "      <td>10238</td>\n",
       "      <td>10738</td>\n",
       "      <td>500</td>\n",
       "    </tr>\n",
       "    <tr>\n",
       "      <th>1</th>\n",
       "      <td>chr1</td>\n",
       "      <td>115476</td>\n",
       "      <td>115976</td>\n",
       "      <td>500</td>\n",
       "    </tr>\n",
       "    <tr>\n",
       "      <th>2</th>\n",
       "      <td>chr1</td>\n",
       "      <td>267105</td>\n",
       "      <td>267605</td>\n",
       "      <td>500</td>\n",
       "    </tr>\n",
       "    <tr>\n",
       "      <th>3</th>\n",
       "      <td>chr1</td>\n",
       "      <td>267760</td>\n",
       "      <td>268260</td>\n",
       "      <td>500</td>\n",
       "    </tr>\n",
       "    <tr>\n",
       "      <th>4</th>\n",
       "      <td>chr1</td>\n",
       "      <td>271050</td>\n",
       "      <td>271550</td>\n",
       "      <td>500</td>\n",
       "    </tr>\n",
       "  </tbody>\n",
       "</table>\n",
       "</div>"
      ],
      "text/plain": [
       "      0       1       2  width\n",
       "0  chr1   10238   10738    500\n",
       "1  chr1  115476  115976    500\n",
       "2  chr1  267105  267605    500\n",
       "3  chr1  267760  268260    500\n",
       "4  chr1  271050  271550    500"
      ]
     },
     "execution_count": 9,
     "metadata": {},
     "output_type": "execute_result"
    }
   ],
   "source": [
    "hem_peak_loc_path = '../../hematopoietic/sites_hg38/GSE129785_scATAC-Hematopoiesis-All.peaks_hg38.bed'\n",
    "hem_peak_loc = pd.read_csv(hem_peak_loc_path, sep='\\t', header=None)\n",
    "\n",
    "#drop any sites on the x chromosome or non-standard chromosomes\n",
    "hem_peak_loc = hem_peak_loc[hem_peak_loc[0].isin(chroms)]\n",
    "\n",
    "#discard 1272 peaks that change size during liftover\n",
    "hem_peak_loc['width'] = hem_peak_loc[2]-hem_peak_loc[1]\n",
    "print('discarding wrong length:',len(hem_peak_loc) - len(hem_peak_loc[hem_peak_loc['width']==500]))\n",
    "hem_peak_loc = hem_peak_loc[hem_peak_loc['width']==500]\n",
    "\n",
    "heme_peak_bed = pybedtools.BedTool.from_dataframe(hem_peak_loc[[0,1,2]])\n",
    "heme_peak_bed.sort()\n",
    "print(len(hem_peak_loc))\n",
    "hem_peak_loc.head()\n"
   ]
  },
  {
   "cell_type": "code",
   "execution_count": 10,
   "metadata": {},
   "outputs": [],
   "source": [
    "#covert to a bed for overlapping\n",
    "MBC_peak_bed = pybedtools.BedTool.from_dataframe(peaks_with_pt_values[['Chrom','Start','End']])"
   ]
  },
  {
   "cell_type": "code",
   "execution_count": 11,
   "metadata": {},
   "outputs": [
    {
     "name": "stdout",
     "output_type": "stream",
     "text": [
      "specific 64219\n",
      "overlaps 78271\n",
      "total 142490\n"
     ]
    }
   ],
   "source": [
    "#split MBC peaks by whether they overlap heme\n",
    "mbc_specific = MBC_peak_bed.subtract(heme_peak_bed, A=True)\n",
    "mbc_overlaps = MBC_peak_bed.intersect(heme_peak_bed, u=True)\n",
    "\n",
    "print('specific', len(mbc_specific))\n",
    "print('overlaps', len(mbc_overlaps))\n",
    "\n",
    "print('total', len(mbc_specific)+len(mbc_overlaps))"
   ]
  },
  {
   "cell_type": "code",
   "execution_count": 12,
   "metadata": {},
   "outputs": [
    {
     "name": "stdout",
     "output_type": "stream",
     "text": [
      "specific 64219\n",
      "overlaps 78271\n"
     ]
    }
   ],
   "source": [
    "#get the peak data\n",
    "mbc_specific_df = mbc_specific.to_dataframe().rename(columns = {'chrom':'Chrom','start':'Start','end':'End'})\n",
    "mbc_specific_df = mbc_specific_df.merge(peaks_with_pt_values, on = ['Chrom','Start','End'])\n",
    "print('specific',len(mbc_specific_df))\n",
    "\n",
    "\n",
    "#get the peak data\n",
    "mbc_overlaps_df = mbc_overlaps.to_dataframe().rename(columns = {'chrom':'Chrom','start':'Start','end':'End'})\n",
    "mbc_overlaps_df = mbc_overlaps_df.merge(peaks_with_pt_values, on = ['Chrom','Start','End'])\n",
    "print('overlaps',len(mbc_overlaps_df))"
   ]
  },
  {
   "cell_type": "code",
   "execution_count": 13,
   "metadata": {},
   "outputs": [],
   "source": [
    "# #export the full lists (to make plotting easier if needed)\n",
    "# mbc_overlaps_df.to_csv('sites/all_mbc_heme_overlaps_with_score.txt', sep='\\t', index=False)\n",
    "# mbc_specific_df.to_csv('sites/all_mbc_specific_with_score.txt', sep='\\t', index=False)"
   ]
  },
  {
   "cell_type": "code",
   "execution_count": 14,
   "metadata": {},
   "outputs": [
    {
     "name": "stdout",
     "output_type": "stream",
     "text": [
      "positive_specific: 15142\n",
      "negative_specific: 12151\n",
      "positive_overlaps: 12217\n",
      "negative_overlaps: 12710\n"
     ]
    }
   ],
   "source": [
    "fold_change = 0.5\n",
    "fc_string = '_'.join(str(fold_change).split('.'))\n",
    "\n",
    "positive_specific = mbc_specific_df[(mbc_specific_df['mw_FDR']<0.05) & (mbc_specific_df['log2_FC']>fold_change)]\n",
    "negative_specific = mbc_specific_df[(mbc_specific_df['mw_FDR']<0.05) & (mbc_specific_df['log2_FC']<-fold_change)]\n",
    "\n",
    "positive_overlaps = mbc_overlaps_df[(mbc_overlaps_df['mw_FDR']<0.05) & (mbc_overlaps_df['log2_FC']>fold_change)]\n",
    "negative_overlaps = mbc_overlaps_df[(mbc_overlaps_df['mw_FDR']<0.05) & (mbc_overlaps_df['log2_FC']<-fold_change)]\n",
    "\n",
    "print('positive_specific:',len(positive_specific))\n",
    "print('negative_specific:',len(negative_specific))\n",
    "\n",
    "print('positive_overlaps:',len(positive_overlaps))\n",
    "print('negative_overlaps:',len(negative_overlaps))\n"
   ]
  },
  {
   "cell_type": "code",
   "execution_count": 3,
   "metadata": {},
   "outputs": [
    {
     "data": {
      "text/plain": [
       "90270"
      ]
     },
     "execution_count": 3,
     "metadata": {},
     "output_type": "execute_result"
    }
   ],
   "source": [
    "142490-(15142+12151+12217+12710)"
   ]
  },
  {
   "cell_type": "code",
   "execution_count": 1,
   "metadata": {},
   "outputs": [
    {
     "data": {
      "text/plain": [
       "27359"
      ]
     },
     "execution_count": 1,
     "metadata": {},
     "output_type": "execute_result"
    }
   ],
   "source": [
    "15142+12217"
   ]
  },
  {
   "cell_type": "code",
   "execution_count": 2,
   "metadata": {},
   "outputs": [
    {
     "data": {
      "text/plain": [
       "24861"
      ]
     },
     "execution_count": 2,
     "metadata": {},
     "output_type": "execute_result"
    }
   ],
   "source": [
    "12151+12710"
   ]
  },
  {
   "cell_type": "code",
   "execution_count": 15,
   "metadata": {},
   "outputs": [],
   "source": [
    "#export\n",
    "positive_specific.to_csv('sites/ER_pos_0_5_FC.new.txt', sep='\\t',index=False)\n",
    "negative_specific.to_csv('sites/ER_neg_0_5_FC.new.txt', sep='\\t',index=False)\n",
    "\n",
    "positive_overlaps.to_csv('sites/ER_pos_heme_0_5_FC.new.txt', sep='\\t',index=False)\n",
    "negative_overlaps.to_csv('sites/ER_neg_heme_0_5_FC.new.txt', sep='\\t',index=False)\n"
   ]
  },
  {
   "cell_type": "code",
   "execution_count": null,
   "metadata": {},
   "outputs": [],
   "source": []
  },
  {
   "cell_type": "code",
   "execution_count": 16,
   "metadata": {},
   "outputs": [
    {
     "data": {
      "image/png": "[encoded data removed]",
      "text/plain": [
       "<Figure size 216x216 with 1 Axes>"
      ]
     },
     "metadata": {
      "needs_background": "light"
     },
     "output_type": "display_data"
    }
   ],
   "source": [
    "#global figure\n",
    "fig,ax= plt.subplots(figsize = (3,3))\n",
    "sample_set = peaks_with_pt_values.sample(frac = .1, random_state =2).copy()\n",
    "\n",
    "#this looks different from Hanna's because I'm using FDR on the x axis rather than p-value\n",
    "sample_set.plot.scatter(x = 'neg_log2_mw_FDR',y='log2_FC', alpha = 0.2, ax=ax, color='tab:grey')\n",
    "sample_set[(sample_set['mw_FDR']<0.05) & (sample_set['log2_FC']>fold_change)].plot.scatter(x = 'neg_log2_mw_FDR',y='log2_FC', alpha = 0.2, ax=ax, color='tab:blue')\n",
    "sample_set[(sample_set['mw_FDR']<0.05) & (sample_set['log2_FC']<-fold_change)].plot.scatter(x = 'neg_log2_mw_FDR',y='log2_FC', alpha = 0.2, ax=ax, color='tab:orange')\n",
    "\n",
    "ax.axvline(x=-np.log2(0.05), color='lightgrey',dashes=(2,2))\n",
    "ax.axhline(y=-fold_change, color='lightgrey',dashes=(2,2))\n",
    "ax.axhline(y=fold_change, color='lightgrey',dashes=(2,2))\n",
    "ax.set_title('BRCA ATAC sites')\n",
    "fig.tight_layout()\n",
    "fig.savefig('butterfly_plot.pdf')"
   ]
  },
  {
   "cell_type": "code",
   "execution_count": null,
   "metadata": {},
   "outputs": [],
   "source": []
  },
  {
   "cell_type": "code",
   "execution_count": null,
   "metadata": {},
   "outputs": [],
   "source": []
  }
 ],
 "metadata": {
  "kernelspec": {
   "display_name": "Python 3",
   "language": "python",
   "name": "python3"
  },
  "language_info": {
   "codemirror_mode": {
    "name": "ipython",
    "version": 3
   },
   "file_extension": ".py",
   "mimetype": "text/x-python",
   "name": "python",
   "nbconvert_exporter": "python",
   "pygments_lexer": "ipython3",
   "version": "3.7.4"
  }
 },
 "nbformat": 4,
 "nbformat_minor": 4
}
