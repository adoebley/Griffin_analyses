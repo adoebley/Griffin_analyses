{
 "cells": [
  {
   "cell_type": "code",
   "execution_count": 1,
   "metadata": {},
   "outputs": [],
   "source": [
    "import pandas as pd\n",
    "import numpy as np\n",
    "from matplotlib import pyplot as plt\n",
    "%matplotlib inline\n",
    "import matplotlib\n",
    "import pybedtools\n",
    "import os\n",
    "try:\n",
    "    os.mkdir('tmp')\n",
    "except:\n",
    "    pass\n",
    "pybedtools.helpers.set_tempdir('tmp')\n"
   ]
  },
  {
   "cell_type": "code",
   "execution_count": 2,
   "metadata": {},
   "outputs": [],
   "source": [
    "DESeq2_results_path = '../all_sites/ER_diff_DEseq2_results.txt'\n",
    "MBC_peak_loc_path = '../../raw_TCGA/BRCA_peak_locations.txt'\n",
    "hem_peak_loc_path = '../../../hematopoietic/sites_hg38/GSE129785_scATAC-Hematopoiesis-All.peaks_hg38.bed'\n"
   ]
  },
  {
   "cell_type": "code",
   "execution_count": 3,
   "metadata": {},
   "outputs": [
    {
     "name": "stdout",
     "output_type": "stream",
     "text": [
      "215920\n",
      "211938\n",
      "211938\n"
     ]
    }
   ],
   "source": [
    "results = pd.read_csv(DESeq2_results_path, sep='\\t')\n",
    "\n",
    "#peak locations\n",
    "MBC_peak_loc = pd.read_csv(MBC_peak_loc_path, sep='\\t')\n",
    "print(len(MBC_peak_loc))\n",
    "MBC_peak_loc = MBC_peak_loc.rename(columns = {'Chromosome':'Chrom'})\n",
    "MBC_peak_loc['position'] = (MBC_peak_loc['Start']+MBC_peak_loc['End']-1)/2\n",
    "MBC_peak_loc['position'] = MBC_peak_loc['position'].astype(int)\n",
    "\n",
    "#drop any sites on the x chromosome or non-standard chromosomes\n",
    "chroms = ['chr'+str(m) for m in range(1,23)]\n",
    "MBC_peak_loc = MBC_peak_loc[MBC_peak_loc['Chrom'].isin(chroms)]\n",
    "MBC_peak_loc = MBC_peak_loc.set_index('Peak_Name')\n",
    "print(len(MBC_peak_loc))\n",
    "\n",
    "results = results.merge(MBC_peak_loc[['Chrom','Start','End','position']], left_index=True, right_index=True)\n",
    "print(len(results))"
   ]
  },
  {
   "cell_type": "code",
   "execution_count": 4,
   "metadata": {},
   "outputs": [],
   "source": [
    "results = results.reset_index()\n",
    "results = results.rename(columns = {'index':'Peak_Name'})\n",
    "results['neg_log2_padj'] = -np.log2(results['padj'])\n"
   ]
  },
  {
   "cell_type": "code",
   "execution_count": 5,
   "metadata": {},
   "outputs": [
    {
     "name": "stdout",
     "output_type": "stream",
     "text": [
      "discarding wrong length: 1140\n",
      "555525\n"
     ]
    },
    {
     "data": {
      "text/html": [
       "<div>\n",
       "<style scoped>\n",
       "    .dataframe tbody tr th:only-of-type {\n",
       "        vertical-align: middle;\n",
       "    }\n",
       "\n",
       "    .dataframe tbody tr th {\n",
       "        vertical-align: top;\n",
       "    }\n",
       "\n",
       "    .dataframe thead th {\n",
       "        text-align: right;\n",
       "    }\n",
       "</style>\n",
       "<table border=\"1\" class=\"dataframe\">\n",
       "  <thead>\n",
       "    <tr style=\"text-align: right;\">\n",
       "      <th></th>\n",
       "      <th>0</th>\n",
       "      <th>1</th>\n",
       "      <th>2</th>\n",
       "      <th>width</th>\n",
       "    </tr>\n",
       "  </thead>\n",
       "  <tbody>\n",
       "    <tr>\n",
       "      <th>0</th>\n",
       "      <td>chr1</td>\n",
       "      <td>10238</td>\n",
       "      <td>10738</td>\n",
       "      <td>500</td>\n",
       "    </tr>\n",
       "    <tr>\n",
       "      <th>1</th>\n",
       "      <td>chr1</td>\n",
       "      <td>115476</td>\n",
       "      <td>115976</td>\n",
       "      <td>500</td>\n",
       "    </tr>\n",
       "    <tr>\n",
       "      <th>2</th>\n",
       "      <td>chr1</td>\n",
       "      <td>267105</td>\n",
       "      <td>267605</td>\n",
       "      <td>500</td>\n",
       "    </tr>\n",
       "    <tr>\n",
       "      <th>3</th>\n",
       "      <td>chr1</td>\n",
       "      <td>267760</td>\n",
       "      <td>268260</td>\n",
       "      <td>500</td>\n",
       "    </tr>\n",
       "    <tr>\n",
       "      <th>4</th>\n",
       "      <td>chr1</td>\n",
       "      <td>271050</td>\n",
       "      <td>271550</td>\n",
       "      <td>500</td>\n",
       "    </tr>\n",
       "  </tbody>\n",
       "</table>\n",
       "</div>"
      ],
      "text/plain": [
       "      0       1       2  width\n",
       "0  chr1   10238   10738    500\n",
       "1  chr1  115476  115976    500\n",
       "2  chr1  267105  267605    500\n",
       "3  chr1  267760  268260    500\n",
       "4  chr1  271050  271550    500"
      ]
     },
     "execution_count": 5,
     "metadata": {},
     "output_type": "execute_result"
    }
   ],
   "source": [
    "hem_peak_loc = pd.read_csv(hem_peak_loc_path, sep='\\t', header=None)\n",
    "\n",
    "#drop any sites on the x chromosome or non-standard chromosomes\n",
    "hem_peak_loc = hem_peak_loc[hem_peak_loc[0].isin(chroms)]\n",
    "\n",
    "#discard 1272 peaks that change size during liftover\n",
    "hem_peak_loc['width'] = hem_peak_loc[2]-hem_peak_loc[1]\n",
    "print('discarding wrong length:',len(hem_peak_loc) - len(hem_peak_loc[hem_peak_loc['width']==500]))\n",
    "hem_peak_loc = hem_peak_loc[hem_peak_loc['width']==500]\n",
    "\n",
    "heme_peak_bed = pybedtools.BedTool.from_dataframe(hem_peak_loc[[0,1,2]])\n",
    "heme_peak_bed.sort()\n",
    "print(len(hem_peak_loc))\n",
    "hem_peak_loc.head()\n"
   ]
  },
  {
   "cell_type": "code",
   "execution_count": 6,
   "metadata": {},
   "outputs": [],
   "source": [
    "#covert to a bed for overlapping\n",
    "MBC_peak_bed = pybedtools.BedTool.from_dataframe(results[['Chrom','Start','End']])"
   ]
  },
  {
   "cell_type": "code",
   "execution_count": 7,
   "metadata": {},
   "outputs": [
    {
     "name": "stdout",
     "output_type": "stream",
     "text": [
      "specific 94719\n",
      "overlaps 117219\n",
      "total 211938\n"
     ]
    }
   ],
   "source": [
    "#split MBC peaks by whether they overlap heme\n",
    "mbc_specific = MBC_peak_bed.subtract(heme_peak_bed, A=True)\n",
    "mbc_overlaps = MBC_peak_bed.intersect(heme_peak_bed, u=True)\n",
    "\n",
    "print('specific', len(mbc_specific))\n",
    "print('overlaps', len(mbc_overlaps))\n",
    "\n",
    "print('total', len(mbc_specific)+len(mbc_overlaps))"
   ]
  },
  {
   "cell_type": "code",
   "execution_count": 8,
   "metadata": {},
   "outputs": [
    {
     "name": "stdout",
     "output_type": "stream",
     "text": [
      "specific 94719\n",
      "overlaps 117219\n"
     ]
    }
   ],
   "source": [
    "#convert to data frame\n",
    "#get the peak data\n",
    "mbc_specific_df = mbc_specific.to_dataframe().rename(columns = {'chrom':'Chrom','start':'Start','end':'End'})\n",
    "mbc_specific_df = mbc_specific_df.merge(results, on = ['Chrom','Start','End'])\n",
    "print('specific',len(mbc_specific_df))\n",
    "\n",
    "\n",
    "#get the peak data\n",
    "mbc_overlaps_df = mbc_overlaps.to_dataframe().rename(columns = {'chrom':'Chrom','start':'Start','end':'End'})\n",
    "mbc_overlaps_df = mbc_overlaps_df.merge(results, on = ['Chrom','Start','End'])\n",
    "print('overlaps',len(mbc_overlaps_df))"
   ]
  },
  {
   "cell_type": "code",
   "execution_count": 9,
   "metadata": {},
   "outputs": [
    {
     "data": {
      "text/plain": [
       "52822     BRCA_147540\n",
       "45525     BRCA_140973\n",
       "91661     BRCA_182497\n",
       "13281     BRCA_111951\n",
       "20355     BRCA_118318\n",
       "             ...     \n",
       "34086     BRCA_130678\n",
       "51469     BRCA_146322\n",
       "60414     BRCA_154373\n",
       "69242     BRCA_162318\n",
       "150517     BRCA_44714\n",
       "Name: Peak_Name, Length: 10597, dtype: object"
      ]
     },
     "execution_count": 9,
     "metadata": {},
     "output_type": "execute_result"
    }
   ],
   "source": [
    "random_sample = results.sample(frac = 0.05, random_state = 2)['Peak_Name']\n",
    "random_sample"
   ]
  },
  {
   "cell_type": "code",
   "execution_count": 10,
   "metadata": {},
   "outputs": [],
   "source": [
    "qval = 0.05\n",
    "fold_changes = [0.0, 0.5, 1, 2]\n",
    "\n",
    "FC_list_lengths_df = pd.DataFrame()\n",
    "FC_list_lengths_df.index.name = 'log2FC'\n",
    "\n",
    "\n",
    "#make a figure of the different log fold changes\n",
    "fig,ax= plt.subplots(figsize = (3,3))\n",
    "\n",
    "sample_set = results[results['Peak_Name'].isin(random_sample)]\n",
    "sample_set = sample_set[(np.abs(sample_set['log2FoldChange'])<=min(fold_changes)) | (np.abs(sample_set['padj'])>qval)]\n",
    "sample_set.plot.scatter(x = 'neg_log2_padj',y='log2FoldChange', alpha = 0.2, ax=ax, color='tab:grey', s = 10)\n",
    "blue = np.array(matplotlib.colors.to_rgb('tab:blue'))\n",
    "orange = np.array(matplotlib.colors.to_rgb('tab:orange'))\n",
    "\n",
    "\n",
    "for i in range(len(fold_changes)):\n",
    "    lfc = fold_changes[i]\n",
    "    if i+1<len(fold_changes):\n",
    "        next_lfc = fold_changes[i+1]\n",
    "    else:\n",
    "        next_lfc = np.inf\n",
    "    \n",
    "    FC_string = '_'.join(str(lfc).split('.'))\n",
    "\n",
    "    positive_specific = mbc_specific_df[(mbc_specific_df['padj']<qval) & (mbc_specific_df['log2FoldChange']>lfc)]\n",
    "    negative_specific = mbc_specific_df[(mbc_specific_df['padj']<qval) & (mbc_specific_df['log2FoldChange']<-lfc)]\n",
    "\n",
    "    positive_overlaps = mbc_overlaps_df[(mbc_overlaps_df['padj']<qval) & (mbc_overlaps_df['log2FoldChange']>lfc)]\n",
    "    negative_overlaps = mbc_overlaps_df[(mbc_overlaps_df['padj']<qval) & (mbc_overlaps_df['log2FoldChange']<-lfc)]\n",
    "\n",
    "    list_lengths_dict = {'ER_positive_specific':len(positive_specific),\n",
    "           'ER_negative_specific':len(negative_specific),\n",
    "           'ER_positive_overlaps':len(positive_overlaps),\n",
    "           'ER_negative_overlaps':len(negative_overlaps)}\n",
    "        \n",
    "    FC_list_lengths_df = FC_list_lengths_df.append(pd.Series(list_lengths_dict, name = lfc))\n",
    "        \n",
    "    #export\n",
    "    positive_specific.to_csv('../sites_by_log2FC/ER_pos_specific.'+FC_string+'_FC.DESeq2.txt', sep='\\t',index=False)\n",
    "    negative_specific.to_csv('../sites_by_log2FC/ER_neg_specific.'+FC_string+'_FC.DESeq2.txt', sep='\\t',index=False)\n",
    "\n",
    "    positive_overlaps.to_csv('../sites_by_log2FC/ER_pos_heme.'+FC_string+'_FC.DESeq2.txt', sep='\\t',index=False)\n",
    "    negative_overlaps.to_csv('../sites_by_log2FC/ER_neg_heme.'+FC_string+'_FC.DESeq2.txt', sep='\\t',index=False)\n",
    "\n",
    "    #plot the data\n",
    "    pos_color = tuple(1-(1-i/4)*(1-blue))\n",
    "    neg_color = tuple(1-(1-i/4)*(1-orange))\n",
    "    \n",
    "    positive_specific[(positive_specific['log2FoldChange']<=next_lfc) & (positive_specific['Peak_Name'].isin(random_sample))].plot.scatter(x = 'neg_log2_padj',y='log2FoldChange', alpha = 0.2, ax=ax, color=pos_color, s = 10)\n",
    "    negative_specific[(negative_specific['log2FoldChange']>=-next_lfc) & (negative_specific['Peak_Name'].isin(random_sample))].plot.scatter(x = 'neg_log2_padj',y='log2FoldChange', alpha = 0.2, ax=ax, color=neg_color, s = 10)\n",
    "    \n",
    "    positive_overlaps[(positive_overlaps['log2FoldChange']<=next_lfc) & (positive_overlaps['Peak_Name'].isin(random_sample))].plot.scatter(x = 'neg_log2_padj',y='log2FoldChange', alpha = 0.2, ax=ax, color=pos_color, s = 10)\n",
    "    negative_overlaps[(negative_overlaps['log2FoldChange']>=-next_lfc) & (negative_overlaps['Peak_Name'].isin(random_sample))].plot.scatter(x = 'neg_log2_padj',y='log2FoldChange', alpha = 0.2, ax=ax, color=neg_color, s = 10)\n",
    "    \n",
    "    ax.axhline(y=-lfc, color='lightgrey',dashes=(2,2))\n",
    "    ax.axhline(y=lfc, color='lightgrey',dashes=(2,2))\n",
    "    \n",
    "    \n",
    "ax.set_title('BRCA ATAC sites by log2FC')\n",
    "fig.tight_layout()\n",
    "ax.axvline(x=-np.log2(qval), color='lightgrey',dashes=(2,2))    \n",
    "fig.savefig('../plots/log2FC_butterfly_plot.pdf')\n",
    "plt.close()\n",
    "\n",
    "FC_list_lengths_df['qval']=qval\n",
    "del(qval,lfc,next_lfc,fold_changes,FC_string)\n",
    "\n",
    "\n"
   ]
  },
  {
   "cell_type": "code",
   "execution_count": 11,
   "metadata": {},
   "outputs": [
    {
     "data": {
      "text/html": [
       "<div>\n",
       "<style scoped>\n",
       "    .dataframe tbody tr th:only-of-type {\n",
       "        vertical-align: middle;\n",
       "    }\n",
       "\n",
       "    .dataframe tbody tr th {\n",
       "        vertical-align: top;\n",
       "    }\n",
       "\n",
       "    .dataframe thead th {\n",
       "        text-align: right;\n",
       "    }\n",
       "</style>\n",
       "<table border=\"1\" class=\"dataframe\">\n",
       "  <thead>\n",
       "    <tr style=\"text-align: right;\">\n",
       "      <th></th>\n",
       "      <th>ER_positive_specific</th>\n",
       "      <th>ER_negative_specific</th>\n",
       "      <th>ER_positive_overlaps</th>\n",
       "      <th>ER_negative_overlaps</th>\n",
       "      <th>qval</th>\n",
       "    </tr>\n",
       "    <tr>\n",
       "      <th>log2FC</th>\n",
       "      <th></th>\n",
       "      <th></th>\n",
       "      <th></th>\n",
       "      <th></th>\n",
       "      <th></th>\n",
       "    </tr>\n",
       "  </thead>\n",
       "  <tbody>\n",
       "    <tr>\n",
       "      <th>0.0</th>\n",
       "      <td>29540.0</td>\n",
       "      <td>29664.0</td>\n",
       "      <td>20007.0</td>\n",
       "      <td>41349.0</td>\n",
       "      <td>0.05</td>\n",
       "    </tr>\n",
       "    <tr>\n",
       "      <th>0.5</th>\n",
       "      <td>28782.0</td>\n",
       "      <td>28062.0</td>\n",
       "      <td>18953.0</td>\n",
       "      <td>37575.0</td>\n",
       "      <td>0.05</td>\n",
       "    </tr>\n",
       "    <tr>\n",
       "      <th>1.0</th>\n",
       "      <td>21209.0</td>\n",
       "      <td>20472.0</td>\n",
       "      <td>10038.0</td>\n",
       "      <td>18629.0</td>\n",
       "      <td>0.05</td>\n",
       "    </tr>\n",
       "    <tr>\n",
       "      <th>2.0</th>\n",
       "      <td>6227.0</td>\n",
       "      <td>6963.0</td>\n",
       "      <td>1731.0</td>\n",
       "      <td>3571.0</td>\n",
       "      <td>0.05</td>\n",
       "    </tr>\n",
       "  </tbody>\n",
       "</table>\n",
       "</div>"
      ],
      "text/plain": [
       "        ER_positive_specific  ER_negative_specific  ER_positive_overlaps  \\\n",
       "log2FC                                                                     \n",
       "0.0                  29540.0               29664.0               20007.0   \n",
       "0.5                  28782.0               28062.0               18953.0   \n",
       "1.0                  21209.0               20472.0               10038.0   \n",
       "2.0                   6227.0                6963.0                1731.0   \n",
       "\n",
       "        ER_negative_overlaps  qval  \n",
       "log2FC                              \n",
       "0.0                  41349.0  0.05  \n",
       "0.5                  37575.0  0.05  \n",
       "1.0                  18629.0  0.05  \n",
       "2.0                   3571.0  0.05  "
      ]
     },
     "execution_count": 11,
     "metadata": {},
     "output_type": "execute_result"
    }
   ],
   "source": [
    "FC_list_lengths_df"
   ]
  },
  {
   "cell_type": "code",
   "execution_count": 12,
   "metadata": {},
   "outputs": [
    {
     "data": {
      "image/png": "[encoded data removed]",
      "text/plain": [
       "<Figure size 216x216 with 1 Axes>"
      ]
     },
     "metadata": {
      "needs_background": "light"
     },
     "output_type": "display_data"
    }
   ],
   "source": [
    "qval_factors = [-4,-6,-8]\n",
    "max_qval = 5*10**max(qval_factors)\n",
    "lfc = 0.5\n",
    "\n",
    "#test lower p value, test out some different qvalues\n",
    "qval_list_lengths_df = pd.DataFrame()\n",
    "qval_list_lengths_df.index.name = 'qval'\n",
    "\n",
    "\n",
    "#make a figure of the different log fold changes\n",
    "fig,ax= plt.subplots(figsize = (3,3))\n",
    "\n",
    "sample_set = results[results['Peak_Name'].isin(random_sample)]\n",
    "sample_set = sample_set[(np.abs(sample_set['log2FoldChange'])<=lfc) | (np.abs(sample_set['padj'])>max_qval)]\n",
    "sample_set.plot.scatter(x = 'neg_log2_padj',y='log2FoldChange', alpha = 0.2, ax=ax, color='tab:grey', s = 10)\n",
    "blue = np.array(matplotlib.colors.to_rgb('tab:blue'))\n",
    "orange = np.array(matplotlib.colors.to_rgb('tab:orange'))\n",
    "\n",
    "\n",
    "\n",
    "for i in range(len(qval_factors)):\n",
    "    factor = qval_factors[i]\n",
    "    qval = 5*10**factor\n",
    "    qval_string = '5e'+str(factor)\n",
    "\n",
    "    if i+1<len(qval_factors):\n",
    "        next_qval = 5*10**qval_factors[i+1]\n",
    "    else:\n",
    "        next_qval = 0\n",
    "    \n",
    "    positive_specific = mbc_specific_df[(mbc_specific_df['padj']<qval) & (mbc_specific_df['log2FoldChange']>lfc)]\n",
    "    negative_specific = mbc_specific_df[(mbc_specific_df['padj']<qval) & (mbc_specific_df['log2FoldChange']<-lfc)]\n",
    "\n",
    "    positive_overlaps = mbc_overlaps_df[(mbc_overlaps_df['padj']<qval) & (mbc_overlaps_df['log2FoldChange']>lfc)]\n",
    "    negative_overlaps = mbc_overlaps_df[(mbc_overlaps_df['padj']<qval) & (mbc_overlaps_df['log2FoldChange']<-lfc)]\n",
    "\n",
    "    list_lengths_dict = {'ER_positive_specific':len(positive_specific),\n",
    "           'ER_negative_specific':len(negative_specific),\n",
    "           'ER_positive_overlaps':len(positive_overlaps),\n",
    "           'ER_negative_overlaps':len(negative_overlaps)}\n",
    "    \n",
    "    qval_list_lengths_df = qval_list_lengths_df.append(pd.Series(list_lengths_dict, name = qval))\n",
    "      \n",
    "    #export\n",
    "    positive_specific.to_csv('../sites_by_qval/ER_pos_specific.'+qval_string+'_qval.DESeq2.txt', sep='\\t',index=False)\n",
    "    negative_specific.to_csv('../sites_by_qval/ER_neg_specific.'+qval_string+'_qval.DESeq2.txt', sep='\\t',index=False)\n",
    "\n",
    "    positive_overlaps.to_csv('../sites_by_qval/ER_pos_heme.'+qval_string+'_qval.DESeq2.txt', sep='\\t',index=False)\n",
    "    negative_overlaps.to_csv('../sites_by_qval/ER_neg_heme.'+qval_string+'_qval.DESeq2.txt', sep='\\t',index=False)\n",
    "\n",
    "    #plot the data\n",
    "    pos_color = tuple(1-(1-i/4)*(1-blue))\n",
    "    neg_color = tuple(1-(1-i/4)*(1-orange))\n",
    "    \n",
    "    positive_specific[(positive_specific['padj']>=next_qval) & (positive_specific['Peak_Name'].isin(random_sample))].plot.scatter(x = 'neg_log2_padj',y='log2FoldChange', alpha = 0.2, ax=ax, color=pos_color, s = 10)\n",
    "    negative_specific[(negative_specific['padj']>=next_qval) & (negative_specific['Peak_Name'].isin(random_sample))].plot.scatter(x = 'neg_log2_padj',y='log2FoldChange', alpha = 0.2, ax=ax, color=neg_color, s = 10)\n",
    "    \n",
    "    positive_overlaps[(positive_overlaps['padj']>=next_qval) & (positive_overlaps['Peak_Name'].isin(random_sample))].plot.scatter(x = 'neg_log2_padj',y='log2FoldChange', alpha = 0.2, ax=ax, color=pos_color, s = 10)\n",
    "    negative_overlaps[(negative_overlaps['padj']>=next_qval) & (negative_overlaps['Peak_Name'].isin(random_sample))].plot.scatter(x = 'neg_log2_padj',y='log2FoldChange', alpha = 0.2, ax=ax, color=neg_color, s = 10)\n",
    "    \n",
    "    ax.axvline(x=-np.log2(qval), color='lightgrey',dashes=(2,2))\n",
    "    \n",
    "    \n",
    "ax.set_title('BRCA ATAC sites by qval')\n",
    "fig.tight_layout()\n",
    "ax.axhline(y=lfc, color='lightgrey',dashes=(2,2))    \n",
    "ax.axhline(y=-lfc, color='lightgrey',dashes=(2,2))    \n",
    "fig.savefig('../plots/qval_butterfly_plot.png')\n",
    "\n",
    "\n",
    "qval_list_lengths_df['log2FC']=lfc\n",
    "del(factor,qval_factors,qval,qval_string,next_qval,lfc)\n",
    "\n"
   ]
  },
  {
   "cell_type": "code",
   "execution_count": 13,
   "metadata": {},
   "outputs": [
    {
     "data": {
      "text/html": [
       "<div>\n",
       "<style scoped>\n",
       "    .dataframe tbody tr th:only-of-type {\n",
       "        vertical-align: middle;\n",
       "    }\n",
       "\n",
       "    .dataframe tbody tr th {\n",
       "        vertical-align: top;\n",
       "    }\n",
       "\n",
       "    .dataframe thead th {\n",
       "        text-align: right;\n",
       "    }\n",
       "</style>\n",
       "<table border=\"1\" class=\"dataframe\">\n",
       "  <thead>\n",
       "    <tr style=\"text-align: right;\">\n",
       "      <th></th>\n",
       "      <th>ER_positive_specific</th>\n",
       "      <th>ER_negative_specific</th>\n",
       "      <th>ER_positive_overlaps</th>\n",
       "      <th>ER_negative_overlaps</th>\n",
       "      <th>log2FC</th>\n",
       "    </tr>\n",
       "    <tr>\n",
       "      <th>qval</th>\n",
       "      <th></th>\n",
       "      <th></th>\n",
       "      <th></th>\n",
       "      <th></th>\n",
       "      <th></th>\n",
       "    </tr>\n",
       "  </thead>\n",
       "  <tbody>\n",
       "    <tr>\n",
       "      <th>5.000000e-04</th>\n",
       "      <td>18240.0</td>\n",
       "      <td>19347.0</td>\n",
       "      <td>9930.0</td>\n",
       "      <td>22365.0</td>\n",
       "      <td>0.5</td>\n",
       "    </tr>\n",
       "    <tr>\n",
       "      <th>5.000000e-06</th>\n",
       "      <td>11820.0</td>\n",
       "      <td>13260.0</td>\n",
       "      <td>5600.0</td>\n",
       "      <td>13136.0</td>\n",
       "      <td>0.5</td>\n",
       "    </tr>\n",
       "    <tr>\n",
       "      <th>5.000000e-08</th>\n",
       "      <td>7810.0</td>\n",
       "      <td>9098.0</td>\n",
       "      <td>3303.0</td>\n",
       "      <td>7942.0</td>\n",
       "      <td>0.5</td>\n",
       "    </tr>\n",
       "  </tbody>\n",
       "</table>\n",
       "</div>"
      ],
      "text/plain": [
       "              ER_positive_specific  ER_negative_specific  \\\n",
       "qval                                                       \n",
       "5.000000e-04               18240.0               19347.0   \n",
       "5.000000e-06               11820.0               13260.0   \n",
       "5.000000e-08                7810.0                9098.0   \n",
       "\n",
       "              ER_positive_overlaps  ER_negative_overlaps  log2FC  \n",
       "qval                                                              \n",
       "5.000000e-04                9930.0               22365.0     0.5  \n",
       "5.000000e-06                5600.0               13136.0     0.5  \n",
       "5.000000e-08                3303.0                7942.0     0.5  "
      ]
     },
     "execution_count": 13,
     "metadata": {},
     "output_type": "execute_result"
    }
   ],
   "source": [
    "qval_list_lengths_df"
   ]
  },
  {
   "cell_type": "code",
   "execution_count": 14,
   "metadata": {},
   "outputs": [
    {
     "name": "stdout",
     "output_type": "stream",
     "text": [
      "removing /fh/fast/ha_g/user/adoebley/projects/griffin_revisions_1/sites/TCGA_ATAC/ER_differential/scripts/tmp/pybedtools.2lgwi5ss.tmp\n",
      "removing /fh/fast/ha_g/user/adoebley/projects/griffin_revisions_1/sites/TCGA_ATAC/ER_differential/scripts/tmp/pybedtools.yojb5f_j.tmp\n",
      "removing /fh/fast/ha_g/user/adoebley/projects/griffin_revisions_1/sites/TCGA_ATAC/ER_differential/scripts/tmp/pybedtools.9rr49xib.tmp\n",
      "removing /fh/fast/ha_g/user/adoebley/projects/griffin_revisions_1/sites/TCGA_ATAC/ER_differential/scripts/tmp/pybedtools.e5dhewdt.tmp\n",
      "removing /fh/fast/ha_g/user/adoebley/projects/griffin_revisions_1/sites/TCGA_ATAC/ER_differential/scripts/tmp/pybedtools.ltftnemo.tmp\n"
     ]
    }
   ],
   "source": [
    "pybedtools.cleanup('all')"
   ]
  },
  {
   "cell_type": "code",
   "execution_count": 15,
   "metadata": {},
   "outputs": [],
   "source": [
    "os.removedirs('tmp')"
   ]
  },
  {
   "cell_type": "code",
   "execution_count": 16,
   "metadata": {},
   "outputs": [
    {
     "data": {
      "text/html": [
       "<div>\n",
       "<style scoped>\n",
       "    .dataframe tbody tr th:only-of-type {\n",
       "        vertical-align: middle;\n",
       "    }\n",
       "\n",
       "    .dataframe tbody tr th {\n",
       "        vertical-align: top;\n",
       "    }\n",
       "\n",
       "    .dataframe thead th {\n",
       "        text-align: right;\n",
       "    }\n",
       "</style>\n",
       "<table border=\"1\" class=\"dataframe\">\n",
       "  <thead>\n",
       "    <tr style=\"text-align: right;\">\n",
       "      <th></th>\n",
       "      <th>qval</th>\n",
       "      <th>ER_positive_specific</th>\n",
       "      <th>ER_negative_specific</th>\n",
       "      <th>ER_positive_overlaps</th>\n",
       "      <th>ER_negative_overlaps</th>\n",
       "      <th>log2FC</th>\n",
       "    </tr>\n",
       "  </thead>\n",
       "  <tbody>\n",
       "    <tr>\n",
       "      <th>0</th>\n",
       "      <td>5.000000e-04</td>\n",
       "      <td>18240.0</td>\n",
       "      <td>19347.0</td>\n",
       "      <td>9930.0</td>\n",
       "      <td>22365.0</td>\n",
       "      <td>0.5</td>\n",
       "    </tr>\n",
       "    <tr>\n",
       "      <th>1</th>\n",
       "      <td>5.000000e-06</td>\n",
       "      <td>11820.0</td>\n",
       "      <td>13260.0</td>\n",
       "      <td>5600.0</td>\n",
       "      <td>13136.0</td>\n",
       "      <td>0.5</td>\n",
       "    </tr>\n",
       "    <tr>\n",
       "      <th>2</th>\n",
       "      <td>5.000000e-08</td>\n",
       "      <td>7810.0</td>\n",
       "      <td>9098.0</td>\n",
       "      <td>3303.0</td>\n",
       "      <td>7942.0</td>\n",
       "      <td>0.5</td>\n",
       "    </tr>\n",
       "  </tbody>\n",
       "</table>\n",
       "</div>"
      ],
      "text/plain": [
       "           qval  ER_positive_specific  ER_negative_specific  \\\n",
       "0  5.000000e-04               18240.0               19347.0   \n",
       "1  5.000000e-06               11820.0               13260.0   \n",
       "2  5.000000e-08                7810.0                9098.0   \n",
       "\n",
       "   ER_positive_overlaps  ER_negative_overlaps  log2FC  \n",
       "0                9930.0               22365.0     0.5  \n",
       "1                5600.0               13136.0     0.5  \n",
       "2                3303.0                7942.0     0.5  "
      ]
     },
     "execution_count": 16,
     "metadata": {},
     "output_type": "execute_result"
    }
   ],
   "source": [
    "qval_list_lengths_df.reset_index()"
   ]
  },
  {
   "cell_type": "code",
   "execution_count": 17,
   "metadata": {},
   "outputs": [
    {
     "data": {
      "text/html": [
       "<div>\n",
       "<style scoped>\n",
       "    .dataframe tbody tr th:only-of-type {\n",
       "        vertical-align: middle;\n",
       "    }\n",
       "\n",
       "    .dataframe tbody tr th {\n",
       "        vertical-align: top;\n",
       "    }\n",
       "\n",
       "    .dataframe thead th {\n",
       "        text-align: right;\n",
       "    }\n",
       "</style>\n",
       "<table border=\"1\" class=\"dataframe\">\n",
       "  <thead>\n",
       "    <tr style=\"text-align: right;\">\n",
       "      <th></th>\n",
       "      <th>log2FC</th>\n",
       "      <th>ER_positive_specific</th>\n",
       "      <th>ER_negative_specific</th>\n",
       "      <th>ER_positive_overlaps</th>\n",
       "      <th>ER_negative_overlaps</th>\n",
       "      <th>qval</th>\n",
       "    </tr>\n",
       "  </thead>\n",
       "  <tbody>\n",
       "    <tr>\n",
       "      <th>0</th>\n",
       "      <td>0.0</td>\n",
       "      <td>29540.0</td>\n",
       "      <td>29664.0</td>\n",
       "      <td>20007.0</td>\n",
       "      <td>41349.0</td>\n",
       "      <td>0.05</td>\n",
       "    </tr>\n",
       "    <tr>\n",
       "      <th>1</th>\n",
       "      <td>0.5</td>\n",
       "      <td>28782.0</td>\n",
       "      <td>28062.0</td>\n",
       "      <td>18953.0</td>\n",
       "      <td>37575.0</td>\n",
       "      <td>0.05</td>\n",
       "    </tr>\n",
       "    <tr>\n",
       "      <th>2</th>\n",
       "      <td>1.0</td>\n",
       "      <td>21209.0</td>\n",
       "      <td>20472.0</td>\n",
       "      <td>10038.0</td>\n",
       "      <td>18629.0</td>\n",
       "      <td>0.05</td>\n",
       "    </tr>\n",
       "    <tr>\n",
       "      <th>3</th>\n",
       "      <td>2.0</td>\n",
       "      <td>6227.0</td>\n",
       "      <td>6963.0</td>\n",
       "      <td>1731.0</td>\n",
       "      <td>3571.0</td>\n",
       "      <td>0.05</td>\n",
       "    </tr>\n",
       "  </tbody>\n",
       "</table>\n",
       "</div>"
      ],
      "text/plain": [
       "   log2FC  ER_positive_specific  ER_negative_specific  ER_positive_overlaps  \\\n",
       "0     0.0               29540.0               29664.0               20007.0   \n",
       "1     0.5               28782.0               28062.0               18953.0   \n",
       "2     1.0               21209.0               20472.0               10038.0   \n",
       "3     2.0                6227.0                6963.0                1731.0   \n",
       "\n",
       "   ER_negative_overlaps  qval  \n",
       "0               41349.0  0.05  \n",
       "1               37575.0  0.05  \n",
       "2               18629.0  0.05  \n",
       "3                3571.0  0.05  "
      ]
     },
     "execution_count": 17,
     "metadata": {},
     "output_type": "execute_result"
    }
   ],
   "source": [
    "FC_list_lengths_df.reset_index()"
   ]
  },
  {
   "cell_type": "code",
   "execution_count": 18,
   "metadata": {},
   "outputs": [],
   "source": [
    "number_of_sites = FC_list_lengths_df.reset_index().append(qval_list_lengths_df.reset_index())\n",
    "number_of_sites['total_sites'] = number_of_sites[['ER_positive_specific','ER_negative_specific','ER_positive_overlaps','ER_negative_overlaps']].sum(axis=1)\n",
    "number_of_sites = number_of_sites[['qval','log2FC','ER_positive_specific','ER_negative_specific','ER_positive_overlaps','ER_negative_overlaps','total_sites']]\n",
    "number_of_sites[['ER_positive_specific','ER_negative_specific','ER_positive_overlaps','ER_negative_overlaps','total_sites']] = number_of_sites[['ER_positive_specific','ER_negative_specific','ER_positive_overlaps','ER_negative_overlaps','total_sites']].astype(int)\n"
   ]
  },
  {
   "cell_type": "code",
   "execution_count": 19,
   "metadata": {},
   "outputs": [],
   "source": [
    "number_of_sites.to_csv('ER_differential_sites_by_threshold.txt',sep='\\t',index=False)"
   ]
  },
  {
   "cell_type": "code",
   "execution_count": null,
   "metadata": {},
   "outputs": [],
   "source": []
  }
 ],
 "metadata": {
  "kernelspec": {
   "display_name": "Python 3",
   "language": "python",
   "name": "python3"
  },
  "language_info": {
   "codemirror_mode": {
    "name": "ipython",
    "version": 3
   },
   "file_extension": ".py",
   "mimetype": "text/x-python",
   "name": "python",
   "nbconvert_exporter": "python",
   "pygments_lexer": "ipython3",
   "version": "3.7.4"
  }
 },
 "nbformat": 4,
 "nbformat_minor": 4
}
