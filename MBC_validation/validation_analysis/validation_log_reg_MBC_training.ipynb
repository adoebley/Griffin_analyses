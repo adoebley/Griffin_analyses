{
 "cells": [
  {
   "cell_type": "code",
   "execution_count": 1,
   "metadata": {},
   "outputs": [],
   "source": [
    "import numpy as np\n",
    "import pandas as pd\n",
    "import time\n",
    "from matplotlib import pyplot as plt\n",
    "%matplotlib inline\n",
    "\n",
    "from sklearn.linear_model import LogisticRegression\n",
    "from sklearn.preprocessing import StandardScaler\n",
    "from sklearn.metrics import roc_curve,auc\n"
   ]
  },
  {
   "cell_type": "code",
   "execution_count": 2,
   "metadata": {},
   "outputs": [],
   "source": [
    "outfile_name = 'validation'\n",
    "iterations = 1000"
   ]
  },
  {
   "cell_type": "code",
   "execution_count": 3,
   "metadata": {},
   "outputs": [
    {
     "data": {
      "text/plain": [
       "'/fh/fast/ha_g/user/adoebley/projects/griffin_revisions_1/MBC_validation/validation_analysis'"
      ]
     },
     "execution_count": 3,
     "metadata": {},
     "output_type": "execute_result"
    }
   ],
   "source": [
    "import os\n",
    "os.getcwd()"
   ]
  },
  {
   "cell_type": "code",
   "execution_count": 4,
   "metadata": {},
   "outputs": [],
   "source": [
    "site_group = '5e-4_qval'\n",
    "\n",
    "#parameters\n",
    "in_file = '../../MBC/ATAC_nucleosome_profiling/analysis/merged_data/'+site_group+'_reformatted.txt'\n",
    "cval_file = '../../MBC/ATAC_nucleosome_profiling/analysis/logreg_results/'+site_group+'_logreg_results/'+site_group+'.c_values.txt'\n",
    "\n",
    "test_data_file = 'merged_data/'+site_group+'_validation_reformatted.txt'\n"
   ]
  },
  {
   "cell_type": "code",
   "execution_count": 5,
   "metadata": {},
   "outputs": [
    {
     "name": "stdout",
     "output_type": "stream",
     "text": [
      "Features 12\n",
      "Total samples: 254\n"
     ]
    },
    {
     "data": {
      "text/plain": [
       "central_coverage_ER_neg_heme.5e-4_qval       -1.423184e-15\n",
       "mean_coverage_ER_neg_heme.5e-4_qval           6.273197e-15\n",
       "amplitude_ER_neg_heme.5e-4_qval              -3.601668e-16\n",
       "central_coverage_ER_pos_heme.5e-4_qval        1.328771e-15\n",
       "mean_coverage_ER_pos_heme.5e-4_qval           8.437695e-15\n",
       "amplitude_ER_pos_heme.5e-4_qval               3.846442e-17\n",
       "central_coverage_ER_pos_specific.5e-4_qval   -1.307790e-15\n",
       "mean_coverage_ER_pos_specific.5e-4_qval      -8.946474e-15\n",
       "amplitude_ER_pos_specific.5e-4_qval           5.594825e-17\n",
       "central_coverage_ER_neg_specific.5e-4_qval    1.531583e-15\n",
       "mean_coverage_ER_neg_specific.5e-4_qval       3.601668e-15\n",
       "amplitude_ER_neg_specific.5e-4_qval           1.328771e-16\n",
       "dtype: float64"
      ]
     },
     "execution_count": 5,
     "metadata": {},
     "output_type": "execute_result"
    }
   ],
   "source": [
    "#import training data\n",
    "data = pd.read_csv(in_file, sep='\\t')\n",
    "data = data.set_index('sample')\n",
    "\n",
    "#get features and exclude all other columns\n",
    "features = data.columns[(data.columns.str.startswith('central_cov')) | (data.columns.str.startswith('mean_cov')) | (data.columns.str.startswith('amplitude'))]\n",
    "# features = data.columns[(data.columns.str.startswith('amplitude'))]\n",
    "\n",
    "print('Features',len(features))\n",
    "\n",
    "data = data.sort_index()\n",
    "status_col = 'revisions_ER_status_binary'\n",
    "data['status'] = data[status_col].replace('+',1).replace('-',0)\n",
    "\n",
    "print('Total samples:',len(data))\n",
    "\n",
    "#scale data\n",
    "scaler = StandardScaler()\n",
    "data[features] = scaler.fit_transform(data[features])\n",
    "data[features].mean()\n"
   ]
  },
  {
   "cell_type": "code",
   "execution_count": 6,
   "metadata": {},
   "outputs": [
    {
     "name": "stdout",
     "output_type": "stream",
     "text": [
      "test samples 144\n"
     ]
    },
    {
     "data": {
      "text/plain": [
       "central_coverage_ER_neg_heme.5e-4_qval        0.369014\n",
       "mean_coverage_ER_neg_heme.5e-4_qval           0.344394\n",
       "amplitude_ER_neg_heme.5e-4_qval               0.082355\n",
       "central_coverage_ER_pos_heme.5e-4_qval        0.294134\n",
       "mean_coverage_ER_pos_heme.5e-4_qval           0.400497\n",
       "amplitude_ER_pos_heme.5e-4_qval              -0.239409\n",
       "central_coverage_ER_pos_specific.5e-4_qval    0.309752\n",
       "mean_coverage_ER_pos_specific.5e-4_qval       0.415392\n",
       "amplitude_ER_pos_specific.5e-4_qval          -0.395851\n",
       "central_coverage_ER_neg_specific.5e-4_qval    0.418454\n",
       "mean_coverage_ER_neg_specific.5e-4_qval       0.387354\n",
       "amplitude_ER_neg_specific.5e-4_qval          -0.522310\n",
       "dtype: float64"
      ]
     },
     "execution_count": 6,
     "metadata": {},
     "output_type": "execute_result"
    }
   ],
   "source": [
    "#import data\n",
    "test_data = pd.read_csv(test_data_file, sep='\\t')\n",
    "test_data = test_data.set_index('sample')\n",
    "\n",
    "#test data\n",
    "print('test samples',len(test_data))\n",
    "\n",
    "test_data = test_data.sort_index()\n",
    "\n",
    "test_data[features] = scaler.transform(test_data[features])\n",
    "test_data[features].mean()"
   ]
  },
  {
   "cell_type": "code",
   "execution_count": 7,
   "metadata": {},
   "outputs": [
    {
     "name": "stdout",
     "output_type": "stream",
     "text": [
      "best_c 0.1\n"
     ]
    }
   ],
   "source": [
    "cvals = pd.read_csv(cval_file,sep='\\t', header = None)\n",
    "best_c = cvals.mode().values[0][0]\n",
    "print('best_c',best_c)"
   ]
  },
  {
   "cell_type": "code",
   "execution_count": 8,
   "metadata": {},
   "outputs": [
    {
     "data": {
      "text/plain": [
       "1    133\n",
       "0    121\n",
       "Name: status, dtype: int64"
      ]
     },
     "execution_count": 8,
     "metadata": {},
     "output_type": "execute_result"
    }
   ],
   "source": [
    "data['status'].value_counts()"
   ]
  },
  {
   "cell_type": "code",
   "execution_count": 9,
   "metadata": {},
   "outputs": [
    {
     "name": "stdout",
     "output_type": "stream",
     "text": [
      "training accuracy 0.858\n"
     ]
    }
   ],
   "source": [
    "#train a  model on the full training dataset \n",
    "model = LogisticRegression(class_weight='balanced', max_iter=500, C=best_c)\n",
    "model.fit(data[features], data['status'])\n",
    "\n",
    "#predict the test data\n",
    "pred = model.predict(data[features])\n",
    "prob = model.predict_proba(data[features])\n",
    "\n",
    "data['pred']= pred\n",
    "data['prob'] = prob[:,1]\n",
    "\n",
    "print('training accuracy',np.round(sum(data['status'] == data['pred'])/len(data),3))"
   ]
  },
  {
   "cell_type": "code",
   "execution_count": 10,
   "metadata": {},
   "outputs": [],
   "source": [
    "#predict the test data\n",
    "pred = model.predict(test_data[features])\n",
    "prob = model.predict_proba(test_data[features])\n",
    "\n",
    "test_data['prediction']= pred\n",
    "test_data['probability'] = prob[:,1]\n",
    "\n",
    "test_data['accuracy'] = np.where(test_data['prediction']==test_data['status'],1,0)\n"
   ]
  },
  {
   "cell_type": "code",
   "execution_count": 11,
   "metadata": {},
   "outputs": [
    {
     "name": "stdout",
     "output_type": "stream",
     "text": [
      "exporting:\n",
      "MBC_Stover                103\n",
      "MBC_Dawson_downsampled     27\n",
      "BRCA_Ghana_ULP             14\n",
      "Name: dataset, dtype: int64\n",
      "for bootstrapping:\n"
     ]
    },
    {
     "data": {
      "text/plain": [
       "MBC_Stover                30\n",
       "MBC_Dawson_downsampled    27\n",
       "BRCA_Ghana_ULP            14\n",
       "Name: dataset, dtype: int64"
      ]
     },
     "execution_count": 11,
     "metadata": {},
     "output_type": "execute_result"
    }
   ],
   "source": [
    "#group test data by tumor fraction\n",
    "test_data['tfx_group'] = np.where(test_data['tumor_fraction']>=0.1,\">0.1_TFx\",test_data['tumor_fraction'])\n",
    "test_data['tfx_group'] = np.where((test_data['tumor_fraction']>=0.05) & (test_data['tumor_fraction']<0.1),\"0.05-0.1_TFx\",test_data['tfx_group'])\n",
    "test_data['tfx_group'] = np.where((test_data['tumor_fraction']<0.05),\"<0.05_TFx\",test_data['tfx_group'])\n",
    "\n",
    "#get only the ULP\n",
    "test_data = test_data[test_data['dataset'].isin(['MBC_Stover','BRCA_Ghana_ULP','MBC_Dawson_downsampled'])]\n",
    "print('exporting:')\n",
    "print(test_data['dataset'].value_counts())\n",
    "#export results for all samples\n",
    "test_data.to_csv('validation_results/'+site_group+'.probabilities.txt',sep='\\t')\n",
    "\n",
    "#exclude second timepoints in the Stover Dataset for further benchmarking\n",
    "test_data = test_data[(test_data['timepoint_within_pt_ctDNAonly']==1) | ~(test_data['dataset']=='MBC_Stover')].copy()\n",
    "\n",
    "print('for bootstrapping:')\n",
    "test_data['dataset'].value_counts()"
   ]
  },
  {
   "cell_type": "code",
   "execution_count": 12,
   "metadata": {},
   "outputs": [
    {
     "data": {
      "text/plain": [
       "dataset                 tfx_group   \n",
       "BRCA_Ghana_ULP          0.05-0.1_TFx     4\n",
       "                        <0.05_TFx        7\n",
       "                        >0.1_TFx         3\n",
       "MBC_Dawson_downsampled  0.05-0.1_TFx     2\n",
       "                        <0.05_TFx       13\n",
       "                        >0.1_TFx        12\n",
       "MBC_Stover              0.05-0.1_TFx     6\n",
       "                        <0.05_TFx       15\n",
       "                        >0.1_TFx         9\n",
       "dtype: int64"
      ]
     },
     "execution_count": 12,
     "metadata": {},
     "output_type": "execute_result"
    }
   ],
   "source": [
    "test_data.sort_values(by = ['dataset','tfx_group'])[['dataset','tfx_group']].value_counts(sort=False)"
   ]
  },
  {
   "cell_type": "code",
   "execution_count": 13,
   "metadata": {},
   "outputs": [
    {
     "name": "stdout",
     "output_type": "stream",
     "text": [
      "0\n"
     ]
    },
    {
     "name": "stderr",
     "output_type": "stream",
     "text": [
      "/home/adoebley/.local/lib/python3.7/site-packages/sklearn/metrics/_ranking.py:813: UndefinedMetricWarning: No positive samples in y_true, true positive value should be meaningless\n",
      "  UndefinedMetricWarning)\n",
      "/home/adoebley/.local/lib/python3.7/site-packages/sklearn/metrics/_ranking.py:805: UndefinedMetricWarning: No negative samples in y_true, false positive value should be meaningless\n",
      "  UndefinedMetricWarning)\n"
     ]
    },
    {
     "name": "stdout",
     "output_type": "stream",
     "text": [
      "100\n",
      "200\n",
      "300\n",
      "400\n",
      "500\n",
      "600\n",
      "700\n",
      "800\n",
      "900\n"
     ]
    }
   ],
   "source": [
    "#get bootstrap values for each dataset within the validation data\n",
    "\n",
    "#dataset_AUCs = pd.DataFrame()\n",
    "dataset_accuracies = pd.DataFrame()\n",
    "\n",
    "#bootstrap a training set with replacement    \n",
    "for i in range(1000):\n",
    "    if i %100==0:\n",
    "        print(i)\n",
    "    current_results = pd.DataFrame()   \n",
    "    for dataset,df1 in test_data.groupby('dataset'):\n",
    "        current_sample = df1.sample(len(df1), replace = True, random_state = i+100)[['probability','status','tfx_group','dataset','accuracy']]        \n",
    "        del(df1)\n",
    "        \n",
    "        #get the metrics for the full dataset\n",
    "        fpr, tpr, _ = roc_curve(current_sample['status'].values,current_sample['probability'])\n",
    "        AUC = auc(fpr,tpr)\n",
    "        accuracy = current_sample['accuracy'].mean()\n",
    "\n",
    "        #save the metrics for the full dataset\n",
    "        current_results = current_results.append({'group':'All samples','dataset':dataset,'AUC':AUC,'Accuracy':accuracy}, ignore_index=True)\n",
    "\n",
    "        del(fpr,tpr,AUC,accuracy)\n",
    "\n",
    "        #get the metrics for each tfx group\n",
    "        for group,df2 in current_sample.groupby('tfx_group'):\n",
    "            fpr, tpr, _ = roc_curve(df2['status'],df2['probability'])\n",
    "            AUC = auc(fpr,tpr)\n",
    "            accuracy = df2['accuracy'].mean()\n",
    "\n",
    "            current_results = current_results.append({'group':group,'dataset':dataset,'AUC':AUC,'Accuracy':accuracy}, ignore_index=True)\n",
    "\n",
    "            del(AUC,fpr,tpr,accuracy)\n",
    "\n",
    "    #dataset_AUCs = dataset_AUCs.append(pd.DataFrame(current_results.set_index(['dataset','group'])['AUC']).T, ignore_index=True)\n",
    "    dataset_accuracies = dataset_accuracies.append(pd.DataFrame(current_results.set_index(['dataset','group'])['Accuracy']).T, ignore_index=True)\n"
   ]
  },
  {
   "cell_type": "code",
   "execution_count": 14,
   "metadata": {},
   "outputs": [
    {
     "data": {
      "text/html": [
       "<div>\n",
       "<style scoped>\n",
       "    .dataframe tbody tr th:only-of-type {\n",
       "        vertical-align: middle;\n",
       "    }\n",
       "\n",
       "    .dataframe tbody tr th {\n",
       "        vertical-align: top;\n",
       "    }\n",
       "\n",
       "    .dataframe thead th {\n",
       "        text-align: right;\n",
       "    }\n",
       "</style>\n",
       "<table border=\"1\" class=\"dataframe\">\n",
       "  <thead>\n",
       "    <tr style=\"text-align: right;\">\n",
       "      <th></th>\n",
       "      <th></th>\n",
       "      <th>bootstrap_median</th>\n",
       "      <th>mean_accuracy</th>\n",
       "      <th>mean_accuracy_overall</th>\n",
       "    </tr>\n",
       "    <tr>\n",
       "      <th>dataset</th>\n",
       "      <th>group</th>\n",
       "      <th></th>\n",
       "      <th></th>\n",
       "      <th></th>\n",
       "    </tr>\n",
       "  </thead>\n",
       "  <tbody>\n",
       "    <tr>\n",
       "      <th rowspan=\"4\" valign=\"top\">BRCA_Ghana_ULP</th>\n",
       "      <th>0.05-0.1_TFx</th>\n",
       "      <td>1.000000</td>\n",
       "      <td>1.000000</td>\n",
       "      <td>NaN</td>\n",
       "    </tr>\n",
       "    <tr>\n",
       "      <th>&lt;0.05_TFx</th>\n",
       "      <td>0.571429</td>\n",
       "      <td>0.571429</td>\n",
       "      <td>NaN</td>\n",
       "    </tr>\n",
       "    <tr>\n",
       "      <th>&gt;0.1_TFx</th>\n",
       "      <td>1.000000</td>\n",
       "      <td>1.000000</td>\n",
       "      <td>NaN</td>\n",
       "    </tr>\n",
       "    <tr>\n",
       "      <th>All samples</th>\n",
       "      <td>0.785714</td>\n",
       "      <td>NaN</td>\n",
       "      <td>0.785714</td>\n",
       "    </tr>\n",
       "    <tr>\n",
       "      <th rowspan=\"4\" valign=\"top\">MBC_Dawson_downsampled</th>\n",
       "      <th>0.05-0.1_TFx</th>\n",
       "      <td>1.000000</td>\n",
       "      <td>1.000000</td>\n",
       "      <td>NaN</td>\n",
       "    </tr>\n",
       "    <tr>\n",
       "      <th>&lt;0.05_TFx</th>\n",
       "      <td>0.700000</td>\n",
       "      <td>0.692308</td>\n",
       "      <td>NaN</td>\n",
       "    </tr>\n",
       "    <tr>\n",
       "      <th>&gt;0.1_TFx</th>\n",
       "      <td>1.000000</td>\n",
       "      <td>1.000000</td>\n",
       "      <td>NaN</td>\n",
       "    </tr>\n",
       "    <tr>\n",
       "      <th>All samples</th>\n",
       "      <td>0.851852</td>\n",
       "      <td>NaN</td>\n",
       "      <td>0.851852</td>\n",
       "    </tr>\n",
       "    <tr>\n",
       "      <th rowspan=\"4\" valign=\"top\">MBC_Stover</th>\n",
       "      <th>0.05-0.1_TFx</th>\n",
       "      <td>0.666667</td>\n",
       "      <td>0.666667</td>\n",
       "      <td>NaN</td>\n",
       "    </tr>\n",
       "    <tr>\n",
       "      <th>&lt;0.05_TFx</th>\n",
       "      <td>0.400000</td>\n",
       "      <td>0.400000</td>\n",
       "      <td>NaN</td>\n",
       "    </tr>\n",
       "    <tr>\n",
       "      <th>&gt;0.1_TFx</th>\n",
       "      <td>0.900000</td>\n",
       "      <td>0.888889</td>\n",
       "      <td>NaN</td>\n",
       "    </tr>\n",
       "    <tr>\n",
       "      <th>All samples</th>\n",
       "      <td>0.600000</td>\n",
       "      <td>NaN</td>\n",
       "      <td>0.600000</td>\n",
       "    </tr>\n",
       "  </tbody>\n",
       "</table>\n",
       "</div>"
      ],
      "text/plain": [
       "                                     bootstrap_median  mean_accuracy  \\\n",
       "dataset                group                                           \n",
       "BRCA_Ghana_ULP         0.05-0.1_TFx          1.000000       1.000000   \n",
       "                       <0.05_TFx             0.571429       0.571429   \n",
       "                       >0.1_TFx              1.000000       1.000000   \n",
       "                       All samples           0.785714            NaN   \n",
       "MBC_Dawson_downsampled 0.05-0.1_TFx          1.000000       1.000000   \n",
       "                       <0.05_TFx             0.700000       0.692308   \n",
       "                       >0.1_TFx              1.000000       1.000000   \n",
       "                       All samples           0.851852            NaN   \n",
       "MBC_Stover             0.05-0.1_TFx          0.666667       0.666667   \n",
       "                       <0.05_TFx             0.400000       0.400000   \n",
       "                       >0.1_TFx              0.900000       0.888889   \n",
       "                       All samples           0.600000            NaN   \n",
       "\n",
       "                                     mean_accuracy_overall  \n",
       "dataset                group                                \n",
       "BRCA_Ghana_ULP         0.05-0.1_TFx                    NaN  \n",
       "                       <0.05_TFx                       NaN  \n",
       "                       >0.1_TFx                        NaN  \n",
       "                       All samples                0.785714  \n",
       "MBC_Dawson_downsampled 0.05-0.1_TFx                    NaN  \n",
       "                       <0.05_TFx                       NaN  \n",
       "                       >0.1_TFx                        NaN  \n",
       "                       All samples                0.851852  \n",
       "MBC_Stover             0.05-0.1_TFx                    NaN  \n",
       "                       <0.05_TFx                       NaN  \n",
       "                       >0.1_TFx                        NaN  \n",
       "                       All samples                0.600000  "
      ]
     },
     "execution_count": 14,
     "metadata": {},
     "output_type": "execute_result"
    }
   ],
   "source": [
    "display_df = pd.DataFrame(dataset_accuracies.median()).rename(columns = {0:'bootstrap_median'})\n",
    "display_df['mean_accuracy'] = test_data[['accuracy','dataset','tfx_group']].groupby(['dataset','tfx_group']).mean()\n",
    "overall = test_data[['accuracy','dataset']].groupby(['dataset']).mean()\n",
    "overall['tfx_group'] = 'All samples'\n",
    "display_df['mean_accuracy_overall'] = overall.reset_index().set_index(['dataset','tfx_group'])\n",
    "display_df"
   ]
  },
  {
   "cell_type": "code",
   "execution_count": 15,
   "metadata": {},
   "outputs": [
    {
     "name": "stderr",
     "output_type": "stream",
     "text": [
      "/home/adoebley/.local/lib/python3.7/site-packages/sklearn/metrics/_ranking.py:805: UndefinedMetricWarning: No negative samples in y_true, false positive value should be meaningless\n",
      "  UndefinedMetricWarning)\n"
     ]
    }
   ],
   "source": [
    "#get bootstrap values for all validation data\n",
    "AUCs = pd.DataFrame()\n",
    "accuracies = pd.DataFrame()\n",
    "\n",
    "for i in range(iterations):\n",
    "    current_results = pd.DataFrame()\n",
    "    #bootstrap a training set with replacement\n",
    "    current_sample = test_data.sample(len(test_data), replace = True, random_state = i+100)[['probability','status','tfx_group','accuracy']]\n",
    "    \n",
    "    #get metrics for the current bootstrap\n",
    "    fpr, tpr, _ = roc_curve(current_sample['status'].values,current_sample['probability'])\n",
    "    AUC = auc(fpr,tpr)\n",
    "    accuracy = current_sample['accuracy'].mean() \n",
    "    current_results = current_results.append({'group':'All samples','AUC':AUC,'Accuracy':accuracy}, ignore_index=True)\n",
    "    del(fpr,tpr,AUC,accuracy)\n",
    "\n",
    "    #get metrics for >0.05 in the current bootstrap\n",
    "    df = current_sample[current_sample['tfx_group'].isin(['>0.1_TFx','0.05-0.1_TFx'])]\n",
    "    fpr, tpr, _ = roc_curve(df['status'].values,df['probability'])\n",
    "    AUC = auc(fpr,tpr)\n",
    "    accuracy = df['accuracy'].mean()\n",
    "    current_results = current_results.append({'group':'>0.05_TFx','AUC':AUC,'Accuracy':accuracy}, ignore_index=True)\n",
    "    del(df,fpr,tpr,AUC,accuracy)\n",
    "    \n",
    "    #get the mean for each tfx group\n",
    "    for group,df in current_sample.groupby('tfx_group'):\n",
    "        fpr, tpr, _ = roc_curve(df['status'],df['probability'])\n",
    "        AUC = auc(fpr,tpr)\n",
    "        accuracy = df['accuracy'].mean()\n",
    "        \n",
    "        current_results = current_results.append({'group':group,'AUC':AUC,'Accuracy':accuracy}, ignore_index=True)\n",
    "        \n",
    "        #print(group,len(df))\n",
    "        del(AUC,fpr,tpr)\n",
    "            \n",
    "    AUCs = AUCs.append(current_results.set_index('group')['AUC'], ignore_index=True)\n",
    "    accuracies = accuracies.append(current_results.set_index('group')['Accuracy'], ignore_index=True)\n"
   ]
  },
  {
   "cell_type": "code",
   "execution_count": null,
   "metadata": {},
   "outputs": [],
   "source": []
  },
  {
   "cell_type": "code",
   "execution_count": 16,
   "metadata": {},
   "outputs": [
    {
     "data": {
      "text/html": [
       "<div>\n",
       "<style scoped>\n",
       "    .dataframe tbody tr th:only-of-type {\n",
       "        vertical-align: middle;\n",
       "    }\n",
       "\n",
       "    .dataframe tbody tr th {\n",
       "        vertical-align: top;\n",
       "    }\n",
       "\n",
       "    .dataframe thead th {\n",
       "        text-align: right;\n",
       "    }\n",
       "</style>\n",
       "<table border=\"1\" class=\"dataframe\">\n",
       "  <thead>\n",
       "    <tr style=\"text-align: right;\">\n",
       "      <th></th>\n",
       "      <th>bootstrap_median</th>\n",
       "    </tr>\n",
       "  </thead>\n",
       "  <tbody>\n",
       "    <tr>\n",
       "      <th>All samples</th>\n",
       "      <td>0.732394</td>\n",
       "    </tr>\n",
       "    <tr>\n",
       "      <th>&gt;0.05_TFx</th>\n",
       "      <td>0.918919</td>\n",
       "    </tr>\n",
       "    <tr>\n",
       "      <th>0.05-0.1_TFx</th>\n",
       "      <td>0.846154</td>\n",
       "    </tr>\n",
       "    <tr>\n",
       "      <th>&lt;0.05_TFx</th>\n",
       "      <td>0.542857</td>\n",
       "    </tr>\n",
       "    <tr>\n",
       "      <th>&gt;0.1_TFx</th>\n",
       "      <td>0.960000</td>\n",
       "    </tr>\n",
       "  </tbody>\n",
       "</table>\n",
       "</div>"
      ],
      "text/plain": [
       "              bootstrap_median\n",
       "All samples           0.732394\n",
       ">0.05_TFx             0.918919\n",
       "0.05-0.1_TFx          0.846154\n",
       "<0.05_TFx             0.542857\n",
       ">0.1_TFx              0.960000"
      ]
     },
     "execution_count": 16,
     "metadata": {},
     "output_type": "execute_result"
    }
   ],
   "source": [
    "pd.DataFrame(accuracies.median()).rename(columns = {0:'bootstrap_median'})"
   ]
  },
  {
   "cell_type": "code",
   "execution_count": 17,
   "metadata": {},
   "outputs": [
    {
     "data": {
      "text/html": [
       "<div>\n",
       "<style scoped>\n",
       "    .dataframe tbody tr th:only-of-type {\n",
       "        vertical-align: middle;\n",
       "    }\n",
       "\n",
       "    .dataframe tbody tr th {\n",
       "        vertical-align: top;\n",
       "    }\n",
       "\n",
       "    .dataframe thead th {\n",
       "        text-align: right;\n",
       "    }\n",
       "</style>\n",
       "<table border=\"1\" class=\"dataframe\">\n",
       "  <thead>\n",
       "    <tr style=\"text-align: right;\">\n",
       "      <th></th>\n",
       "      <th>bootstrap_median</th>\n",
       "    </tr>\n",
       "  </thead>\n",
       "  <tbody>\n",
       "    <tr>\n",
       "      <th>All samples</th>\n",
       "      <td>0.753128</td>\n",
       "    </tr>\n",
       "    <tr>\n",
       "      <th>&gt;0.05_TFx</th>\n",
       "      <td>0.962441</td>\n",
       "    </tr>\n",
       "    <tr>\n",
       "      <th>0.05-0.1_TFx</th>\n",
       "      <td>0.900000</td>\n",
       "    </tr>\n",
       "    <tr>\n",
       "      <th>&lt;0.05_TFx</th>\n",
       "      <td>0.388489</td>\n",
       "    </tr>\n",
       "    <tr>\n",
       "      <th>&gt;0.1_TFx</th>\n",
       "      <td>0.984127</td>\n",
       "    </tr>\n",
       "  </tbody>\n",
       "</table>\n",
       "</div>"
      ],
      "text/plain": [
       "              bootstrap_median\n",
       "All samples           0.753128\n",
       ">0.05_TFx             0.962441\n",
       "0.05-0.1_TFx          0.900000\n",
       "<0.05_TFx             0.388489\n",
       ">0.1_TFx              0.984127"
      ]
     },
     "metadata": {},
     "output_type": "display_data"
    }
   ],
   "source": [
    "display(pd.DataFrame(AUCs.median()).rename(columns = {0:'bootstrap_median'}))"
   ]
  },
  {
   "cell_type": "code",
   "execution_count": 18,
   "metadata": {},
   "outputs": [],
   "source": [
    "\n",
    "dataset_accuracies.to_csv('validation_results/'+site_group+'.dataset_accuracies.txt',sep='\\t', index = False)\n",
    "\n",
    "AUCs.to_csv('validation_results/'+site_group+'.AUCs.txt',sep='\\t', index=False)\n",
    "accuracies.to_csv('validation_results/'+site_group+'.accuracies.txt',sep='\\t',index=False)\n"
   ]
  },
  {
   "cell_type": "code",
   "execution_count": 19,
   "metadata": {},
   "outputs": [
    {
     "data": {
      "text/plain": [
       "All samples     0.753128\n",
       ">0.05_TFx       0.962441\n",
       "0.05-0.1_TFx    0.900000\n",
       "<0.05_TFx       0.388489\n",
       ">0.1_TFx        0.984127\n",
       "dtype: float64"
      ]
     },
     "execution_count": 19,
     "metadata": {},
     "output_type": "execute_result"
    }
   ],
   "source": [
    "AUCs.median()"
   ]
  },
  {
   "cell_type": "code",
   "execution_count": 20,
   "metadata": {},
   "outputs": [
    {
     "data": {
      "text/html": [
       "<div>\n",
       "<style scoped>\n",
       "    .dataframe tbody tr th:only-of-type {\n",
       "        vertical-align: middle;\n",
       "    }\n",
       "\n",
       "    .dataframe tbody tr th {\n",
       "        vertical-align: top;\n",
       "    }\n",
       "\n",
       "    .dataframe thead th {\n",
       "        text-align: right;\n",
       "    }\n",
       "</style>\n",
       "<table border=\"1\" class=\"dataframe\">\n",
       "  <thead>\n",
       "    <tr style=\"text-align: right;\">\n",
       "      <th></th>\n",
       "      <th>group</th>\n",
       "      <th>median</th>\n",
       "      <th>0.025</th>\n",
       "      <th>0.975</th>\n",
       "    </tr>\n",
       "  </thead>\n",
       "  <tbody>\n",
       "    <tr>\n",
       "      <th>0</th>\n",
       "      <td>All samples</td>\n",
       "      <td>0.753128</td>\n",
       "      <td>0.624761</td>\n",
       "      <td>0.855087</td>\n",
       "    </tr>\n",
       "    <tr>\n",
       "      <th>1</th>\n",
       "      <td>&gt;0.05_TFx</td>\n",
       "      <td>0.962441</td>\n",
       "      <td>0.877175</td>\n",
       "      <td>1.000000</td>\n",
       "    </tr>\n",
       "    <tr>\n",
       "      <th>2</th>\n",
       "      <td>0.05-0.1_TFx</td>\n",
       "      <td>0.900000</td>\n",
       "      <td>0.595741</td>\n",
       "      <td>1.000000</td>\n",
       "    </tr>\n",
       "    <tr>\n",
       "      <th>3</th>\n",
       "      <td>&lt;0.05_TFx</td>\n",
       "      <td>0.388489</td>\n",
       "      <td>0.187500</td>\n",
       "      <td>0.607578</td>\n",
       "    </tr>\n",
       "    <tr>\n",
       "      <th>4</th>\n",
       "      <td>&gt;0.1_TFx</td>\n",
       "      <td>0.984127</td>\n",
       "      <td>0.890869</td>\n",
       "      <td>1.000000</td>\n",
       "    </tr>\n",
       "  </tbody>\n",
       "</table>\n",
       "</div>"
      ],
      "text/plain": [
       "          group    median     0.025     0.975\n",
       "0   All samples  0.753128  0.624761  0.855087\n",
       "1     >0.05_TFx  0.962441  0.877175  1.000000\n",
       "2  0.05-0.1_TFx  0.900000  0.595741  1.000000\n",
       "3     <0.05_TFx  0.388489  0.187500  0.607578\n",
       "4      >0.1_TFx  0.984127  0.890869  1.000000"
      ]
     },
     "execution_count": 20,
     "metadata": {},
     "output_type": "execute_result"
    }
   ],
   "source": [
    "#export AUC CIs\n",
    "AUC_CIs = pd.DataFrame([AUCs.median(), AUCs.quantile(.025), AUCs.quantile(.975)]).T\n",
    "AUC_CIs = AUC_CIs.rename(columns = {'Unnamed 0':'median'}).reset_index().rename(columns = {'index':'group'})\n",
    "AUC_CIs.to_csv('validation_results/'+site_group+'.AUC_CI.txt', sep='\\t', float_format = '%.5f', index = False)\n",
    "\n",
    "AUC_CIs"
   ]
  },
  {
   "cell_type": "code",
   "execution_count": 21,
   "metadata": {},
   "outputs": [
    {
     "data": {
      "text/html": [
       "<div>\n",
       "<style scoped>\n",
       "    .dataframe tbody tr th:only-of-type {\n",
       "        vertical-align: middle;\n",
       "    }\n",
       "\n",
       "    .dataframe tbody tr th {\n",
       "        vertical-align: top;\n",
       "    }\n",
       "\n",
       "    .dataframe thead th {\n",
       "        text-align: right;\n",
       "    }\n",
       "</style>\n",
       "<table border=\"1\" class=\"dataframe\">\n",
       "  <thead>\n",
       "    <tr style=\"text-align: right;\">\n",
       "      <th></th>\n",
       "      <th>group</th>\n",
       "      <th>median</th>\n",
       "      <th>0.025</th>\n",
       "      <th>0.975</th>\n",
       "    </tr>\n",
       "  </thead>\n",
       "  <tbody>\n",
       "    <tr>\n",
       "      <th>0</th>\n",
       "      <td>All samples</td>\n",
       "      <td>0.732394</td>\n",
       "      <td>0.619718</td>\n",
       "      <td>0.830986</td>\n",
       "    </tr>\n",
       "    <tr>\n",
       "      <th>1</th>\n",
       "      <td>&gt;0.05_TFx</td>\n",
       "      <td>0.918919</td>\n",
       "      <td>0.823529</td>\n",
       "      <td>1.000000</td>\n",
       "    </tr>\n",
       "    <tr>\n",
       "      <th>2</th>\n",
       "      <td>0.05-0.1_TFx</td>\n",
       "      <td>0.846154</td>\n",
       "      <td>0.600000</td>\n",
       "      <td>1.000000</td>\n",
       "    </tr>\n",
       "    <tr>\n",
       "      <th>3</th>\n",
       "      <td>&lt;0.05_TFx</td>\n",
       "      <td>0.542857</td>\n",
       "      <td>0.378294</td>\n",
       "      <td>0.702703</td>\n",
       "    </tr>\n",
       "    <tr>\n",
       "      <th>4</th>\n",
       "      <td>&gt;0.1_TFx</td>\n",
       "      <td>0.960000</td>\n",
       "      <td>0.863636</td>\n",
       "      <td>1.000000</td>\n",
       "    </tr>\n",
       "  </tbody>\n",
       "</table>\n",
       "</div>"
      ],
      "text/plain": [
       "          group    median     0.025     0.975\n",
       "0   All samples  0.732394  0.619718  0.830986\n",
       "1     >0.05_TFx  0.918919  0.823529  1.000000\n",
       "2  0.05-0.1_TFx  0.846154  0.600000  1.000000\n",
       "3     <0.05_TFx  0.542857  0.378294  0.702703\n",
       "4      >0.1_TFx  0.960000  0.863636  1.000000"
      ]
     },
     "execution_count": 21,
     "metadata": {},
     "output_type": "execute_result"
    }
   ],
   "source": [
    "#export accuracy CIs\n",
    "accuracy_CIs = pd.DataFrame([accuracies.median(), accuracies.quantile(.025), accuracies.quantile(.975)]).T\n",
    "accuracy_CIs = accuracy_CIs.rename(columns = {'Unnamed 0':'median'}).reset_index().rename(columns = {'index':'group'})\n",
    "accuracy_CIs.to_csv('validation_results/'+site_group+'.accuracy_CI.txt', sep='\\t', float_format = '%.5f', index=False)\n",
    "\n",
    "accuracy_CIs\n"
   ]
  },
  {
   "cell_type": "code",
   "execution_count": null,
   "metadata": {},
   "outputs": [],
   "source": []
  },
  {
   "cell_type": "code",
   "execution_count": null,
   "metadata": {},
   "outputs": [],
   "source": []
  },
  {
   "cell_type": "code",
   "execution_count": null,
   "metadata": {},
   "outputs": [],
   "source": []
  },
  {
   "cell_type": "code",
   "execution_count": null,
   "metadata": {},
   "outputs": [],
   "source": []
  },
  {
   "cell_type": "code",
   "execution_count": null,
   "metadata": {},
   "outputs": [],
   "source": []
  }
 ],
 "metadata": {
  "kernelspec": {
   "display_name": "Python 3",
   "language": "python",
   "name": "python3"
  },
  "language_info": {
   "codemirror_mode": {
    "name": "ipython",
    "version": 3
   },
   "file_extension": ".py",
   "mimetype": "text/x-python",
   "name": "python",
   "nbconvert_exporter": "python",
   "pygments_lexer": "ipython3",
   "version": "3.7.4"
  }
 },
 "nbformat": 4,
 "nbformat_minor": 4
}
