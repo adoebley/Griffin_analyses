{
 "cells": [
  {
   "cell_type": "code",
   "execution_count": 1,
   "metadata": {},
   "outputs": [],
   "source": [
    "import yaml\n",
    "import os"
   ]
  },
  {
   "cell_type": "code",
   "execution_count": 2,
   "metadata": {},
   "outputs": [],
   "source": [
    "in_yaml = 'delfi_HD_realigned.yaml'\n",
    "out_script = 'run_readCounter_1mb.sh'\n",
    "out_wigs_list = '1mb_delfi_HD_wigs.txt'\n",
    "\n",
    "with open (in_yaml,'r') as f:\n",
    "    samples = yaml.safe_load(f)\n",
    "    \n",
    "samples = samples['samples']"
   ]
  },
  {
   "cell_type": "code",
   "execution_count": 3,
   "metadata": {},
   "outputs": [],
   "source": [
    "chroms = ['chr'+str(m) for m in range(1,23)]+['chrX','chrY']\n"
   ]
  },
  {
   "cell_type": "code",
   "execution_count": 4,
   "metadata": {},
   "outputs": [],
   "source": [
    "with open(out_script, 'w') as f:\n",
    "    for sample in samples.keys():\n",
    "        path  = samples[sample]\n",
    "        f.write('/fh/fast/ha_g/app/bin/readCounter ' + path + \n",
    "                ' -c '+','.join(chroms) + ' -w 1000000 -q 20 > ../readCounter/'+sample+'.bin1000000.wig\\n')\n",
    "    \n",
    "    "
   ]
  },
  {
   "cell_type": "code",
   "execution_count": 5,
   "metadata": {},
   "outputs": [],
   "source": [
    "#write wigs list\n",
    "with open(out_wigs_list,'w') as f:\n",
    "    for item in os.listdir('../readCounter/'):\n",
    "        if item.startswith('Healthy') and item.endswith('.wig'):\n",
    "            f.write('../readCounter/'+item+'\\n')"
   ]
  },
  {
   "cell_type": "code",
   "execution_count": null,
   "metadata": {},
   "outputs": [],
   "source": []
  },
  {
   "cell_type": "code",
   "execution_count": null,
   "metadata": {},
   "outputs": [],
   "source": []
  }
 ],
 "metadata": {
  "kernelspec": {
   "display_name": "Python 3",
   "language": "python",
   "name": "python3"
  },
  "language_info": {
   "codemirror_mode": {
    "name": "ipython",
    "version": 3
   },
   "file_extension": ".py",
   "mimetype": "text/x-python",
   "name": "python",
   "nbconvert_exporter": "python",
   "pygments_lexer": "ipython3",
   "version": "3.7.4"
  }
 },
 "nbformat": 4,
 "nbformat_minor": 4
}
