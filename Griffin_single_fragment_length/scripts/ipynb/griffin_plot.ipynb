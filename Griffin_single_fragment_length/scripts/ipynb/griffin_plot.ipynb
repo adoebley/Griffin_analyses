{
 "cells": [
  {
   "cell_type": "code",
   "execution_count": null,
   "metadata": {},
   "outputs": [],
   "source": [
    "import os\n",
    "from matplotlib import pyplot as plt\n",
    "import pandas as pd\n",
    "import numpy as np\n",
    "import time\n",
    "import sys\n",
    "import yaml\n",
    "import argparse"
   ]
  },
  {
   "cell_type": "code",
   "execution_count": null,
   "metadata": {},
   "outputs": [],
   "source": [
    "# #for ipynb\n",
    "# %matplotlib inline\n",
    "\n",
    "# in_dir = '../snakemake/griffin_nucleosome_profiling/results/'\n",
    "# samples_yaml = '../snakemake/griffin_nucleosome_profiling/config/samples.GC.yaml'\n",
    "\n",
    "# save_window = [-500,500]\n",
    "# step = 15\n",
    "\n",
    "# individual = 'True'\n",
    "# out_dir = 'tmp'"
   ]
  },
  {
   "cell_type": "code",
   "execution_count": null,
   "metadata": {},
   "outputs": [],
   "source": [
    "parser = argparse.ArgumentParser()\n",
    "\n",
    "parser.add_argument('--in_dir', help='path/to/results/', required=True)\n",
    "parser.add_argument('--samples_yaml', help='samples.GC.yaml', required=True)\n",
    "\n",
    "parser.add_argument('--save_window',help='start and end of window to be plotted',nargs=2, type=int, default=(-1000,1000))\n",
    "parser.add_argument('--step',help='step size when calculating coverage', type=int, default=5)\n",
    "\n",
    "parser.add_argument('--individual',help='if individual sites were saved in previous steps. (True/False)',default='False')\n",
    "parser.add_argument('--out_dir',help='folder for results',required=True)\n",
    "\n",
    "args = parser.parse_args()\n",
    "\n",
    "in_dir = args.in_dir\n",
    "samples_yaml = args.samples_yaml\n",
    "\n",
    "save_window=args.save_window\n",
    "step = args.step\n",
    "\n",
    "individual = args.individual\n",
    "out_dir = args.out_dir\n",
    "\n"
   ]
  },
  {
   "cell_type": "code",
   "execution_count": null,
   "metadata": {},
   "outputs": [],
   "source": [
    "save_window=[int(np.ceil(save_window[0]/step)*step),int(np.floor(save_window[1]/step)*step)] #round to the nearest step inside the window\n",
    "save_columns = np.arange(save_window[0],save_window[1],step)\n",
    "str_save_columns = [str(m) for m in save_columns]\n",
    "print('save_window rounded to step:',save_window)"
   ]
  },
  {
   "cell_type": "code",
   "execution_count": null,
   "metadata": {},
   "outputs": [],
   "source": [
    "with open(samples_yaml,'r') as f:\n",
    "    samples = yaml.safe_load(f)\n",
    "    \n",
    "samples = samples['samples']\n",
    "samples = list(samples.keys())"
   ]
  },
  {
   "cell_type": "code",
   "execution_count": null,
   "metadata": {},
   "outputs": [],
   "source": [
    "#dict to hold results grouped by correction type\n",
    "print('Importing data')\n",
    "results_dict = {'uncorrected': pd.DataFrame(),\n",
    "                'GC_corrected': pd.DataFrame(),\n",
    "                'GC_map_corrected': pd.DataFrame()}\n",
    "#import\n",
    "for sample in samples:\n",
    "    print(sample)\n",
    "    for key in results_dict.keys():\n",
    "        current_file = in_dir+'/'+sample+'/'+sample+'.'+key+'.coverage.tsv'\n",
    "        current = pd.read_csv(current_file, sep='\\t')\n",
    "        if individual.lower()=='true':\n",
    "            current = current.groupby('site_name')[str_save_columns].mean()\n",
    "            current = current.reset_index() #retain site_name\n",
    "            current['sample'] = sample\n",
    "        results_dict[key] = results_dict[key].append(current, ignore_index=True)\n",
    "\n",
    "site_names = results_dict['uncorrected']['site_name'].unique()"
   ]
  },
  {
   "cell_type": "code",
   "execution_count": null,
   "metadata": {},
   "outputs": [],
   "source": [
    "#if info about individual sites was kept, the averaging process can take quite a while. Save for later use. \n",
    "if individual.lower()=='true':\n",
    "    for i,key in enumerate(results_dict.keys()):\n",
    "        data = results_dict[key].copy()\n",
    "\n",
    "        data.to_csv(out_dir+'/plots/'+key+'.mean_data.txt', sep='\\t', index=False)\n",
    "    "
   ]
  },
  {
   "cell_type": "code",
   "execution_count": null,
   "metadata": {},
   "outputs": [],
   "source": [
    "#generate plots\n",
    "for j,site_name in enumerate(site_names):\n",
    "    fig,axes = plt.subplots(1,3,figsize=(12,3.5), sharey = 'row')\n",
    "    for i,key in enumerate(results_dict.keys()):\n",
    "        data = results_dict[key].copy()\n",
    "        ax = axes[i]\n",
    "        for sample in data['sample'].unique():\n",
    "            current = data[(data['sample']==sample) & (data['site_name']==site_name)]\n",
    "            ax.plot(save_columns, current[str_save_columns].T, label=sample)\n",
    "            ax.tick_params(labelleft=True)\n",
    "        ax.set_title(site_name+' '+key)\n",
    "        ax.set_xlabel('distance from site')\n",
    "    \n",
    "    axes[0].set_ylabel('normalized coverage')\n",
    "    \n",
    "    if len(data['sample'].unique())<15:\n",
    "        axes[2].legend(bbox_to_anchor=[1,1],loc = 'upper left')\n",
    "    else:\n",
    "        axes[2].legend(bbox_to_anchor=[1,1],loc = 'upper left',ncol=2)\n",
    "\n",
    "    fig.tight_layout()\n",
    "    plt.savefig(out_dir+'/plots/'+site_name+'.pdf')\n",
    "    plt.close('all')\n",
    "    if j%20==0:\n",
    "        print(j,site_name)\n",
    "        sys.stdout.flush()"
   ]
  },
  {
   "cell_type": "code",
   "execution_count": null,
   "metadata": {},
   "outputs": [],
   "source": []
  },
  {
   "cell_type": "code",
   "execution_count": null,
   "metadata": {},
   "outputs": [],
   "source": []
  }
 ],
 "metadata": {
  "kernelspec": {
   "display_name": "Python 3",
   "language": "python",
   "name": "python3"
  },
  "language_info": {
   "codemirror_mode": {
    "name": "ipython",
    "version": 3
   },
   "file_extension": ".py",
   "mimetype": "text/x-python",
   "name": "python",
   "nbconvert_exporter": "python",
   "pygments_lexer": "ipython3",
   "version": "3.7.4"
  }
 },
 "nbformat": 4,
 "nbformat_minor": 4
}
