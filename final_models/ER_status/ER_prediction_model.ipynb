{
 "cells": [
  {
   "cell_type": "code",
   "execution_count": 1,
   "metadata": {},
   "outputs": [],
   "source": [
    "import numpy as np\n",
    "import pandas as pd\n",
    "import time\n",
    "from matplotlib import pyplot as plt\n",
    "%matplotlib inline\n",
    "\n",
    "from sklearn.linear_model import LogisticRegression\n",
    "from sklearn.preprocessing import StandardScaler\n",
    "from sklearn.metrics import roc_curve,auc\n"
   ]
  },
  {
   "cell_type": "code",
   "execution_count": 2,
   "metadata": {},
   "outputs": [],
   "source": [
    "#path to your data here\n",
    "\n",
    "#must be a tab separated text file with a column named 'sample' containing the unique sample name, and one column per feature for each of the 12 features output by Griffin for the ATAC analysis:\n",
    "#additional columns are optional and will be retained in the output but not used for anything else\n",
    "\n",
    "#features:\n",
    "# central_coverage_ER_neg_heme.5e-4_qval\n",
    "# mean_coverage_ER_neg_heme.5e-4_qval\n",
    "# amplitude_ER_neg_heme.5e-4_qval\n",
    "# central_coverage_ER_pos_heme.5e-4_qval\n",
    "# mean_coverage_ER_pos_heme.5e-4_qval\n",
    "# amplitude_ER_pos_heme.5e-4_qval\n",
    "# central_coverage_ER_pos_specific.5e-4_qval\n",
    "# mean_coverage_ER_pos_specific.5e-4_qval\n",
    "# amplitude_ER_pos_specific.5e-4_qval\n",
    "# central_coverage_ER_neg_specific.5e-4_qval\n",
    "# mean_coverage_ER_neg_specific.5e-4_qval\n",
    "# amplitude_ER_neg_specific.5e-4_qval\n",
    "\n",
    "test_data_file = '../../MBC_validation/validation_analysis/merged_data/5e-4_qval_validation_reformatted.txt'\n",
    "outfile_name = 'ER_status_results.tsv'"
   ]
  },
  {
   "cell_type": "code",
   "execution_count": 3,
   "metadata": {},
   "outputs": [],
   "source": [
    "#import training data\n",
    "in_file = '../../MBC/ATAC_nucleosome_profiling/analysis/merged_data/5e-4_qval_reformatted.txt'\n",
    "cval_file = '../../MBC/ATAC_nucleosome_profiling/analysis/logreg_results/5e-4_qval_logreg_results/5e-4_qval.c_values.txt'"
   ]
  },
  {
   "cell_type": "code",
   "execution_count": 4,
   "metadata": {},
   "outputs": [
    {
     "name": "stdout",
     "output_type": "stream",
     "text": [
      "Features 12\n",
      "Total samples: 254\n"
     ]
    },
    {
     "data": {
      "text/plain": [
       "central_coverage_ER_neg_heme.5e-4_qval       -1.423184e-15\n",
       "mean_coverage_ER_neg_heme.5e-4_qval           6.273197e-15\n",
       "amplitude_ER_neg_heme.5e-4_qval              -3.601668e-16\n",
       "central_coverage_ER_pos_heme.5e-4_qval        1.328771e-15\n",
       "mean_coverage_ER_pos_heme.5e-4_qval           8.437695e-15\n",
       "amplitude_ER_pos_heme.5e-4_qval               3.846442e-17\n",
       "central_coverage_ER_pos_specific.5e-4_qval   -1.307790e-15\n",
       "mean_coverage_ER_pos_specific.5e-4_qval      -8.946474e-15\n",
       "amplitude_ER_pos_specific.5e-4_qval           5.594825e-17\n",
       "central_coverage_ER_neg_specific.5e-4_qval    1.531583e-15\n",
       "mean_coverage_ER_neg_specific.5e-4_qval       3.601668e-15\n",
       "amplitude_ER_neg_specific.5e-4_qval           1.328771e-16\n",
       "dtype: float64"
      ]
     },
     "execution_count": 4,
     "metadata": {},
     "output_type": "execute_result"
    }
   ],
   "source": [
    "#import training data\n",
    "data = pd.read_csv(in_file, sep='\\t')\n",
    "data = data.set_index('sample')\n",
    "\n",
    "#get features and exclude all other columns\n",
    "features = data.columns[(data.columns.str.startswith('central_cov')) | (data.columns.str.startswith('mean_cov')) | (data.columns.str.startswith('amplitude'))]\n",
    "# features = data.columns[(data.columns.str.startswith('amplitude'))]\n",
    "\n",
    "print('Features',len(features))\n",
    "\n",
    "data = data.sort_index()\n",
    "status_col = 'revisions_ER_status_binary'\n",
    "data['status'] = data[status_col].replace('+',1).replace('-',0)\n",
    "\n",
    "print('Total samples:',len(data))\n",
    "\n",
    "#scale data\n",
    "scaler = StandardScaler()\n",
    "data[features] = scaler.fit_transform(data[features])\n",
    "data[features].mean()\n"
   ]
  },
  {
   "cell_type": "code",
   "execution_count": 5,
   "metadata": {},
   "outputs": [
    {
     "name": "stdout",
     "output_type": "stream",
     "text": [
      "test samples 144\n"
     ]
    },
    {
     "data": {
      "text/plain": [
       "central_coverage_ER_neg_heme.5e-4_qval        0.369014\n",
       "mean_coverage_ER_neg_heme.5e-4_qval           0.344394\n",
       "amplitude_ER_neg_heme.5e-4_qval               0.082355\n",
       "central_coverage_ER_pos_heme.5e-4_qval        0.294134\n",
       "mean_coverage_ER_pos_heme.5e-4_qval           0.400497\n",
       "amplitude_ER_pos_heme.5e-4_qval              -0.239409\n",
       "central_coverage_ER_pos_specific.5e-4_qval    0.309752\n",
       "mean_coverage_ER_pos_specific.5e-4_qval       0.415392\n",
       "amplitude_ER_pos_specific.5e-4_qval          -0.395851\n",
       "central_coverage_ER_neg_specific.5e-4_qval    0.418454\n",
       "mean_coverage_ER_neg_specific.5e-4_qval       0.387354\n",
       "amplitude_ER_neg_specific.5e-4_qval          -0.522310\n",
       "dtype: float64"
      ]
     },
     "execution_count": 5,
     "metadata": {},
     "output_type": "execute_result"
    }
   ],
   "source": [
    "#import test data\n",
    "test_data = pd.read_csv(test_data_file, sep='\\t')\n",
    "test_data = test_data.set_index('sample')\n",
    "\n",
    "#test data\n",
    "print('test samples',len(test_data))\n",
    "\n",
    "test_data = test_data.sort_index()\n",
    "\n",
    "test_data[features] = scaler.transform(test_data[features])\n",
    "test_data[features].mean()"
   ]
  },
  {
   "cell_type": "code",
   "execution_count": 6,
   "metadata": {},
   "outputs": [
    {
     "name": "stdout",
     "output_type": "stream",
     "text": [
      "best_c 0.1\n"
     ]
    }
   ],
   "source": [
    "cvals = pd.read_csv(cval_file,sep='\\t', header = None)\n",
    "best_c = cvals.mode().values[0][0]\n",
    "print('best_c',best_c)"
   ]
  },
  {
   "cell_type": "code",
   "execution_count": 7,
   "metadata": {},
   "outputs": [
    {
     "name": "stdout",
     "output_type": "stream",
     "text": [
      "training accuracy 0.858\n"
     ]
    }
   ],
   "source": [
    "#train a  model on the full training dataset \n",
    "model = LogisticRegression(class_weight='balanced', max_iter=500, C=best_c)\n",
    "model.fit(data[features], data['status'])\n",
    "\n",
    "#predict the test data\n",
    "pred = model.predict(data[features])\n",
    "prob = model.predict_proba(data[features])\n",
    "\n",
    "data['pred']= pred\n",
    "data['prob'] = prob[:,1]\n",
    "\n",
    "print('training accuracy',np.round(sum(data['status'] == data['pred'])/len(data),3))"
   ]
  },
  {
   "cell_type": "code",
   "execution_count": 8,
   "metadata": {},
   "outputs": [],
   "source": [
    "#predict the test data\n",
    "pred = model.predict(test_data[features])\n",
    "prob = model.predict_proba(test_data[features])\n",
    "\n",
    "test_data['prediction']= pred\n",
    "test_data['probability'] = prob[:,1]\n"
   ]
  },
  {
   "cell_type": "code",
   "execution_count": 9,
   "metadata": {},
   "outputs": [],
   "source": [
    "test_data = test_data.drop(columns = features)\n",
    "test_data.to_csv(outfile_name, sep='\\t')\n"
   ]
  },
  {
   "cell_type": "code",
   "execution_count": 10,
   "metadata": {},
   "outputs": [],
   "source": [
    "# #output model in pickle format in case that is helpful to future users\n",
    "# import pickle\n",
    "# with open('ER_status_scaler.pkl', 'wb') as f:\n",
    "#     pickle.dump(scaler, f)\n",
    "    \n",
    "# with open('ER_status_model.pkl', 'wb') as f:\n",
    "#     pickle.dump(model, f)"
   ]
  },
  {
   "cell_type": "code",
   "execution_count": null,
   "metadata": {},
   "outputs": [],
   "source": []
  }
 ],
 "metadata": {
  "kernelspec": {
   "display_name": "Python 3",
   "language": "python",
   "name": "python3"
  },
  "language_info": {
   "codemirror_mode": {
    "name": "ipython",
    "version": 3
   },
   "file_extension": ".py",
   "mimetype": "text/x-python",
   "name": "python",
   "nbconvert_exporter": "python",
   "pygments_lexer": "ipython3",
   "version": "3.7.4"
  }
 },
 "nbformat": 4,
 "nbformat_minor": 4
}
