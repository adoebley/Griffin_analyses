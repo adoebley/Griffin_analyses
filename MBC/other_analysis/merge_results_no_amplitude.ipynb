{
 "cells": [
  {
   "cell_type": "code",
   "execution_count": 1,
   "metadata": {},
   "outputs": [],
   "source": [
    "import os\n",
    "from matplotlib import pyplot as plt\n",
    "import pandas as pd\n",
    "import numpy as np\n",
    "import time\n",
    "import yaml\n",
    "#for ipynb\n",
    "%matplotlib inline"
   ]
  },
  {
   "cell_type": "code",
   "execution_count": 2,
   "metadata": {},
   "outputs": [
    {
     "name": "stdout",
     "output_type": "stream",
     "text": [
      "no-amplitude 254\n"
     ]
    }
   ],
   "source": [
    "in_dict = {'no-amplitude':'../ATAC_nucleosome_profiling/results'\n",
    "          }\n",
    "\n",
    "samples_yaml = '../ATAC_all_fragment_sizes/config/samples.GC.yaml'\n",
    "metadata_path = '../../metadata/MBC/merged_tables_revisions1/merged_key_metadata.txt'\n",
    "\n",
    "with open(samples_yaml, 'r') as f:\n",
    "    samples = yaml.safe_load(f)\n",
    "samples = samples['samples']\n",
    "samples = list(samples.keys())  \n",
    "    \n",
    "in_files = {}\n",
    "for group in in_dict.keys():\n",
    "    in_dir = in_dict[group]\n",
    "    in_files[group] = []\n",
    "    for sample in samples:\n",
    "        in_files[group].append(in_dir+'/'+sample+'/'+sample+'.GC_corrected.coverage.tsv')\n",
    "    print(group,len(in_files[group]))    "
   ]
  },
  {
   "cell_type": "code",
   "execution_count": 3,
   "metadata": {},
   "outputs": [],
   "source": [
    "#get columns with coverage data\n",
    "plot_columns = np.arange(-990,990,15)\n",
    "str_plot_columns = [str(m) for m in plot_columns]"
   ]
  },
  {
   "cell_type": "code",
   "execution_count": 4,
   "metadata": {},
   "outputs": [
    {
     "name": "stdout",
     "output_type": "stream",
     "text": [
      "0 importing ../ATAC_nucleosome_profiling/results/MBC_1041_1_ULP/MBC_1041_1_ULP.GC_corrected.coverage.tsv 0.0\n",
      "100 importing ../ATAC_nucleosome_profiling/results/MBC_1272_ULP/MBC_1272_ULP.GC_corrected.coverage.tsv 1.0\n",
      "200 importing ../ATAC_nucleosome_profiling/results/MBC_1421_3_ULP/MBC_1421_3_ULP.GC_corrected.coverage.tsv 2.0\n"
     ]
    }
   ],
   "source": [
    "#import data\n",
    "start_time = time.time()\n",
    "data = pd.DataFrame()\n",
    "for group in in_files.keys():\n",
    "    for i,file in enumerate(in_files[group]):\n",
    "        if i%100==0:\n",
    "            print(i,'importing',file,np.round(time.time()-start_time))\n",
    "        current = pd.read_csv(file,sep='\\t')\n",
    "        current = current[current['site_name'].str.contains('.5e-4_qval')] #for the original analysis, exclude other site cutoffs\n",
    "        current['site_group'] = group\n",
    "        data = data.append(current, ignore_index=True)\n",
    "        "
   ]
  },
  {
   "cell_type": "code",
   "execution_count": 5,
   "metadata": {},
   "outputs": [
    {
     "name": "stdout",
     "output_type": "stream",
     "text": [
      "1016\n",
      "254\n"
     ]
    }
   ],
   "source": [
    "#get the subtype data\n",
    "metadata = pd.read_csv(metadata_path, sep='\\t')\n",
    "metadata_columns = ['sample','patient_id','revisions_ER_status_binary','ulp_wgs_coverage','tumor_fraction','first_passing_sample']\n",
    "metadata = metadata[metadata_columns]\n",
    "\n",
    "#merge with data\n",
    "print(len(data))\n",
    "data = data.merge(metadata, on = 'sample')\n",
    "print(len(data['sample'].unique()))\n"
   ]
  },
  {
   "cell_type": "code",
   "execution_count": 6,
   "metadata": {},
   "outputs": [
    {
     "data": {
      "text/plain": [
       "array([22365,  9930, 18240, 19347])"
      ]
     },
     "execution_count": 6,
     "metadata": {},
     "output_type": "execute_result"
    }
   ],
   "source": [
    "data['number_of_sites'].unique()"
   ]
  },
  {
   "cell_type": "code",
   "execution_count": 7,
   "metadata": {},
   "outputs": [
    {
     "name": "stdout",
     "output_type": "stream",
     "text": [
      "4\n"
     ]
    },
    {
     "data": {
      "text/plain": [
       "array(['ER_neg_heme.5e-4_qval', 'ER_pos_heme.5e-4_qval',\n",
       "       'ER_pos_specific.5e-4_qval', 'ER_neg_specific.5e-4_qval'],\n",
       "      dtype=object)"
      ]
     },
     "execution_count": 7,
     "metadata": {},
     "output_type": "execute_result"
    }
   ],
   "source": [
    "print(len(data['site_name'].unique()))\n",
    "data['site_name'].unique()"
   ]
  },
  {
   "cell_type": "code",
   "execution_count": 8,
   "metadata": {},
   "outputs": [
    {
     "name": "stdout",
     "output_type": "stream",
     "text": [
      "1016\n",
      "no-amplitude 4\n",
      "(254, 8)\n"
     ]
    }
   ],
   "source": [
    "#get the key columns\n",
    "data = data[metadata_columns+['site_name','correction','site_group',\n",
    "                              'central_coverage','mean_coverage']+str_plot_columns]\n",
    "print(len(data))\n",
    "\n",
    "site_groups = in_dict.keys()\n",
    "\n",
    "site_names = data['site_name'].unique()\n",
    "\n",
    "for group,df in data.groupby('site_group'):\n",
    "    print(group,len(df['site_name'].unique()))\n",
    "\n",
    "    #df.to_csv('merged_data/'+group+'_data_with_features.txt', sep='\\t', index=False)\n",
    "    \n",
    "    #reformat for logistic regression\n",
    "    reformatted = df[metadata_columns+['site_name','site_group','central_coverage','mean_coverage']]\n",
    "    reformatted = reformatted.set_index(metadata_columns+['site_group','site_name']).unstack()\n",
    "    new_column_names = []\n",
    "    for item in reformatted.columns.values:\n",
    "        new_column_names.append('_'.join(item))\n",
    "    reformatted.columns = new_column_names\n",
    "    reformatted.to_csv('merged_data/'+group+'_reformatted.txt', sep='\\t')\n",
    "    print(reformatted.shape)"
   ]
  },
  {
   "cell_type": "code",
   "execution_count": 9,
   "metadata": {},
   "outputs": [
    {
     "data": {
      "text/html": [
       "<div>\n",
       "<style scoped>\n",
       "    .dataframe tbody tr th:only-of-type {\n",
       "        vertical-align: middle;\n",
       "    }\n",
       "\n",
       "    .dataframe tbody tr th {\n",
       "        vertical-align: top;\n",
       "    }\n",
       "\n",
       "    .dataframe thead th {\n",
       "        text-align: right;\n",
       "    }\n",
       "</style>\n",
       "<table border=\"1\" class=\"dataframe\">\n",
       "  <thead>\n",
       "    <tr style=\"text-align: right;\">\n",
       "      <th></th>\n",
       "      <th></th>\n",
       "      <th></th>\n",
       "      <th></th>\n",
       "      <th></th>\n",
       "      <th></th>\n",
       "      <th></th>\n",
       "      <th>central_coverage_ER_neg_heme.5e-4_qval</th>\n",
       "      <th>central_coverage_ER_neg_specific.5e-4_qval</th>\n",
       "      <th>central_coverage_ER_pos_heme.5e-4_qval</th>\n",
       "      <th>central_coverage_ER_pos_specific.5e-4_qval</th>\n",
       "      <th>mean_coverage_ER_neg_heme.5e-4_qval</th>\n",
       "      <th>mean_coverage_ER_neg_specific.5e-4_qval</th>\n",
       "      <th>mean_coverage_ER_pos_heme.5e-4_qval</th>\n",
       "      <th>mean_coverage_ER_pos_specific.5e-4_qval</th>\n",
       "    </tr>\n",
       "    <tr>\n",
       "      <th>sample</th>\n",
       "      <th>patient_id</th>\n",
       "      <th>revisions_ER_status_binary</th>\n",
       "      <th>ulp_wgs_coverage</th>\n",
       "      <th>tumor_fraction</th>\n",
       "      <th>first_passing_sample</th>\n",
       "      <th>site_group</th>\n",
       "      <th></th>\n",
       "      <th></th>\n",
       "      <th></th>\n",
       "      <th></th>\n",
       "      <th></th>\n",
       "      <th></th>\n",
       "      <th></th>\n",
       "      <th></th>\n",
       "    </tr>\n",
       "  </thead>\n",
       "  <tbody>\n",
       "    <tr>\n",
       "      <th>MBC_1041_1_ULP</th>\n",
       "      <th>MBC_1041</th>\n",
       "      <th>+</th>\n",
       "      <th>0.149816</th>\n",
       "      <th>0.4890</th>\n",
       "      <th>1.0</th>\n",
       "      <th>no-amplitude</th>\n",
       "      <td>0.88956</td>\n",
       "      <td>0.97736</td>\n",
       "      <td>0.91270</td>\n",
       "      <td>0.92692</td>\n",
       "      <td>0.97737</td>\n",
       "      <td>1.00038</td>\n",
       "      <td>0.94830</td>\n",
       "      <td>0.97381</td>\n",
       "    </tr>\n",
       "    <tr>\n",
       "      <th>MBC_1041_3_ULP</th>\n",
       "      <th>MBC_1041</th>\n",
       "      <th>+</th>\n",
       "      <th>0.163681</th>\n",
       "      <th>0.0760</th>\n",
       "      <th>NaN</th>\n",
       "      <th>no-amplitude</th>\n",
       "      <td>0.93012</td>\n",
       "      <td>1.02387</td>\n",
       "      <td>0.98231</td>\n",
       "      <td>1.02736</td>\n",
       "      <td>0.97471</td>\n",
       "      <td>1.00803</td>\n",
       "      <td>0.99867</td>\n",
       "      <td>0.99709</td>\n",
       "    </tr>\n",
       "    <tr>\n",
       "      <th>MBC_1041_4_ULP</th>\n",
       "      <th>MBC_1041</th>\n",
       "      <th>+</th>\n",
       "      <th>0.215894</th>\n",
       "      <th>0.4467</th>\n",
       "      <th>NaN</th>\n",
       "      <th>no-amplitude</th>\n",
       "      <td>0.92708</td>\n",
       "      <td>1.00976</td>\n",
       "      <td>0.92128</td>\n",
       "      <td>0.93546</td>\n",
       "      <td>0.97336</td>\n",
       "      <td>0.98699</td>\n",
       "      <td>0.97431</td>\n",
       "      <td>0.97159</td>\n",
       "    </tr>\n",
       "    <tr>\n",
       "      <th>MBC_1042_1_ULP</th>\n",
       "      <th>MBC_1042</th>\n",
       "      <th>+</th>\n",
       "      <th>0.106322</th>\n",
       "      <th>0.1347</th>\n",
       "      <th>NaN</th>\n",
       "      <th>no-amplitude</th>\n",
       "      <td>0.91718</td>\n",
       "      <td>1.00207</td>\n",
       "      <td>0.90677</td>\n",
       "      <td>1.00502</td>\n",
       "      <td>0.97745</td>\n",
       "      <td>0.99692</td>\n",
       "      <td>0.98593</td>\n",
       "      <td>0.99564</td>\n",
       "    </tr>\n",
       "    <tr>\n",
       "      <th>MBC_1042_2_ULP</th>\n",
       "      <th>MBC_1042</th>\n",
       "      <th>+</th>\n",
       "      <th>0.259052</th>\n",
       "      <th>0.7889</th>\n",
       "      <th>1.0</th>\n",
       "      <th>no-amplitude</th>\n",
       "      <td>0.98523</td>\n",
       "      <td>1.01039</td>\n",
       "      <td>0.85963</td>\n",
       "      <td>0.88999</td>\n",
       "      <td>0.96123</td>\n",
       "      <td>0.99359</td>\n",
       "      <td>0.91127</td>\n",
       "      <td>0.93230</td>\n",
       "    </tr>\n",
       "  </tbody>\n",
       "</table>\n",
       "</div>"
      ],
      "text/plain": [
       "                                                                                                                        central_coverage_ER_neg_heme.5e-4_qval  \\\n",
       "sample         patient_id revisions_ER_status_binary ulp_wgs_coverage tumor_fraction first_passing_sample site_group                                             \n",
       "MBC_1041_1_ULP MBC_1041   +                          0.149816         0.4890         1.0                  no-amplitude                                 0.88956   \n",
       "MBC_1041_3_ULP MBC_1041   +                          0.163681         0.0760         NaN                  no-amplitude                                 0.93012   \n",
       "MBC_1041_4_ULP MBC_1041   +                          0.215894         0.4467         NaN                  no-amplitude                                 0.92708   \n",
       "MBC_1042_1_ULP MBC_1042   +                          0.106322         0.1347         NaN                  no-amplitude                                 0.91718   \n",
       "MBC_1042_2_ULP MBC_1042   +                          0.259052         0.7889         1.0                  no-amplitude                                 0.98523   \n",
       "\n",
       "                                                                                                                        central_coverage_ER_neg_specific.5e-4_qval  \\\n",
       "sample         patient_id revisions_ER_status_binary ulp_wgs_coverage tumor_fraction first_passing_sample site_group                                                 \n",
       "MBC_1041_1_ULP MBC_1041   +                          0.149816         0.4890         1.0                  no-amplitude                                     0.97736   \n",
       "MBC_1041_3_ULP MBC_1041   +                          0.163681         0.0760         NaN                  no-amplitude                                     1.02387   \n",
       "MBC_1041_4_ULP MBC_1041   +                          0.215894         0.4467         NaN                  no-amplitude                                     1.00976   \n",
       "MBC_1042_1_ULP MBC_1042   +                          0.106322         0.1347         NaN                  no-amplitude                                     1.00207   \n",
       "MBC_1042_2_ULP MBC_1042   +                          0.259052         0.7889         1.0                  no-amplitude                                     1.01039   \n",
       "\n",
       "                                                                                                                        central_coverage_ER_pos_heme.5e-4_qval  \\\n",
       "sample         patient_id revisions_ER_status_binary ulp_wgs_coverage tumor_fraction first_passing_sample site_group                                             \n",
       "MBC_1041_1_ULP MBC_1041   +                          0.149816         0.4890         1.0                  no-amplitude                                 0.91270   \n",
       "MBC_1041_3_ULP MBC_1041   +                          0.163681         0.0760         NaN                  no-amplitude                                 0.98231   \n",
       "MBC_1041_4_ULP MBC_1041   +                          0.215894         0.4467         NaN                  no-amplitude                                 0.92128   \n",
       "MBC_1042_1_ULP MBC_1042   +                          0.106322         0.1347         NaN                  no-amplitude                                 0.90677   \n",
       "MBC_1042_2_ULP MBC_1042   +                          0.259052         0.7889         1.0                  no-amplitude                                 0.85963   \n",
       "\n",
       "                                                                                                                        central_coverage_ER_pos_specific.5e-4_qval  \\\n",
       "sample         patient_id revisions_ER_status_binary ulp_wgs_coverage tumor_fraction first_passing_sample site_group                                                 \n",
       "MBC_1041_1_ULP MBC_1041   +                          0.149816         0.4890         1.0                  no-amplitude                                     0.92692   \n",
       "MBC_1041_3_ULP MBC_1041   +                          0.163681         0.0760         NaN                  no-amplitude                                     1.02736   \n",
       "MBC_1041_4_ULP MBC_1041   +                          0.215894         0.4467         NaN                  no-amplitude                                     0.93546   \n",
       "MBC_1042_1_ULP MBC_1042   +                          0.106322         0.1347         NaN                  no-amplitude                                     1.00502   \n",
       "MBC_1042_2_ULP MBC_1042   +                          0.259052         0.7889         1.0                  no-amplitude                                     0.88999   \n",
       "\n",
       "                                                                                                                        mean_coverage_ER_neg_heme.5e-4_qval  \\\n",
       "sample         patient_id revisions_ER_status_binary ulp_wgs_coverage tumor_fraction first_passing_sample site_group                                          \n",
       "MBC_1041_1_ULP MBC_1041   +                          0.149816         0.4890         1.0                  no-amplitude                              0.97737   \n",
       "MBC_1041_3_ULP MBC_1041   +                          0.163681         0.0760         NaN                  no-amplitude                              0.97471   \n",
       "MBC_1041_4_ULP MBC_1041   +                          0.215894         0.4467         NaN                  no-amplitude                              0.97336   \n",
       "MBC_1042_1_ULP MBC_1042   +                          0.106322         0.1347         NaN                  no-amplitude                              0.97745   \n",
       "MBC_1042_2_ULP MBC_1042   +                          0.259052         0.7889         1.0                  no-amplitude                              0.96123   \n",
       "\n",
       "                                                                                                                        mean_coverage_ER_neg_specific.5e-4_qval  \\\n",
       "sample         patient_id revisions_ER_status_binary ulp_wgs_coverage tumor_fraction first_passing_sample site_group                                              \n",
       "MBC_1041_1_ULP MBC_1041   +                          0.149816         0.4890         1.0                  no-amplitude                                  1.00038   \n",
       "MBC_1041_3_ULP MBC_1041   +                          0.163681         0.0760         NaN                  no-amplitude                                  1.00803   \n",
       "MBC_1041_4_ULP MBC_1041   +                          0.215894         0.4467         NaN                  no-amplitude                                  0.98699   \n",
       "MBC_1042_1_ULP MBC_1042   +                          0.106322         0.1347         NaN                  no-amplitude                                  0.99692   \n",
       "MBC_1042_2_ULP MBC_1042   +                          0.259052         0.7889         1.0                  no-amplitude                                  0.99359   \n",
       "\n",
       "                                                                                                                        mean_coverage_ER_pos_heme.5e-4_qval  \\\n",
       "sample         patient_id revisions_ER_status_binary ulp_wgs_coverage tumor_fraction first_passing_sample site_group                                          \n",
       "MBC_1041_1_ULP MBC_1041   +                          0.149816         0.4890         1.0                  no-amplitude                              0.94830   \n",
       "MBC_1041_3_ULP MBC_1041   +                          0.163681         0.0760         NaN                  no-amplitude                              0.99867   \n",
       "MBC_1041_4_ULP MBC_1041   +                          0.215894         0.4467         NaN                  no-amplitude                              0.97431   \n",
       "MBC_1042_1_ULP MBC_1042   +                          0.106322         0.1347         NaN                  no-amplitude                              0.98593   \n",
       "MBC_1042_2_ULP MBC_1042   +                          0.259052         0.7889         1.0                  no-amplitude                              0.91127   \n",
       "\n",
       "                                                                                                                        mean_coverage_ER_pos_specific.5e-4_qval  \n",
       "sample         patient_id revisions_ER_status_binary ulp_wgs_coverage tumor_fraction first_passing_sample site_group                                             \n",
       "MBC_1041_1_ULP MBC_1041   +                          0.149816         0.4890         1.0                  no-amplitude                                  0.97381  \n",
       "MBC_1041_3_ULP MBC_1041   +                          0.163681         0.0760         NaN                  no-amplitude                                  0.99709  \n",
       "MBC_1041_4_ULP MBC_1041   +                          0.215894         0.4467         NaN                  no-amplitude                                  0.97159  \n",
       "MBC_1042_1_ULP MBC_1042   +                          0.106322         0.1347         NaN                  no-amplitude                                  0.99564  \n",
       "MBC_1042_2_ULP MBC_1042   +                          0.259052         0.7889         1.0                  no-amplitude                                  0.93230  "
      ]
     },
     "execution_count": 9,
     "metadata": {},
     "output_type": "execute_result"
    }
   ],
   "source": [
    "reformatted.head()"
   ]
  },
  {
   "cell_type": "code",
   "execution_count": 10,
   "metadata": {},
   "outputs": [
    {
     "data": {
      "image/png": "[encoded data removed]",
      "text/plain": [
       "<Figure size 432x288 with 1 Axes>"
      ]
     },
     "metadata": {
      "needs_background": "light"
     },
     "output_type": "display_data"
    }
   ],
   "source": [
    "#plot\n",
    "for site_name in data['site_name'].unique():\n",
    "    current = data[data['site_name']==site_name][str_plot_columns].mean()\n",
    "    plt.plot(plot_columns,current, label=site_name)\n",
    "    \n",
    "# plt.legend()\n",
    "\n"
   ]
  },
  {
   "cell_type": "code",
   "execution_count": null,
   "metadata": {},
   "outputs": [],
   "source": []
  },
  {
   "cell_type": "code",
   "execution_count": null,
   "metadata": {},
   "outputs": [],
   "source": []
  }
 ],
 "metadata": {
  "kernelspec": {
   "display_name": "Python 3",
   "language": "python",
   "name": "python3"
  },
  "language_info": {
   "codemirror_mode": {
    "name": "ipython",
    "version": 3
   },
   "file_extension": ".py",
   "mimetype": "text/x-python",
   "name": "python",
   "nbconvert_exporter": "python",
   "pygments_lexer": "ipython3",
   "version": "3.7.4"
  }
 },
 "nbformat": 4,
 "nbformat_minor": 4
}
