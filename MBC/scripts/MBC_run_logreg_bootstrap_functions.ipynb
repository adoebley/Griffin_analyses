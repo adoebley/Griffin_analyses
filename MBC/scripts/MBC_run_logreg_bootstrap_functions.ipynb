{
 "cells": [
  {
   "cell_type": "code",
   "execution_count": null,
   "metadata": {},
   "outputs": [],
   "source": [
    "import argparse\n",
    "import sys\n",
    "import os\n",
    "import pandas as pd\n",
    "from matplotlib import pyplot as plt"
   ]
  },
  {
   "cell_type": "code",
   "execution_count": null,
   "metadata": {},
   "outputs": [],
   "source": [
    "print('starting')\n",
    "sys.stdout.flush()"
   ]
  },
  {
   "cell_type": "code",
   "execution_count": null,
   "metadata": {},
   "outputs": [],
   "source": [
    "# %load_ext autoreload\n",
    "# %autoreload 2\n",
    "\n",
    "# cmd = ['--in_file','../ATAC_nucleosome_profiling/analysis/merged_data/0_0_FC_reformatted.txt',\n",
    "#        '--name','1_FC',\n",
    "#        '--status_column','revisions_ER_status_binary',\n",
    "#       '--iterations','10',\n",
    "#       '--out_dir','tmp',\n",
    "#       '--report_interval','2',\n",
    "#       '--script_path','/fh/fast/ha_g/user/adoebley/projects/griffin_revisions_1/MBC/scripts/']\n"
   ]
  },
  {
   "cell_type": "code",
   "execution_count": null,
   "metadata": {},
   "outputs": [],
   "source": [
    "parser = argparse.ArgumentParser()\n",
    "\n",
    "parser.add_argument('--in_file', help='/path/to/data_reformatted.txt', required=True)\n",
    "parser.add_argument('--name', help='name for outputs', required=True)\n",
    "parser.add_argument('--status_column', help='column containing the status', required=True)\n",
    "parser.add_argument('--iterations', help='number of iterations', required=True, type = int)\n",
    "parser.add_argument('--out_dir', help='output directory', required=True)\n",
    "parser.add_argument('--report_interval', help='how frequently to print progress', default = 50, type = int)\n",
    "parser.add_argument('--script_path', help='path_to_cancer_detection_logreg_scripts', required = True)\n",
    "\n",
    "\n",
    "args = parser.parse_args()\n"
   ]
  },
  {
   "cell_type": "code",
   "execution_count": null,
   "metadata": {},
   "outputs": [],
   "source": [
    "#import the griffin scripts\n",
    "sys.path.insert(0, args.script_path)\n",
    "import MBC_logreg_bootstrap_functions\n"
   ]
  },
  {
   "cell_type": "code",
   "execution_count": null,
   "metadata": {},
   "outputs": [],
   "source": [
    "#make output directory\n",
    "if not os.path.exists(args.out_dir):\n",
    "    os.mkdir(args.out_dir)"
   ]
  },
  {
   "cell_type": "code",
   "execution_count": null,
   "metadata": {},
   "outputs": [],
   "source": [
    "print('importing data')\n",
    "data,features  = MBC_logreg_bootstrap_functions.import_data(args.in_file,args.status_column,0.05, 0.1)\n",
    "sys.stdout.flush()\n",
    "\n",
    "print('all samples')\n",
    "print(data[args.status_column].value_counts(dropna = False))\n",
    "\n",
    "print('first samples')\n",
    "print(data[data['first_passing_sample']==1][args.status_column].value_counts(dropna = False))\n",
    "sys.stdout.flush()\n",
    "\n",
    "print('running '+str(args.iterations)+' logreg bootstrap iterations')\n",
    "probabilities,c_vals,coefs = MBC_logreg_bootstrap_functions.run_bootstrap(data,args.iterations,features,args.report_interval)    \n",
    "sys.stdout.flush()\n",
    "\n",
    "#export results\n",
    "\n",
    "    \n",
    "probabilities.to_csv(args.out_dir+'/'+args.name+'.probabilities.txt', sep='\\t', float_format='%.5f')\n",
    "pd.Series(c_vals).to_csv(args.out_dir+'/'+args.name+'.c_values.txt', sep='\\t', header = False, index=False)\n",
    "coefs.to_csv(args.out_dir+'/'+args.name+'.coefs.txt', sep='\\t', float_format='%.5f')\n",
    "\n",
    "plt.hist([str(m) for m in sorted(c_vals)])\n",
    "plt.savefig(args.out_dir+'/'+args.name+'.cvals.pdf')   \n",
    "\n",
    "print('Getting accuracy and AUC')\n",
    "sys.stdout.flush()\n",
    "accuracies,accuracy_CIs,AUCs,AUC_CIs = MBC_logreg_bootstrap_functions.get_accuracy_AUC(probabilities,data,args.iterations)\n",
    "\n",
    "accuracies.to_csv(args.out_dir+'/'+args.name+'.accuracy.txt', sep='\\t', index = False, float_format='%.5f')\n",
    "accuracy_CIs.to_csv(args.out_dir+'/'+args.name+'.accuracy_CI.txt', sep='\\t', float_format = '%.5f')\n",
    "AUCs.to_csv(args.out_dir+'/'+args.name+'.AUC.txt', sep='\\t', index = False, float_format='%.5f')\n",
    "AUC_CIs.to_csv(args.out_dir+'/'+args.name+'.AUC_CI.txt', sep='\\t', float_format = '%.5f')\n",
    "\n",
    "print('Done')"
   ]
  },
  {
   "cell_type": "code",
   "execution_count": null,
   "metadata": {},
   "outputs": [],
   "source": []
  }
 ],
 "metadata": {
  "kernelspec": {
   "display_name": "Python 3",
   "language": "python",
   "name": "python3"
  },
  "language_info": {
   "codemirror_mode": {
    "name": "ipython",
    "version": 3
   },
   "file_extension": ".py",
   "mimetype": "text/x-python",
   "name": "python",
   "nbconvert_exporter": "python",
   "pygments_lexer": "ipython3",
   "version": "3.7.4"
  }
 },
 "nbformat": 4,
 "nbformat_minor": 4
}
