{
 "cells": [
  {
   "cell_type": "code",
   "execution_count": 1,
   "metadata": {},
   "outputs": [],
   "source": [
    "import argparse\n",
    "import sys\n",
    "import os\n",
    "import pandas as pd\n",
    "from matplotlib import pyplot as plt"
   ]
  },
  {
   "cell_type": "code",
   "execution_count": 2,
   "metadata": {},
   "outputs": [
    {
     "name": "stdout",
     "output_type": "stream",
     "text": [
      "Ulz_MBC_merged.txt Ulz_MBC\n"
     ]
    }
   ],
   "source": [
    "#write commands\n",
    "data_dir = 'merged_data'\n",
    "out_path = 'run_logreg_bootstrap.sh'\n",
    "script_dir = '../scripts/'\n",
    "with open(out_path, 'w') as f:\n",
    "    for file in os.listdir(data_dir):        \n",
    "        name = file.rsplit('_',1)[0]\n",
    "        print(file,name)\n",
    "        f.write('python3 ' + os.path.abspath(script_dir)+ '/MBC_run_logreg_bootstrap_PCA.py' + \n",
    "                ' --in_file ' + data_dir + '/' + file + \n",
    "                ' --name ' + name + \n",
    "                ' --status_column revisions_ER_status_binary' +\n",
    "                ' --iterations 1000' +\n",
    "                ' --out_dir logreg_results/' + name + '_logreg_results' + \n",
    "                ' --report_interval 50' + \n",
    "                ' --fraction_variance 0.8'+'\\n') \n"
   ]
  },
  {
   "cell_type": "code",
   "execution_count": 3,
   "metadata": {},
   "outputs": [
    {
     "data": {
      "text/plain": [
       "'/fh/fast/ha_g/user/adoebley/projects/griffin_revisions_1/MBC/scripts'"
      ]
     },
     "execution_count": 3,
     "metadata": {},
     "output_type": "execute_result"
    }
   ],
   "source": [
    "os.path.abspath(script_dir)"
   ]
  },
  {
   "cell_type": "code",
   "execution_count": 4,
   "metadata": {},
   "outputs": [
    {
     "data": {
      "text/plain": [
       "True"
      ]
     },
     "execution_count": 4,
     "metadata": {},
     "output_type": "execute_result"
    }
   ],
   "source": [
    "os.path.exists(os.path.abspath(script_dir))"
   ]
  },
  {
   "cell_type": "code",
   "execution_count": 6,
   "metadata": {},
   "outputs": [
    {
     "data": {
      "text/plain": [
       "'/fh/fast/ha_g/user/adoebley/projects/griffin_revisions_1/MBC/Ulz_analysis'"
      ]
     },
     "execution_count": 6,
     "metadata": {},
     "output_type": "execute_result"
    }
   ],
   "source": [
    "os.getcwd()"
   ]
  },
  {
   "cell_type": "code",
   "execution_count": null,
   "metadata": {},
   "outputs": [],
   "source": []
  }
 ],
 "metadata": {
  "kernelspec": {
   "display_name": "Python 3",
   "language": "python",
   "name": "python3"
  },
  "language_info": {
   "codemirror_mode": {
    "name": "ipython",
    "version": 3
   },
   "file_extension": ".py",
   "mimetype": "text/x-python",
   "name": "python",
   "nbconvert_exporter": "python",
   "pygments_lexer": "ipython3",
   "version": "3.7.4"
  }
 },
 "nbformat": 4,
 "nbformat_minor": 4
}
