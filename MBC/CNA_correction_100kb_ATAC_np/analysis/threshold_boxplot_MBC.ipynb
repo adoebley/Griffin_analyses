{
 "cells": [
  {
   "cell_type": "code",
   "execution_count": 1,
   "metadata": {},
   "outputs": [],
   "source": [
    "import pandas as pd\n",
    "import numpy as np\n",
    "\n",
    "from matplotlib import pyplot as plt\n",
    "%matplotlib inline\n",
    "\n",
    "import seaborn as sns\n"
   ]
  },
  {
   "cell_type": "code",
   "execution_count": 2,
   "metadata": {},
   "outputs": [
    {
     "name": "stdout",
     "output_type": "stream",
     "text": [
      "AUC\n"
     ]
    },
    {
     "data": {
      "text/html": [
       "<div>\n",
       "<style scoped>\n",
       "    .dataframe tbody tr th:only-of-type {\n",
       "        vertical-align: middle;\n",
       "    }\n",
       "\n",
       "    .dataframe tbody tr th {\n",
       "        vertical-align: top;\n",
       "    }\n",
       "\n",
       "    .dataframe thead th {\n",
       "        text-align: right;\n",
       "    }\n",
       "</style>\n",
       "<table border=\"1\" class=\"dataframe\">\n",
       "  <thead>\n",
       "    <tr style=\"text-align: right;\">\n",
       "      <th></th>\n",
       "      <th>5e-4_qval</th>\n",
       "    </tr>\n",
       "  </thead>\n",
       "  <tbody>\n",
       "    <tr>\n",
       "      <th>high_tfx</th>\n",
       "      <td>0.94974</td>\n",
       "    </tr>\n",
       "    <tr>\n",
       "      <th>low_tfx</th>\n",
       "      <td>0.71429</td>\n",
       "    </tr>\n",
       "    <tr>\n",
       "      <th>overall</th>\n",
       "      <td>0.91070</td>\n",
       "    </tr>\n",
       "  </tbody>\n",
       "</table>\n",
       "</div>"
      ],
      "text/plain": [
       "          5e-4_qval\n",
       "high_tfx    0.94974\n",
       "low_tfx     0.71429\n",
       "overall     0.91070"
      ]
     },
     "execution_count": 2,
     "metadata": {},
     "output_type": "execute_result"
    },
    {
     "data": {
      "image/png": "[encoded data removed]",
      "text/plain": [
       "<Figure size 216x432 with 1 Axes>"
      ]
     },
     "metadata": {
      "needs_background": "light"
     },
     "output_type": "display_data"
    }
   ],
   "source": [
    "site_groups = ['5e-4_qval']\n",
    "metric = 'AUC'\n",
    "\n",
    "boxplot_data = pd.DataFrame()\n",
    "for site_group in site_groups:\n",
    "    current = pd.read_csv(site_group+'_logreg_results/'+site_group+'.'+metric+'.txt', sep='\\t')\n",
    "    current = current[['high_tfx','low_tfx','overall']]\n",
    "    current['site_group'] = site_group\n",
    "    current = current.set_index('site_group').stack().reset_index()\n",
    "    current = current.rename(columns = {'level_1':'group',0:metric})\n",
    "    boxplot_data = boxplot_data.append(current)\n",
    "\n",
    "fig,ax = plt.subplots(figsize = (3,6))\n",
    "sns.boxplot(x = boxplot_data['site_group'],\n",
    "            y = boxplot_data[metric],\n",
    "            hue = boxplot_data['group'],\n",
    "           width = 0.6,\n",
    "           order = site_groups,\n",
    "           ax = ax)\n",
    "\n",
    "plt.legend(bbox_to_anchor = [1,1], loc = 'upper left');\n",
    "plt.ylim(-0.05,1.05)\n",
    "plt.tight_layout()\n",
    "plt.title(metric+' by site number threshold')\n",
    "fig.tight_layout()\n",
    "plt.savefig(metric+'_threshold_plot.pdf')\n",
    "\n",
    "metrics_df = pd.DataFrame(index = boxplot_data['group'].unique())\n",
    "for site_group in site_groups:\n",
    "    df = boxplot_data[boxplot_data['site_group']==site_group]\n",
    "    metrics_df[site_group] = df.groupby('group')[metric].median().copy()\n",
    "\n",
    "print(metric)\n",
    "metrics_df"
   ]
  },
  {
   "cell_type": "code",
   "execution_count": 3,
   "metadata": {},
   "outputs": [
    {
     "name": "stdout",
     "output_type": "stream",
     "text": [
      "accuracy\n"
     ]
    },
    {
     "data": {
      "text/html": [
       "<div>\n",
       "<style scoped>\n",
       "    .dataframe tbody tr th:only-of-type {\n",
       "        vertical-align: middle;\n",
       "    }\n",
       "\n",
       "    .dataframe tbody tr th {\n",
       "        vertical-align: top;\n",
       "    }\n",
       "\n",
       "    .dataframe thead th {\n",
       "        text-align: right;\n",
       "    }\n",
       "</style>\n",
       "<table border=\"1\" class=\"dataframe\">\n",
       "  <thead>\n",
       "    <tr style=\"text-align: right;\">\n",
       "      <th></th>\n",
       "      <th>5e-4_qval</th>\n",
       "    </tr>\n",
       "  </thead>\n",
       "  <tbody>\n",
       "    <tr>\n",
       "      <th>high_tfx</th>\n",
       "      <td>0.89744</td>\n",
       "    </tr>\n",
       "    <tr>\n",
       "      <th>low_tfx</th>\n",
       "      <td>0.66667</td>\n",
       "    </tr>\n",
       "    <tr>\n",
       "      <th>overall</th>\n",
       "      <td>0.83333</td>\n",
       "    </tr>\n",
       "  </tbody>\n",
       "</table>\n",
       "</div>"
      ],
      "text/plain": [
       "          5e-4_qval\n",
       "high_tfx    0.89744\n",
       "low_tfx     0.66667\n",
       "overall     0.83333"
      ]
     },
     "execution_count": 3,
     "metadata": {},
     "output_type": "execute_result"
    },
    {
     "data": {
      "image/png": "[encoded data removed]",
      "text/plain": [
       "<Figure size 216x432 with 1 Axes>"
      ]
     },
     "metadata": {
      "needs_background": "light"
     },
     "output_type": "display_data"
    }
   ],
   "source": [
    "metric = 'accuracy'\n",
    "\n",
    "boxplot_data = pd.DataFrame()\n",
    "for site_group in site_groups:\n",
    "    current = pd.read_csv(site_group+'_logreg_results/'+site_group+'.'+metric+'.txt', sep='\\t')\n",
    "    current = current[['high_tfx','low_tfx','overall']]\n",
    "    current['site_group'] = site_group\n",
    "    current = current.set_index('site_group').stack().reset_index()\n",
    "    current = current.rename(columns = {'level_1':'group',0:metric})\n",
    "    boxplot_data = boxplot_data.append(current)\n",
    "\n",
    "fig,ax = plt.subplots(figsize = (3,6))\n",
    "sns.boxplot(x = boxplot_data['site_group'],\n",
    "            y = boxplot_data[metric],\n",
    "            hue = boxplot_data['group'],\n",
    "           width = 0.6,\n",
    "           order = site_groups,\n",
    "           ax = ax)\n",
    "\n",
    "plt.legend(bbox_to_anchor = [1,1], loc = 'upper left');\n",
    "plt.ylim(-0.05,1.05)\n",
    "plt.tight_layout()\n",
    "plt.title(metric+' by site number threshold')\n",
    "fig.tight_layout()\n",
    "plt.savefig(metric+'_threshold_plot.pdf')\n",
    "\n",
    "metrics_df = pd.DataFrame(index = boxplot_data['group'].unique())\n",
    "for site_group in site_groups:\n",
    "    df = boxplot_data[boxplot_data['site_group']==site_group]\n",
    "    metrics_df[site_group] = df.groupby('group')[metric].median().copy()\n",
    "\n",
    "print(metric)\n",
    "metrics_df"
   ]
  },
  {
   "cell_type": "code",
   "execution_count": 4,
   "metadata": {},
   "outputs": [
    {
     "data": {
      "text/plain": [
       "'/fh/fast/ha_g/user/adoebley/projects/griffin_revisions_1/MBC/CNA_correction_100kb_ATAC_np/analysis'"
      ]
     },
     "execution_count": 4,
     "metadata": {},
     "output_type": "execute_result"
    }
   ],
   "source": [
    "import os\n",
    "os.getcwd()"
   ]
  },
  {
   "cell_type": "code",
   "execution_count": null,
   "metadata": {},
   "outputs": [],
   "source": []
  },
  {
   "cell_type": "code",
   "execution_count": null,
   "metadata": {},
   "outputs": [],
   "source": []
  },
  {
   "cell_type": "code",
   "execution_count": null,
   "metadata": {},
   "outputs": [],
   "source": []
  }
 ],
 "metadata": {
  "kernelspec": {
   "display_name": "Python 3",
   "language": "python",
   "name": "python3"
  },
  "language_info": {
   "codemirror_mode": {
    "name": "ipython",
    "version": 3
   },
   "file_extension": ".py",
   "mimetype": "text/x-python",
   "name": "python",
   "nbconvert_exporter": "python",
   "pygments_lexer": "ipython3",
   "version": "3.7.4"
  }
 },
 "nbformat": 4,
 "nbformat_minor": 4
}
