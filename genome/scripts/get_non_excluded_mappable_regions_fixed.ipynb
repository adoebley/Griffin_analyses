{
 "cells": [
  {
   "cell_type": "code",
   "execution_count": 1,
   "metadata": {},
   "outputs": [],
   "source": [
    "import pysam\n",
    "import os\n",
    "import pandas as pd\n",
    "import numpy as np\n",
    "import time\n",
    "import argparse\n",
    "import sys\n",
    "import pybedtools\n"
   ]
  },
  {
   "cell_type": "code",
   "execution_count": 2,
   "metadata": {},
   "outputs": [],
   "source": [
    "if not os.path.exists('tmp'):\n",
    "    os.mkdir('tmp')\n",
    "pybedtools.set_tempdir('tmp')"
   ]
  },
  {
   "cell_type": "code",
   "execution_count": 3,
   "metadata": {},
   "outputs": [],
   "source": [
    "name = 'k100_minus_exclusion_lists'\n",
    "mappability_bedGraph_path='../k100.Umap.MultiTrackMappability.hg38.bedGraph'\n",
    "chrom_sizes_path = '/fh/fast/ha_g/grp/reference/GRCh38/hg38.standard.chrom.sizes'\n",
    "\n",
    "exclude_path = '../encode_unified_GRCh38_exclusion_list.bed'\n",
    "centromere_path = '../hg38_centromeres.bed'\n",
    "gap_path = '../hg38_gaps.bed'\n",
    "patch_path = '../hg38_fix_patches.bed'\n",
    "alternative_haplotype_path = '../hg38_alternative_haplotypes.bed'\n",
    "\n",
    "exclude_paths = [exclude_path,centromere_path,gap_path,patch_path,alternative_haplotype_path]\n",
    "del(exclude_path,centromere_path,gap_path,patch_path)\n"
   ]
  },
  {
   "cell_type": "code",
   "execution_count": 4,
   "metadata": {},
   "outputs": [],
   "source": [
    "#keep autosomes only\n",
    "chroms = ['chr'+str(m) for m in range(1,23)]"
   ]
  },
  {
   "cell_type": "code",
   "execution_count": 5,
   "metadata": {},
   "outputs": [
    {
     "name": "stdout",
     "output_type": "stream",
     "text": [
      "245.97432589530945\n"
     ]
    }
   ],
   "source": [
    "start_time = time.time()\n",
    "#keep only regions with perfect mapability\n",
    "mapability = pybedtools.BedTool(mappability_bedGraph_path)\n",
    "\n",
    "#filter out anything with mapability less than 1\n",
    "#this is actually a bedGraph file so the score is in the 'name' column\n",
    "filtered_map = mapability.filter(lambda b: b.name=='1')\n",
    "\n",
    "#keep autosomes only\n",
    "filtered_map = filtered_map.filter(lambda b: b.chrom in chroms)\n",
    "\n",
    "#get the unmappable regions\n",
    "unmappable_regions = filtered_map.complement(g=chrom_sizes_path)\n",
    "print(time.time()-start_time)"
   ]
  },
  {
   "cell_type": "code",
   "execution_count": 6,
   "metadata": {},
   "outputs": [
    {
     "name": "stdout",
     "output_type": "stream",
     "text": [
      "excluding: ../encode_unified_GRCh38_exclusion_list.bed\n",
      "excluding: ../hg38_centromeres.bed\n",
      "excluding: ../hg38_gaps.bed\n",
      "excluding: ../hg38_fix_patches.bed\n",
      "excluding: ../hg38_alternative_haplotypes.bed\n"
     ]
    }
   ],
   "source": [
    "#get the excluded regions\n",
    "merged_exclude_regions = unmappable_regions\n",
    "for path in exclude_paths:\n",
    "    print('excluding:',path)\n",
    "    current_regions = pybedtools.BedTool(path)\n",
    "    merged_exclude_regions = merged_exclude_regions.cat(current_regions)    \n",
    "    del(current_regions)\n",
    "merged_exclude_regions_df = merged_exclude_regions.to_dataframe()\n",
    "merged_exclude_regions_df = merged_exclude_regions_df[merged_exclude_regions_df['chrom'].isin(chroms)]\n",
    "merged_exclude_regions = pybedtools.BedTool.from_dataframe(merged_exclude_regions_df)\n"
   ]
  },
  {
   "cell_type": "code",
   "execution_count": 7,
   "metadata": {},
   "outputs": [
    {
     "name": "stdout",
     "output_type": "stream",
     "text": [
      "excluding 467980 regions, covering 408170579 bp\n",
      "retaining 467958 regions, covering 2466830943 bp\n"
     ]
    }
   ],
   "source": [
    "print('excluding',len(merged_exclude_regions),'regions, covering',merged_exclude_regions.total_coverage(),'bp')\n",
    "\n",
    "mappable_regions = merged_exclude_regions.complement(g=chrom_sizes_path)\n",
    "mappable_regions = mappable_regions.filter(lambda b: b.chrom in chroms) #fixed to filter chroms before exporting\n",
    "mappable_regions = mappable_regions.saveas()\n",
    "print('retaining',len(mappable_regions),'regions, covering',mappable_regions.total_coverage(),'bp')\n",
    "\n",
    "\n",
    "mappable_regions_df = mappable_regions.to_dataframe()\n",
    "mappable_regions_df.to_csv('../'+name+'.mappable_regions.hg38.bed', sep='\\t', index=False, header=False)"
   ]
  },
  {
   "cell_type": "code",
   "execution_count": 8,
   "metadata": {},
   "outputs": [
    {
     "name": "stdout",
     "output_type": "stream",
     "text": [
      "chr9\t138287819\t138287820\n",
      "chr9\t138295898\t138295899\n",
      "chr9\t138305748\t138305772\n",
      "chr9\t138307875\t138307876\n",
      "chr9\t138311405\t138311406\n",
      "chr9\t138312342\t138312343\n",
      "chr9\t138314012\t138314013\n",
      "chr9\t138314553\t138314554\n",
      "chr9\t138325043\t138325044\n",
      "chr9\t138327329\t138327330\n",
      "\n"
     ]
    }
   ],
   "source": [
    "mappable_regions.tail()"
   ]
  },
  {
   "cell_type": "code",
   "execution_count": 9,
   "metadata": {},
   "outputs": [
    {
     "name": "stdout",
     "output_type": "stream",
     "text": [
      "removing /fh/fast/ha_g/user/adoebley/projects/griffin_revisions_1/genome/scripts/tmp/pybedtools.sw7x_0gs.tmp\n",
      "removing /fh/fast/ha_g/user/adoebley/projects/griffin_revisions_1/genome/scripts/tmp/pybedtools.uwv3yso_.tmp\n",
      "removing /fh/fast/ha_g/user/adoebley/projects/griffin_revisions_1/genome/scripts/tmp/pybedtools.y4ezc4ej.tmp\n",
      "removing /fh/fast/ha_g/user/adoebley/projects/griffin_revisions_1/genome/scripts/tmp/pybedtools.qkz0d62f.tmp\n",
      "removing /fh/fast/ha_g/user/adoebley/projects/griffin_revisions_1/genome/scripts/tmp/pybedtools.wme4wxy3.tmp\n",
      "removing /fh/fast/ha_g/user/adoebley/projects/griffin_revisions_1/genome/scripts/tmp/pybedtools.h86m_p9x.tmp\n",
      "removing /fh/fast/ha_g/user/adoebley/projects/griffin_revisions_1/genome/scripts/tmp/pybedtools.6x90a1bz.tmp\n",
      "removing /fh/fast/ha_g/user/adoebley/projects/griffin_revisions_1/genome/scripts/tmp/pybedtools.81zwd_hu.tmp\n",
      "removing /fh/fast/ha_g/user/adoebley/projects/griffin_revisions_1/genome/scripts/tmp/pybedtools.yuv1y26w.tmp\n",
      "removing /fh/fast/ha_g/user/adoebley/projects/griffin_revisions_1/genome/scripts/tmp/pybedtools.0wis06le.tmp\n",
      "removing /fh/fast/ha_g/user/adoebley/projects/griffin_revisions_1/genome/scripts/tmp/pybedtools.fkgwpznu.tmp\n",
      "removing /fh/fast/ha_g/user/adoebley/projects/griffin_revisions_1/genome/scripts/tmp/pybedtools.w039mrbm.tmp\n",
      "removing /fh/fast/ha_g/user/adoebley/projects/griffin_revisions_1/genome/scripts/tmp/pybedtools.m57qw2bl.tmp\n",
      "removing /fh/fast/ha_g/user/adoebley/projects/griffin_revisions_1/genome/scripts/tmp/pybedtools.xojp1twx.tmp\n",
      "removing /fh/fast/ha_g/user/adoebley/projects/griffin_revisions_1/genome/scripts/tmp/pybedtools.txh1ai48.tmp\n",
      "removing /fh/fast/ha_g/user/adoebley/projects/griffin_revisions_1/genome/scripts/tmp/pybedtools.ma2xpnpa.tmp\n"
     ]
    }
   ],
   "source": [
    "pybedtools.cleanup('all')\n",
    "os.rmdir('tmp')"
   ]
  },
  {
   "cell_type": "code",
   "execution_count": null,
   "metadata": {},
   "outputs": [],
   "source": []
  }
 ],
 "metadata": {
  "kernelspec": {
   "display_name": "Python 3",
   "language": "python",
   "name": "python3"
  },
  "language_info": {
   "codemirror_mode": {
    "name": "ipython",
    "version": 3
   },
   "file_extension": ".py",
   "mimetype": "text/x-python",
   "name": "python",
   "nbconvert_exporter": "python",
   "pygments_lexer": "ipython3",
   "version": "3.7.4"
  }
 },
 "nbformat": 4,
 "nbformat_minor": 4
}
