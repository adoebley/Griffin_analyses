{
 "cells": [
  {
   "cell_type": "code",
   "execution_count": 1,
   "metadata": {},
   "outputs": [],
   "source": [
    "import pybedtools\n",
    "pybedtools.set_tempdir('tmp')\n",
    "import pandas as pd\n",
    "import numpy as np\n",
    "import time"
   ]
  },
  {
   "cell_type": "code",
   "execution_count": 2,
   "metadata": {},
   "outputs": [],
   "source": [
    "mapability_path = '../k50.Umap.MultiTrackMappability.hg38.bedGraph'\n",
    "mapability = pybedtools.BedTool(mapability_path)\n",
    "out_file = '../repeat_masker.mapable.k50.Umap.hg38.bedGraph'\n"
   ]
  },
  {
   "cell_type": "code",
   "execution_count": 3,
   "metadata": {},
   "outputs": [],
   "source": [
    "#keep only regions with perfect mapability\n",
    "#filter out anything with mapability less than 1\n",
    "#this is actually a bedGraph file so the score is in the 'name' column\n",
    "filtered_map = mapability.filter(lambda b: b.name=='1')\n",
    "\n",
    "#keep autosomes only\n",
    "chroms = ['chr'+str(m) for m in range(1,23)]\n",
    "filtered_map = filtered_map.filter(lambda b: b.chrom in chroms)\n"
   ]
  },
  {
   "cell_type": "code",
   "execution_count": 4,
   "metadata": {},
   "outputs": [],
   "source": [
    "repeat_masker_path = '../RepeatMasker.hg38.bed'\n",
    "repeat_masker = pybedtools.BedTool(repeat_masker_path)"
   ]
  },
  {
   "cell_type": "code",
   "execution_count": 5,
   "metadata": {},
   "outputs": [
    {
     "name": "stdout",
     "output_type": "stream",
     "text": [
      "648.77987241745\n"
     ]
    }
   ],
   "source": [
    "start_time = time.time()\n",
    "#subtract out repeat masker from filtered regions\n",
    "subtracted = filtered_map.subtract(repeat_masker)\n",
    "\n",
    "print(time.time()-start_time)"
   ]
  },
  {
   "cell_type": "code",
   "execution_count": 6,
   "metadata": {},
   "outputs": [
    {
     "data": {
      "text/plain": [
       "<BedTool(../repeat_masker.mapable.k50.Umap.hg38.bedGraph)>"
      ]
     },
     "execution_count": 6,
     "metadata": {},
     "output_type": "execute_result"
    }
   ],
   "source": [
    "subtracted.saveas(out_file)"
   ]
  },
  {
   "cell_type": "code",
   "execution_count": 7,
   "metadata": {},
   "outputs": [
    {
     "name": "stdout",
     "output_type": "stream",
     "text": [
      "3911557\n"
     ]
    }
   ],
   "source": [
    "print(len(subtracted))"
   ]
  },
  {
   "cell_type": "code",
   "execution_count": null,
   "metadata": {},
   "outputs": [],
   "source": []
  },
  {
   "cell_type": "code",
   "execution_count": null,
   "metadata": {},
   "outputs": [],
   "source": []
  }
 ],
 "metadata": {
  "kernelspec": {
   "display_name": "Python 3",
   "language": "python",
   "name": "python3"
  },
  "language_info": {
   "codemirror_mode": {
    "name": "ipython",
    "version": 3
   },
   "file_extension": ".py",
   "mimetype": "text/x-python",
   "name": "python",
   "nbconvert_exporter": "python",
   "pygments_lexer": "ipython3",
   "version": "3.8.2"
  }
 },
 "nbformat": 4,
 "nbformat_minor": 4
}
