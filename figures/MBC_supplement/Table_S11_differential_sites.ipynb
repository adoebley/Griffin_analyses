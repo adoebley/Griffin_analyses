{
 "cells": [
  {
   "cell_type": "code",
   "execution_count": 1,
   "metadata": {},
   "outputs": [],
   "source": [
    "#for supplementary table\n",
    "import pandas as pd\n",
    "import numpy as np"
   ]
  },
  {
   "cell_type": "code",
   "execution_count": 2,
   "metadata": {},
   "outputs": [],
   "source": [
    "in_dict = {'ER_positive_non_hematopoietic':'../../sites/TCGA_ATAC/ER_differential/sites_by_qval/ER_pos_specific.5e-4_qval.DESeq2.txt',\n",
    "          'ER_positive_hematopoietic':'../../sites/TCGA_ATAC/ER_differential/sites_by_qval/ER_pos_heme.5e-4_qval.DESeq2.txt',\n",
    "          'ER_negative_non_hematopoietic':'../../sites/TCGA_ATAC/ER_differential/sites_by_qval/ER_neg_specific.5e-4_qval.DESeq2.txt',\n",
    "          'ER_negative_hematopoietic':'../../sites/TCGA_ATAC/ER_differential/sites_by_qval/ER_neg_heme.5e-4_qval.DESeq2.txt'}"
   ]
  },
  {
   "cell_type": "code",
   "execution_count": 9,
   "metadata": {},
   "outputs": [
    {
     "name": "stdout",
     "output_type": "stream",
     "text": [
      "ER_positive_non_hematopoietic 18240\n",
      "ER_positive_hematopoietic 9930\n",
      "ER_negative_non_hematopoietic 19347\n",
      "ER_negative_hematopoietic 22365\n"
     ]
    }
   ],
   "source": [
    "data = pd.DataFrame()\n",
    "for key in in_dict.keys():\n",
    "    file = in_dict[key]\n",
    "    current = pd.read_csv(file,sep='\\t')\n",
    "    current['site_type'] = key\n",
    "    print(key,len(current))\n",
    "    data = data.append(current, ignore_index=True)\n",
    "    \n",
    "#subset to important columns\n",
    "data = data[['Chrom', 'Start', 'End','Peak_Name', 'position',\n",
    "       'pvalue','padj','log2FoldChange', 'site_type']]\n",
    "\n"
   ]
  },
  {
   "cell_type": "code",
   "execution_count": 11,
   "metadata": {},
   "outputs": [
    {
     "data": {
      "text/html": [
       "<div>\n",
       "<style scoped>\n",
       "    .dataframe tbody tr th:only-of-type {\n",
       "        vertical-align: middle;\n",
       "    }\n",
       "\n",
       "    .dataframe tbody tr th {\n",
       "        vertical-align: top;\n",
       "    }\n",
       "\n",
       "    .dataframe thead th {\n",
       "        text-align: right;\n",
       "    }\n",
       "</style>\n",
       "<table border=\"1\" class=\"dataframe\">\n",
       "  <thead>\n",
       "    <tr style=\"text-align: right;\">\n",
       "      <th></th>\n",
       "      <th>Chrom</th>\n",
       "      <th>Start</th>\n",
       "      <th>End</th>\n",
       "      <th>Peak_Name</th>\n",
       "      <th>position</th>\n",
       "      <th>pvalue</th>\n",
       "      <th>padj</th>\n",
       "      <th>log2FoldChange</th>\n",
       "      <th>site_type</th>\n",
       "    </tr>\n",
       "  </thead>\n",
       "  <tbody>\n",
       "    <tr>\n",
       "      <th>0</th>\n",
       "      <td>chr8</td>\n",
       "      <td>86239102</td>\n",
       "      <td>86239603</td>\n",
       "      <td>BRCA_100000</td>\n",
       "      <td>86239352</td>\n",
       "      <td>8.324964e-13</td>\n",
       "      <td>1.399854e-11</td>\n",
       "      <td>2.518774</td>\n",
       "      <td>ER_positive_non_hematopoietic</td>\n",
       "    </tr>\n",
       "    <tr>\n",
       "      <th>1</th>\n",
       "      <td>chr8</td>\n",
       "      <td>86242935</td>\n",
       "      <td>86243436</td>\n",
       "      <td>BRCA_100001</td>\n",
       "      <td>86243185</td>\n",
       "      <td>3.447204e-15</td>\n",
       "      <td>9.707595e-14</td>\n",
       "      <td>3.128782</td>\n",
       "      <td>ER_positive_non_hematopoietic</td>\n",
       "    </tr>\n",
       "    <tr>\n",
       "      <th>2</th>\n",
       "      <td>chr8</td>\n",
       "      <td>86243600</td>\n",
       "      <td>86244101</td>\n",
       "      <td>BRCA_100002</td>\n",
       "      <td>86243850</td>\n",
       "      <td>1.950262e-12</td>\n",
       "      <td>3.043029e-11</td>\n",
       "      <td>2.817476</td>\n",
       "      <td>ER_positive_non_hematopoietic</td>\n",
       "    </tr>\n",
       "    <tr>\n",
       "      <th>3</th>\n",
       "      <td>chr8</td>\n",
       "      <td>86257422</td>\n",
       "      <td>86257923</td>\n",
       "      <td>BRCA_100003</td>\n",
       "      <td>86257672</td>\n",
       "      <td>1.532474e-13</td>\n",
       "      <td>3.022724e-12</td>\n",
       "      <td>2.333485</td>\n",
       "      <td>ER_positive_non_hematopoietic</td>\n",
       "    </tr>\n",
       "    <tr>\n",
       "      <th>4</th>\n",
       "      <td>chr8</td>\n",
       "      <td>86258510</td>\n",
       "      <td>86259011</td>\n",
       "      <td>BRCA_100004</td>\n",
       "      <td>86258760</td>\n",
       "      <td>2.722188e-17</td>\n",
       "      <td>1.201197e-15</td>\n",
       "      <td>2.992381</td>\n",
       "      <td>ER_positive_non_hematopoietic</td>\n",
       "    </tr>\n",
       "  </tbody>\n",
       "</table>\n",
       "</div>"
      ],
      "text/plain": [
       "  Chrom     Start       End    Peak_Name  position        pvalue  \\\n",
       "0  chr8  86239102  86239603  BRCA_100000  86239352  8.324964e-13   \n",
       "1  chr8  86242935  86243436  BRCA_100001  86243185  3.447204e-15   \n",
       "2  chr8  86243600  86244101  BRCA_100002  86243850  1.950262e-12   \n",
       "3  chr8  86257422  86257923  BRCA_100003  86257672  1.532474e-13   \n",
       "4  chr8  86258510  86259011  BRCA_100004  86258760  2.722188e-17   \n",
       "\n",
       "           padj  log2FoldChange                      site_type  \n",
       "0  1.399854e-11        2.518774  ER_positive_non_hematopoietic  \n",
       "1  9.707595e-14        3.128782  ER_positive_non_hematopoietic  \n",
       "2  3.043029e-11        2.817476  ER_positive_non_hematopoietic  \n",
       "3  3.022724e-12        2.333485  ER_positive_non_hematopoietic  \n",
       "4  1.201197e-15        2.992381  ER_positive_non_hematopoietic  "
      ]
     },
     "execution_count": 11,
     "metadata": {},
     "output_type": "execute_result"
    }
   ],
   "source": [
    "data.head()"
   ]
  },
  {
   "cell_type": "code",
   "execution_count": 17,
   "metadata": {},
   "outputs": [],
   "source": [
    "data.to_csv('files/S11_ER_differential_sites.tsv', sep='\\t',index=False)"
   ]
  },
  {
   "cell_type": "code",
   "execution_count": 15,
   "metadata": {},
   "outputs": [
    {
     "data": {
      "text/plain": [
       "69882"
      ]
     },
     "execution_count": 15,
     "metadata": {},
     "output_type": "execute_result"
    }
   ],
   "source": [
    "18240+9930+19347+22365"
   ]
  },
  {
   "cell_type": "code",
   "execution_count": 16,
   "metadata": {},
   "outputs": [
    {
     "data": {
      "text/plain": [
       "69882"
      ]
     },
     "execution_count": 16,
     "metadata": {},
     "output_type": "execute_result"
    }
   ],
   "source": [
    "len(data)"
   ]
  },
  {
   "cell_type": "code",
   "execution_count": null,
   "metadata": {},
   "outputs": [],
   "source": []
  }
 ],
 "metadata": {
  "kernelspec": {
   "display_name": "Python 3",
   "language": "python",
   "name": "python3"
  },
  "language_info": {
   "codemirror_mode": {
    "name": "ipython",
    "version": 3
   },
   "file_extension": ".py",
   "mimetype": "text/x-python",
   "name": "python",
   "nbconvert_exporter": "python",
   "pygments_lexer": "ipython3",
   "version": "3.7.4"
  }
 },
 "nbformat": 4,
 "nbformat_minor": 4
}
