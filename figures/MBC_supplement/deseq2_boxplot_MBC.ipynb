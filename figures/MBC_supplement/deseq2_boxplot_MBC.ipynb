{
 "cells": [
  {
   "cell_type": "code",
   "execution_count": 2,
   "metadata": {},
   "outputs": [],
   "source": [
    "import pandas as pd\n",
    "import numpy as np\n",
    "\n",
    "from matplotlib import pyplot as plt\n",
    "%matplotlib inline\n",
    "\n",
    "import seaborn as sns\n"
   ]
  },
  {
   "cell_type": "code",
   "execution_count": 3,
   "metadata": {},
   "outputs": [],
   "source": [
    "in_dir = '../../MBC/ATAC_nucleosome_profiling/analysis/logreg_results/'"
   ]
  },
  {
   "cell_type": "code",
   "execution_count": 4,
   "metadata": {},
   "outputs": [
    {
     "name": "stdout",
     "output_type": "stream",
     "text": [
      "AUC\n"
     ]
    },
    {
     "data": {
      "text/html": [
       "<div>\n",
       "<style scoped>\n",
       "    .dataframe tbody tr th:only-of-type {\n",
       "        vertical-align: middle;\n",
       "    }\n",
       "\n",
       "    .dataframe tbody tr th {\n",
       "        vertical-align: top;\n",
       "    }\n",
       "\n",
       "    .dataframe thead th {\n",
       "        text-align: right;\n",
       "    }\n",
       "</style>\n",
       "<table border=\"1\" class=\"dataframe\">\n",
       "  <thead>\n",
       "    <tr style=\"text-align: right;\">\n",
       "      <th></th>\n",
       "      <th>0_0_FC</th>\n",
       "      <th>0_5_FC</th>\n",
       "      <th>1_FC</th>\n",
       "      <th>2_FC</th>\n",
       "      <th>5e-4_qval</th>\n",
       "      <th>5e-6_qval</th>\n",
       "      <th>5e-8_qval</th>\n",
       "    </tr>\n",
       "  </thead>\n",
       "  <tbody>\n",
       "    <tr>\n",
       "      <th>high_tfx</th>\n",
       "      <td>0.91</td>\n",
       "      <td>0.92</td>\n",
       "      <td>0.92</td>\n",
       "      <td>0.92</td>\n",
       "      <td>0.92</td>\n",
       "      <td>0.92</td>\n",
       "      <td>0.92</td>\n",
       "    </tr>\n",
       "    <tr>\n",
       "      <th>low_tfx</th>\n",
       "      <td>0.71</td>\n",
       "      <td>0.72</td>\n",
       "      <td>0.72</td>\n",
       "      <td>0.80</td>\n",
       "      <td>0.75</td>\n",
       "      <td>0.72</td>\n",
       "      <td>0.80</td>\n",
       "    </tr>\n",
       "    <tr>\n",
       "      <th>overall</th>\n",
       "      <td>0.87</td>\n",
       "      <td>0.88</td>\n",
       "      <td>0.88</td>\n",
       "      <td>0.89</td>\n",
       "      <td>0.89</td>\n",
       "      <td>0.88</td>\n",
       "      <td>0.89</td>\n",
       "    </tr>\n",
       "  </tbody>\n",
       "</table>\n",
       "</div>"
      ],
      "text/plain": [
       "          0_0_FC  0_5_FC  1_FC  2_FC  5e-4_qval  5e-6_qval  5e-8_qval\n",
       "high_tfx    0.91    0.92  0.92  0.92       0.92       0.92       0.92\n",
       "low_tfx     0.71    0.72  0.72  0.80       0.75       0.72       0.80\n",
       "overall     0.87    0.88  0.88  0.89       0.89       0.88       0.89"
      ]
     },
     "execution_count": 4,
     "metadata": {},
     "output_type": "execute_result"
    },
    {
     "data": {
      "image/png": "[encoded data removed]",
      "text/plain": [
       "<Figure size 720x432 with 1 Axes>"
      ]
     },
     "metadata": {
      "needs_background": "light"
     },
     "output_type": "display_data"
    }
   ],
   "source": [
    "site_groups = ['0_0_FC','0_5_FC','1_FC','2_FC','5e-4_qval','5e-6_qval','5e-8_qval']\n",
    "metric = 'AUC'\n",
    "\n",
    "boxplot_data = pd.DataFrame()\n",
    "for site_group in site_groups:\n",
    "    current = pd.read_csv(in_dir+site_group+'_logreg_results/'+site_group+'.'+metric+'.txt', sep='\\t')\n",
    "    current = current[['high_tfx','low_tfx','overall']]\n",
    "    current['site_group'] = site_group\n",
    "    current = current.set_index('site_group').stack().reset_index()\n",
    "    current = current.rename(columns = {'level_1':'group',0:metric})\n",
    "    boxplot_data = boxplot_data.append(current)\n",
    "\n",
    "fig,ax = plt.subplots(figsize = (10,6))\n",
    "sns.boxplot(x = boxplot_data['site_group'],\n",
    "            y = boxplot_data[metric],\n",
    "            hue = boxplot_data['group'],\n",
    "           width = 0.6,\n",
    "           order = site_groups,\n",
    "           ax = ax, fliersize = 1)\n",
    "\n",
    "plt.legend(bbox_to_anchor = [1,1], loc = 'upper left');\n",
    "plt.ylim(-0.05,1.05)\n",
    "plt.tight_layout()\n",
    "plt.title(metric+' by site number threshold')\n",
    "fig.tight_layout()\n",
    "plt.savefig('plots/'+metric+'_threshold_plot.pdf')\n",
    "\n",
    "metrics_df = pd.DataFrame(index = boxplot_data['group'].unique())\n",
    "for site_group in site_groups:\n",
    "    df = boxplot_data[boxplot_data['site_group']==site_group]\n",
    "    metrics_df[site_group] = df.groupby('group')[metric].median().copy()\n",
    "\n",
    "print(metric)\n",
    "np.round(metrics_df,2)\n",
    "\n"
   ]
  },
  {
   "cell_type": "code",
   "execution_count": 6,
   "metadata": {},
   "outputs": [
    {
     "name": "stdout",
     "output_type": "stream",
     "text": [
      "AUC\n"
     ]
    },
    {
     "data": {
      "text/html": [
       "<div>\n",
       "<style scoped>\n",
       "    .dataframe tbody tr th:only-of-type {\n",
       "        vertical-align: middle;\n",
       "    }\n",
       "\n",
       "    .dataframe tbody tr th {\n",
       "        vertical-align: top;\n",
       "    }\n",
       "\n",
       "    .dataframe thead th {\n",
       "        text-align: right;\n",
       "    }\n",
       "</style>\n",
       "<table border=\"1\" class=\"dataframe\">\n",
       "  <thead>\n",
       "    <tr style=\"text-align: right;\">\n",
       "      <th></th>\n",
       "      <th>0_0_FC</th>\n",
       "      <th>0_5_FC</th>\n",
       "      <th>1_FC</th>\n",
       "      <th>2_FC</th>\n",
       "      <th>5e-4_qval</th>\n",
       "      <th>5e-6_qval</th>\n",
       "      <th>5e-8_qval</th>\n",
       "    </tr>\n",
       "  </thead>\n",
       "  <tbody>\n",
       "    <tr>\n",
       "      <th>low_tfx</th>\n",
       "      <td>0.714 (0.381-0.958)</td>\n",
       "      <td>0.72 (0.416-0.97)</td>\n",
       "      <td>0.718 (0.383-0.961)</td>\n",
       "      <td>0.8 (0.571-1.0)</td>\n",
       "      <td>0.75 (0.417-1.0)</td>\n",
       "      <td>0.719 (0.425-1.0)</td>\n",
       "      <td>0.8 (0.5-1.0)</td>\n",
       "    </tr>\n",
       "    <tr>\n",
       "      <th>high_tfx</th>\n",
       "      <td>0.909 (0.824-0.983)</td>\n",
       "      <td>0.915 (0.836-0.987)</td>\n",
       "      <td>0.917 (0.831-0.985)</td>\n",
       "      <td>0.919 (0.833-0.98)</td>\n",
       "      <td>0.924 (0.842-0.99)</td>\n",
       "      <td>0.917 (0.836-0.983)</td>\n",
       "      <td>0.918 (0.838-0.985)</td>\n",
       "    </tr>\n",
       "    <tr>\n",
       "      <th>overall</th>\n",
       "      <td>0.869 (0.777-0.946)</td>\n",
       "      <td>0.879 (0.794-0.952)</td>\n",
       "      <td>0.879 (0.796-0.947)</td>\n",
       "      <td>0.891 (0.803-0.955)</td>\n",
       "      <td>0.892 (0.811-0.956)</td>\n",
       "      <td>0.878 (0.802-0.944)</td>\n",
       "      <td>0.892 (0.815-0.957)</td>\n",
       "    </tr>\n",
       "  </tbody>\n",
       "</table>\n",
       "</div>"
      ],
      "text/plain": [
       "                       0_0_FC               0_5_FC                 1_FC  \\\n",
       "low_tfx   0.714 (0.381-0.958)    0.72 (0.416-0.97)  0.718 (0.383-0.961)   \n",
       "high_tfx  0.909 (0.824-0.983)  0.915 (0.836-0.987)  0.917 (0.831-0.985)   \n",
       "overall   0.869 (0.777-0.946)  0.879 (0.794-0.952)  0.879 (0.796-0.947)   \n",
       "\n",
       "                         2_FC            5e-4_qval            5e-6_qval  \\\n",
       "low_tfx       0.8 (0.571-1.0)     0.75 (0.417-1.0)    0.719 (0.425-1.0)   \n",
       "high_tfx   0.919 (0.833-0.98)   0.924 (0.842-0.99)  0.917 (0.836-0.983)   \n",
       "overall   0.891 (0.803-0.955)  0.892 (0.811-0.956)  0.878 (0.802-0.944)   \n",
       "\n",
       "                    5e-8_qval  \n",
       "low_tfx         0.8 (0.5-1.0)  \n",
       "high_tfx  0.918 (0.838-0.985)  \n",
       "overall   0.892 (0.815-0.957)  "
      ]
     },
     "execution_count": 6,
     "metadata": {},
     "output_type": "execute_result"
    }
   ],
   "source": [
    "metrics_df = pd.DataFrame(index = boxplot_data['group'].unique())\n",
    "for site_group in site_groups:\n",
    "    df = boxplot_data[boxplot_data['site_group']==site_group]\n",
    "    metrics_df[site_group] = np.round(df.groupby('group')[metric].median(),3).astype(str) + ' ('+ \\\n",
    "        np.round(df.groupby('group')[metric].quantile(0.025),3).astype(str) + '-' + \\\n",
    "        np.round(df.groupby('group')[metric].quantile(0.975),3).astype(str) + ')'\n",
    "#format for table\n",
    "# metrics_df = np.round(metrics_df,3)\n",
    "\n",
    "print(metric)\n",
    "metrics_df.loc[['low_tfx','high_tfx','overall']]"
   ]
  },
  {
   "cell_type": "code",
   "execution_count": 4,
   "metadata": {},
   "outputs": [
    {
     "name": "stdout",
     "output_type": "stream",
     "text": [
      "accuracy\n"
     ]
    },
    {
     "data": {
      "text/html": [
       "<div>\n",
       "<style scoped>\n",
       "    .dataframe tbody tr th:only-of-type {\n",
       "        vertical-align: middle;\n",
       "    }\n",
       "\n",
       "    .dataframe tbody tr th {\n",
       "        vertical-align: top;\n",
       "    }\n",
       "\n",
       "    .dataframe thead th {\n",
       "        text-align: right;\n",
       "    }\n",
       "</style>\n",
       "<table border=\"1\" class=\"dataframe\">\n",
       "  <thead>\n",
       "    <tr style=\"text-align: right;\">\n",
       "      <th></th>\n",
       "      <th>0_0_FC</th>\n",
       "      <th>0_5_FC</th>\n",
       "      <th>1_FC</th>\n",
       "      <th>2_FC</th>\n",
       "      <th>5e-4_qval</th>\n",
       "      <th>5e-6_qval</th>\n",
       "      <th>5e-8_qval</th>\n",
       "    </tr>\n",
       "  </thead>\n",
       "  <tbody>\n",
       "    <tr>\n",
       "      <th>high_tfx</th>\n",
       "      <td>0.857</td>\n",
       "      <td>0.861</td>\n",
       "      <td>0.852</td>\n",
       "      <td>0.842</td>\n",
       "      <td>0.865</td>\n",
       "      <td>0.854</td>\n",
       "      <td>0.842</td>\n",
       "    </tr>\n",
       "    <tr>\n",
       "      <th>low_tfx</th>\n",
       "      <td>0.667</td>\n",
       "      <td>0.667</td>\n",
       "      <td>0.667</td>\n",
       "      <td>0.692</td>\n",
       "      <td>0.688</td>\n",
       "      <td>0.643</td>\n",
       "      <td>0.714</td>\n",
       "    </tr>\n",
       "    <tr>\n",
       "      <th>overall</th>\n",
       "      <td>0.804</td>\n",
       "      <td>0.804</td>\n",
       "      <td>0.800</td>\n",
       "      <td>0.800</td>\n",
       "      <td>0.811</td>\n",
       "      <td>0.796</td>\n",
       "      <td>0.804</td>\n",
       "    </tr>\n",
       "  </tbody>\n",
       "</table>\n",
       "</div>"
      ],
      "text/plain": [
       "          0_0_FC  0_5_FC   1_FC   2_FC  5e-4_qval  5e-6_qval  5e-8_qval\n",
       "high_tfx   0.857   0.861  0.852  0.842      0.865      0.854      0.842\n",
       "low_tfx    0.667   0.667  0.667  0.692      0.688      0.643      0.714\n",
       "overall    0.804   0.804  0.800  0.800      0.811      0.796      0.804"
      ]
     },
     "execution_count": 4,
     "metadata": {},
     "output_type": "execute_result"
    },
    {
     "data": {
      "image/png": "[encoded data removed]",
      "text/plain": [
       "<Figure size 720x432 with 1 Axes>"
      ]
     },
     "metadata": {
      "needs_background": "light"
     },
     "output_type": "display_data"
    }
   ],
   "source": [
    "site_groups = ['0_0_FC','0_5_FC','1_FC','2_FC','5e-4_qval','5e-6_qval','5e-8_qval']\n",
    "metric = 'accuracy'\n",
    "\n",
    "boxplot_data = pd.DataFrame()\n",
    "for site_group in site_groups:\n",
    "    current = pd.read_csv(in_dir+site_group+'_logreg_results/'+site_group+'.'+metric+'.txt', sep='\\t')\n",
    "    current = current[['high_tfx','low_tfx','overall']]\n",
    "    current['site_group'] = site_group\n",
    "    current = current.set_index('site_group').stack().reset_index()\n",
    "    current = current.rename(columns = {'level_1':'group',0:metric})\n",
    "    boxplot_data = boxplot_data.append(current)\n",
    "\n",
    "fig,ax = plt.subplots(figsize = (10,6))\n",
    "sns.boxplot(x = boxplot_data['site_group'],\n",
    "            y = boxplot_data[metric],\n",
    "            hue = boxplot_data['group'],\n",
    "           width = 0.6,\n",
    "           order = site_groups,\n",
    "           ax = ax,\n",
    "           fliersize = 1)\n",
    "\n",
    "plt.legend(bbox_to_anchor = [1,1], loc = 'upper left');\n",
    "plt.ylim(-0.05,1.05)\n",
    "plt.tight_layout()\n",
    "plt.title(metric+' by site number threshold')\n",
    "fig.tight_layout()\n",
    "plt.savefig('plots/'+metric+'_threshold_plot.pdf')\n",
    "\n",
    "metrics_df = pd.DataFrame(index = boxplot_data['group'].unique())\n",
    "for site_group in site_groups:\n",
    "    df = boxplot_data[boxplot_data['site_group']==site_group]\n",
    "    metrics_df[site_group] = df.groupby('group')[metric].median().copy()\n",
    "\n",
    "print(metric)\n",
    "np.round(metrics_df,3)"
   ]
  },
  {
   "cell_type": "code",
   "execution_count": 5,
   "metadata": {},
   "outputs": [
    {
     "data": {
      "text/plain": [
       "'/fh/fast/ha_g/user/adoebley/projects/griffin_revisions_1/figures/MBC_supplement'"
      ]
     },
     "execution_count": 5,
     "metadata": {},
     "output_type": "execute_result"
    }
   ],
   "source": [
    "import os\n",
    "os.getcwd()"
   ]
  },
  {
   "cell_type": "code",
   "execution_count": null,
   "metadata": {},
   "outputs": [],
   "source": []
  },
  {
   "cell_type": "code",
   "execution_count": null,
   "metadata": {},
   "outputs": [],
   "source": []
  },
  {
   "cell_type": "code",
   "execution_count": null,
   "metadata": {},
   "outputs": [],
   "source": []
  }
 ],
 "metadata": {
  "kernelspec": {
   "display_name": "Python 3",
   "language": "python",
   "name": "python3"
  },
  "language_info": {
   "codemirror_mode": {
    "name": "ipython",
    "version": 3
   },
   "file_extension": ".py",
   "mimetype": "text/x-python",
   "name": "python",
   "nbconvert_exporter": "python",
   "pygments_lexer": "ipython3",
   "version": "3.7.4"
  }
 },
 "nbformat": 4,
 "nbformat_minor": 4
}
