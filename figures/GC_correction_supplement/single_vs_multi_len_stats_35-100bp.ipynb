{
 "cells": [
  {
   "cell_type": "code",
   "execution_count": 1,
   "metadata": {},
   "outputs": [],
   "source": [
    "import pandas as pd\n",
    "import numpy as np\n",
    "from scipy.stats import wilcoxon\n",
    "from scipy.stats import linregress\n",
    "from sklearn.metrics import mean_squared_error\n",
    "\n",
    "\n",
    "import yaml \n",
    "import time\n",
    "\n",
    "from matplotlib import pyplot as plt\n",
    "%matplotlib inline"
   ]
  },
  {
   "cell_type": "code",
   "execution_count": 2,
   "metadata": {},
   "outputs": [],
   "source": [
    "len_string = '35-100bp'\n",
    "samples_yaml = '../../CRPC/TFBS_'+len_string+'_nucleosome_profiling/config/samples.GC.yaml'\n",
    "single_fragment_length_dir ='../../Griffin_single_fragment_length/CRPC_deep/CRPC_'+len_string+'_single_fragment_length_np/results/'\n",
    "multi_fragment_length_dir ='../../CRPC/TFBS_'+len_string+'_nucleosome_profiling/results/'\n",
    "tfx_path = '../../metadata/CRPC/deepWGS_tumor_fraction.txt'\n",
    "\n",
    "out_dir = 'files'"
   ]
  },
  {
   "cell_type": "code",
   "execution_count": 3,
   "metadata": {},
   "outputs": [],
   "source": [
    "with open(samples_yaml, 'r') as f:\n",
    "    samples = yaml.safe_load(f)\n",
    "    \n",
    "samples = list(samples['samples'].keys())\n"
   ]
  },
  {
   "cell_type": "code",
   "execution_count": 4,
   "metadata": {},
   "outputs": [],
   "source": [
    "#import data\n",
    "single_fragment_data = pd.DataFrame()\n",
    "multi_fragment_data = pd.DataFrame()\n",
    "\n",
    "for sample in samples:\n",
    "    file1 = single_fragment_length_dir+sample+'/'+sample+'.GC_corrected.coverage.tsv'\n",
    "    data1 = pd.read_csv(file1, sep='\\t')\n",
    "    single_fragment_data = single_fragment_data.append(data1)\n",
    "    \n",
    "    file2 = multi_fragment_length_dir+sample+'/'+sample+'.GC_corrected.coverage.tsv'\n",
    "    data2 = pd.read_csv(file2, sep='\\t')\n",
    "    multi_fragment_data = multi_fragment_data.append(data2)\n",
    "\n",
    "#merge with tumor fraction\n",
    "tfx_data = pd.read_csv(tfx_path, sep='\\t').rename(columns = {'ID':'sample'})\n",
    "single_fragment_data = single_fragment_data.merge(tfx_data, on = 'sample')\n",
    "\n",
    "multi_fragment_data = multi_fragment_data.merge(tfx_data, on = 'sample')"
   ]
  },
  {
   "cell_type": "code",
   "execution_count": 5,
   "metadata": {},
   "outputs": [],
   "source": [
    "data = {'single_fragment_length':single_fragment_data,\n",
    "        'multi_fragment_length':multi_fragment_data}"
   ]
  },
  {
   "cell_type": "code",
   "execution_count": 6,
   "metadata": {},
   "outputs": [
    {
     "data": {
      "text/plain": [
       "377"
      ]
     },
     "execution_count": 6,
     "metadata": {},
     "output_type": "execute_result"
    }
   ],
   "source": [
    "sites = multi_fragment_data['site_name'].unique()\n",
    "len(sites)"
   ]
  },
  {
   "cell_type": "code",
   "execution_count": 7,
   "metadata": {},
   "outputs": [
    {
     "name": "stdout",
     "output_type": "stream",
     "text": [
      "0 AHR.hg38.10000\n",
      "50 ELK4.hg38.10000\n",
      "100 HIF3A.hg38.10000\n",
      "150 MEF2A.hg38.10000\n",
      "200 OTX2.hg38.10000\n",
      "250 SMAD5.hg38.10000\n",
      "300 TLX1.hg38.10000\n",
      "350 ZNF316.hg38.10000\n"
     ]
    }
   ],
   "source": [
    "stat_results = {}\n",
    "analysis_types = data.keys()\n",
    "\n",
    "for i,item in enumerate(analysis_types): \n",
    "    stat_results[item] = pd.DataFrame()\n",
    "\n",
    "for k,site_name in enumerate(sites):\n",
    "    if k%50==0:\n",
    "        print(k,site_name)\n",
    "    for i,item in enumerate(analysis_types): \n",
    "            current_data = data[item].copy()\n",
    "            current_data = current_data[current_data['site_name']==site_name]\n",
    "            current_outputs = {'site_name':site_name}\n",
    "            for feature in ['mean_coverage','central_coverage','amplitude']:\n",
    "                #pearson r plus regression line\n",
    "                lin_reg_slope, lin_reg_intercept, pearson_r, pearson_pval, lin_reg_std_err = linregress(current_data['tumor_fraction'],current_data[feature])\n",
    "                fit_line = lin_reg_slope*current_data['tumor_fraction']+lin_reg_intercept\n",
    "\n",
    "                RMSE = np.sqrt(mean_squared_error(current_data[feature],fit_line))\n",
    "                current_outputs['pearson_r_'+feature] = pearson_r\n",
    "                current_outputs['pearson_pval_'+feature] = pearson_pval\n",
    "                current_outputs['lin_reg_slope_'+feature] = lin_reg_slope\n",
    "                current_outputs['lin_reg_intercept_'+feature] = lin_reg_intercept\n",
    "                #current_outputs['lin_reg_r2_'+feature] = r2\n",
    "                current_outputs['lin_reg_RMSE_'+feature] = RMSE\n",
    "            stat_results[item] = stat_results[item].append(current_outputs, ignore_index=True)\n"
   ]
  },
  {
   "cell_type": "code",
   "execution_count": 8,
   "metadata": {},
   "outputs": [],
   "source": [
    "#export for supplemental table\n",
    "keep_cols = ['site_name', \n",
    "             'pearson_r_central_coverage','pearson_pval_central_coverage', 'lin_reg_RMSE_central_coverage',\n",
    "             'pearson_r_mean_coverage', 'pearson_pval_mean_coverage','lin_reg_RMSE_mean_coverage',\n",
    "             'pearson_r_amplitude', 'pearson_pval_amplitude','lin_reg_RMSE_amplitude']\n",
    "\n",
    "for i,item in enumerate(analysis_types): \n",
    "    stat_results[item][keep_cols].to_csv(out_dir+'/'+item+'_'+len_string+'.tsv', sep='\\t', index=False)\n"
   ]
  },
  {
   "cell_type": "code",
   "execution_count": null,
   "metadata": {},
   "outputs": [],
   "source": []
  },
  {
   "cell_type": "code",
   "execution_count": 9,
   "metadata": {},
   "outputs": [
    {
     "data": {
      "image/png": "[encoded data removed]",
      "text/plain": [
       "<Figure size 288x108 with 1 Axes>"
      ]
     },
     "metadata": {
      "needs_background": "light"
     },
     "output_type": "display_data"
    },
    {
     "name": "stdout",
     "output_type": "stream",
     "text": [
      "medians:\n",
      "single_fragment_length    0.180\n",
      "multi_fragment_length     0.131\n",
      "dtype: float64\n",
      "number improved:\n",
      "360\n",
      "0.95\n",
      "\n",
      "\n"
     ]
    },
    {
     "data": {
      "image/png": "[encoded data removed]",
      "text/plain": [
       "<Figure size 288x108 with 1 Axes>"
      ]
     },
     "metadata": {
      "needs_background": "light"
     },
     "output_type": "display_data"
    },
    {
     "name": "stdout",
     "output_type": "stream",
     "text": [
      "medians:\n",
      "single_fragment_length    0.036\n",
      "multi_fragment_length     0.026\n",
      "dtype: float64\n",
      "number improved:\n",
      "366\n",
      "0.97\n",
      "\n",
      "\n"
     ]
    },
    {
     "data": {
      "image/png": "[encoded data removed]",
      "text/plain": [
       "<Figure size 288x108 with 1 Axes>"
      ]
     },
     "metadata": {
      "needs_background": "light"
     },
     "output_type": "display_data"
    },
    {
     "name": "stdout",
     "output_type": "stream",
     "text": [
      "medians:\n",
      "single_fragment_length    0.391\n",
      "multi_fragment_length     0.362\n",
      "dtype: float64\n",
      "number improved:\n",
      "226\n",
      "0.6\n",
      "\n",
      "\n"
     ]
    }
   ],
   "source": [
    "#make boxplots\n",
    "\n",
    "\n",
    "for feature in ['central_coverage','mean_coverage','amplitude']:\n",
    "    boxplot_data = pd.DataFrame(index = sites)\n",
    "    for i,item in enumerate(['multi_fragment_length','single_fragment_length']): \n",
    "            current_data = stat_results[item][['lin_reg_RMSE_'+feature,'site_name']].set_index('site_name').copy()\n",
    "            boxplot_data[item] = current_data\n",
    "\n",
    "    fig,ax = plt.subplots(1, figsize=(4,1.5))\n",
    "\n",
    "\n",
    "    boxplot_data.plot.box(ax = ax, vert = False, widths = .5, flierprops = {'marker':'.','markersize':10,'alpha':.5,'markerfacecolor':'grey','markeredgecolor':'none'})\n",
    "    stat,wilcoxon_pval = wilcoxon(boxplot_data['single_fragment_length'],boxplot_data['multi_fragment_length'])\n",
    "    \n",
    "    ax.set_title('lin_reg '+feature+' RMSE\\n'+len_string+' wilcoxon p:'+'{:.1E}'.format(wilcoxon_pval))\n",
    "    ax.set_ylabel('RMSE')    \n",
    "    #ax.tick_params(axis = 'x', rotation=90)\n",
    "    fig.tight_layout()\n",
    "    fig.savefig('plots/'+feature+'_'+len_string+'_RMSE_plot.pdf')\n",
    "\n",
    "    plt.show()\n",
    "    print('medians:')\n",
    "    print(np.round(boxplot_data[['single_fragment_length','multi_fragment_length']].median(),3))\n",
    "    print('number improved:')\n",
    "    print(sum(boxplot_data['single_fragment_length']>boxplot_data['multi_fragment_length']))\n",
    "    print(np.round(sum(boxplot_data['single_fragment_length']>boxplot_data['multi_fragment_length'])/len(boxplot_data),2))\n",
    "\n",
    "    print('\\n')"
   ]
  },
  {
   "cell_type": "code",
   "execution_count": 10,
   "metadata": {},
   "outputs": [
    {
     "data": {
      "text/html": [
       "<div>\n",
       "<style scoped>\n",
       "    .dataframe tbody tr th:only-of-type {\n",
       "        vertical-align: middle;\n",
       "    }\n",
       "\n",
       "    .dataframe tbody tr th {\n",
       "        vertical-align: top;\n",
       "    }\n",
       "\n",
       "    .dataframe thead th {\n",
       "        text-align: right;\n",
       "    }\n",
       "</style>\n",
       "<table border=\"1\" class=\"dataframe\">\n",
       "  <thead>\n",
       "    <tr style=\"text-align: right;\">\n",
       "      <th></th>\n",
       "      <th>multi_fragment_length</th>\n",
       "      <th>single_fragment_length</th>\n",
       "    </tr>\n",
       "  </thead>\n",
       "  <tbody>\n",
       "    <tr>\n",
       "      <th>AHR.hg38.10000</th>\n",
       "      <td>0.213878</td>\n",
       "      <td>0.355494</td>\n",
       "    </tr>\n",
       "    <tr>\n",
       "      <th>AR.hg38.10000</th>\n",
       "      <td>0.433186</td>\n",
       "      <td>0.432433</td>\n",
       "    </tr>\n",
       "    <tr>\n",
       "      <th>ARID3A.hg38.10000</th>\n",
       "      <td>0.339314</td>\n",
       "      <td>0.355649</td>\n",
       "    </tr>\n",
       "    <tr>\n",
       "      <th>ARNT.hg38.10000</th>\n",
       "      <td>0.324176</td>\n",
       "      <td>0.287341</td>\n",
       "    </tr>\n",
       "    <tr>\n",
       "      <th>ARNTL.hg38.10000</th>\n",
       "      <td>0.435124</td>\n",
       "      <td>0.362014</td>\n",
       "    </tr>\n",
       "    <tr>\n",
       "      <th>...</th>\n",
       "      <td>...</td>\n",
       "      <td>...</td>\n",
       "    </tr>\n",
       "    <tr>\n",
       "      <th>ZNF792.hg38.10000</th>\n",
       "      <td>0.846010</td>\n",
       "      <td>0.947039</td>\n",
       "    </tr>\n",
       "    <tr>\n",
       "      <th>ZSCAN16.hg38.10000</th>\n",
       "      <td>0.733138</td>\n",
       "      <td>0.529491</td>\n",
       "    </tr>\n",
       "    <tr>\n",
       "      <th>ZSCAN22.hg38.10000</th>\n",
       "      <td>0.511772</td>\n",
       "      <td>0.583547</td>\n",
       "    </tr>\n",
       "    <tr>\n",
       "      <th>ZSCAN4.hg38.10000</th>\n",
       "      <td>0.803887</td>\n",
       "      <td>0.686841</td>\n",
       "    </tr>\n",
       "    <tr>\n",
       "      <th>ZSCAN9.hg38.10000</th>\n",
       "      <td>0.833857</td>\n",
       "      <td>1.133964</td>\n",
       "    </tr>\n",
       "  </tbody>\n",
       "</table>\n",
       "<p>377 rows × 2 columns</p>\n",
       "</div>"
      ],
      "text/plain": [
       "                    multi_fragment_length  single_fragment_length\n",
       "AHR.hg38.10000                   0.213878                0.355494\n",
       "AR.hg38.10000                    0.433186                0.432433\n",
       "ARID3A.hg38.10000                0.339314                0.355649\n",
       "ARNT.hg38.10000                  0.324176                0.287341\n",
       "ARNTL.hg38.10000                 0.435124                0.362014\n",
       "...                                   ...                     ...\n",
       "ZNF792.hg38.10000                0.846010                0.947039\n",
       "ZSCAN16.hg38.10000               0.733138                0.529491\n",
       "ZSCAN22.hg38.10000               0.511772                0.583547\n",
       "ZSCAN4.hg38.10000                0.803887                0.686841\n",
       "ZSCAN9.hg38.10000                0.833857                1.133964\n",
       "\n",
       "[377 rows x 2 columns]"
      ]
     },
     "execution_count": 10,
     "metadata": {},
     "output_type": "execute_result"
    }
   ],
   "source": [
    "boxplot_data"
   ]
  },
  {
   "cell_type": "code",
   "execution_count": 11,
   "metadata": {},
   "outputs": [],
   "source": [
    "# wilcoxon(np.append(np.arange(-226,0),np.arange(1,152)))"
   ]
  },
  {
   "cell_type": "code",
   "execution_count": null,
   "metadata": {},
   "outputs": [],
   "source": []
  },
  {
   "cell_type": "code",
   "execution_count": null,
   "metadata": {},
   "outputs": [],
   "source": []
  }
 ],
 "metadata": {
  "kernelspec": {
   "display_name": "Python 3",
   "language": "python",
   "name": "python3"
  },
  "language_info": {
   "codemirror_mode": {
    "name": "ipython",
    "version": 3
   },
   "file_extension": ".py",
   "mimetype": "text/x-python",
   "name": "python",
   "nbconvert_exporter": "python",
   "pygments_lexer": "ipython3",
   "version": "3.7.4"
  }
 },
 "nbformat": 4,
 "nbformat_minor": 4
}
