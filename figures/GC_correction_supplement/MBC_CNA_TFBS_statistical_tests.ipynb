{
 "cells": [
  {
   "cell_type": "code",
   "execution_count": 1,
   "metadata": {},
   "outputs": [],
   "source": [
    "import pandas as pd\n",
    "import numpy as np\n",
    "\n",
    "from statsmodels.stats.multitest import fdrcorrection\n",
    "\n",
    "from scipy.stats import linregress\n",
    "from sklearn.metrics import mean_squared_error\n",
    "\n",
    "import os"
   ]
  },
  {
   "cell_type": "code",
   "execution_count": 2,
   "metadata": {},
   "outputs": [],
   "source": [
    "in_files = {'no-CNA-correction':'../../MBC/number_of_TFBS_sites_analysis/merged_data/10000-sites_reformatted.txt',\n",
    "           'CNA-corrected-TFBS':'../../MBC/CNA_correction_100kb_TFBS_10ksites_np/analysis/merged_data/CNA-corrected-TFBS_reformatted.txt'}\n"
   ]
  },
  {
   "cell_type": "code",
   "execution_count": 3,
   "metadata": {},
   "outputs": [
    {
     "name": "stdout",
     "output_type": "stream",
     "text": [
      "191\n",
      "191\n"
     ]
    }
   ],
   "source": [
    "data = pd.DataFrame()\n",
    "for group in in_files.keys():\n",
    "    current=pd.read_csv(in_files[group], sep='\\t')\n",
    "    current['group'] = group\n",
    "    current = current[(current['tumor_fraction']>=0.1) & (current['ulp_wgs_coverage']>=0.1) ]\n",
    "    print(len(current))\n",
    "    data = data.append(current, ignore_index=True)"
   ]
  },
  {
   "cell_type": "code",
   "execution_count": 4,
   "metadata": {},
   "outputs": [
    {
     "name": "stdout",
     "output_type": "stream",
     "text": [
      "377\n"
     ]
    }
   ],
   "source": [
    "features = data.columns[(data.columns.str.startswith('central_cov')) | (data.columns.str.startswith('mean_cov')) | (data.columns.str.startswith('amplitude'))]\n",
    "site_names = list(features.str.rsplit('_',1,expand=True).droplevel().unique())\n",
    "print(len(site_names))"
   ]
  },
  {
   "cell_type": "code",
   "execution_count": 5,
   "metadata": {},
   "outputs": [
    {
     "data": {
      "text/plain": [
       "array(['no-CNA-correction', 'CNA-corrected-TFBS'], dtype=object)"
      ]
     },
     "execution_count": 5,
     "metadata": {},
     "output_type": "execute_result"
    }
   ],
   "source": [
    "data['group'].unique()"
   ]
  },
  {
   "cell_type": "code",
   "execution_count": 6,
   "metadata": {},
   "outputs": [
    {
     "name": "stdout",
     "output_type": "stream",
     "text": [
      "0 AHR.hg38.10000\n",
      "50 ELK4.hg38.10000\n",
      "100 HIF3A.hg38.10000\n",
      "150 MEF2A.hg38.10000\n",
      "200 OTX2.hg38.10000\n",
      "250 SMAD5.hg38.10000\n",
      "300 TLX1.hg38.10000\n",
      "350 ZNF316.hg38.10000\n"
     ]
    }
   ],
   "source": [
    "stat_results = {}\n",
    "\n",
    "for group in ['no-CNA-correction', 'CNA-corrected-TFBS']:\n",
    "    stat_results[group] = pd.DataFrame()\n",
    "\n",
    "for k,site_name in enumerate(site_names):\n",
    "    if k%50==0:\n",
    "        print(k,site_name)\n",
    "    for group in ['no-CNA-correction', 'CNA-corrected-TFBS']:\n",
    "        current = data[(data['group']==group)]\n",
    "        current_outputs = {'site_name':site_name}\n",
    "        for feature_type in ['central_coverage','mean_coverage','amplitude']:\n",
    "            feature = feature_type + '_' + site_name\n",
    "            #pearson r plus regression line\n",
    "            lin_reg_slope, lin_reg_intercept, pearson_r, pearson_pval, lin_reg_std_err = linregress(current['tumor_fraction'],current[feature])\n",
    "            fit_line = lin_reg_slope*current['tumor_fraction']+lin_reg_intercept\n",
    "            RMSE = np.sqrt(mean_squared_error(current[feature],fit_line))\n",
    "            current_outputs['pearson-r_'+feature_type] = pearson_r\n",
    "            current_outputs['pearson-pval_'+feature_type] = pearson_pval\n",
    "            current_outputs['lin-reg-slope_'+feature_type] = lin_reg_slope\n",
    "            current_outputs['lin-reg-intercept_'+feature_type] = lin_reg_intercept\n",
    "            current_outputs['lin-reg-RMSE_'+feature_type] = RMSE\n",
    "        stat_results[group] = stat_results[group].append(current_outputs, ignore_index=True)\n"
   ]
  },
  {
   "cell_type": "code",
   "execution_count": 7,
   "metadata": {},
   "outputs": [],
   "source": [
    "#perform fdr correction\n",
    "for group in ['no-CNA-correction', 'CNA-corrected-TFBS']:\n",
    "    for feature_type in ['central_coverage','mean_coverage','amplitude']:\n",
    "        stat_results[group]['pearson-pval_'+feature_type]\n",
    "        significant,qval = fdrcorrection(stat_results[group]['pearson-pval_'+feature_type], alpha=0.05)\n",
    "        stat_results[group]['pearson-adjusted-p-val_'+feature_type] = qval\n"
   ]
  },
  {
   "cell_type": "code",
   "execution_count": 8,
   "metadata": {},
   "outputs": [],
   "source": [
    "#export for supplemental table\n",
    "keep_cols = ['site_name', \n",
    "             'pearson-r_central_coverage','pearson-pval_central_coverage', 'pearson-adjusted-p-val_central_coverage', 'lin-reg-RMSE_central_coverage',\n",
    "             'pearson-r_mean_coverage', 'pearson-pval_mean_coverage','pearson-adjusted-p-val_mean_coverage','lin-reg-RMSE_mean_coverage',\n",
    "             'pearson-r_amplitude', 'pearson-pval_amplitude','pearson-adjusted-p-val_amplitude','lin-reg-RMSE_amplitude']\n",
    "\n",
    "for group in ['no-CNA-correction', 'CNA-corrected-TFBS']:\n",
    "    stat_results[group][keep_cols].to_csv('files/'+group+'.correlations.tsv', sep='\\t', index=False)\n"
   ]
  },
  {
   "cell_type": "code",
   "execution_count": 9,
   "metadata": {},
   "outputs": [
    {
     "name": "stdout",
     "output_type": "stream",
     "text": [
      "central_coverage\n",
      "157\n",
      "0.416\n",
      "mean_coverage\n",
      "0\n",
      "0.0\n",
      "amplitude\n",
      "294\n",
      "0.78\n"
     ]
    }
   ],
   "source": [
    "a = stat_results['no-CNA-correction'].set_index('site_name')\n",
    "b = stat_results['CNA-corrected-TFBS'].set_index('site_name')\n",
    "c = a.merge(b, left_index = True, right_index = True, suffixes = ['.no-CNA-correction','.CNA-corrected'])\n",
    "\n",
    "for feature_type in ['central_coverage','mean_coverage','amplitude']:\n",
    "    print(feature_type)\n",
    "    print(sum(c['lin-reg-RMSE_'+feature_type+'.no-CNA-correction']>c['lin-reg-RMSE_'+feature_type+'.CNA-corrected']))\n",
    "    print(np.round(sum(c['lin-reg-RMSE_'+feature_type+'.no-CNA-correction']>c['lin-reg-RMSE_'+feature_type+'.CNA-corrected'])/len(c),3))"
   ]
  },
  {
   "cell_type": "code",
   "execution_count": null,
   "metadata": {},
   "outputs": [],
   "source": []
  },
  {
   "cell_type": "code",
   "execution_count": null,
   "metadata": {},
   "outputs": [],
   "source": []
  },
  {
   "cell_type": "code",
   "execution_count": null,
   "metadata": {},
   "outputs": [],
   "source": []
  }
 ],
 "metadata": {
  "kernelspec": {
   "display_name": "Python 3",
   "language": "python",
   "name": "python3"
  },
  "language_info": {
   "codemirror_mode": {
    "name": "ipython",
    "version": 3
   },
   "file_extension": ".py",
   "mimetype": "text/x-python",
   "name": "python",
   "nbconvert_exporter": "python",
   "pygments_lexer": "ipython3",
   "version": "3.7.4"
  }
 },
 "nbformat": 4,
 "nbformat_minor": 4
}
