{
 "cells": [
  {
   "cell_type": "code",
   "execution_count": 1,
   "metadata": {},
   "outputs": [],
   "source": [
    "import pandas as pd\n",
    "import numpy as np\n",
    "from matplotlib import pyplot as plt\n",
    "from matplotlib import gridspec\n",
    "%matplotlib inline\n",
    "\n",
    "import yaml\n",
    "import time"
   ]
  },
  {
   "cell_type": "code",
   "execution_count": 2,
   "metadata": {},
   "outputs": [],
   "source": [
    "sites_yaml = '../../sites/TFBS/scripts/10000_unfiltered_sites_CIS_BP_v2.yaml'\n",
    "\n",
    "data_dir = '../../GC_and_mappability_content/GC_and_mappability_snakemake/results'\n",
    "\n",
    "stats_GC_corrected_path = '../GC_correction/files/exclusion_filtered.GC_corrected.tsv'\n",
    "stats_uncorrected_path = '../GC_correction/files/exclusion_filtered.uncorrected.tsv'"
   ]
  },
  {
   "cell_type": "code",
   "execution_count": 3,
   "metadata": {},
   "outputs": [],
   "source": [
    "center_columns = np.arange(-30,30).astype(str)\n",
    "flanking_columns = np.append(np.arange(-1000,-30).astype(str),np.arange(30,1000).astype(str))\n"
   ]
  },
  {
   "cell_type": "code",
   "execution_count": 4,
   "metadata": {},
   "outputs": [],
   "source": [
    "#import RMSE data\n",
    "RMSE_GC_corrected = pd.read_csv(stats_GC_corrected_path, sep='\\t')\n",
    "RMSE_GC_corrected = RMSE_GC_corrected.set_index(['site_name'])[['lin-reg-RMSE_central_coverage']]\n",
    "RMSE_uncorrected = pd.read_csv(stats_uncorrected_path, sep='\\t')\n",
    "RMSE_uncorrected = RMSE_uncorrected.set_index(['site_name'])[['lin-reg-RMSE_central_coverage']]\n",
    "RMSE = RMSE_uncorrected.merge(RMSE_GC_corrected, left_index=True, right_index = True, suffixes = ['_uncorrected','_GC_corrected'])\n",
    "RMSE['RMSE_difference'] = RMSE['lin-reg-RMSE_central_coverage_uncorrected']-RMSE['lin-reg-RMSE_central_coverage_GC_corrected']"
   ]
  },
  {
   "cell_type": "code",
   "execution_count": 5,
   "metadata": {},
   "outputs": [],
   "source": [
    "#import data\n",
    "with open(sites_yaml, 'r') as f:\n",
    "    sites = yaml.safe_load(f)\n",
    "sites = sites['site_lists']\n",
    "sites = list(sites.keys())"
   ]
  },
  {
   "cell_type": "code",
   "execution_count": 6,
   "metadata": {},
   "outputs": [
    {
     "name": "stdout",
     "output_type": "stream",
     "text": [
      "0 AHR.hg38.10000 2.0\n",
      "20 BPTF.hg38.10000 57.0\n",
      "40 EBF1.hg38.10000 105.0\n",
      "60 ETV2.hg38.10000 152.0\n",
      "80 FOXP3.hg38.10000 201.0\n",
      "100 HIF3A.hg38.10000 252.0\n",
      "120 IRF1.hg38.10000 301.0\n",
      "140 LYL1.hg38.10000 351.0\n",
      "160 MXI1.hg38.10000 404.0\n",
      "180 NFIL3.hg38.10000 449.0\n",
      "200 OTX2.hg38.10000 495.0\n",
      "220 PPARD.hg38.10000 540.0\n",
      "240 RXRA.hg38.10000 587.0\n",
      "260 SP2.hg38.10000 631.0\n",
      "280 TBX21.hg38.10000 675.0\n",
      "300 TLX1.hg38.10000 718.0\n",
      "320 ZBTB26.hg38.10000 761.0\n",
      "340 ZNF18.hg38.10000 803.0\n",
      "360 ZNF467.hg38.10000 846.0\n"
     ]
    }
   ],
   "source": [
    "#this takes 12 minutes to run\n",
    "results_dict = {}\n",
    "start_time = time.time()\n",
    "for i,site_name in enumerate(sites):\n",
    "    path = data_dir+'/'+site_name+'.smoothed_GC_content.tsv'\n",
    "    current = pd.read_csv(path, sep='\\t')\n",
    "    #current['unique_ID'] = current['unique_ID']+'_'+site_name\n",
    "    current = current.set_index('unique_ID')\n",
    "    center_value = current[center_columns].mean().mean()\n",
    "    flanking_value = current[flanking_columns].mean().mean()\n",
    "    difference = center_value-flanking_value\n",
    "    results_dict[site_name] = {}\n",
    "    results_dict[site_name]['center'] = center_value\n",
    "    results_dict[site_name]['flanking'] = flanking_value\n",
    "    results_dict[site_name]['difference'] = difference\n",
    "    \n",
    "    if i%20==0:\n",
    "        print(i,site_name, np.round(time.time()-start_time))\n",
    "\n",
    "results = pd.DataFrame(results_dict)   "
   ]
  },
  {
   "cell_type": "code",
   "execution_count": 7,
   "metadata": {},
   "outputs": [],
   "source": [
    "#merge RMSE results\n",
    "RMSE = RMSE.merge(results.T[['difference']],left_index=True, right_index = True)"
   ]
  },
  {
   "cell_type": "code",
   "execution_count": 8,
   "metadata": {},
   "outputs": [
    {
     "data": {
      "image/png": "[encoded data removed]",
      "text/plain": [
       "<Figure size 576x216 with 3 Axes>"
      ]
     },
     "metadata": {
      "needs_background": "light"
     },
     "output_type": "display_data"
    }
   ],
   "source": [
    "fig = plt.figure(figsize = (8,3))\n",
    "spec = gridspec.GridSpec(ncols=3, nrows=1,\n",
    "                         width_ratios=[2,1,3])\n",
    "\n",
    "ax1 = fig.add_subplot(spec[0])\n",
    "ax2 = fig.add_subplot(spec[1])\n",
    "ax3 = fig.add_subplot(spec[2])\n",
    "\n",
    "#plot center and flanking\n",
    "results.T[['center','flanking']].plot.box(ax = ax1)\n",
    "ax1.set_ylabel('Mean GC content')\n",
    "\n",
    "#plot difference between center and flanking\n",
    "results.T[['difference']].plot.box(ax = ax2)\n",
    "ax2.axhline(0,dashes = [2,2], color = 'tab:grey')\n",
    "ax2.set_ylabel('Difference between center\\nand flanking GC content')\n",
    "\n",
    "#scatter against RMSE\n",
    "ax3.scatter(RMSE['difference'],RMSE['RMSE_difference'],alpha = 0.2)\n",
    "\n",
    "ax3.set_xlabel('Difference between center\\nand flanking GC content')\n",
    "ax3.set_ylabel('Difference in\\ncentral coverage RMSE')\n",
    "\n",
    "ax3.set_aspect(1.0/ax3.get_data_ratio(), adjustable='box')\n",
    "fig.tight_layout()\n",
    "fig.savefig('plots/GC_content_at_sites.pdf')"
   ]
  },
  {
   "cell_type": "code",
   "execution_count": 9,
   "metadata": {},
   "outputs": [
    {
     "data": {
      "text/plain": [
       "center        0.511105\n",
       "flanking      0.468040\n",
       "difference    0.042443\n",
       "dtype: float64"
      ]
     },
     "execution_count": 9,
     "metadata": {},
     "output_type": "execute_result"
    }
   ],
   "source": [
    "results.T[['center','flanking','difference']].median()"
   ]
  },
  {
   "cell_type": "code",
   "execution_count": 10,
   "metadata": {},
   "outputs": [
    {
     "data": {
      "text/plain": [
       "344"
      ]
     },
     "execution_count": 10,
     "metadata": {},
     "output_type": "execute_result"
    }
   ],
   "source": [
    "#factors with higher GC content at the site than flanking region\n",
    "sum(results.T['difference']>0)"
   ]
  },
  {
   "cell_type": "code",
   "execution_count": 14,
   "metadata": {},
   "outputs": [],
   "source": [
    "results.T.reset_index().rename(columns = {'index':'site_name'}).to_csv('files/S1_GC_content_around_TFBS.tsv',sep='\\t', index=False)"
   ]
  },
  {
   "cell_type": "code",
   "execution_count": null,
   "metadata": {},
   "outputs": [],
   "source": []
  },
  {
   "cell_type": "code",
   "execution_count": null,
   "metadata": {},
   "outputs": [],
   "source": []
  }
 ],
 "metadata": {
  "kernelspec": {
   "display_name": "Python 3",
   "language": "python",
   "name": "python3"
  },
  "language_info": {
   "codemirror_mode": {
    "name": "ipython",
    "version": 3
   },
   "file_extension": ".py",
   "mimetype": "text/x-python",
   "name": "python",
   "nbconvert_exporter": "python",
   "pygments_lexer": "ipython3",
   "version": "3.7.4"
  }
 },
 "nbformat": 4,
 "nbformat_minor": 4
}
