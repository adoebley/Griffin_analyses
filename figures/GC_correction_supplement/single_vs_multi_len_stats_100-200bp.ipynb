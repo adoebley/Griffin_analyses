{
 "cells": [
  {
   "cell_type": "code",
   "execution_count": 1,
   "metadata": {},
   "outputs": [],
   "source": [
    "import pandas as pd\n",
    "import numpy as np\n",
    "from scipy.stats import wilcoxon\n",
    "from scipy.stats import linregress\n",
    "from sklearn.metrics import mean_squared_error\n",
    "\n",
    "\n",
    "import yaml \n",
    "import time\n",
    "\n",
    "from matplotlib import pyplot as plt\n",
    "%matplotlib inline"
   ]
  },
  {
   "cell_type": "code",
   "execution_count": 2,
   "metadata": {},
   "outputs": [],
   "source": [
    "len_string = '100-200bp'\n",
    "samples_yaml = '../../CRPC/TFBS_'+len_string+'_nucleosome_profiling/config/samples.GC.yaml'\n",
    "single_fragment_length_dir ='../../Griffin_single_fragment_length/CRPC_deep/CRPC_'+len_string+'_single_fragment_length_np/results/'\n",
    "multi_fragment_length_dir ='../../CRPC/TFBS_'+len_string+'_nucleosome_profiling/results/'\n",
    "tfx_path = '../../metadata/CRPC/deepWGS_tumor_fraction.txt'\n",
    "\n",
    "out_dir = 'files'"
   ]
  },
  {
   "cell_type": "code",
   "execution_count": 3,
   "metadata": {},
   "outputs": [],
   "source": [
    "with open(samples_yaml, 'r') as f:\n",
    "    samples = yaml.safe_load(f)\n",
    "    \n",
    "samples = list(samples['samples'].keys())\n"
   ]
  },
  {
   "cell_type": "code",
   "execution_count": 4,
   "metadata": {},
   "outputs": [],
   "source": [
    "#import data\n",
    "single_fragment_data = pd.DataFrame()\n",
    "multi_fragment_data = pd.DataFrame()\n",
    "\n",
    "for sample in samples:\n",
    "    file1 = single_fragment_length_dir+sample+'/'+sample+'.GC_corrected.coverage.tsv'\n",
    "    data1 = pd.read_csv(file1, sep='\\t')\n",
    "    single_fragment_data = single_fragment_data.append(data1)\n",
    "    \n",
    "    file2 = multi_fragment_length_dir+sample+'/'+sample+'.GC_corrected.coverage.tsv'\n",
    "    data2 = pd.read_csv(file2, sep='\\t')\n",
    "    multi_fragment_data = multi_fragment_data.append(data2)\n",
    "\n",
    "#merge with tumor fraction\n",
    "tfx_data = pd.read_csv(tfx_path, sep='\\t').rename(columns = {'ID':'sample'})\n",
    "single_fragment_data = single_fragment_data.merge(tfx_data, on = 'sample')\n",
    "\n",
    "multi_fragment_data = multi_fragment_data.merge(tfx_data, on = 'sample')"
   ]
  },
  {
   "cell_type": "code",
   "execution_count": 5,
   "metadata": {},
   "outputs": [],
   "source": [
    "data = {'single_fragment_length':single_fragment_data,\n",
    "        'multi_fragment_length':multi_fragment_data}"
   ]
  },
  {
   "cell_type": "code",
   "execution_count": 6,
   "metadata": {},
   "outputs": [
    {
     "data": {
      "text/plain": [
       "377"
      ]
     },
     "execution_count": 6,
     "metadata": {},
     "output_type": "execute_result"
    }
   ],
   "source": [
    "sites = multi_fragment_data['site_name'].unique()\n",
    "len(sites)"
   ]
  },
  {
   "cell_type": "code",
   "execution_count": 7,
   "metadata": {},
   "outputs": [
    {
     "name": "stdout",
     "output_type": "stream",
     "text": [
      "0 AHR.hg38.10000\n",
      "50 ELK4.hg38.10000\n",
      "100 HIF3A.hg38.10000\n",
      "150 MEF2A.hg38.10000\n",
      "200 OTX2.hg38.10000\n",
      "250 SMAD5.hg38.10000\n",
      "300 TLX1.hg38.10000\n",
      "350 ZNF316.hg38.10000\n"
     ]
    }
   ],
   "source": [
    "stat_results = {}\n",
    "analysis_types = data.keys()\n",
    "\n",
    "for i,item in enumerate(analysis_types): \n",
    "    stat_results[item] = pd.DataFrame()\n",
    "\n",
    "for k,site_name in enumerate(sites):\n",
    "    if k%50==0:\n",
    "        print(k,site_name)\n",
    "    for i,item in enumerate(analysis_types): \n",
    "            current_data = data[item].copy()\n",
    "            current_data = current_data[current_data['site_name']==site_name]\n",
    "            current_outputs = {'site_name':site_name}\n",
    "            for feature in ['mean_coverage','central_coverage','amplitude']:\n",
    "                #pearson r plus regression line\n",
    "                lin_reg_slope, lin_reg_intercept, pearson_r, pearson_pval, lin_reg_std_err = linregress(current_data['tumor_fraction'],current_data[feature])\n",
    "                fit_line = lin_reg_slope*current_data['tumor_fraction']+lin_reg_intercept\n",
    "\n",
    "                RMSE = np.sqrt(mean_squared_error(current_data[feature],fit_line))\n",
    "                current_outputs['pearson_r_'+feature] = pearson_r\n",
    "                current_outputs['pearson_pval_'+feature] = pearson_pval\n",
    "                current_outputs['lin_reg_slope_'+feature] = lin_reg_slope\n",
    "                current_outputs['lin_reg_intercept_'+feature] = lin_reg_intercept\n",
    "                #current_outputs['lin_reg_r2_'+feature] = r2\n",
    "                current_outputs['lin_reg_RMSE_'+feature] = RMSE\n",
    "            stat_results[item] = stat_results[item].append(current_outputs, ignore_index=True)\n"
   ]
  },
  {
   "cell_type": "code",
   "execution_count": 8,
   "metadata": {},
   "outputs": [],
   "source": [
    "#export for supplemental table\n",
    "keep_cols = ['site_name', \n",
    "             'pearson_r_central_coverage','pearson_pval_central_coverage', 'lin_reg_RMSE_central_coverage',\n",
    "             'pearson_r_mean_coverage', 'pearson_pval_mean_coverage','lin_reg_RMSE_mean_coverage',\n",
    "             'pearson_r_amplitude', 'pearson_pval_amplitude','lin_reg_RMSE_amplitude']\n",
    "\n",
    "for i,item in enumerate(analysis_types): \n",
    "    stat_results[item][keep_cols].to_csv(out_dir+'/'+item+'_'+len_string+'.tsv', sep='\\t', index=False)\n"
   ]
  },
  {
   "cell_type": "code",
   "execution_count": 9,
   "metadata": {},
   "outputs": [
    {
     "data": {
      "image/png": "[encoded data removed]",
      "text/plain": [
       "<Figure size 288x108 with 1 Axes>"
      ]
     },
     "metadata": {
      "needs_background": "light"
     },
     "output_type": "display_data"
    },
    {
     "name": "stdout",
     "output_type": "stream",
     "text": [
      "medians:\n",
      "single_fragment_length    0.023\n",
      "multi_fragment_length     0.024\n",
      "dtype: float64\n",
      "number improved:\n",
      "86\n",
      "0.228117\n",
      "\n",
      "\n"
     ]
    },
    {
     "data": {
      "image/png": "[encoded data removed]",
      "text/plain": [
       "<Figure size 288x108 with 1 Axes>"
      ]
     },
     "metadata": {
      "needs_background": "light"
     },
     "output_type": "display_data"
    },
    {
     "name": "stdout",
     "output_type": "stream",
     "text": [
      "medians:\n",
      "single_fragment_length    0.009\n",
      "multi_fragment_length     0.009\n",
      "dtype: float64\n",
      "number improved:\n",
      "44\n",
      "0.116711\n",
      "\n",
      "\n"
     ]
    },
    {
     "data": {
      "image/png": "[encoded data removed]",
      "text/plain": [
       "<Figure size 288x108 with 1 Axes>"
      ]
     },
     "metadata": {
      "needs_background": "light"
     },
     "output_type": "display_data"
    },
    {
     "name": "stdout",
     "output_type": "stream",
     "text": [
      "medians:\n",
      "single_fragment_length    0.133\n",
      "multi_fragment_length     0.134\n",
      "dtype: float64\n",
      "number improved:\n",
      "145\n",
      "0.384615\n",
      "\n",
      "\n"
     ]
    }
   ],
   "source": [
    "#make boxplots\n",
    "\n",
    "for feature in ['central_coverage','mean_coverage','amplitude']:\n",
    "    boxplot_data = pd.DataFrame(index = sites)\n",
    "    for i,item in enumerate(['multi_fragment_length','single_fragment_length']): \n",
    "            current_data = stat_results[item][['lin_reg_RMSE_'+feature,'site_name']].set_index('site_name').copy()\n",
    "            boxplot_data[item] = current_data\n",
    "\n",
    "    fig,ax = plt.subplots(1, figsize=(4,1.5))\n",
    "\n",
    "\n",
    "    boxplot_data.plot.box(ax = ax, vert = False, widths = .5, flierprops = {'marker':'.','markersize':10,'alpha':.5,'markerfacecolor':'grey','markeredgecolor':'none'})\n",
    "    stat,wilcoxon_pval = wilcoxon(boxplot_data['single_fragment_length'],boxplot_data['multi_fragment_length'])\n",
    "    \n",
    "    ax.set_title('lin_reg '+feature+' RMSE\\n'+len_string+' wilcoxon p:'+'{:.1E}'.format(wilcoxon_pval))\n",
    "    ax.set_ylabel('RMSE')    \n",
    "    #ax.tick_params(axis = 'x', rotation=90)\n",
    "    fig.tight_layout()\n",
    "    fig.savefig('plots/'+feature+'_'+len_string+'_RMSE_plot.pdf')\n",
    "\n",
    "    plt.show()\n",
    "    print('medians:')\n",
    "    print(np.round(boxplot_data[['single_fragment_length','multi_fragment_length']].median(),3))\n",
    "    print('number improved:')\n",
    "    print(sum(boxplot_data['single_fragment_length']>boxplot_data['multi_fragment_length']))\n",
    "    print(np.round(sum(boxplot_data['single_fragment_length']>boxplot_data['multi_fragment_length'])/len(boxplot_data),6))\n",
    "\n",
    "    print('\\n')"
   ]
  },
  {
   "cell_type": "code",
   "execution_count": null,
   "metadata": {},
   "outputs": [],
   "source": []
  },
  {
   "cell_type": "code",
   "execution_count": null,
   "metadata": {},
   "outputs": [],
   "source": []
  },
  {
   "cell_type": "code",
   "execution_count": null,
   "metadata": {},
   "outputs": [],
   "source": []
  },
  {
   "cell_type": "code",
   "execution_count": null,
   "metadata": {},
   "outputs": [],
   "source": []
  },
  {
   "cell_type": "code",
   "execution_count": null,
   "metadata": {},
   "outputs": [],
   "source": []
  }
 ],
 "metadata": {
  "kernelspec": {
   "display_name": "Python 3",
   "language": "python",
   "name": "python3"
  },
  "language_info": {
   "codemirror_mode": {
    "name": "ipython",
    "version": 3
   },
   "file_extension": ".py",
   "mimetype": "text/x-python",
   "name": "python",
   "nbconvert_exporter": "python",
   "pygments_lexer": "ipython3",
   "version": "3.7.4"
  }
 },
 "nbformat": 4,
 "nbformat_minor": 4
}
