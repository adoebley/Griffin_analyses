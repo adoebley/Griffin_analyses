{
 "cells": [
  {
   "cell_type": "code",
   "execution_count": 1,
   "metadata": {},
   "outputs": [],
   "source": [
    "import numpy as np\n",
    "import pandas as pd\n",
    "import time\n",
    "from matplotlib import pyplot as plt\n",
    "%matplotlib inline\n",
    "\n",
    "# from sklearn.model_selection import StratifiedKFold\n",
    "from sklearn.model_selection import StratifiedKFold\n",
    "# from sklearn.model_selection import LeaveOneOut\n",
    "from sklearn.linear_model import LogisticRegression\n",
    "from sklearn.model_selection import GridSearchCV\n",
    "from sklearn.preprocessing import StandardScaler\n",
    "from sklearn.metrics import roc_curve,auc\n",
    "\n",
    "from sklearn.decomposition import PCA\n"
   ]
  },
  {
   "cell_type": "code",
   "execution_count": 2,
   "metadata": {},
   "outputs": [
    {
     "data": {
      "text/plain": [
       "'/fh/fast/ha_g/user/adoebley/projects/griffin_revisions_1/figures/cancer_detection_supplement'"
      ]
     },
     "execution_count": 2,
     "metadata": {},
     "output_type": "execute_result"
    }
   ],
   "source": [
    "import os\n",
    "os.getcwd()"
   ]
  },
  {
   "cell_type": "code",
   "execution_count": 3,
   "metadata": {},
   "outputs": [
    {
     "name": "stdout",
     "output_type": "stream",
     "text": [
      "30000-sites\n",
      "Features 810\n",
      "Total samples: 423\n",
      "number of components: 14\n",
      "best_c 0.1\n",
      "training accuracy 0.9054373522458629\n"
     ]
    }
   ],
   "source": [
    "site_group = '30000-sites'\n",
    "\n",
    "print(site_group)\n",
    "#parameters\n",
    "in_file = '../../delfi_data_cancer_detection/number_of_sites_analysis/merged_data/'+site_group+'_reformatted.txt'\n",
    "cval_file = '../../delfi_data_cancer_detection/number_of_sites_analysis/logreg_PCA_results/30000-sites_logreg_results/'+site_group+'.c_values.txt'\n",
    "\n",
    "#import training data\n",
    "data = pd.read_csv(in_file, sep='\\t')\n",
    "data = data.set_index('sample')\n",
    "\n",
    "#get features and exclude all other columns\n",
    "features = data.columns[(data.columns.str.startswith('central_cov')) | (data.columns.str.startswith('mean_cov')) | (data.columns.str.startswith('amplitude'))]\n",
    "\n",
    "print('Features',len(features))\n",
    "\n",
    "data = data.sort_index()\n",
    "\n",
    "print('Total samples:',len(data))\n",
    "\n",
    "#scale data\n",
    "scaler = StandardScaler()\n",
    "scaler.fit(data[features])\n",
    "data[features] = scaler.transform(data[features])\n",
    "data[features].mean()    \n",
    "\n",
    "#perform PCA on the training set\n",
    "n_components = min(len(features), len(data))\n",
    "pca = PCA(n_components=n_components, svd_solver='randomized', random_state = 100)\n",
    "PCs = pca.fit_transform(data[features])\n",
    "principal_components = pd.DataFrame(data = PCs, columns = ['PC_'+str(m) for m in np.arange(n_components)], index = data.index)\n",
    "\n",
    "#find the principle components that make up 80% of the varience\n",
    "for j in range(len(pca.explained_variance_ratio_)):\n",
    "    current_sum = pca.explained_variance_ratio_[:j].sum()\n",
    "    if current_sum>=0.8:\n",
    "        break\n",
    "\n",
    "print('number of components:',j)\n",
    "pca_features = ['PC_'+str(m) for m in np.arange(0,j)]\n",
    "\n",
    "data = data[['status','Stage','tumor_fraction']].merge(principal_components, left_index = True, right_index = True)\n",
    "\n",
    "cvals = pd.read_csv(cval_file,sep='\\t', header = None)\n",
    "best_c = cvals.mode().values[0][0]\n",
    "print('best_c',best_c)\n",
    "\n",
    "#train a  model on the full training dataset \n",
    "model = LogisticRegression(class_weight='balanced', max_iter=500, C=best_c)\n",
    "model.fit(data[pca_features], data['status'])\n",
    "\n",
    "#predict the test data\n",
    "pred = model.predict(data[pca_features])\n",
    "prob = model.predict_proba(data[pca_features])\n",
    "\n",
    "data['pred']= pred\n",
    "data['prob'] = prob[:,1]\n",
    "\n",
    "print('training accuracy',sum(data['status'] == data['pred'])/len(data))\n"
   ]
  },
  {
   "cell_type": "code",
   "execution_count": 4,
   "metadata": {},
   "outputs": [],
   "source": [
    "pca_component_contributions = pd.DataFrame(pca.components_, index = ['PC_'+str(m) for m in np.arange(n_components)], columns = features)"
   ]
  },
  {
   "cell_type": "code",
   "execution_count": 5,
   "metadata": {},
   "outputs": [],
   "source": [
    "model_coefs = pd.Series(model.coef_[0], index = pca_features)\n",
    "model_coefs = pd.DataFrame(model_coefs)\n",
    "model_coefs = model_coefs.rename(columns = {0:'coef'})\n",
    "model_coefs['abs_val'] = np.abs(model_coefs['coef'])"
   ]
  },
  {
   "cell_type": "code",
   "execution_count": 6,
   "metadata": {},
   "outputs": [
    {
     "data": {
      "text/html": [
       "<div>\n",
       "<style scoped>\n",
       "    .dataframe tbody tr th:only-of-type {\n",
       "        vertical-align: middle;\n",
       "    }\n",
       "\n",
       "    .dataframe tbody tr th {\n",
       "        vertical-align: top;\n",
       "    }\n",
       "\n",
       "    .dataframe thead th {\n",
       "        text-align: right;\n",
       "    }\n",
       "</style>\n",
       "<table border=\"1\" class=\"dataframe\">\n",
       "  <thead>\n",
       "    <tr style=\"text-align: right;\">\n",
       "      <th></th>\n",
       "      <th>coef</th>\n",
       "      <th>abs_val</th>\n",
       "    </tr>\n",
       "  </thead>\n",
       "  <tbody>\n",
       "    <tr>\n",
       "      <th>PC_9</th>\n",
       "      <td>-0.634571</td>\n",
       "      <td>0.634571</td>\n",
       "    </tr>\n",
       "    <tr>\n",
       "      <th>PC_6</th>\n",
       "      <td>0.506097</td>\n",
       "      <td>0.506097</td>\n",
       "    </tr>\n",
       "    <tr>\n",
       "      <th>PC_8</th>\n",
       "      <td>0.421540</td>\n",
       "      <td>0.421540</td>\n",
       "    </tr>\n",
       "    <tr>\n",
       "      <th>PC_11</th>\n",
       "      <td>0.267721</td>\n",
       "      <td>0.267721</td>\n",
       "    </tr>\n",
       "    <tr>\n",
       "      <th>PC_1</th>\n",
       "      <td>0.257018</td>\n",
       "      <td>0.257018</td>\n",
       "    </tr>\n",
       "  </tbody>\n",
       "</table>\n",
       "</div>"
      ],
      "text/plain": [
       "           coef   abs_val\n",
       "PC_9  -0.634571  0.634571\n",
       "PC_6   0.506097  0.506097\n",
       "PC_8   0.421540  0.421540\n",
       "PC_11  0.267721  0.267721\n",
       "PC_1   0.257018  0.257018"
      ]
     },
     "execution_count": 6,
     "metadata": {},
     "output_type": "execute_result"
    }
   ],
   "source": [
    "top_index = model_coefs.sort_values(by = 'abs_val', ascending = False).index[0]\n",
    "model_coefs.sort_values(by = 'abs_val', ascending = False)[0:5]\n"
   ]
  },
  {
   "cell_type": "code",
   "execution_count": 7,
   "metadata": {},
   "outputs": [],
   "source": [
    "top_component_values = pca_component_contributions.T[[top_index]].sort_values(by = top_index)"
   ]
  },
  {
   "cell_type": "code",
   "execution_count": 8,
   "metadata": {},
   "outputs": [],
   "source": [
    "top_component_values.to_csv('files/S7_top_DELFI_coef_PCA_contributions.tsv', sep='\\t')"
   ]
  },
  {
   "cell_type": "code",
   "execution_count": 9,
   "metadata": {},
   "outputs": [
    {
     "data": {
      "text/html": [
       "<div>\n",
       "<style scoped>\n",
       "    .dataframe tbody tr th:only-of-type {\n",
       "        vertical-align: middle;\n",
       "    }\n",
       "\n",
       "    .dataframe tbody tr th {\n",
       "        vertical-align: top;\n",
       "    }\n",
       "\n",
       "    .dataframe thead th {\n",
       "        text-align: right;\n",
       "    }\n",
       "</style>\n",
       "<table border=\"1\" class=\"dataframe\">\n",
       "  <thead>\n",
       "    <tr style=\"text-align: right;\">\n",
       "      <th></th>\n",
       "      <th>PC_9</th>\n",
       "    </tr>\n",
       "  </thead>\n",
       "  <tbody>\n",
       "    <tr>\n",
       "      <th>mean_coverage_ZNF384.hg38.30000</th>\n",
       "      <td>-0.143468</td>\n",
       "    </tr>\n",
       "    <tr>\n",
       "      <th>central_coverage_ZNF384.hg38.30000</th>\n",
       "      <td>-0.132288</td>\n",
       "    </tr>\n",
       "    <tr>\n",
       "      <th>central_coverage_ATF4.hg38.30000</th>\n",
       "      <td>-0.119196</td>\n",
       "    </tr>\n",
       "    <tr>\n",
       "      <th>central_coverage_ATF7.hg38.30000</th>\n",
       "      <td>-0.097499</td>\n",
       "    </tr>\n",
       "    <tr>\n",
       "      <th>amplitude_MAF.hg38.30000</th>\n",
       "      <td>-0.096553</td>\n",
       "    </tr>\n",
       "    <tr>\n",
       "      <th>...</th>\n",
       "      <td>...</td>\n",
       "    </tr>\n",
       "    <tr>\n",
       "      <th>central_coverage_GLIS1.hg38.30000</th>\n",
       "      <td>0.109664</td>\n",
       "    </tr>\n",
       "    <tr>\n",
       "      <th>mean_coverage_XBP1.hg38.30000</th>\n",
       "      <td>0.121813</td>\n",
       "    </tr>\n",
       "    <tr>\n",
       "      <th>mean_coverage_GLIS3.hg38.30000</th>\n",
       "      <td>0.141731</td>\n",
       "    </tr>\n",
       "    <tr>\n",
       "      <th>amplitude_PHOX2B.hg38.30000</th>\n",
       "      <td>0.175269</td>\n",
       "    </tr>\n",
       "    <tr>\n",
       "      <th>central_coverage_GLIS3.hg38.30000</th>\n",
       "      <td>0.179715</td>\n",
       "    </tr>\n",
       "  </tbody>\n",
       "</table>\n",
       "<p>810 rows × 1 columns</p>\n",
       "</div>"
      ],
      "text/plain": [
       "                                        PC_9\n",
       "mean_coverage_ZNF384.hg38.30000    -0.143468\n",
       "central_coverage_ZNF384.hg38.30000 -0.132288\n",
       "central_coverage_ATF4.hg38.30000   -0.119196\n",
       "central_coverage_ATF7.hg38.30000   -0.097499\n",
       "amplitude_MAF.hg38.30000           -0.096553\n",
       "...                                      ...\n",
       "central_coverage_GLIS1.hg38.30000   0.109664\n",
       "mean_coverage_XBP1.hg38.30000       0.121813\n",
       "mean_coverage_GLIS3.hg38.30000      0.141731\n",
       "amplitude_PHOX2B.hg38.30000         0.175269\n",
       "central_coverage_GLIS3.hg38.30000   0.179715\n",
       "\n",
       "[810 rows x 1 columns]"
      ]
     },
     "execution_count": 9,
     "metadata": {},
     "output_type": "execute_result"
    }
   ],
   "source": [
    "top_component_values"
   ]
  },
  {
   "cell_type": "code",
   "execution_count": null,
   "metadata": {},
   "outputs": [],
   "source": []
  }
 ],
 "metadata": {
  "kernelspec": {
   "display_name": "Python 3",
   "language": "python",
   "name": "python3"
  },
  "language_info": {
   "codemirror_mode": {
    "name": "ipython",
    "version": 3
   },
   "file_extension": ".py",
   "mimetype": "text/x-python",
   "name": "python",
   "nbconvert_exporter": "python",
   "pygments_lexer": "ipython3",
   "version": "3.7.4"
  }
 },
 "nbformat": 4,
 "nbformat_minor": 4
}
