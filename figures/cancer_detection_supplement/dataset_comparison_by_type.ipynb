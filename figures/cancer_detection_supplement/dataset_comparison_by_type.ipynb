{
 "cells": [
  {
   "cell_type": "code",
   "execution_count": 1,
   "metadata": {},
   "outputs": [],
   "source": [
    "import pandas as pd\n",
    "import numpy as np\n",
    "from sklearn.metrics import roc_curve\n",
    "from matplotlib import pyplot as plt\n",
    "%matplotlib inline\n",
    "\n",
    "import seaborn as sns\n",
    "from matplotlib import gridspec"
   ]
  },
  {
   "cell_type": "code",
   "execution_count": 2,
   "metadata": {},
   "outputs": [],
   "source": [
    "site_group = '30000-sites'\n",
    "results_dict = {'DELFI_1x': '../../delfi_data_cancer_detection/number_of_sites_analysis/logreg_PCA_results/'+site_group+'_logreg_results/'+site_group+'.AUC.txt',\n",
    "                'DELFI_ULP':'../../delfi_downsampled_cancer_detection/number_of_sites_analysis/logreg_PCA_results/'+site_group+'_logreg_results/'+site_group+'.AUC.txt'}\n",
    "#get metadata \n",
    "metadata_dict = {'DELFI':'../../../griffin_paper/data/delfi_metadata/analysis/matched_metadata_corrected.txt',\n",
    "                'LUCAS':'/fh/scratch/delete90/ha_g/realigned_bams/cfDNA_lung-cancer_EGA_hg38/metadata/scripts/lung_validation_cfDNA_metadata.tsv',\n",
    "                'Validation':'/fh/scratch/delete90/ha_g/realigned_bams/cfDNA_lung-cancer_EGA_hg38/metadata/scripts/lung_validation_cfDNA_metadata.tsv'}\n",
    "\n",
    "tfx_dict = {'DELFI':'../../metadata/delfi/analysis/Delfi_tumor_fraction_data.txt',\n",
    "                'LUCAS':'../../metadata/lung_validation/lung_tumor_fraction_data.txt',\n",
    "                'Validation':'../../metadata/lung_validation/lung_tumor_fraction_data.txt'}\n",
    "                \n",
    "# uncorrected_results_dict = {'DELFI_1x_uncorr': '../../delfi_data_cancer_detection/other_analysis/logreg_PCA_results/uncorrected_logreg_results/uncorrected.AUC.txt',\n",
    "#                 'DELFI_ULP_uncorr': '../../delfi_downsampled_cancer_detection/other_analysis/logreg_PCA_results/uncorrected_logreg_results/uncorrected.AUC.txt'}\n",
    "\n",
    "\n"
   ]
  },
  {
   "cell_type": "code",
   "execution_count": 3,
   "metadata": {},
   "outputs": [],
   "source": [
    "iterations = 1000\n",
    "#groups = ['I','II','III','IV','III-IV','overall']\n",
    "# groups = ['0_TFx','>0-0.05_TFx','>=0.05_TFx','overall']\n",
    "groups = ['Bile_Duct_Cancer','Breast_Cancer','Colorectal_Cancer','Gastric_cancer','Lung_Cancer','Ovarian_Cancer','Pancreatic_Cancer','overall']\n",
    "groupby = 'cancer_type'\n"
   ]
  },
  {
   "cell_type": "code",
   "execution_count": 4,
   "metadata": {},
   "outputs": [],
   "source": [
    "boxplot_data = pd.DataFrame()\n",
    "for dataset in results_dict.keys():\n",
    "    current = pd.read_csv(results_dict[dataset], sep='\\t')\n",
    "    group_columns = current.columns[current.columns.isin(groups)]\n",
    "    current = current[group_columns]\n",
    "    current['dataset'] = dataset\n",
    "    current = current.set_index('dataset').stack().reset_index()\n",
    "    current = current.rename(columns = {'level_1':'group',0:'AUC'})\n",
    "    boxplot_data = boxplot_data.append(current)\n"
   ]
  },
  {
   "cell_type": "code",
   "execution_count": 5,
   "metadata": {},
   "outputs": [],
   "source": [
    "# uncorrected_boxplot_data = pd.DataFrame()\n",
    "# for dataset in uncorrected_results_dict.keys():\n",
    "#     current = pd.read_csv(uncorrected_results_dict[dataset], sep='\\t')\n",
    "#     keep_columns = current.columns[current.columns.isin(groups)]\n",
    "#     current = current[keep_columns]\n",
    "#     current['dataset'] = dataset\n",
    "#     current = current.set_index('dataset').stack().reset_index()\n",
    "#     current = current.rename(columns = {'level_1':'group',0:'AUC'})\n",
    "#     uncorrected_boxplot_data = uncorrected_boxplot_data.append(current)\n"
   ]
  },
  {
   "cell_type": "code",
   "execution_count": 6,
   "metadata": {},
   "outputs": [],
   "source": [
    "#https://github.com/mwaskom/seaborn/issues/1076\n",
    "from matplotlib.patches import PathPatch\n",
    "\n",
    "def adjust_box_widths(g, fac):\n",
    "    \"\"\"\n",
    "    Adjust the widths of a seaborn-generated boxplot.\n",
    "    \"\"\"\n",
    "\n",
    "    # iterating through Axes instances\n",
    "    for ax in g.axes:\n",
    "\n",
    "        # iterating through axes artists:\n",
    "        for c in ax.get_children():\n",
    "\n",
    "            # searching for PathPatches\n",
    "            if isinstance(c, PathPatch):\n",
    "                # getting current width of box:\n",
    "                p = c.get_path()\n",
    "                verts = p.vertices\n",
    "                verts_sub = verts[:-1]\n",
    "                xmin = np.min(verts_sub[:, 0])\n",
    "                xmax = np.max(verts_sub[:, 0])\n",
    "                xmid = 0.5*(xmin+xmax)\n",
    "                xhalf = 0.5*(xmax - xmin)\n",
    "\n",
    "                # setting new width of box\n",
    "                xmin_new = xmid-fac*xhalf\n",
    "                xmax_new = xmid+fac*xhalf\n",
    "                verts_sub[verts_sub[:, 0] == xmin, 0] = xmin_new\n",
    "                verts_sub[verts_sub[:, 0] == xmax, 0] = xmax_new\n",
    "\n",
    "                # setting new width of median line\n",
    "                for l in ax.lines:\n",
    "                    if len(l.get_xdata())==2 and np.all(l.get_xdata() == [xmin, xmax]): #modified to prevent element wise comparison failure\n",
    "                        l.set_xdata([xmin_new, xmax_new])\n"
   ]
  },
  {
   "cell_type": "code",
   "execution_count": 7,
   "metadata": {},
   "outputs": [],
   "source": [
    "# fig,ax = plt.subplots(figsize = (9.5,6))\n",
    "# df = boxplot_data[boxplot_data['dataset'].str.startswith('DELFI')].append(uncorrected_boxplot_data)\n",
    "\n",
    "# sns.boxplot(x = df['dataset'],\n",
    "#             y = df['AUC'],\n",
    "#             hue = df['group'],\n",
    "#            width = 0.7,\n",
    "#            fliersize = 2,\n",
    "#             order = ['DELFI_1x_uncorr','DELFI_1x','DELFI_ULP_uncorr','DELFI_ULP'],\n",
    "#             hue_order = ['0_TFx','>0-0.05_TFx','>=0.05_TFx','overall'],\n",
    "#             palette = ['tab:blue','tab:orange','tab:green','tab:red','tab:grey'],\n",
    "#             linewidth = 1,\n",
    "#            ax = ax)\n",
    "\n",
    "# ax.legend(bbox_to_anchor = [1,1], loc = 'upper left');\n",
    "# adjust_box_widths(fig,.8)\n",
    "# ax.set_ylim(-0.05,1.05)\n",
    "# ax.set_title('GC correction')\n",
    "# fig.savefig('plots/GC_correction_delfi_boxplot.pdf')"
   ]
  },
  {
   "cell_type": "code",
   "execution_count": 8,
   "metadata": {},
   "outputs": [
    {
     "name": "stdout",
     "output_type": "stream",
     "text": [
      "../../delfi_data_cancer_detection/number_of_sites_analysis/logreg_PCA_results/30000-sites_logreg_results/30000-sites.probabilities.txt\n",
      "423 423\n",
      "../../delfi_downsampled_cancer_detection/number_of_sites_analysis/logreg_PCA_results/30000-sites_logreg_results/30000-sites.probabilities.txt\n",
      "423 423\n"
     ]
    }
   ],
   "source": [
    "probabilities = pd.DataFrame()\n",
    "\n",
    "for dataset in results_dict.keys():\n",
    "    current_path = results_dict[dataset].rsplit('.AUC.txt',1)[0]+'.probabilities.txt'\n",
    "    print(current_path)\n",
    "    current = pd.read_csv(current_path, sep='\\t')\n",
    "\n",
    "    if not 'probability' in current.columns: #for validation set, there are are no bootstrap iterations\n",
    "        current['probability'] = current[np.arange(iterations).astype(str)].median(axis = 1)\n",
    "    current = current[['sample','status','probability']]\n",
    "    current['dataset'] = dataset\n",
    "    \n",
    "    metadata_path = metadata_dict[dataset.split('_')[0]]\n",
    "    metadata = pd.read_csv(metadata_path,sep='\\t')\n",
    "    metadata = metadata.rename(columns = {'new_sample_name':'sample'})\n",
    "    \n",
    "    metadata = metadata[['sample','Stage']]\n",
    "     \n",
    "    merged = current.merge(metadata, on ='sample')\n",
    "    \n",
    "    \n",
    "    tfx_path = tfx_dict[dataset.split('_')[0]]\n",
    "    tfx = pd.read_csv(tfx_path,sep='\\t')\n",
    "    \n",
    "    merged = merged.merge(tfx[['sample','tumor_fraction']], on = 'sample')\n",
    "    \n",
    "    if 'Stage' in merged.columns:\n",
    "        merged['Stage']=merged['Stage'].str.strip('ABC')\n",
    "    \n",
    "    #for the validation dataset, combine stage III and IV\n",
    "    if dataset.startswith('Validation'):\n",
    "        merged['Stage'] = merged['Stage'].replace('III','III-IV').replace('IV','III-IV')\n",
    "        \n",
    "    print(len(current),len(merged))\n",
    "    \n",
    "    probabilities = probabilities.append(merged, ignore_index = True)\n",
    "\n"
   ]
  },
  {
   "cell_type": "code",
   "execution_count": 9,
   "metadata": {},
   "outputs": [],
   "source": [
    "#group test data by tumor fraction\n",
    "probabilities['tfx_group'] = np.where(probabilities['tumor_fraction']==0,\"0_TFx\",probabilities['tumor_fraction'])\n",
    "probabilities['tfx_group'] = np.where((probabilities['tumor_fraction']>0) & (probabilities['tumor_fraction']<0.05),\">0-0.05_TFx\",probabilities['tfx_group'])\n",
    "probabilities['tfx_group'] = np.where((probabilities['tumor_fraction']>=0.05),\">=0.05_TFx\",probabilities['tfx_group'])\n"
   ]
  },
  {
   "cell_type": "code",
   "execution_count": 10,
   "metadata": {},
   "outputs": [
    {
     "data": {
      "image/png": "[encoded data removed]",
      "text/plain": [
       "<Figure size 504x288 with 1 Axes>"
      ]
     },
     "metadata": {
      "needs_background": "light"
     },
     "output_type": "display_data"
    }
   ],
   "source": [
    "for dataset_name in ['DELFI']:\n",
    "    for data_type in ['1x','ULP']:\n",
    "        dataset = dataset_name+'_'+data_type        \n",
    "        \n",
    "    #make boxplot for supplement\n",
    "    fig,ax = plt.subplots(figsize = (7,4))  \n",
    "    current_boxplot_data = boxplot_data[boxplot_data['dataset'].str.startswith(dataset_name)]\n",
    "    \n",
    "    \n",
    "    current_groups = [m for m in groups if m in current_boxplot_data['group'].values]\n",
    "    sns.boxplot(x = current_boxplot_data['dataset'],\n",
    "                y = current_boxplot_data['AUC'],\n",
    "                hue = current_boxplot_data['group'],\n",
    "               width = 0.8,\n",
    "                palette = ['tab:blue','tab:orange','tab:green','tab:red','tab:purple','tab:brown','tab:pink','tab:grey'],\n",
    "               order = [dataset_name+'_1x',dataset_name+'_ULP'],\n",
    "                hue_order = current_groups,\n",
    "               ax = ax, fliersize = 1, linewidth = 1)\n",
    "    \n",
    "    adjust_box_widths(fig,.8)\n",
    "    ax.legend(bbox_to_anchor = [1,1], loc = 'upper left');\n",
    "    ax.set_ylim(-0.05,1.05)\n",
    "    ax.axhline(.5, color = 'grey', dashes = [2,2])\n",
    "    fig.subplots_adjust(right = 0.65)\n",
    "    plt.savefig('plots/AUC_by_'+groupby+'.'+dataset_name+'.boxplot.pdf')\n",
    "    plt.show()\n"
   ]
  },
  {
   "cell_type": "code",
   "execution_count": 11,
   "metadata": {},
   "outputs": [],
   "source": [
    "# metrics_df = pd.DataFrame(index = boxplot_data['group'].unique())\n",
    "# for dataset in results_dict.keys():\n",
    "#     df = boxplot_data[boxplot_data['dataset']==dataset]\n",
    "#     metrics_df[dataset] = df.groupby('group')['AUC'].median().copy()\n",
    "\n",
    "    \n",
    "# display(metrics_df)\n",
    "\n",
    "# #format for table\n",
    "# metrics_df = np.round(metrics_df,3)\n",
    "# metrics_df.columns = metrics_df.columns + ' sites'\n",
    "# metrics_df.index = metrics_df.index.str.replace('_',' ')    \n"
   ]
  },
  {
   "cell_type": "code",
   "execution_count": 12,
   "metadata": {},
   "outputs": [
    {
     "data": {
      "text/html": [
       "<div>\n",
       "<style scoped>\n",
       "    .dataframe tbody tr th:only-of-type {\n",
       "        vertical-align: middle;\n",
       "    }\n",
       "\n",
       "    .dataframe tbody tr th {\n",
       "        vertical-align: top;\n",
       "    }\n",
       "\n",
       "    .dataframe thead th {\n",
       "        text-align: right;\n",
       "    }\n",
       "</style>\n",
       "<table border=\"1\" class=\"dataframe\">\n",
       "  <thead>\n",
       "    <tr style=\"text-align: right;\">\n",
       "      <th></th>\n",
       "      <th>DELFI_1x</th>\n",
       "      <th>DELFI_ULP</th>\n",
       "    </tr>\n",
       "  </thead>\n",
       "  <tbody>\n",
       "    <tr>\n",
       "      <th>Bile_Duct_Cancer</th>\n",
       "      <td>0.97 (0.91-1.0)</td>\n",
       "      <td>0.94 (0.83-0.99)</td>\n",
       "    </tr>\n",
       "    <tr>\n",
       "      <th>Breast_Cancer</th>\n",
       "      <td>0.94 (0.86-0.98)</td>\n",
       "      <td>0.9 (0.82-0.96)</td>\n",
       "    </tr>\n",
       "    <tr>\n",
       "      <th>Colorectal_Cancer</th>\n",
       "      <td>0.98 (0.86-1.0)</td>\n",
       "      <td>0.9 (0.77-0.99)</td>\n",
       "    </tr>\n",
       "    <tr>\n",
       "      <th>Gastric_cancer</th>\n",
       "      <td>0.93 (0.8-0.99)</td>\n",
       "      <td>0.87 (0.73-0.98)</td>\n",
       "    </tr>\n",
       "    <tr>\n",
       "      <th>Lung_Cancer</th>\n",
       "      <td>1.0 (0.96-1.0)</td>\n",
       "      <td>0.98 (0.82-1.0)</td>\n",
       "    </tr>\n",
       "    <tr>\n",
       "      <th>Ovarian_Cancer</th>\n",
       "      <td>0.99 (0.95-1.0)</td>\n",
       "      <td>0.95 (0.86-0.99)</td>\n",
       "    </tr>\n",
       "    <tr>\n",
       "      <th>Pancreatic_Cancer</th>\n",
       "      <td>0.85 (0.72-0.95)</td>\n",
       "      <td>0.8 (0.65-0.93)</td>\n",
       "    </tr>\n",
       "    <tr>\n",
       "      <th>overall</th>\n",
       "      <td>0.94 (0.88-0.97)</td>\n",
       "      <td>0.89 (0.84-0.94)</td>\n",
       "    </tr>\n",
       "  </tbody>\n",
       "</table>\n",
       "</div>"
      ],
      "text/plain": [
       "                           DELFI_1x         DELFI_ULP\n",
       "Bile_Duct_Cancer    0.97 (0.91-1.0)  0.94 (0.83-0.99)\n",
       "Breast_Cancer      0.94 (0.86-0.98)   0.9 (0.82-0.96)\n",
       "Colorectal_Cancer   0.98 (0.86-1.0)   0.9 (0.77-0.99)\n",
       "Gastric_cancer      0.93 (0.8-0.99)  0.87 (0.73-0.98)\n",
       "Lung_Cancer          1.0 (0.96-1.0)   0.98 (0.82-1.0)\n",
       "Ovarian_Cancer      0.99 (0.95-1.0)  0.95 (0.86-0.99)\n",
       "Pancreatic_Cancer  0.85 (0.72-0.95)   0.8 (0.65-0.93)\n",
       "overall            0.94 (0.88-0.97)  0.89 (0.84-0.94)"
      ]
     },
     "execution_count": 12,
     "metadata": {},
     "output_type": "execute_result"
    }
   ],
   "source": [
    "to_print = pd.DataFrame(index = groups) #+ ['overall']\n",
    "for dataset in results_dict.keys():\n",
    "    CI_data = pd.read_csv(results_dict[dataset].rsplit('.AUC',1)[0]+'.CI.txt', sep='\\t')\n",
    "    CI_data = CI_data.rename(columns = {'Unnamed: 0':'group'})\n",
    "    CI_data = CI_data.set_index('group')\n",
    "    keep_index = CI_data.index[CI_data.index.isin(groups)]\n",
    "    CI_data = CI_data.loc[keep_index]\n",
    "    CI_data = CI_data.round(2)\n",
    "    CI_data[dataset] = CI_data['median'].astype(str) + ' (' + CI_data['0.025'].astype(str) + '-' + CI_data['0.975'].astype(str) + ')'\n",
    "    to_print[dataset]  = CI_data[dataset]\n",
    "to_print"
   ]
  },
  {
   "cell_type": "code",
   "execution_count": 13,
   "metadata": {},
   "outputs": [],
   "source": [
    "# to_print2 = pd.DataFrame(index = groups) #+ ['overall']\n",
    "# for dataset in uncorrected_results_dict.keys():\n",
    "#     CI_data = pd.read_csv(uncorrected_results_dict[dataset].rsplit('.AUC',1)[0]+'.CI.txt', sep='\\t')\n",
    "#     CI_data = CI_data.rename(columns = {'Unnamed: 0':'group'})\n",
    "#     CI_data = CI_data.set_index('group')\n",
    "#     keep_index = CI_data.index[CI_data.index.isin(groups)]\n",
    "#     CI_data = CI_data.loc[keep_index]\n",
    "#     CI_data = CI_data.round(2)\n",
    "#     CI_data[dataset] = CI_data['median'].astype(str) + ' (' + CI_data['0.025'].astype(str) + '-' + CI_data['0.975'].astype(str) + ')'\n",
    "#     to_print2[dataset]  = CI_data[dataset]\n",
    "# to_print2"
   ]
  },
  {
   "cell_type": "code",
   "execution_count": null,
   "metadata": {},
   "outputs": [],
   "source": []
  }
 ],
 "metadata": {
  "kernelspec": {
   "display_name": "Python 3",
   "language": "python",
   "name": "python3"
  },
  "language_info": {
   "codemirror_mode": {
    "name": "ipython",
    "version": 3
   },
   "file_extension": ".py",
   "mimetype": "text/x-python",
   "name": "python",
   "nbconvert_exporter": "python",
   "pygments_lexer": "ipython3",
   "version": "3.7.4"
  }
 },
 "nbformat": 4,
 "nbformat_minor": 4
}
