{
 "cells": [
  {
   "cell_type": "code",
   "execution_count": 1,
   "metadata": {},
   "outputs": [],
   "source": [
    "import pandas as pd"
   ]
  },
  {
   "cell_type": "code",
   "execution_count": 2,
   "metadata": {},
   "outputs": [],
   "source": [
    "in_dict = {}\n",
    "for correction in ['uncorrected','GC_corrected','GC_map_corrected']:\n",
    "        current = pd.read_csv('files/exclusion_filtered.'+correction+'.tsv', sep='\\t').set_index('site_name')\n",
    "        in_dict[correction] = current\n",
    "for correction in ['CNA-corrected']:\n",
    "        current = pd.read_csv('../GC_correction_supplement/files/'+correction+'-TFBS.correlations.tsv', sep='\\t').set_index('site_name')\n",
    "        in_dict['GC_'+correction] = current\n",
    "    "
   ]
  },
  {
   "cell_type": "code",
   "execution_count": 3,
   "metadata": {},
   "outputs": [],
   "source": [
    "corrections = ['uncorrected', 'GC_corrected', 'GC_map_corrected', 'GC_CNA-corrected']"
   ]
  },
  {
   "cell_type": "code",
   "execution_count": 4,
   "metadata": {},
   "outputs": [],
   "source": [
    "merged = pd.DataFrame(index = in_dict['uncorrected'].index)\n",
    "\n",
    "for correction in corrections:\n",
    "        current = in_dict[correction].copy()\n",
    "        current.columns = current.columns+'.'+correction\n",
    "        merged[current.columns] = current[current.columns]"
   ]
  },
  {
   "cell_type": "code",
   "execution_count": 5,
   "metadata": {},
   "outputs": [],
   "source": [
    "merged.to_csv('files/S3_MBC_TFBS_GC_correction.tsv',sep='\\t')"
   ]
  },
  {
   "cell_type": "code",
   "execution_count": null,
   "metadata": {},
   "outputs": [],
   "source": []
  }
 ],
 "metadata": {
  "kernelspec": {
   "display_name": "Python 3",
   "language": "python",
   "name": "python3"
  },
  "language_info": {
   "codemirror_mode": {
    "name": "ipython",
    "version": 3
   },
   "file_extension": ".py",
   "mimetype": "text/x-python",
   "name": "python",
   "nbconvert_exporter": "python",
   "pygments_lexer": "ipython3",
   "version": "3.7.4"
  }
 },
 "nbformat": 4,
 "nbformat_minor": 4
}
