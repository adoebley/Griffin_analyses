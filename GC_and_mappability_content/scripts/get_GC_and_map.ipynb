{
 "cells": [
  {
   "cell_type": "code",
   "execution_count": null,
   "metadata": {},
   "outputs": [],
   "source": [
    "#import stuff \n",
    "import pandas as pd\n",
    "import numpy as np\n",
    "\n",
    "from scipy.signal import savgol_filter\n",
    "\n",
    "import os\n",
    "import sys\n",
    "import time\n",
    "\n",
    "import pysam\n",
    "import pybedtools\n",
    "import pyBigWig\n",
    "\n",
    "import argparse"
   ]
  },
  {
   "cell_type": "code",
   "execution_count": null,
   "metadata": {},
   "outputs": [],
   "source": [
    "# from matplotlib import pyplot as plt\n",
    "# %matplotlib inline\n",
    "\n",
    "# #define paths and parameters\n",
    "# TF_name = 'LYL1'\n",
    "# site_list='../sites/TFBS/10000_unfiltered_sites_CIS_BP_v2/'+TF_name+'.hg38.10000.txt'\n",
    "\n",
    "# tmp_dir = 'tmp'\n",
    "# results_dir = 'results'\n",
    "\n",
    "\n",
    "# ref_seq_path='/fh/fast/ha_g/grp/reference/GRCh38/GRCh38.fa'\n",
    "# mappability_bw='../genome/k100.Umap.MultiTrackMappability.hg38.bw'\n",
    "# chrom_sizes_path = '/fh/fast/ha_g/grp/reference/GRCh38/hg38.standard.chrom.sizes'\n",
    "\n",
    "# #define the columns in the TFBS files\n",
    "# chrom_col='Chrom'\n",
    "# pos_col='position'\n",
    "# chroms = ['chr'+str(m) for m in np.arange(1,23)]\n",
    "\n",
    "\n",
    "# window_start=-1000\n",
    "# window_end=1000\n",
    "\n",
    "# encode_exclude = '../genome/encode_unified_GRCh38_exclusion_list.bed'\n",
    "# centromere_path = '../genome/hg38_centromeres.bed'\n",
    "# gap_path = '../genome/hg38_gaps.bed'\n",
    "# patch_path = '../genome/hg38_fix_patches.bed'\n",
    "# alternative_haplotype_path = '../genome/hg38_alternative_haplotypes.bed'\n",
    "\n",
    "# exclude_paths = [encode_exclude,centromere_path,gap_path,patch_path,alternative_haplotype_path]\n",
    "# del(encode_exclude,centromere_path,gap_path,patch_path)\n"
   ]
  },
  {
   "cell_type": "code",
   "execution_count": null,
   "metadata": {},
   "outputs": [],
   "source": [
    "parser = argparse.ArgumentParser()\n",
    "\n",
    "parser.add_argument('--TF_name', help='name of TF', required=True)\n",
    "parser.add_argument('--site_list', help='list of sites', required=True)\n",
    "\n",
    "parser.add_argument('--tmp_dir', help = 'directory for temporary outputs', required=True)\n",
    "parser.add_argument('--results_dir', help = 'directory for results', required=True)\n",
    "\n",
    "parser.add_argument('--reference_genome',help = 'path to the reference genome',required=True)\n",
    "parser.add_argument('--mappability_bw',help = 'bigWig file of genome wide mappability scores',required=True)\n",
    "parser.add_argument('--chrom_sizes_path', help='path to chrom sizes file', required=True)\n",
    "\n",
    "parser.add_argument('--chrom_column',help='name of column containing chromosome number', required = True)\n",
    "parser.add_argument('--position_column',help='name of column containing chromosome position', required = True)\n",
    "parser.add_argument('--chroms', help='chroms to include when selecting sites', nargs='*', required = True)\n",
    "\n",
    "parser.add_argument('--save_window',help='start and end of the window around each site',nargs=2, type=int, required = True)\n",
    "\n",
    "parser.add_argument('--exclude_paths', help='path to bed files of regions to filter out (excluded regions, centromeres, gaps, patches, alternative haplotypes), or \"none\" to not exclude any regions', required=True, nargs = '*')\n",
    "\n",
    "\n",
    "args = parser.parse_args()\n",
    "\n",
    "\n",
    "TF_name = args.TF_name\n",
    "site_list = args.site_list\n",
    "\n",
    "tmp_dir = args.tmp_dir \n",
    "results_dir = args.results_dir \n",
    "\n",
    "ref_seq_path = args.reference_genome\n",
    "mappability_bw = args.mappability_bw\n",
    "chrom_sizes_path = args.chrom_sizes_path\n",
    "\n",
    "chrom_col = args.chrom_column\n",
    "pos_col=args.position_column\n",
    "chroms = args.chroms\n",
    "\n",
    "window_start,window_end = args.save_window\n",
    "\n",
    "exclude_paths = args.exclude_paths\n"
   ]
  },
  {
   "cell_type": "code",
   "execution_count": null,
   "metadata": {},
   "outputs": [],
   "source": [
    "#open ref seq\n",
    "ref_seq=pysam.FastaFile(ref_seq_path)\n",
    "\n",
    "#get the window\n",
    "window_len=window_end-window_start\n",
    "window_values=np.arange(window_start,window_end)\n",
    "\n",
    "print('window_length:',window_len)\n",
    "sys.stdout.flush()"
   ]
  },
  {
   "cell_type": "code",
   "execution_count": null,
   "metadata": {},
   "outputs": [],
   "source": [
    "#snakemake should create these folders, but if not using the snakemake, this is needed\n",
    "if not os.path.exists(tmp_dir): \n",
    "    os.mkdir(tmp_dir)\n",
    "\n",
    "tmp_pybedtools = tmp_dir\n",
    "pybedtools.set_tempdir(tmp_pybedtools)\n",
    "\n",
    "tmp_bigWig = tmp_dir\n",
    "\n"
   ]
  },
  {
   "cell_type": "code",
   "execution_count": null,
   "metadata": {},
   "outputs": [],
   "source": [
    "merged_exclude_regions = pybedtools.BedTool('\\n', from_string=True)\n",
    "\n",
    "#create an empty bed file\n",
    "excluded_regions_bw = pyBigWig.open(tmp_bigWig+\"/excluded_regions.bw\", \"w\")\n",
    "chrom_sizes = pd.read_csv(chrom_sizes_path, sep='\\t', header=None)\n",
    "chrom_sizes = chrom_sizes[chrom_sizes[0].isin(chroms)]\n",
    "excluded_regions_bw.addHeader([(a,b) for a,b in chrom_sizes.values])\n",
    "\n",
    "for path in exclude_paths:\n",
    "    print('excluding:',path)\n",
    "    current_regions = pybedtools.BedTool(path)\n",
    "    merged_exclude_regions = merged_exclude_regions.cat(current_regions)    \n",
    "    del(current_regions)\n",
    "merged_exclude_regions = merged_exclude_regions.to_dataframe()\n",
    "merged_exclude_regions = merged_exclude_regions[merged_exclude_regions['chrom'].isin(chroms)]\n",
    "pybedtools.cleanup()\n",
    "excluded_regions_bw.addEntries(list(merged_exclude_regions['chrom']), list(merged_exclude_regions['start']), ends = list(merged_exclude_regions['end']), values = [1.0 for m in range(len(merged_exclude_regions))])  \n",
    "\n",
    "excluded_regions_bw.close()\n",
    "sys.stdout.flush()"
   ]
  },
  {
   "cell_type": "code",
   "execution_count": null,
   "metadata": {},
   "outputs": [],
   "source": [
    "sites=pd.read_csv(site_list, sep='\\t')\n",
    "\n",
    "print(len(sites))\n",
    "print(sites.head())"
   ]
  },
  {
   "cell_type": "code",
   "execution_count": null,
   "metadata": {},
   "outputs": [],
   "source": [
    "#fetch zero mappability\n",
    "print('Fetching mappability')\n",
    "start_time = time.time()\n",
    "\n",
    "#make a np array for holding data\n",
    "mappability_mask=pd.DataFrame(columns = window_values)\n",
    "bw = pyBigWig.open(mappability_bw, \"r\")\n",
    "\n",
    "for i in range(len(sites)):\n",
    "    if i%1000==0:\n",
    "        print(i,time.time()-start_time)\n",
    "        sys.stdout.flush()\n",
    "    #get the location of the site (chromosome and center of site)\n",
    "    chrom = sites.iloc[i][chrom_col]\n",
    "    position = sites.iloc[i][pos_col]\n",
    "    \n",
    "    \n",
    "    fetched=bw.values(chrom,position+window_start,position+window_end, numpy = True)\n",
    "\n",
    "    fetched = pd.Series(fetched, index = window_values)\n",
    "    mappability_mask = mappability_mask.append(fetched, ignore_index=True)\n",
    "    \n",
    "bw.close()"
   ]
  },
  {
   "cell_type": "code",
   "execution_count": null,
   "metadata": {},
   "outputs": [],
   "source": [
    "#fetch excluded sites\n",
    "print('Fetching excluded sites')\n",
    "\n",
    "#make a np array for holding data\n",
    "exclusion_mask=pd.DataFrame(columns = window_values)\n",
    "bw = pyBigWig.open(tmp_bigWig+\"/excluded_regions.bw\", \"r\")\n",
    "\n",
    "for i in range(len(sites)):\n",
    "    if i%1000==0:\n",
    "        print(i,time.time()-start_time)\n",
    "        sys.stdout.flush()\n",
    "    #get the location of the site (chromosome and center of site)\n",
    "    chrom = sites.iloc[i][chrom_col]\n",
    "    position = sites.iloc[i][pos_col]\n",
    "    \n",
    "    fetched=bw.values(chrom,position+window_start,position+window_end, numpy = True)\n",
    "\n",
    "    fetched = pd.Series(fetched, index = window_values)\n",
    "    exclusion_mask = exclusion_mask.append(fetched, ignore_index=True)\n",
    "    \n",
    "bw.close()"
   ]
  },
  {
   "cell_type": "code",
   "execution_count": null,
   "metadata": {},
   "outputs": [],
   "source": [
    "print('Fetching GC content')\n",
    "#make a np array for holding data\n",
    "site_values=pd.DataFrame(columns = window_values)\n",
    "\n",
    "for i in range(len(sites)):\n",
    "    if i%1000==0:\n",
    "        print(i,time.time()-start_time)\n",
    "        sys.stdout.flush()\n",
    "    #get the location of the site (chromosome and center of site)\n",
    "    chrom = sites.iloc[i][chrom_col]\n",
    "    position = sites.iloc[i][pos_col]\n",
    "    \n",
    "    fetched=ref_seq.fetch(reference=chrom,start=position+window_start,end=position+window_end)\n",
    "    fetched = np.array(list(fetched.upper()))\n",
    "    fetched[np.isin(fetched, ['A','T','W'])] = 0\n",
    "    fetched[np.isin(fetched, ['C','G','S'])] = 1\n",
    "    rng = np.random.default_rng(position)\n",
    "    fetched[np.isin(fetched, ['N','R','Y','K','M','B','D','H','V'])] = rng.integers(2, size=len(fetched[np.isin(fetched, ['N','R','Y','K','M','B','D','H','V'])])) #random integer in range(2) (i.e. 0 or 1)\n",
    "    fetched = fetched.astype(float)\n",
    "    fetched = pd.Series(fetched, index = window_values)\n",
    "    site_values = site_values.append(fetched, ignore_index=True)\n",
    "    \n",
    "    "
   ]
  },
  {
   "cell_type": "code",
   "execution_count": null,
   "metadata": {},
   "outputs": [],
   "source": [
    "#exclude zero mappability\n",
    "results = np.where(mappability_mask>0,site_values,np.nan)#only retain positions where the mappability is >0\n",
    "results = pd.DataFrame(results)\n",
    "results.columns = window_values\n",
    "\n",
    "#exclude excluded regions\n",
    "results = np.where(exclusion_mask>0,np.nan,results)\n",
    "results = pd.DataFrame(results)\n",
    "results.columns = window_values\n",
    "\n",
    "#savgol smoothing for GC values \n",
    "all_smoothed_sites = savgol_filter(results,165,0)\n",
    "all_smoothed_sites = pd.DataFrame(all_smoothed_sites)\n",
    "all_smoothed_sites.columns = window_values\n",
    "\n",
    "#add ID column\n",
    "all_smoothed_sites['unique_ID'] = sites[chrom_col]+'_'+sites[pos_col].astype(str)\n",
    "all_smoothed_sites = all_smoothed_sites[['unique_ID']+list(window_values)]\n",
    "all_smoothed_sites = all_smoothed_sites.set_index('unique_ID')\n"
   ]
  },
  {
   "cell_type": "code",
   "execution_count": null,
   "metadata": {},
   "outputs": [],
   "source": [
    "#exclude regions from mappability values\n",
    "mappability_results = np.where(exclusion_mask>0,np.nan,mappability_mask)\n",
    "mappability_results = pd.DataFrame(mappability_results)\n",
    "mappability_results.columns = window_values\n",
    "\n",
    "#these don't get smoothed \n",
    "\n",
    "#add ID column\n",
    "mappability_results['unique_ID'] = sites[chrom_col]+'_'+sites[pos_col].astype(str)\n",
    "mappability_results = mappability_results[['unique_ID']+list(window_values)]\n",
    "mappability_results = mappability_results.set_index('unique_ID')\n"
   ]
  },
  {
   "cell_type": "code",
   "execution_count": null,
   "metadata": {},
   "outputs": [],
   "source": [
    "all_smoothed_sites.to_csv(results_dir+'/'+TF_name+'.smoothed_GC_content.tsv', sep='\\t', float_format='%.2f')\n",
    "mappability_results.to_csv(results_dir+'/'+TF_name+'.mappability.tsv', sep='\\t')"
   ]
  },
  {
   "cell_type": "code",
   "execution_count": null,
   "metadata": {},
   "outputs": [],
   "source": [
    "pybedtools.cleanup('all')\n",
    "os.remove(tmp_bigWig+\"/excluded_regions.bw\")"
   ]
  },
  {
   "cell_type": "code",
   "execution_count": null,
   "metadata": {},
   "outputs": [],
   "source": []
  },
  {
   "cell_type": "code",
   "execution_count": null,
   "metadata": {},
   "outputs": [],
   "source": [
    "# #GC content plot\n",
    "# plt.plot(window_values,np.nanmean(all_smoothed_sites, axis = 0), label = 'smoothed GC content') \n",
    "# plt.fill_between(window_values, np.nanpercentile(all_smoothed_sites,25, axis = 0), np.nanpercentile(all_smoothed_sites,75, axis = 0), alpha = 0.25, label = 'interquartile range')\n",
    "\n",
    "# plt.legend()\n",
    "# plt.xlabel('distance from TFBS')\n"
   ]
  },
  {
   "cell_type": "code",
   "execution_count": null,
   "metadata": {},
   "outputs": [],
   "source": [
    "# #mappability plot\n",
    "# plt.plot(window_values,np.nanmean(mappability_results, axis = 0), label = 'mean mappability') \n",
    "# # plt.fill_between(window_values, np.nanpercentile(mappability_results,25, axis = 0), np.nanpercentile(all_smoothed_sites,75, axis = 0), alpha = 0.25, label = 'interquartile range')\n",
    "# plt.ylim(.9895,1.0005)\n",
    "\n",
    "# plt.legend()\n",
    "# plt.xlabel('distance from TFBS')\n"
   ]
  },
  {
   "cell_type": "code",
   "execution_count": null,
   "metadata": {},
   "outputs": [],
   "source": []
  },
  {
   "cell_type": "code",
   "execution_count": null,
   "metadata": {},
   "outputs": [],
   "source": []
  },
  {
   "cell_type": "code",
   "execution_count": null,
   "metadata": {},
   "outputs": [],
   "source": []
  },
  {
   "cell_type": "code",
   "execution_count": null,
   "metadata": {},
   "outputs": [],
   "source": []
  },
  {
   "cell_type": "code",
   "execution_count": null,
   "metadata": {},
   "outputs": [],
   "source": []
  },
  {
   "cell_type": "code",
   "execution_count": null,
   "metadata": {},
   "outputs": [],
   "source": []
  }
 ],
 "metadata": {
  "kernelspec": {
   "display_name": "Python 3",
   "language": "python",
   "name": "python3"
  },
  "language_info": {
   "codemirror_mode": {
    "name": "ipython",
    "version": 3
   },
   "file_extension": ".py",
   "mimetype": "text/x-python",
   "name": "python",
   "nbconvert_exporter": "python",
   "pygments_lexer": "ipython3",
   "version": "3.7.4"
  }
 },
 "nbformat": 4,
 "nbformat_minor": 4
}
