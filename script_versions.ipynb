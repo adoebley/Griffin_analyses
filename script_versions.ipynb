{
 "cells": [
  {
   "cell_type": "code",
   "execution_count": 3,
   "metadata": {},
   "outputs": [
    {
     "name": "stdout",
     "output_type": "stream",
     "text": [
      "argparse 1.1\n",
      "pandas 1.3.2\n",
      "pysam 0.15.4\n",
      "numpy 1.21.2\n",
      "scipy 1.7.1\n",
      "pyyaml 5.3.1\n",
      "pyBigWig 0.3.17\n",
      "pybedtools 0.8.0\n"
     ]
    }
   ],
   "source": [
    "#griffin specific packages\n",
    "import argparse\n",
    "print('argparse',argparse.__version__)\n",
    "\n",
    "import pandas as pd\n",
    "print('pandas',pd.__version__)\n",
    "\n",
    "import pysam\n",
    "print('pysam',pysam.__version__)\n",
    "\n",
    "import numpy as np\n",
    "print('numpy',np.__version__)\n",
    "\n",
    "import scipy\n",
    "print('scipy',scipy.__version__)\n",
    "\n",
    "import yaml\n",
    "print('pyyaml',yaml.__version__)\n",
    "\n",
    "import pyBigWig\n",
    "print('pyBigWig',pyBigWig.__version__)\n",
    "\n",
    "import pybedtools\n",
    "print('pybedtools',pybedtools.__version__)\n",
    "\n",
    "# #no version?\n",
    "# import multiprocessing\n",
    "# print('multiprocessing',multiprocessing.__version__)\n",
    "\n"
   ]
  },
  {
   "cell_type": "code",
   "execution_count": 2,
   "metadata": {},
   "outputs": [
    {
     "name": "stdout",
     "output_type": "stream",
     "text": [
      "matplotlib 3.4.1\n",
      "scikit-learn 0.23.2\n",
      "pingouin 0.5.1\n",
      "pybedtools 0.8.0\n",
      "statsmodels 0.13.2\n"
     ]
    }
   ],
   "source": [
    "#other packages used in analysis\n",
    "\n",
    "import matplotlib\n",
    "print('matplotlib',matplotlib.__version__)\n",
    "\n",
    "import sklearn\n",
    "print('scikit-learn',sklearn.__version__)\n",
    "\n",
    "import pingouin\n",
    "print('pingouin',pingouin.__version__)\n",
    "\n",
    "\n",
    "#in revisions\n",
    "import statsmodels\n",
    "print('statsmodels',statsmodels.__version__)"
   ]
  },
  {
   "cell_type": "code",
   "execution_count": null,
   "metadata": {},
   "outputs": [],
   "source": []
  },
  {
   "cell_type": "markdown",
   "metadata": {},
   "source": [
    "Other sofware used:\n",
    "\n",
    "    \n",
    "liftOver (downloaded from https://genome-store.ucsc.edu/)\n",
    "\n",
    "bigWigToBedGraph (from UCSC)\n",
    "\n",
    "Picard (2.18.29) \n",
    "\n",
    "BWA-MEM (0.7.17) \n",
    "\n",
    "GATK (4.1.0.0) \n",
    "\n",
    "samtools (1.9) \n",
    "\n",
    "IchorCNA (downloaded from https://github.com/GavinHaLab/ichorCNA on 11-20-2020)\n",
    "\n",
    "Analyses were performed using Python 3.7.4."
   ]
  },
  {
   "cell_type": "code",
   "execution_count": null,
   "metadata": {},
   "outputs": [],
   "source": []
  }
 ],
 "metadata": {
  "kernelspec": {
   "display_name": "Python 3",
   "language": "python",
   "name": "python3"
  },
  "language_info": {
   "codemirror_mode": {
    "name": "ipython",
    "version": 3
   },
   "file_extension": ".py",
   "mimetype": "text/x-python",
   "name": "python",
   "nbconvert_exporter": "python",
   "pygments_lexer": "ipython3",
   "version": "3.7.4"
  }
 },
 "nbformat": 4,
 "nbformat_minor": 4
}
