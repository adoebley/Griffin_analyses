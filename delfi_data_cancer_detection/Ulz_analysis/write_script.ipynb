{
 "cells": [
  {
   "cell_type": "code",
   "execution_count": 6,
   "metadata": {},
   "outputs": [],
   "source": [
    "import argparse\n",
    "import sys\n",
    "import os\n",
    "import pandas as pd\n",
    "from matplotlib import pyplot as plt"
   ]
  },
  {
   "cell_type": "code",
   "execution_count": 7,
   "metadata": {},
   "outputs": [
    {
     "name": "stdout",
     "output_type": "stream",
     "text": [
      "Ulz_cancer_detection_results_merged.txt\n",
      "Ulz-downsampled_cancer_detection_results_merged.txt\n"
     ]
    }
   ],
   "source": [
    "#write commands\n",
    "data_dir = 'merged_data'\n",
    "out_path = 'run_logreg_bootstrap.sh'\n",
    "script_dir = '../scripts/'\n",
    "with open(out_path, 'w') as f:\n",
    "    for file in os.listdir(data_dir):        \n",
    "        if file.endswith('_merged.txt'):\n",
    "            print(file)\n",
    "            name = file.split('_')[0]\n",
    "            f.write('python3 ' + os.path.abspath(script_dir)+ '/run_logreg_bootstrap_PCA.py' + \n",
    "                    ' --in_file ' + data_dir + '/' + file + \n",
    "                    ' --name ' + name + \n",
    "                    ' --iterations 1000' +\n",
    "                    ' --out_dir logreg_PCA_results/' + name + '_logreg_results' + \n",
    "                    ' --fraction_variance .8' +\n",
    "                    ' --report_interval 50\\n') \n"
   ]
  },
  {
   "cell_type": "code",
   "execution_count": 8,
   "metadata": {},
   "outputs": [
    {
     "data": {
      "text/plain": [
       "'../scripts/'"
      ]
     },
     "execution_count": 8,
     "metadata": {},
     "output_type": "execute_result"
    }
   ],
   "source": [
    "script_dir"
   ]
  },
  {
   "cell_type": "code",
   "execution_count": 9,
   "metadata": {},
   "outputs": [
    {
     "data": {
      "text/plain": [
       "'/fh/fast/ha_g/user/adoebley/projects/griffin_revisions_1/delfi_data_cancer_detection/Ulz_analysis'"
      ]
     },
     "execution_count": 9,
     "metadata": {},
     "output_type": "execute_result"
    }
   ],
   "source": [
    "os.getcwd()"
   ]
  },
  {
   "cell_type": "code",
   "execution_count": 10,
   "metadata": {},
   "outputs": [
    {
     "data": {
      "text/plain": [
       "'/fh/fast/ha_g/user/adoebley/projects/griffin_revisions_1/delfi_data_cancer_detection/scripts'"
      ]
     },
     "execution_count": 10,
     "metadata": {},
     "output_type": "execute_result"
    }
   ],
   "source": [
    "os.path.abspath(script_dir)"
   ]
  },
  {
   "cell_type": "code",
   "execution_count": null,
   "metadata": {},
   "outputs": [],
   "source": []
  }
 ],
 "metadata": {
  "kernelspec": {
   "display_name": "Python 3",
   "language": "python",
   "name": "python3"
  },
  "language_info": {
   "codemirror_mode": {
    "name": "ipython",
    "version": 3
   },
   "file_extension": ".py",
   "mimetype": "text/x-python",
   "name": "python",
   "nbconvert_exporter": "python",
   "pygments_lexer": "ipython3",
   "version": "3.7.4"
  }
 },
 "nbformat": 4,
 "nbformat_minor": 4
}
