{
 "cells": [
  {
   "cell_type": "code",
   "execution_count": 1,
   "metadata": {},
   "outputs": [],
   "source": [
    "import pandas as pd\n",
    "import numpy as np\n",
    "from sklearn.metrics import roc_curve,auc\n",
    "from matplotlib import pyplot as plt\n",
    "%matplotlib inline"
   ]
  },
  {
   "cell_type": "code",
   "execution_count": 4,
   "metadata": {},
   "outputs": [],
   "source": [
    "input_dict = {'TFBS': '../TFBS_analysis/analysis/classification/TFBS_log_reg_bootstrap/TFBS_results/',\n",
    "              'TFBS_short_fragments': '../TFBS_short_analysis/analysis/classification/TFBS_short_log_reg_bootstrap/TFBS_short_results/',\n",
    "              'TFBS_0.1X': '../downsampled/analysis/classification/downsampled_log_reg_bootstrap/downsampled_results/',\n",
    "              'TFBS_Ulz':'../Ulz_analysis/classification/Ulz_log_reg_bootstrap/Ulz_results/',\n",
    "              'TFBS_Ulz_0.1X': '../Ulz_downsampled_analysis/classification/Ulz_downsampled_log_reg_bootstrap/Ulz_downsampled_results/'}\n",
    "\n",
    "sample_types = ['Bile_Duct_Cancer', 'Breast_Cancer', 'Colorectal_Cancer',\n",
    "       'Gastric_cancer', 'Lung_Cancer', 'Ovarian_Cancer',\n",
    "       'Pancreatic_Cancer', 'overall']"
   ]
  },
  {
   "cell_type": "code",
   "execution_count": null,
   "metadata": {},
   "outputs": [],
   "source": []
  },
  {
   "cell_type": "code",
   "execution_count": 5,
   "metadata": {},
   "outputs": [
    {
     "data": {
      "image/png": "[encoded data removed]",
      "text/plain": [
       "<Figure size 576x324 with 8 Axes>"
      ]
     },
     "metadata": {
      "needs_background": "light"
     },
     "output_type": "display_data"
    }
   ],
   "source": [
    "# set width of bar\n",
    "barWidth = 0.12\n",
    "fig,axes = plt.subplots(1,8,figsize = (8,4.5), sharey = True)\n",
    "# br = np.arange(len(sample_types)-1)\n",
    "# br = np.append(br,8)\n",
    "\n",
    "for i,approach in enumerate(['TFBS','TFBS_short_fragments','TFBS_0.1X','TFBS_Ulz','TFBS_Ulz_0.1X']):  \n",
    "    CI_data = pd.read_csv(input_dict[approach]+'CI_metrics.txt', sep='\\t')\n",
    "    CI_data = CI_data.set_index('group')\n",
    "    CI_data = CI_data.loc[sample_types]\n",
    "\n",
    "    CI_data = np.round(CI_data,2)\n",
    "\n",
    "    lower = CI_data['mean']-CI_data['lower']\n",
    "    upper = CI_data['upper']-CI_data['mean']\n",
    "#     print(approach)\n",
    "#     print(CI_data) \n",
    "#     print('\\n')\n",
    "    \n",
    "    for j,cancer_type in enumerate(sample_types):\n",
    "        ax = axes[j]\n",
    "        mean = CI_data['mean'][cancer_type]\n",
    "        current_lower = lower[cancer_type]\n",
    "        current_upper = upper[cancer_type]\n",
    "\n",
    "        CI_values = np.array([[current_lower,current_upper]]).T\n",
    "\n",
    "        br1 = i*barWidth\n",
    "        rects = ax.errorbar(br1, mean, yerr=CI_values, label = approach, fmt='o', markersize = 5)\n",
    "        \n",
    "        ax.set_xlabel(cancer_type, rotation = 90)\n",
    "\n",
    "axes[0].set_ylabel('AUC')\n",
    "\n",
    "for ax in axes:\n",
    "    ax.tick_params(bottom = False, labelbottom = False, left = False, labelleft = False)\n",
    "    ax.set_xlim(-0.124, 0.604)\n",
    "axes[0].tick_params(left = True, labelleft = True)\n",
    "\n",
    "plt.tick_params(axis = 'x', rotation=90, bottom=False)\n",
    "plt.ylim(-.05,1.05)\n",
    "axes[0].legend(loc='lower left',bbox_to_anchor = [0,1], ncol = 2)\n",
    "# fig.tight_layout()\n",
    "fig.subplots_adjust(bottom =.32, top = .8, left = .1, right = .95)\n",
    "plt.savefig('cancer_detection_AUC_barplot_with_CI_v2.pdf')"
   ]
  },
  {
   "cell_type": "code",
   "execution_count": null,
   "metadata": {},
   "outputs": [],
   "source": []
  },
  {
   "cell_type": "code",
   "execution_count": null,
   "metadata": {},
   "outputs": [],
   "source": []
  },
  {
   "cell_type": "code",
   "execution_count": null,
   "metadata": {},
   "outputs": [],
   "source": []
  },
  {
   "cell_type": "code",
   "execution_count": null,
   "metadata": {},
   "outputs": [],
   "source": []
  },
  {
   "cell_type": "code",
   "execution_count": null,
   "metadata": {},
   "outputs": [],
   "source": []
  },
  {
   "cell_type": "code",
   "execution_count": null,
   "metadata": {},
   "outputs": [],
   "source": []
  }
 ],
 "metadata": {
  "kernelspec": {
   "display_name": "Python 3",
   "language": "python",
   "name": "python3"
  },
  "language_info": {
   "codemirror_mode": {
    "name": "ipython",
    "version": 3
   },
   "file_extension": ".py",
   "mimetype": "text/x-python",
   "name": "python",
   "nbconvert_exporter": "python",
   "pygments_lexer": "ipython3",
   "version": "3.8.2"
  }
 },
 "nbformat": 4,
 "nbformat_minor": 4
}
