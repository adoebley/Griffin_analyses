{
 "cells": [
  {
   "cell_type": "code",
   "execution_count": 1,
   "metadata": {},
   "outputs": [],
   "source": [
    "import pandas as pd\n",
    "from matplotlib import pyplot as plt\n",
    "from scipy.stats import wilcoxon\n",
    "%matplotlib inline"
   ]
  },
  {
   "cell_type": "code",
   "execution_count": 2,
   "metadata": {},
   "outputs": [
    {
     "name": "stdout",
     "output_type": "stream",
     "text": [
      "215\n",
      "215\n"
     ]
    }
   ],
   "source": [
    "data = pd.read_csv('../merge/data_with_features.txt', sep='\\t')\n",
    "data = data[data['sample'].str.contains('Healthy')]\n",
    "uncorrected_data = pd.read_csv('../merge/no_GC_correction_data_with_features.txt', sep='\\t')\n",
    "uncorrected_data = uncorrected_data[uncorrected_data['sample'].str.contains('Healthy')]\n",
    "\n",
    "training_samples = pd.read_csv('../../../../metadata/cancer_detection/delfi_training_samples.txt', sep='\\t', header=None)\n",
    "data = data[data['sample'].isin(training_samples[0])]\n",
    "uncorrected_data = uncorrected_data[uncorrected_data['sample'].isin(training_samples[0])]\n",
    "\n",
    "print(len(data['sample'].unique()))\n",
    "print(len(uncorrected_data['sample'].unique()))"
   ]
  },
  {
   "cell_type": "code",
   "execution_count": 3,
   "metadata": {},
   "outputs": [],
   "source": [
    "#get MAD for GC corrected\n",
    "MAD_dict = {}\n",
    "for site_name in data['site_name'].unique():\n",
    "    current = data[data['site_name']==site_name]\n",
    "    MAD_dict[site_name]={}\n",
    "    for feature in ['central_cov','mean_cov','fft_10_magnitude']:\n",
    "        MAD = current[feature].mad()\n",
    "        MAD_dict[site_name][feature]=MAD\n",
    "\n",
    "\n",
    "#get MAD for uncorrected\n",
    "MAD_dict_uncorrected = {}\n",
    "for site_name in uncorrected_data['site_name'].unique():\n",
    "    current = uncorrected_data[uncorrected_data['site_name']==site_name]\n",
    "    MAD_dict_uncorrected[site_name]={}\n",
    "    for feature in ['central_cov','mean_cov','fft_10_magnitude']:\n",
    "        MAD = current[feature].mad()\n",
    "        MAD_dict_uncorrected[site_name][feature]=MAD\n"
   ]
  },
  {
   "cell_type": "code",
   "execution_count": 4,
   "metadata": {},
   "outputs": [],
   "source": [
    "MAD_df = pd.DataFrame(MAD_dict).T\n",
    "MAD_df_uncorrected = pd.DataFrame(MAD_dict_uncorrected).T"
   ]
  },
  {
   "cell_type": "code",
   "execution_count": 5,
   "metadata": {},
   "outputs": [],
   "source": [
    "merged = MAD_df_uncorrected.merge(MAD_df, left_index=True, right_index=True, suffixes=['_MAD_uncorrected','_MAD_GC_corrected'])"
   ]
  },
  {
   "cell_type": "code",
   "execution_count": null,
   "metadata": {},
   "outputs": [],
   "source": []
  },
  {
   "cell_type": "code",
   "execution_count": 6,
   "metadata": {},
   "outputs": [
    {
     "data": {
      "image/png": "[encoded data removed]",
      "text/plain": [
       "<Figure size 360x273.6 with 1 Axes>"
      ]
     },
     "metadata": {
      "needs_background": "light"
     },
     "output_type": "display_data"
    }
   ],
   "source": [
    "fig,ax = plt.subplots(1, figsize=(5,3.8))\n",
    "ax.set_title('HD central cov MAD values')\n",
    "merged[['central_cov_MAD_uncorrected','central_cov_MAD_GC_corrected']].plot.box(ax = ax, flierprops = {'marker':'.','markersize':10,'alpha':.5,'markerfacecolor':'grey','markeredgecolor':'none'})\n",
    "ax.set_ylabel('Mean Absolute Deviation')\n",
    "plt.tight_layout()\n",
    "stat,wilcoxon_pval = wilcoxon(merged['central_cov_MAD_uncorrected'],merged['central_cov_MAD_GC_corrected'])\n",
    "plt.text(1.05,.85, 'Wilcoxon p:\\n'+'{:.2E}'.format(wilcoxon_pval), transform=ax.transAxes)\n",
    "\n",
    "ax.set_aspect(1.0/ax.get_data_ratio(), adjustable='box')\n",
    "fig.tight_layout()\n",
    "plt.savefig('HD_MAD_boxplot.pdf')"
   ]
  },
  {
   "cell_type": "code",
   "execution_count": 7,
   "metadata": {},
   "outputs": [
    {
     "data": {
      "text/html": [
       "<div>\n",
       "<style scoped>\n",
       "    .dataframe tbody tr th:only-of-type {\n",
       "        vertical-align: middle;\n",
       "    }\n",
       "\n",
       "    .dataframe tbody tr th {\n",
       "        vertical-align: top;\n",
       "    }\n",
       "\n",
       "    .dataframe thead th {\n",
       "        text-align: right;\n",
       "    }\n",
       "</style>\n",
       "<table border=\"1\" class=\"dataframe\">\n",
       "  <thead>\n",
       "    <tr style=\"text-align: right;\">\n",
       "      <th></th>\n",
       "      <th>central_cov_MAD_uncorrected</th>\n",
       "      <th>mean_cov_MAD_uncorrected</th>\n",
       "      <th>fft_10_magnitude_MAD_uncorrected</th>\n",
       "      <th>central_cov_MAD_GC_corrected</th>\n",
       "      <th>mean_cov_MAD_GC_corrected</th>\n",
       "      <th>fft_10_magnitude_MAD_GC_corrected</th>\n",
       "    </tr>\n",
       "  </thead>\n",
       "  <tbody>\n",
       "    <tr>\n",
       "      <th>AHR.hg38</th>\n",
       "      <td>0.025018</td>\n",
       "      <td>0.005053</td>\n",
       "      <td>0.107853</td>\n",
       "      <td>0.012118</td>\n",
       "      <td>0.002761</td>\n",
       "      <td>0.110337</td>\n",
       "    </tr>\n",
       "    <tr>\n",
       "      <th>AR.hg38</th>\n",
       "      <td>0.014102</td>\n",
       "      <td>0.003281</td>\n",
       "      <td>0.113017</td>\n",
       "      <td>0.013240</td>\n",
       "      <td>0.002390</td>\n",
       "      <td>0.116023</td>\n",
       "    </tr>\n",
       "    <tr>\n",
       "      <th>ARID3A.hg38</th>\n",
       "      <td>0.016918</td>\n",
       "      <td>0.003472</td>\n",
       "      <td>0.106524</td>\n",
       "      <td>0.013463</td>\n",
       "      <td>0.002938</td>\n",
       "      <td>0.109825</td>\n",
       "    </tr>\n",
       "    <tr>\n",
       "      <th>ARNT.hg38</th>\n",
       "      <td>0.022689</td>\n",
       "      <td>0.007809</td>\n",
       "      <td>0.100607</td>\n",
       "      <td>0.012603</td>\n",
       "      <td>0.002985</td>\n",
       "      <td>0.106016</td>\n",
       "    </tr>\n",
       "    <tr>\n",
       "      <th>ARNTL.hg38</th>\n",
       "      <td>0.051637</td>\n",
       "      <td>0.006969</td>\n",
       "      <td>0.118707</td>\n",
       "      <td>0.013302</td>\n",
       "      <td>0.002768</td>\n",
       "      <td>0.123834</td>\n",
       "    </tr>\n",
       "    <tr>\n",
       "      <th>...</th>\n",
       "      <td>...</td>\n",
       "      <td>...</td>\n",
       "      <td>...</td>\n",
       "      <td>...</td>\n",
       "      <td>...</td>\n",
       "      <td>...</td>\n",
       "    </tr>\n",
       "    <tr>\n",
       "      <th>ZNF770.hg38</th>\n",
       "      <td>0.037980</td>\n",
       "      <td>0.003845</td>\n",
       "      <td>0.162643</td>\n",
       "      <td>0.015891</td>\n",
       "      <td>0.002634</td>\n",
       "      <td>0.162725</td>\n",
       "    </tr>\n",
       "    <tr>\n",
       "      <th>ZNF792.hg38</th>\n",
       "      <td>0.030477</td>\n",
       "      <td>0.010490</td>\n",
       "      <td>0.162008</td>\n",
       "      <td>0.015873</td>\n",
       "      <td>0.004298</td>\n",
       "      <td>0.164791</td>\n",
       "    </tr>\n",
       "    <tr>\n",
       "      <th>ZSCAN16.hg38</th>\n",
       "      <td>0.025403</td>\n",
       "      <td>0.004687</td>\n",
       "      <td>0.137852</td>\n",
       "      <td>0.032725</td>\n",
       "      <td>0.003220</td>\n",
       "      <td>0.165062</td>\n",
       "    </tr>\n",
       "    <tr>\n",
       "      <th>ZSCAN22.hg38</th>\n",
       "      <td>0.040298</td>\n",
       "      <td>0.014573</td>\n",
       "      <td>0.115133</td>\n",
       "      <td>0.014906</td>\n",
       "      <td>0.004301</td>\n",
       "      <td>0.121611</td>\n",
       "    </tr>\n",
       "    <tr>\n",
       "      <th>ZSCAN9.hg38</th>\n",
       "      <td>0.027210</td>\n",
       "      <td>0.010106</td>\n",
       "      <td>0.194074</td>\n",
       "      <td>0.016505</td>\n",
       "      <td>0.004670</td>\n",
       "      <td>0.191865</td>\n",
       "    </tr>\n",
       "  </tbody>\n",
       "</table>\n",
       "<p>338 rows × 6 columns</p>\n",
       "</div>"
      ],
      "text/plain": [
       "              central_cov_MAD_uncorrected  mean_cov_MAD_uncorrected  \\\n",
       "AHR.hg38                         0.025018                  0.005053   \n",
       "AR.hg38                          0.014102                  0.003281   \n",
       "ARID3A.hg38                      0.016918                  0.003472   \n",
       "ARNT.hg38                        0.022689                  0.007809   \n",
       "ARNTL.hg38                       0.051637                  0.006969   \n",
       "...                                   ...                       ...   \n",
       "ZNF770.hg38                      0.037980                  0.003845   \n",
       "ZNF792.hg38                      0.030477                  0.010490   \n",
       "ZSCAN16.hg38                     0.025403                  0.004687   \n",
       "ZSCAN22.hg38                     0.040298                  0.014573   \n",
       "ZSCAN9.hg38                      0.027210                  0.010106   \n",
       "\n",
       "              fft_10_magnitude_MAD_uncorrected  central_cov_MAD_GC_corrected  \\\n",
       "AHR.hg38                              0.107853                      0.012118   \n",
       "AR.hg38                               0.113017                      0.013240   \n",
       "ARID3A.hg38                           0.106524                      0.013463   \n",
       "ARNT.hg38                             0.100607                      0.012603   \n",
       "ARNTL.hg38                            0.118707                      0.013302   \n",
       "...                                        ...                           ...   \n",
       "ZNF770.hg38                           0.162643                      0.015891   \n",
       "ZNF792.hg38                           0.162008                      0.015873   \n",
       "ZSCAN16.hg38                          0.137852                      0.032725   \n",
       "ZSCAN22.hg38                          0.115133                      0.014906   \n",
       "ZSCAN9.hg38                           0.194074                      0.016505   \n",
       "\n",
       "              mean_cov_MAD_GC_corrected  fft_10_magnitude_MAD_GC_corrected  \n",
       "AHR.hg38                       0.002761                           0.110337  \n",
       "AR.hg38                        0.002390                           0.116023  \n",
       "ARID3A.hg38                    0.002938                           0.109825  \n",
       "ARNT.hg38                      0.002985                           0.106016  \n",
       "ARNTL.hg38                     0.002768                           0.123834  \n",
       "...                                 ...                                ...  \n",
       "ZNF770.hg38                    0.002634                           0.162725  \n",
       "ZNF792.hg38                    0.004298                           0.164791  \n",
       "ZSCAN16.hg38                   0.003220                           0.165062  \n",
       "ZSCAN22.hg38                   0.004301                           0.121611  \n",
       "ZSCAN9.hg38                    0.004670                           0.191865  \n",
       "\n",
       "[338 rows x 6 columns]"
      ]
     },
     "execution_count": 7,
     "metadata": {},
     "output_type": "execute_result"
    }
   ],
   "source": [
    "merged"
   ]
  },
  {
   "cell_type": "code",
   "execution_count": 8,
   "metadata": {},
   "outputs": [
    {
     "data": {
      "text/plain": [
       "324"
      ]
     },
     "execution_count": 8,
     "metadata": {},
     "output_type": "execute_result"
    }
   ],
   "source": [
    "#numbmer of factors with decreased MAD\n",
    "sum(merged['central_cov_MAD_uncorrected']>merged['central_cov_MAD_GC_corrected'])"
   ]
  },
  {
   "cell_type": "code",
   "execution_count": 9,
   "metadata": {},
   "outputs": [],
   "source": [
    "rename_dict = {'fft_10_magnitude_MAD_uncorrected':'amplitude_MAD_uncorrected',\n",
    "               'fft_10_magnitude_MAD_GC_corrected':'amplitude_MAD_GC_corrected'}\n",
    "merged = merged.rename(columns = rename_dict)\n",
    "new_col_order = ['central_cov_MAD_uncorrected', 'central_cov_MAD_GC_corrected',\n",
    " 'mean_cov_MAD_uncorrected','mean_cov_MAD_GC_corrected',\n",
    " 'amplitude_MAD_uncorrected', 'amplitude_MAD_GC_corrected']\n",
    "\n",
    "merged[new_col_order].to_csv('S2_HD_MAD_scores.txt',sep='\\t')"
   ]
  },
  {
   "cell_type": "code",
   "execution_count": 10,
   "metadata": {},
   "outputs": [
    {
     "data": {
      "text/plain": [
       "Index(['central_cov_MAD_uncorrected', 'mean_cov_MAD_uncorrected',\n",
       "       'amplitude_MAD_uncorrected', 'central_cov_MAD_GC_corrected',\n",
       "       'mean_cov_MAD_GC_corrected', 'amplitude_MAD_GC_corrected'],\n",
       "      dtype='object')"
      ]
     },
     "execution_count": 10,
     "metadata": {},
     "output_type": "execute_result"
    }
   ],
   "source": [
    "merged.columns"
   ]
  },
  {
   "cell_type": "code",
   "execution_count": null,
   "metadata": {},
   "outputs": [],
   "source": []
  }
 ],
 "metadata": {
  "kernelspec": {
   "display_name": "Python 3",
   "language": "python",
   "name": "python3"
  },
  "language_info": {
   "codemirror_mode": {
    "name": "ipython",
    "version": 3
   },
   "file_extension": ".py",
   "mimetype": "text/x-python",
   "name": "python",
   "nbconvert_exporter": "python",
   "pygments_lexer": "ipython3",
   "version": "3.8.2"
  }
 },
 "nbformat": 4,
 "nbformat_minor": 4
}
