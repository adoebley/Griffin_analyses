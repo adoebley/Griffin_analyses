{
 "cells": [
  {
   "cell_type": "code",
   "execution_count": 1,
   "metadata": {},
   "outputs": [],
   "source": [
    "import pandas as pd\n",
    "import numpy as np\n",
    "from sklearn.metrics import roc_curve\n",
    "from sklearn.metrics import auc\n",
    "from matplotlib import pyplot as plt\n",
    "%matplotlib inline"
   ]
  },
  {
   "cell_type": "code",
   "execution_count": 2,
   "metadata": {},
   "outputs": [],
   "source": [
    "metadata_path = '../../../../../metadata/cancer_detection/matched_metadata.txt'"
   ]
  },
  {
   "cell_type": "code",
   "execution_count": 3,
   "metadata": {},
   "outputs": [
    {
     "name": "stdout",
     "output_type": "stream",
     "text": [
      "1000\n"
     ]
    }
   ],
   "source": [
    "#import and format data\n",
    "feature_type = 'TFBS'\n",
    "metadata_columns = ['tumor_fraction','cancer_present','sample_type','Stage']\n",
    "probabilities = pd.read_csv(feature_type+'_results/probabilities.txt', sep='\\t')\n",
    "\n",
    "#rename columns for each iteration\n",
    "n_iter = 1+probabilities.drop(columns = ['sample','status']+metadata_columns).head().columns.astype(int).max()\n",
    "probabilities[np.arange(n_iter)] = probabilities[[str(m)for m in np.arange(n_iter)]]\n",
    "probabilities = probabilities.drop(columns = [str(m)for m in np.arange(n_iter)])\n",
    "\n",
    "print(n_iter)\n",
    "\n",
    "metadata = pd.read_csv(metadata_path, sep='\\t')\n",
    "metadata = metadata[['new_sample_name','file_name']].rename(columns = {'new_sample_name':'sample','file_name':'original_bam_file'})\n",
    "probabilities = probabilities.merge(metadata, on = 'sample')"
   ]
  },
  {
   "cell_type": "code",
   "execution_count": 4,
   "metadata": {},
   "outputs": [],
   "source": [
    "probabilities['probability_cancer'] = probabilities[np.arange(n_iter)].median(axis=1)\n",
    "probabilities['cancer_predicted'] = np.round(probabilities['probability_cancer'])\n",
    "probabilities = probabilities.drop(columns = np.arange(n_iter))"
   ]
  },
  {
   "cell_type": "code",
   "execution_count": 5,
   "metadata": {},
   "outputs": [],
   "source": [
    "export_cols = ['sample','original_bam_file','sample_type','tumor_fraction','Stage','probability_cancer','cancer_predicted']\n",
    "probabilities[export_cols].to_csv('S3_cancer_detection.txt', sep='\\t', index=False)"
   ]
  },
  {
   "cell_type": "code",
   "execution_count": null,
   "metadata": {},
   "outputs": [],
   "source": []
  },
  {
   "cell_type": "raw",
   "metadata": {},
   "source": []
  }
 ],
 "metadata": {
  "kernelspec": {
   "display_name": "Python 3",
   "language": "python",
   "name": "python3"
  },
  "language_info": {
   "codemirror_mode": {
    "name": "ipython",
    "version": 3
   },
   "file_extension": ".py",
   "mimetype": "text/x-python",
   "name": "python",
   "nbconvert_exporter": "python",
   "pygments_lexer": "ipython3",
   "version": "3.8.2"
  }
 },
 "nbformat": 4,
 "nbformat_minor": 4
}
